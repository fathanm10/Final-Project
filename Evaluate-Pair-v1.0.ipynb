{
 "cells": [
  {
   "cell_type": "code",
   "execution_count": 245,
   "id": "4ba624b2",
   "metadata": {},
   "outputs": [],
   "source": [
    "from torch.utils.data import DataLoader\n",
    "import torchvision\n",
    "from torchvision import datasets, transforms\n",
    "from sklearn import metrics\n",
    "from sklearn.metrics import roc_curve, auc, pairwise\n",
    "from sklearn.metrics.pairwise import cosine_similarity, euclidean_distances\n",
    "import torch\n",
    "import numpy as np\n",
    "import os\n",
    "from train import *\n",
    "from net.spherenet import SphereNet\n",
    "from net.pfe import PFE\n",
    "from net.resnet import *\n",
    "from utils import *\n",
    "from dataset.utils import *\n",
    "from dataset.transform import *"
   ]
  },
  {
   "cell_type": "code",
   "execution_count": 246,
   "id": "fa8aacd1",
   "metadata": {},
   "outputs": [],
   "source": [
    "def similarity_score(x1, x2, metric):\n",
    "    func = {\n",
    "        'cosine' : pairwise.cosine_similarity,   # embedding\n",
    "        'euclidean' : pairwise.euclidean_distances, # mu\n",
    "        'mls' : mls_distance   # mu, log_sigma\n",
    "    }\n",
    "    \n",
    "    if metric!='mls':\n",
    "        if type(x1) is tuple:\n",
    "            x1 = x1[0].cpu()\n",
    "        if type(x2) is tuple:\n",
    "            x2 = x2[0].cpu()\n",
    "    return func[metric](x1, x2)"
   ]
  },
  {
   "cell_type": "code",
   "execution_count": null,
   "id": "4f87ca82",
   "metadata": {},
   "outputs": [],
   "source": [
    "def evaluate_pair(model, dataset, metric='cosine', threshold=None):\n",
    "    model.to(device)\n",
    "    model.eval()\n",
    "    with torch.no_grad():\n",
    "        sim_scores = []\n",
    "        labels = []\n",
    "        img1s = []\n",
    "        img2s = []\n",
    "        for img1, img2, label in dataset:\n",
    "            img1s.append(img1.to(device).unsqueeze(dim=0))\n",
    "            img2s.append(img2.to(device).unsqueeze(dim=0))\n",
    "            labels.append(label)\n",
    "        img1s = torch.cat(img1s, dim=0)\n",
    "        img2s = torch.cat(img2s, dim=0)\n",
    "        x1 = model(img1s.to(device)).cpu()\n",
    "        x2 = model(img2s.to(device)).cpu()\n",
    "        sim_score = similarity_score(x1,x2,metric)\n",
    "        sim_scores.append(sim_score)\n",
    "    sim_scores = np.array(sim_scores)\n",
    "    labels = np.array(labels)\n",
    "    \n",
    "    # choose threshold with most accuracies\n",
    "    label_vec = (sim_scores>0.5) == labels\n",
    "    if threshold != None:\n",
    "        label_vec = (sim_scores>threshold) == labels\n",
    "        far, tar, thresholds = roc_curve(np.repeat(labels, sim_score.shape[0]), sim_score.reshape(-1))\n",
    "        # Calculate AUC using scikit-learn\n",
    "        auc_score = auc(far, tar)\n",
    "        return far, tar, auc_score\n",
    "    \n",
    "#     score_pos = sim_scores[label_vec==True]\n",
    "#     thresholds = np.sort(score_pos)\n",
    "    thresholds = np.array([i/4 for i in range(21)])\n",
    "    accuracies = np.zeros(np.size(thresholds))\n",
    "    for i, threshold in enumerate(thresholds):\n",
    "        pred_vec = sim_scores>=threshold\n",
    "        accuracies[i] = np.mean(pred_vec==labels)\n",
    "\n",
    "    argmax = np.argmax(accuracies)\n",
    "    accuracy = accuracies[argmax]\n",
    "    threshold = np.mean(thresholds[accuracies==accuracy])\n",
    "    return accuracy, threshold"
   ]
  },
  {
   "cell_type": "code",
   "execution_count": null,
   "id": "d601a14c",
   "metadata": {},
   "outputs": [],
   "source": [
    "def evaluate(model, dataset):\n",
    "    model.to(device)\n",
    "    model.eval()\n",
    "\n",
    "    sim_scores = []\n",
    "    labels = []\n",
    "\n",
    "    # Move the model to evaluation mode and set the data types once\n",
    "    with torch.no_grad():\n",
    "        for data in dataset:\n",
    "            img = data[0].unsqueeze(0).type(torch.float32)\n",
    "            img2 = data[1].unsqueeze(0).type(torch.float32)\n",
    "            labels.append(data[2])\n",
    "\n",
    "        # Batch processing: Stack the images for efficient computation\n",
    "        img = torch.cat([sample[0].unsqueeze(0) for sample in dataset]).to(device).type(torch.float32)\n",
    "        img2 = torch.cat([sample[1].unsqueeze(0) for sample in dataset]).to(device).type(torch.float32)\n",
    "\n",
    "        # Compute the representations for all samples in the dataset\n",
    "        x = model(img).cpu()\n",
    "        y = model(img2).cpu()\n",
    "\n",
    "        # Calculate similarity scores for all pairs in the dataset\n",
    "        sim_scores = similarity_score(x, y, 'cosine').diagonal()\n",
    "\n",
    "    return labels, sim_scores\n"
   ]
  },
  {
   "cell_type": "code",
   "execution_count": null,
   "id": "fdc7b120",
   "metadata": {},
   "outputs": [],
   "source": [
    "def plot_roc(far, tar):\n",
    "    auc_score=auc(far,tar)\n",
    "    plt.plot(far, tar, label='ROC curve (area = %0.2f)' % auc_score)\n",
    "    plt.plot([0, 1], [0, 1], 'k--')\n",
    "    plt.xlim([0.0, 1.0])\n",
    "    plt.ylim([0.0, 1.05])\n",
    "    plt.xlabel('False Positive Rate')\n",
    "    plt.ylabel('True Positive Rate')\n",
    "    plt.title('Receiver Operating Characteristic')\n",
    "    plt.legend(loc=\"lower right\")\n",
    "    plt.show()"
   ]
  },
  {
   "cell_type": "code",
   "execution_count": null,
   "id": "900501fa",
   "metadata": {},
   "outputs": [],
   "source": [
    "def tar_at_far(tar,far):\n",
    "    print(f'''TAR@FAR:\n",
    "    1%: {np.interp(.1,   far,tar):.4f}\n",
    "  0.1%: {np.interp(.01,  far,tar):.4f}\n",
    " 0.01%: {np.interp(.001, far,tar):.4f}\n",
    "0.001%: {np.interp(.0001,far,tar):.4f}''')"
   ]
  },
  {
   "cell_type": "code",
   "execution_count": null,
   "id": "01e29089",
   "metadata": {},
   "outputs": [],
   "source": [
    "def accuracy(labels, sim_scores, thresholds):\n",
    "    accuracy_scores = []\n",
    "    for thresh in thresholds:\n",
    "        accuracy_scores.append(metrics.accuracy_score(labels, [m > thresh for m in sim_scores]))\n",
    "\n",
    "    accuracies = np.array(accuracy_scores)\n",
    "    max_accuracy = accuracies.max() \n",
    "    max_accuracy_threshold =  thresholds[accuracies.argmax()]\n",
    "    print(f'Accuracy: {max_accuracy}, Threshold: {max_accuracy_threshold}')"
   ]
  },
  {
   "cell_type": "code",
   "execution_count": 210,
   "id": "5951697b",
   "metadata": {},
   "outputs": [],
   "source": [
    "def average_precision_at_k(y_true, y_pred, k):\n",
    "    # Sort predicted scores in descending order and get corresponding true labels\n",
    "    sorted_indices = np.argsort(y_pred)[::-1][:k]\n",
    "    y_true = np.asarray(y_true)[sorted_indices]\n",
    "    print(y_true)\n",
    "\n",
    "    # Calculate precision at each position up to k\n",
    "    precision_at_k = np.cumsum(y_true) / (np.arange(k) + 1)\n",
    "    print(precision_at_k)\n",
    "\n",
    "    # Calculate average precision\n",
    "    average_precision = np.sum(precision_at_k * y_true) / min(k, sum(y_true))\n",
    "\n",
    "    return average_precision\n",
    "\n",
    "def map_at_k(y_true, y_pred, k):\n",
    "    num_samples = len(y_true)\n",
    "    map_at_r = 0.0\n",
    "\n",
    "    for i in range(num_samples):\n",
    "        ap = average_precision_at_k(y_true[i], y_pred[i], k)\n",
    "        map_at_r += ap\n",
    "\n",
    "    map_at_r /= num_samples\n",
    "    return map_at_r"
   ]
  },
  {
   "cell_type": "code",
   "execution_count": null,
   "id": "672f9bb1",
   "metadata": {},
   "outputs": [],
   "source": [
    "def visualize(labels, sim_scores):\n",
    "    far,tar,thresholds=roc_curve(labels,sim_scores)\n",
    "    plot_roc(far,tar)\n",
    "    tar_at_far(tar,far)\n",
    "    accuracy(labels, sim_scores, thresholds)\n",
    "    print(f'MAP@10: {map_at_k(labels, sim_scores, 10)}')"
   ]
  },
  {
   "cell_type": "code",
   "execution_count": 7,
   "id": "62787a20",
   "metadata": {},
   "outputs": [],
   "source": [
    "device = torch.device('cuda' if torch.cuda.is_available() else 'cpu')"
   ]
  },
  {
   "cell_type": "code",
   "execution_count": 130,
   "id": "2a0189eb",
   "metadata": {},
   "outputs": [
    {
     "name": "stdout",
     "output_type": "stream",
     "text": [
      "Files already downloaded and verified\n"
     ]
    }
   ],
   "source": [
    "test_dataset = datasets.LFWPairs(\n",
    "    root='./data',\n",
    "    split='test',\n",
    "    download=True,\n",
    "    transform=transforms.Compose([\n",
    "        transforms.CenterCrop(125),\n",
    "        transforms.Resize((100,100)),\n",
    "        transforms.ToTensor(),\n",
    "    ])\n",
    ")"
   ]
  },
  {
   "cell_type": "code",
   "execution_count": 131,
   "id": "f2cfeda9",
   "metadata": {},
   "outputs": [],
   "source": [
    "model = get_model('resnet50')"
   ]
  },
  {
   "cell_type": "code",
   "execution_count": 132,
   "id": "f8e39b13",
   "metadata": {},
   "outputs": [],
   "source": [
    "labels,sim_scores = evaluate(model,test_dataset)"
   ]
  },
  {
   "cell_type": "code",
   "execution_count": 133,
   "id": "97b428c6",
   "metadata": {},
   "outputs": [
    {
     "data": {
      "image/png": "[encoded data removed]",
      "text/plain": [
       "<Figure size 432x288 with 1 Axes>"
      ]
     },
     "metadata": {
      "needs_background": "light"
     },
     "output_type": "display_data"
    },
    {
     "name": "stdout",
     "output_type": "stream",
     "text": [
      "TAR@FAR:\n",
      "    1%: 0.3620\n",
      "  0.1%: 0.0880\n",
      " 0.01%: 0.0240\n",
      "0.001%: 0.0240\n"
     ]
    }
   ],
   "source": [
    "far,tar,thresholds=roc_curve(labels,sim_scores)\n",
    "plot_roc(far,tar)\n",
    "tar_at_far(tar,far)"
   ]
  },
  {
   "cell_type": "code",
   "execution_count": 274,
   "id": "3329087f",
   "metadata": {},
   "outputs": [
    {
     "name": "stdout",
     "output_type": "stream",
     "text": [
      "Files already downloaded and verified\n"
     ]
    }
   ],
   "source": [
    "test_dataset = datasets.LFWPairs(\n",
    "    root='./data',\n",
    "    split='test',\n",
    "    download=True,\n",
    "    transform=transforms.Compose([\n",
    "        transforms.CenterCrop(125),\n",
    "        transforms.Resize((100,100)),\n",
    "        transforms.ToTensor(),\n",
    "    ])\n",
    ")"
   ]
  },
  {
   "cell_type": "code",
   "execution_count": 276,
   "id": "80f97e4b",
   "metadata": {},
   "outputs": [],
   "source": [
    "model = torch.load('./saved_models/PA.ptm')"
   ]
  },
  {
   "cell_type": "code",
   "execution_count": 137,
   "id": "2def899a",
   "metadata": {},
   "outputs": [],
   "source": [
    "labels,sim_scores = evaluate(model,test_dataset)"
   ]
  },
  {
   "cell_type": "code",
   "execution_count": 138,
   "id": "8f3f9b35",
   "metadata": {},
   "outputs": [
    {
     "data": {
      "image/png": "[encoded data removed]",
      "text/plain": [
       "<Figure size 432x288 with 1 Axes>"
      ]
     },
     "metadata": {
      "needs_background": "light"
     },
     "output_type": "display_data"
    },
    {
     "name": "stdout",
     "output_type": "stream",
     "text": [
      "TAR@FAR:\n",
      "    1%: 0.5560\n",
      "  0.1%: 0.2080\n",
      " 0.01%: 0.1000\n",
      "0.001%: 0.1000\n",
      "Accuracy: 0.738, Threshold: 0.8785049319267273\n"
     ]
    }
   ],
   "source": [
    "visualize(labels,sim_scores)"
   ]
  },
  {
   "cell_type": "code",
   "execution_count": 348,
   "id": "56a6f12f",
   "metadata": {},
   "outputs": [
    {
     "name": "stdout",
     "output_type": "stream",
     "text": [
      "Files already downloaded and verified\n"
     ]
    }
   ],
   "source": [
    "test_dataset = datasets.LFWPairs(\n",
    "    root='./data',\n",
    "    split='test',\n",
    "    download=True,\n",
    "    transform=transforms.Compose([\n",
    "        transforms.CenterCrop(125),\n",
    "        AutoContrast(),\n",
    "        transforms.Resize((100,100)),\n",
    "        MedianUnsharpFilter(size=1,amount=1),\n",
    "        MedianHSVFilter(method='sv',size=3),\n",
    "        transforms.ToTensor(),\n",
    "    ])\n",
    ")"
   ]
  },
  {
   "cell_type": "code",
   "execution_count": 349,
   "id": "24526c8b",
   "metadata": {},
   "outputs": [],
   "source": [
    "model = torch.load('./saved_models/PA+Crop(125)+Random+AutoContrast+MedianUnsharp(size=1,amount=1)+MedianHSV(method=sv,size=3).ptm')"
   ]
  },
  {
   "cell_type": "code",
   "execution_count": 350,
   "id": "ff103447",
   "metadata": {},
   "outputs": [],
   "source": [
    "labels,sim_scores = evaluate(model,test_dataset)"
   ]
  },
  {
   "cell_type": "code",
   "execution_count": 351,
   "id": "66ec7a2b",
   "metadata": {},
   "outputs": [
    {
     "data": {
      "image/png": "[encoded data removed]",
      "text/plain": [
       "<Figure size 432x288 with 1 Axes>"
      ]
     },
     "metadata": {
      "needs_background": "light"
     },
     "output_type": "display_data"
    },
    {
     "name": "stdout",
     "output_type": "stream",
     "text": [
      "TAR@FAR:\n",
      "    1%: 0.5660\n",
      "  0.1%: 0.4300\n",
      " 0.01%: 0.3620\n",
      "0.001%: 0.3620\n",
      "Accuracy: 0.736, Threshold: 0.9020345211029053\n"
     ]
    }
   ],
   "source": [
    "visualize(labels,sim_scores)"
   ]
  },
  {
   "cell_type": "code",
   "execution_count": 344,
   "id": "5a9f8a9d",
   "metadata": {},
   "outputs": [
    {
     "name": "stdout",
     "output_type": "stream",
     "text": [
      "Files already downloaded and verified\n"
     ]
    }
   ],
   "source": [
    "test_dataset = datasets.LFWPairs(\n",
    "    root='./data',\n",
    "    split='test',\n",
    "    download=True,\n",
    "    transform=transforms.Compose([\n",
    "        transforms.CenterCrop(125),\n",
    "        AutoContrast(),\n",
    "        transforms.Resize((100,100)),\n",
    "        transforms.ToTensor(),\n",
    "    ])\n",
    ")"
   ]
  },
  {
   "cell_type": "code",
   "execution_count": 345,
   "id": "b87d7035",
   "metadata": {},
   "outputs": [],
   "source": [
    "model = torch.load('./saved_models/PA+Crop(125)+Random+AutoContrast.ptm')"
   ]
  },
  {
   "cell_type": "code",
   "execution_count": 346,
   "id": "dc972e4b",
   "metadata": {},
   "outputs": [],
   "source": [
    "labels,sim_scores = evaluate(model,test_dataset)"
   ]
  },
  {
   "cell_type": "code",
   "execution_count": 347,
   "id": "44a9e2dc",
   "metadata": {},
   "outputs": [
    {
     "data": {
      "image/png": "[encoded data removed]",
      "text/plain": [
       "<Figure size 432x288 with 1 Axes>"
      ]
     },
     "metadata": {
      "needs_background": "light"
     },
     "output_type": "display_data"
    },
    {
     "name": "stdout",
     "output_type": "stream",
     "text": [
      "TAR@FAR:\n",
      "    1%: 0.6220\n",
      "  0.1%: 0.4660\n",
      " 0.01%: 0.3680\n",
      "0.001%: 0.3680\n",
      "Accuracy: 0.765, Threshold: 0.8772996664047241\n"
     ]
    }
   ],
   "source": [
    "visualize(labels,sim_scores)"
   ]
  }
 ],
 "metadata": {
  "kernelspec": {
   "display_name": "Python 3 (ipykernel)",
   "language": "python",
   "name": "python3"
  },
  "language_info": {
   "codemirror_mode": {
    "name": "ipython",
    "version": 3
   },
   "file_extension": ".py",
   "mimetype": "text/x-python",
   "name": "python",
   "nbconvert_exporter": "python",
   "pygments_lexer": "ipython3",
   "version": "3.8.12"
  }
 },
 "nbformat": 4,
 "nbformat_minor": 5
}
