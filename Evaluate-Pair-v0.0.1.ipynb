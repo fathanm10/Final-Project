{
 "cells": [
  {
   "cell_type": "code",
   "execution_count": 16,
   "id": "4ba624b2",
   "metadata": {},
   "outputs": [],
   "source": [
    "from torch.utils.data import DataLoader\n",
    "from torchvision import datasets, transforms\n",
    "from sklearn.metrics import roc_curve, auc\n",
    "from sklearn.metrics.pairwise import cosine_similarity, euclidean_distances\n",
    "import torch\n",
    "import numpy as np\n",
    "import os\n",
    "from net.spherenet import SphereNet\n",
    "from net.pfe import PFE\n",
    "from net.resnet import *\n",
    "from utils import *"
   ]
  },
  {
   "cell_type": "code",
   "execution_count": 17,
   "id": "81df459e",
   "metadata": {},
   "outputs": [],
   "source": [
    "device = torch.device('cuda' if torch.cuda.is_available() else 'cpu')"
   ]
  },
  {
   "cell_type": "code",
   "execution_count": 140,
   "id": "a21927e3",
   "metadata": {},
   "outputs": [
    {
     "ename": "RuntimeError",
     "evalue": "Dataset not found or corrupted. You can use download=True to download it",
     "output_type": "error",
     "traceback": [
      "\u001b[0;31m---------------------------------------------------------------------------\u001b[0m",
      "\u001b[0;31mRuntimeError\u001b[0m                              Traceback (most recent call last)",
      "\u001b[0;32m/tmp/ipykernel_340735/321791413.py\u001b[0m in \u001b[0;36m<module>\u001b[0;34m\u001b[0m\n\u001b[1;32m      1\u001b[0m \u001b[0;32mimport\u001b[0m \u001b[0mmatplotlib\u001b[0m\u001b[0;34m.\u001b[0m\u001b[0mpyplot\u001b[0m \u001b[0;32mas\u001b[0m \u001b[0mplt\u001b[0m\u001b[0;34m\u001b[0m\u001b[0;34m\u001b[0m\u001b[0m\n\u001b[0;32m----> 2\u001b[0;31m \u001b[0mplt\u001b[0m\u001b[0;34m.\u001b[0m\u001b[0mimshow\u001b[0m\u001b[0;34m(\u001b[0m\u001b[0mdatasets\u001b[0m\u001b[0;34m.\u001b[0m\u001b[0mLFWPeople\u001b[0m\u001b[0;34m(\u001b[0m\u001b[0mroot\u001b[0m\u001b[0;34m=\u001b[0m\u001b[0;34m'./data'\u001b[0m\u001b[0;34m,\u001b[0m\u001b[0msplit\u001b[0m\u001b[0;34m=\u001b[0m\u001b[0;34m'10fold'\u001b[0m\u001b[0;34m,\u001b[0m\u001b[0mimage_set\u001b[0m\u001b[0;34m=\u001b[0m\u001b[0;34m'original'\u001b[0m\u001b[0;34m)\u001b[0m\u001b[0;34m[\u001b[0m\u001b[0;36m0\u001b[0m\u001b[0;34m]\u001b[0m\u001b[0;34m[\u001b[0m\u001b[0;36m0\u001b[0m\u001b[0;34m]\u001b[0m\u001b[0;34m)\u001b[0m\u001b[0;34m\u001b[0m\u001b[0;34m\u001b[0m\u001b[0m\n\u001b[0m",
      "\u001b[0;32m/opt/conda/lib/python3.8/site-packages/torchvision/datasets/lfw.py\u001b[0m in \u001b[0;36m__init__\u001b[0;34m(self, root, split, image_set, transform, target_transform, download)\u001b[0m\n\u001b[1;32m    121\u001b[0m         \u001b[0mdownload\u001b[0m\u001b[0;34m:\u001b[0m \u001b[0mbool\u001b[0m \u001b[0;34m=\u001b[0m \u001b[0;32mFalse\u001b[0m\u001b[0;34m,\u001b[0m\u001b[0;34m\u001b[0m\u001b[0;34m\u001b[0m\u001b[0m\n\u001b[1;32m    122\u001b[0m     ):\n\u001b[0;32m--> 123\u001b[0;31m         super(LFWPeople, self).__init__(root, split, image_set, \"people\",\n\u001b[0m\u001b[1;32m    124\u001b[0m                                         transform, target_transform, download)\n\u001b[1;32m    125\u001b[0m \u001b[0;34m\u001b[0m\u001b[0m\n",
      "\u001b[0;32m/opt/conda/lib/python3.8/site-packages/torchvision/datasets/lfw.py\u001b[0m in \u001b[0;36m__init__\u001b[0;34m(self, root, split, image_set, view, transform, target_transform, download)\u001b[0m\n\u001b[1;32m     53\u001b[0m \u001b[0;34m\u001b[0m\u001b[0m\n\u001b[1;32m     54\u001b[0m         \u001b[0;32mif\u001b[0m \u001b[0;32mnot\u001b[0m \u001b[0mself\u001b[0m\u001b[0;34m.\u001b[0m\u001b[0m_check_integrity\u001b[0m\u001b[0;34m(\u001b[0m\u001b[0;34m)\u001b[0m\u001b[0;34m:\u001b[0m\u001b[0;34m\u001b[0m\u001b[0;34m\u001b[0m\u001b[0m\n\u001b[0;32m---> 55\u001b[0;31m             raise RuntimeError('Dataset not found or corrupted.' +\n\u001b[0m\u001b[1;32m     56\u001b[0m                                ' You can use download=True to download it')\n\u001b[1;32m     57\u001b[0m \u001b[0;34m\u001b[0m\u001b[0m\n",
      "\u001b[0;31mRuntimeError\u001b[0m: Dataset not found or corrupted. You can use download=True to download it"
     ]
    }
   ],
   "source": [
    "import matplotlib.pyplot as plt\n",
    "plt.imshow(datasets.LFWPeople(root='./data',split='10fold',image_set='original')[0][0])"
   ]
  },
  {
   "cell_type": "code",
   "execution_count": 18,
   "id": "57e0191c",
   "metadata": {},
   "outputs": [],
   "source": [
    "def mls_distance(x1, x2):\n",
    "    mu1, sigma_sq1 = [np.array(i.cpu()) for i in x1]\n",
    "    mu2, sigma_sq2 = [np.array(i.cpu()) for i in x2]\n",
    "    sigma_sq_mutual = sigma_sq1 + sigma_sq2   # must be positive for np.log to work\n",
    "    dist = np.sum(np.square(mu1 - mu2) / sigma_sq_mutual + np.log(sigma_sq_mutual), axis=1)\n",
    "    return -dist"
   ]
  },
  {
   "cell_type": "code",
   "execution_count": 20,
   "id": "fa8aacd1",
   "metadata": {},
   "outputs": [],
   "source": [
    "def similarity_score(x1, x2, metric):\n",
    "    func = {\n",
    "        'cosine' : cosine_similarity,   # embedding\n",
    "        'euclidean' : euclidean_distances, # mu\n",
    "        'mls' : mls_distance   # mu, log_sigma\n",
    "    }\n",
    "    \n",
    "    if metric!='mls':\n",
    "        if type(x1) is tuple:\n",
    "            x1 = x1[0].cpu()\n",
    "        if type(x2) is tuple:\n",
    "            x2 = x2[0].cpu()\n",
    "    return func[metric](x1, x2)"
   ]
  },
  {
   "cell_type": "code",
   "execution_count": 21,
   "id": "4f87ca82",
   "metadata": {},
   "outputs": [],
   "source": [
    "def evaluate_pair(model, dataset, metric='cosine', threshold=None):\n",
    "    model.to(device)\n",
    "    model.eval()\n",
    "    with torch.no_grad():\n",
    "        sim_scores = []\n",
    "        labels = []\n",
    "        img1s = []\n",
    "        img2s = []\n",
    "        for img1, img2, label in dataset:\n",
    "            img1s.append(img1.to(device).unsqueeze(dim=0))\n",
    "            img2s.append(img2.to(device).unsqueeze(dim=0))\n",
    "            labels.append(label)\n",
    "        img1s = torch.cat(img1s, dim=0)\n",
    "        img2s = torch.cat(img2s, dim=0)\n",
    "        x1 = model(img1s.to(device))\n",
    "        x2 = model(img2s.to(device))\n",
    "        sim_score = similarity_score(x1,x2,metric)\n",
    "        sim_scores.append(sim_score)\n",
    "    sim_scores = np.array(sim_scores)\n",
    "    labels = np.array(labels)\n",
    "    \n",
    "    # choose threshold with most accuracies\n",
    "    label_vec = (sim_scores>0.5) == labels\n",
    "    if threshold != None:\n",
    "        label_vec = (sim_scores>threshold) == labels\n",
    "        far, tar, thresholds = roc_curve(np.repeat(labels, sim_score.shape[0]), sim_score.reshape(-1))\n",
    "        # Calculate AUC using scikit-learn\n",
    "        auc_score = auc(far, tar)\n",
    "        return far, tar, auc_score\n",
    "    \n",
    "#     score_pos = sim_scores[label_vec==True]\n",
    "#     thresholds = np.sort(score_pos)\n",
    "    thresholds = np.array([i/4 for i in range(21)])\n",
    "    accuracies = np.zeros(np.size(thresholds))\n",
    "    for i, threshold in enumerate(thresholds):\n",
    "        pred_vec = sim_scores>=threshold\n",
    "        accuracies[i] = np.mean(pred_vec==labels)\n",
    "\n",
    "    argmax = np.argmax(accuracies)\n",
    "    accuracy = accuracies[argmax]\n",
    "    threshold = np.mean(thresholds[accuracies==accuracy])\n",
    "    return accuracy, threshold"
   ]
  },
  {
   "cell_type": "code",
   "execution_count": 22,
   "id": "75896185",
   "metadata": {},
   "outputs": [],
   "source": [
    "def compose(size):\n",
    "    compose = transforms.Compose([\n",
    "        transforms.Resize((size,size)),\n",
    "        transforms.Grayscale(num_output_channels=3),  # Convert to Grayscale RGB\n",
    "        transforms.ToTensor(),\n",
    "    ])\n",
    "    return compose"
   ]
  },
  {
   "cell_type": "code",
   "execution_count": 23,
   "id": "2a0189eb",
   "metadata": {},
   "outputs": [
    {
     "name": "stdout",
     "output_type": "stream",
     "text": [
      "Files already downloaded and verified\n",
      "Files already downloaded and verified\n"
     ]
    }
   ],
   "source": [
    "train_dataset = datasets.LFWPairs(root='./data',split='train',download=True, transform=compose(100))\n",
    "train_loader = DataLoader(dataset=train_dataset,batch_size=128)\n",
    "test_dataset = datasets.LFWPairs(root='./data',split='test',download=True, transform=compose(100))\n",
    "test_loader = DataLoader(dataset=test_dataset,batch_size=128,shuffle=True)"
   ]
  },
  {
   "cell_type": "code",
   "execution_count": 24,
   "id": "a9738a84",
   "metadata": {},
   "outputs": [],
   "source": [
    "model = torch.load('./saved_models/resnet50_lfw_pfe.ptm')\n",
    "threshold = 0.5\n",
    "# accuracy, threshold=evaluate_pair(model, test_dataset, metric='cosine')\n",
    "# TODO: Fix pfe"
   ]
  },
  {
   "cell_type": "code",
   "execution_count": 27,
   "id": "48d66ba0",
   "metadata": {},
   "outputs": [],
   "source": [
    "import matplotlib.pyplot as plt\n",
    "def plot_roc(model, dataset, threshold=None, metric='cosine'):\n",
    "#     far, tar, thresholds = roc_curve(np.repeat(labels, sim_score.shape[0]), sim_score.reshape(-1))\n",
    "#     auc_score = auc(far, tar)\n",
    "    if threshold == None:\n",
    "        accuracy, threshold = evaluate_pair(model, test_dataset, metric='cosine', threshold=threshold)\n",
    "    far, tar, auc_score = evaluate_pair(model, test_dataset, metric='cosine', threshold=threshold)\n",
    "    plt.plot(far, tar, label='ROC curve (area = %0.2f)' % auc_score)\n",
    "    plt.plot([0, 1], [0, 1], 'k--')\n",
    "    plt.xlim([0.0, 1.0])\n",
    "    plt.ylim([0.0, 1.05])\n",
    "    plt.xlabel('False Positive Rate')\n",
    "    plt.ylabel('True Positive Rate')\n",
    "    plt.title('Receiver Operating Characteristic')\n",
    "    plt.legend(loc=\"lower right\")\n",
    "    plt.show()"
   ]
  },
  {
   "cell_type": "code",
   "execution_count": 28,
   "id": "c48f0931",
   "metadata": {
    "scrolled": true
   },
   "outputs": [
    {
     "data": {
      "image/png": "[encoded data removed]",
      "text/plain": [
       "<Figure size 432x288 with 1 Axes>"
      ]
     },
     "metadata": {
      "needs_background": "light"
     },
     "output_type": "display_data"
    }
   ],
   "source": [
    "plot_roc(model,test_dataset)"
   ]
  },
  {
   "cell_type": "code",
   "execution_count": 19,
   "id": "efaa5d32",
   "metadata": {},
   "outputs": [],
   "source": [
    "def tar_at_far(tar, far, far_target):\n",
    "    nearest_far_target=min(far, key=lambda x:abs(x-far_target))\n",
    "    index=np.where(far==nearest_far_target)\n",
    "    tar_target=tar[index]\n",
    "    return tar_target"
   ]
  }
 ],
 "metadata": {
  "kernelspec": {
   "display_name": "Python 3 (ipykernel)",
   "language": "python",
   "name": "python3"
  },
  "language_info": {
   "codemirror_mode": {
    "name": "ipython",
    "version": 3
   },
   "file_extension": ".py",
   "mimetype": "text/x-python",
   "name": "python",
   "nbconvert_exporter": "python",
   "pygments_lexer": "ipython3",
   "version": "3.8.12"
  }
 },
 "nbformat": 4,
 "nbformat_minor": 5
}
