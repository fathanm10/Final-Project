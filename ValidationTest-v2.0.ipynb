{
 "cells": [
  {
   "cell_type": "code",
   "execution_count": 1,
   "id": "a54a86d4",
   "metadata": {},
   "outputs": [],
   "source": [
    "import torch\n",
    "from train import train_model\n",
    "from dataset.utils import *\n",
    "from utils import *\n",
    "import numpy as np\n",
    "import pickle\n",
    "import time"
   ]
  },
  {
   "cell_type": "code",
   "execution_count": 2,
   "id": "88df472c",
   "metadata": {},
   "outputs": [],
   "source": [
    "batch_size = 128\n",
    "def redefine_train_parameters():\n",
    "    global device, epochs, learning_rate, loss_lr, num_classes, embedding_size\n",
    "    device = torch.device('cuda' if torch.cuda.is_available() else 'cpu')\n",
    "    epochs = 20\n",
    "    learning_rate = 0.001\n",
    "    loss_lr = 0.01\n",
    "    num_classes = get_num_classes(train_dataset)\n",
    "    embedding_size = 512"
   ]
  },
  {
   "cell_type": "code",
   "execution_count": 3,
   "id": "ed35c438",
   "metadata": {},
   "outputs": [],
   "source": [
    "def train(train_dataset, test_dataset, verbose=0, pretrained=True, save_path=None, model_name='resnet50', optimizer='adam', loss_func_name='proxy_anchor', use_loss_optimizer=False, drop_last=False):\n",
    "    train_loader = load_dataset(train_dataset, batch_size, shuffle=True, drop_last=drop_last)\n",
    "    test_loader = load_dataset(test_dataset, batch_size, shuffle=False, drop_last=drop_last)\n",
    "    model = train_model(model_name=model_name,\n",
    "                    loss_func_name=loss_func_name,\n",
    "                    num_classes=num_classes,\n",
    "                    dataloader=train_loader,\n",
    "                    optimizer=optimizer,\n",
    "                    embedding_size=embedding_size,\n",
    "                    epochs=epochs,\n",
    "                    learning_rate=learning_rate,\n",
    "                    verbose=verbose,\n",
    "                    use_loss_optimizer=use_loss_optimizer,\n",
    "                    save_path=save_path)\n",
    "    return model, train_loader, test_loader"
   ]
  },
  {
   "cell_type": "code",
   "execution_count": 4,
   "id": "3dfd647b",
   "metadata": {
    "scrolled": true
   },
   "outputs": [],
   "source": [
    "def cross_validate(dataset, k=10):\n",
    "    global r1,r2,r4,r8,r16,r32\n",
    "    np.random.shuffle(np.array(dataset))\n",
    "    k=k\n",
    "    split_len = len(dataset)//k\n",
    "    max_index = split_len*k\n",
    "    r1,r2,r4,r8,r16,r32= [],[],[],[],[],[]\n",
    "    for fold in range(k):\n",
    "        print(f'''----------\n",
    "fold {fold+1}:''')\n",
    "        start = split_len * fold\n",
    "        train_dataset = dataset[:start] + dataset[start + split_len:max_index]\n",
    "        test_dataset = dataset[start:start+split_len]\n",
    "        train_loader = load_dataset(train_dataset, batch_size, shuffle=True)\n",
    "        test_loader = load_dataset(test_dataset, batch_size, shuffle=False)\n",
    "        model = train_model(model_name='resnet50',\n",
    "                        loss_func_name='proxy_anchor',\n",
    "                        num_classes=num_classes,\n",
    "                        dataloader=train_loader,\n",
    "                        epochs=epochs,\n",
    "                        learning_rate=learning_rate,\n",
    "                        verbose=0)\n",
    "        recall = evaluate_cos(model, test_loader)\n",
    "        r1.append(recall[0])\n",
    "        r2.append(recall[1])\n",
    "        r4.append(recall[2])\n",
    "        r8.append(recall[3])\n",
    "        r16.append(recall[4])\n",
    "        r32.append(recall[5])"
   ]
  },
  {
   "cell_type": "code",
   "execution_count": 5,
   "id": "d9cba134",
   "metadata": {},
   "outputs": [],
   "source": [
    "def avg_recall(name, percent=False):\n",
    "    print(f'''Average Recall {name}:''')\n",
    "    \n",
    "    if percent:\n",
    "        print(f'''R@1 : {np.mean(r1)*100}\n",
    "R@2 : {np.mean(r2)*100}\n",
    "R@4 : {np.mean(r4)*100}\n",
    "R@8 : {np.mean(r8)*100}\n",
    "R@16 : {np.mean(r16)*100}\n",
    "R@32 : {np.mean(r32)*100}''')\n",
    "    \n",
    "    else:\n",
    "        print(f'''R@1 : {np.mean(r1)}\n",
    "R@2 : {np.mean(r2)}\n",
    "R@4 : {np.mean(r4)}\n",
    "R@8 : {np.mean(r8)}\n",
    "R@16 : {np.mean(r16)}\n",
    "R@32 : {np.mean(r32)}''')"
   ]
  },
  {
   "cell_type": "code",
   "execution_count": 6,
   "id": "81dd549b",
   "metadata": {},
   "outputs": [],
   "source": [
    "def save_output(output, name):\n",
    "    try:\n",
    "        data = load_output()\n",
    "    except:\n",
    "        data = dict()\n",
    "    data[name] = output\n",
    "    with open('recall.pkl', 'wb') as file:\n",
    "        pickle.dump(data, file)\n",
    "        \n",
    "def load_output():\n",
    "    with open('recall.pkl', 'rb') as file:\n",
    "        return pickle.load(file)"
   ]
  },
  {
   "cell_type": "code",
   "execution_count": null,
   "id": "f3b29f30",
   "metadata": {},
   "outputs": [],
   "source": [
    "train_dataset = make_dataset('LFW', split='train', image_size=0, random_resized_crop=125, random=1, face_detection=False, unsharp=1, unsharp_amount=1, unsharp_radius=1)\n",
    "norm_mean,norm_std=normalize_dataset([train_dataset])\n",
    "train_dataset = make_dataset('LFW', split='train', image_size=0, face_detection=False, normalize=1, norm_mean=norm_mean,norm_std=norm_std, random_resized_crop=125, random=1, unsharp=1, unsharp_amount=1, unsharp_radius=1)\n",
    "test_dataset =  make_dataset('LFW', split='test',  image_size=0, crop=125, face_detection=False, normalize=1, norm_mean=norm_mean,norm_std=norm_std, unsharp=1, unsharp_amount=1, unsharp_radius=1)\n",
    "redefine_train_parameters()\n",
    "name='PA+Unsharp'\n",
    "model, train_loader, test_loader = train(train_dataset,test_dataset,save_path=f'./saved_models/{name}.ptm')\n",
    "save_output(evaluate_cos(model,train_loader),f'train_{name}')\n",
    "r1,r2,r4,r8,r16,r32=load_output()[f'train_{name}']\n",
    "avg_recall(f'train_{name}')\n",
    "save_output(evaluate_cos(model,test_loader),f'test_{name}')\n",
    "r1,r2,r4,r8,r16,r32=load_output()[f'test_{name}']\n",
    "avg_recall(f'test_{name}')\n",
    "test_dataset = torchvision.datasets.LFWPairs(\n",
    "    root='./data',\n",
    "    split='test',\n",
    "    download=True,\n",
    "    transform=transforms.Compose([\n",
    "        transforms.CenterCrop(125),\n",
    "        UnsharpFilter(radius=1,amount=1),\n",
    "        transforms.ToTensor(),\n",
    "        transforms.Normalize(norm_mean,norm_std)\n",
    "    ])\n",
    ")\n",
    "labels,sim_scores = evaluate(model,test_dataset)\n",
    "visualize(labels,sim_scores)\n",
    "\n",
    "train_dataset = make_dataset('LFW', split='train', image_size=0, random_resized_crop=125, random=1, face_detection=False, unsharp=1, unsharp_amount=1, unsharp_radius=1, median_hsv=1, median_hsv_method='v', median_hsv_size=3)\n",
    "norm_mean,norm_std=normalize_dataset([train_dataset])\n",
    "train_dataset = make_dataset('LFW', split='train', image_size=0, face_detection=False, normalize=1, norm_mean=norm_mean,norm_std=norm_std, random_resized_crop=125, random=1, unsharp=1, unsharp_amount=1, unsharp_radius=1)\n",
    "test_dataset =  make_dataset('LFW', split='test',  image_size=0, crop=125, face_detection=False, normalize=1, norm_mean=norm_mean,norm_std=norm_std, unsharp=1, unsharp_amount=1, unsharp_radius=1)\n",
    "redefine_train_parameters()\n",
    "name='PA+Unsharp'\n",
    "model, train_loader, test_loader = train(train_dataset,test_dataset,save_path=f'./saved_models/{name}.ptm')\n",
    "save_output(evaluate_cos(model,train_loader),f'train_{name}')\n",
    "r1,r2,r4,r8,r16,r32=load_output()[f'train_{name}']\n",
    "avg_recall(f'train_{name}')\n",
    "save_output(evaluate_cos(model,test_loader),f'test_{name}')\n",
    "r1,r2,r4,r8,r16,r32=load_output()[f'test_{name}']\n",
    "avg_recall(f'test_{name}')\n",
    "test_dataset = torchvision.datasets.LFWPairs(\n",
    "    root='./data',\n",
    "    split='test',\n",
    "    download=True,\n",
    "    transform=transforms.Compose([\n",
    "        transforms.CenterCrop(125),\n",
    "        UnsharpFilter(radius=1,amount=1),\n",
    "        transforms.ToTensor(),\n",
    "        transforms.Normalize(norm_mean,norm_std)\n",
    "    ])\n",
    ")\n",
    "labels,sim_scores = evaluate(model,test_dataset)\n",
    "visualize(labels,sim_scores)"
   ]
  },
  {
   "cell_type": "code",
   "execution_count": 8,
   "id": "c5c3d871",
   "metadata": {},
   "outputs": [
    {
     "name": "stdout",
     "output_type": "stream",
     "text": [
      "Files already downloaded and verified\n",
      "==> Computing mean and std..\n"
     ]
    },
    {
     "name": "stderr",
     "output_type": "stream",
     "text": [
      "100%|███████████████████████████████████████| 9525/9525 [04:32<00:00, 34.99it/s]\n"
     ]
    },
    {
     "name": "stdout",
     "output_type": "stream",
     "text": [
      "tensor([0.4616, 0.3910, 0.3397]) tensor([0.2253, 0.2041, 0.1949])\n",
      "time elapsed:  272.31480956077576\n",
      "Files already downloaded and verified\n",
      "Files already downloaded and verified\n"
     ]
    }
   ],
   "source": [
    "train_dataset = make_dataset('LFW', split='train', image_size=0, random_resized_crop=125, random=1, face_detection=False)\n",
    "norm_mean,norm_std=normalize_dataset([train_dataset])\n",
    "train_dataset = make_dataset('LFW', split='train', image_size=0, face_detection=False, normalize=1, norm_mean=norm_mean,norm_std=norm_std, random_resized_crop=125, random=1)\n",
    "test_dataset =  make_dataset('LFW', split='test',  image_size=0, crop=125, face_detection=False, normalize=1, norm_mean=norm_mean,norm_std=norm_std)\n",
    "redefine_train_parameters()"
   ]
  },
  {
   "cell_type": "code",
   "execution_count": 7,
   "id": "866d618b",
   "metadata": {},
   "outputs": [
    {
     "name": "stdout",
     "output_type": "stream",
     "text": [
      "Files already downloaded and verified\n",
      "Files already downloaded and verified\n",
      "Files already downloaded and verified\n"
     ]
    },
    {
     "data": {
      "application/json": {
       "ascii": false,
       "bar_format": null,
       "colour": null,
       "elapsed": 0.00427699089050293,
       "initial": 0,
       "n": 0,
       "ncols": null,
       "nrows": 24,
       "postfix": null,
       "prefix": "Epoch [1/20]",
       "rate": null,
       "total": 75,
       "unit": "it",
       "unit_divisor": 1000,
       "unit_scale": false
      },
      "application/vnd.jupyter.widget-view+json": {
       "model_id": "f1e832a51ac9404985d090dd3ff0627f",
       "version_major": 2,
       "version_minor": 0
      },
      "text/plain": [
       "Epoch [1/20]:   0%|          | 0/75 [00:00<?, ?it/s]"
      ]
     },
     "metadata": {},
     "output_type": "display_data"
    },
    {
     "data": {
      "application/json": {
       "ascii": false,
       "bar_format": null,
       "colour": null,
       "elapsed": 0.0059337615966796875,
       "initial": 0,
       "n": 0,
       "ncols": null,
       "nrows": 24,
       "postfix": null,
       "prefix": "Epoch [2/20]",
       "rate": null,
       "total": 75,
       "unit": "it",
       "unit_divisor": 1000,
       "unit_scale": false
      },
      "application/vnd.jupyter.widget-view+json": {
       "model_id": "684403f61fed4ddc972cd43e9de9c880",
       "version_major": 2,
       "version_minor": 0
      },
      "text/plain": [
       "Epoch [2/20]:   0%|          | 0/75 [00:00<?, ?it/s]"
      ]
     },
     "metadata": {},
     "output_type": "display_data"
    },
    {
     "ename": "KeyboardInterrupt",
     "evalue": "",
     "output_type": "error",
     "traceback": [
      "\u001b[0;31m---------------------------------------------------------------------------\u001b[0m",
      "\u001b[0;31mKeyboardInterrupt\u001b[0m                         Traceback (most recent call last)",
      "\u001b[0;32m/tmp/ipykernel_81225/1815533166.py\u001b[0m in \u001b[0;36m<module>\u001b[0;34m\u001b[0m\n\u001b[1;32m      6\u001b[0m \u001b[0mredefine_train_parameters\u001b[0m\u001b[0;34m(\u001b[0m\u001b[0;34m)\u001b[0m\u001b[0;34m\u001b[0m\u001b[0;34m\u001b[0m\u001b[0m\n\u001b[1;32m      7\u001b[0m \u001b[0mname\u001b[0m\u001b[0;34m=\u001b[0m\u001b[0;34m'PA+Crop(100)'\u001b[0m\u001b[0;34m\u001b[0m\u001b[0;34m\u001b[0m\u001b[0m\n\u001b[0;32m----> 8\u001b[0;31m \u001b[0mmodel\u001b[0m\u001b[0;34m,\u001b[0m \u001b[0mtrain_loader\u001b[0m\u001b[0;34m,\u001b[0m \u001b[0mtest_loader\u001b[0m \u001b[0;34m=\u001b[0m \u001b[0mtrain\u001b[0m\u001b[0;34m(\u001b[0m\u001b[0mtrain_dataset\u001b[0m\u001b[0;34m,\u001b[0m\u001b[0mtest_dataset\u001b[0m\u001b[0;34m,\u001b[0m\u001b[0msave_path\u001b[0m\u001b[0;34m=\u001b[0m\u001b[0;34mf'./saved_models/{name}.ptm'\u001b[0m\u001b[0;34m)\u001b[0m\u001b[0;34m\u001b[0m\u001b[0;34m\u001b[0m\u001b[0m\n\u001b[0m\u001b[1;32m      9\u001b[0m \u001b[0mevaluate_cos\u001b[0m\u001b[0;34m(\u001b[0m\u001b[0mmodel\u001b[0m\u001b[0;34m,\u001b[0m\u001b[0mtrain_loader\u001b[0m\u001b[0;34m)\u001b[0m\u001b[0;34m\u001b[0m\u001b[0;34m\u001b[0m\u001b[0m\n\u001b[1;32m     10\u001b[0m \u001b[0mevaluate_cos\u001b[0m\u001b[0;34m(\u001b[0m\u001b[0mmodel\u001b[0m\u001b[0;34m,\u001b[0m\u001b[0mtest_loader\u001b[0m\u001b[0;34m)\u001b[0m\u001b[0;34m\u001b[0m\u001b[0;34m\u001b[0m\u001b[0m\n",
      "\u001b[0;32m/tmp/ipykernel_81225/3481906671.py\u001b[0m in \u001b[0;36mtrain\u001b[0;34m(train_dataset, test_dataset, verbose, pretrained, save_path, model_name, optimizer, loss_func_name, use_loss_optimizer, drop_last)\u001b[0m\n\u001b[1;32m      2\u001b[0m     \u001b[0mtrain_loader\u001b[0m \u001b[0;34m=\u001b[0m \u001b[0mload_dataset\u001b[0m\u001b[0;34m(\u001b[0m\u001b[0mtrain_dataset\u001b[0m\u001b[0;34m,\u001b[0m \u001b[0mbatch_size\u001b[0m\u001b[0;34m,\u001b[0m \u001b[0mshuffle\u001b[0m\u001b[0;34m=\u001b[0m\u001b[0;32mTrue\u001b[0m\u001b[0;34m,\u001b[0m \u001b[0mdrop_last\u001b[0m\u001b[0;34m=\u001b[0m\u001b[0mdrop_last\u001b[0m\u001b[0;34m)\u001b[0m\u001b[0;34m\u001b[0m\u001b[0;34m\u001b[0m\u001b[0m\n\u001b[1;32m      3\u001b[0m     \u001b[0mtest_loader\u001b[0m \u001b[0;34m=\u001b[0m \u001b[0mload_dataset\u001b[0m\u001b[0;34m(\u001b[0m\u001b[0mtest_dataset\u001b[0m\u001b[0;34m,\u001b[0m \u001b[0mbatch_size\u001b[0m\u001b[0;34m,\u001b[0m \u001b[0mshuffle\u001b[0m\u001b[0;34m=\u001b[0m\u001b[0;32mFalse\u001b[0m\u001b[0;34m,\u001b[0m \u001b[0mdrop_last\u001b[0m\u001b[0;34m=\u001b[0m\u001b[0mdrop_last\u001b[0m\u001b[0;34m)\u001b[0m\u001b[0;34m\u001b[0m\u001b[0;34m\u001b[0m\u001b[0m\n\u001b[0;32m----> 4\u001b[0;31m     model = train_model(model_name=model_name,\n\u001b[0m\u001b[1;32m      5\u001b[0m                     \u001b[0mloss_func_name\u001b[0m\u001b[0;34m=\u001b[0m\u001b[0mloss_func_name\u001b[0m\u001b[0;34m,\u001b[0m\u001b[0;34m\u001b[0m\u001b[0;34m\u001b[0m\u001b[0m\n\u001b[1;32m      6\u001b[0m                     \u001b[0mnum_classes\u001b[0m\u001b[0;34m=\u001b[0m\u001b[0mnum_classes\u001b[0m\u001b[0;34m,\u001b[0m\u001b[0;34m\u001b[0m\u001b[0;34m\u001b[0m\u001b[0m\n",
      "\u001b[0;32m/workspace/Experiments/Clean/train.py\u001b[0m in \u001b[0;36mtrain_model\u001b[0;34m(model_name, loss_func_name, num_classes, epochs, dataloader, optimizer, use_loss_optimizer, embedding_size, pretrained, learning_rate, loss_learning_rate, margin, alpha, step_size, gamma, momentum, weight_decay, save_path, verbose)\u001b[0m\n\u001b[1;32m    100\u001b[0m         \u001b[0mrunning_loss\u001b[0m \u001b[0;34m=\u001b[0m \u001b[0;36m0.0\u001b[0m\u001b[0;34m\u001b[0m\u001b[0;34m\u001b[0m\u001b[0m\n\u001b[1;32m    101\u001b[0m         \u001b[0mbatch_bar\u001b[0m \u001b[0;34m=\u001b[0m \u001b[0mtqdm\u001b[0m\u001b[0;34m(\u001b[0m\u001b[0mdataloader\u001b[0m\u001b[0;34m,\u001b[0m \u001b[0mdesc\u001b[0m\u001b[0;34m=\u001b[0m\u001b[0;34mf'Epoch [{epoch+1}/{epochs}]'\u001b[0m\u001b[0;34m)\u001b[0m\u001b[0;34m\u001b[0m\u001b[0;34m\u001b[0m\u001b[0m\n\u001b[0;32m--> 102\u001b[0;31m         \u001b[0;32mfor\u001b[0m \u001b[0mi\u001b[0m\u001b[0;34m,\u001b[0m \u001b[0;34m(\u001b[0m\u001b[0mimages\u001b[0m\u001b[0;34m,\u001b[0m \u001b[0mlabels\u001b[0m\u001b[0;34m)\u001b[0m \u001b[0;32min\u001b[0m \u001b[0menumerate\u001b[0m\u001b[0;34m(\u001b[0m\u001b[0mbatch_bar\u001b[0m\u001b[0;34m)\u001b[0m\u001b[0;34m:\u001b[0m\u001b[0;34m\u001b[0m\u001b[0;34m\u001b[0m\u001b[0m\n\u001b[0m\u001b[1;32m    103\u001b[0m             \u001b[0mimages\u001b[0m \u001b[0;34m=\u001b[0m \u001b[0mimages\u001b[0m\u001b[0;34m.\u001b[0m\u001b[0mto\u001b[0m\u001b[0;34m(\u001b[0m\u001b[0mdevice\u001b[0m\u001b[0;34m)\u001b[0m\u001b[0;34m.\u001b[0m\u001b[0mfloat\u001b[0m\u001b[0;34m(\u001b[0m\u001b[0;34m)\u001b[0m\u001b[0;34m\u001b[0m\u001b[0;34m\u001b[0m\u001b[0m\n\u001b[1;32m    104\u001b[0m             \u001b[0mlabels\u001b[0m \u001b[0;34m=\u001b[0m \u001b[0mlabels\u001b[0m\u001b[0;34m.\u001b[0m\u001b[0mto\u001b[0m\u001b[0;34m(\u001b[0m\u001b[0mdevice\u001b[0m\u001b[0;34m)\u001b[0m\u001b[0;34m\u001b[0m\u001b[0;34m\u001b[0m\u001b[0m\n",
      "\u001b[0;32m/opt/conda/lib/python3.8/site-packages/tqdm/notebook.py\u001b[0m in \u001b[0;36m__iter__\u001b[0;34m(self)\u001b[0m\n\u001b[1;32m    255\u001b[0m     \u001b[0;32mdef\u001b[0m \u001b[0m__iter__\u001b[0m\u001b[0;34m(\u001b[0m\u001b[0mself\u001b[0m\u001b[0;34m)\u001b[0m\u001b[0;34m:\u001b[0m\u001b[0;34m\u001b[0m\u001b[0;34m\u001b[0m\u001b[0m\n\u001b[1;32m    256\u001b[0m         \u001b[0;32mtry\u001b[0m\u001b[0;34m:\u001b[0m\u001b[0;34m\u001b[0m\u001b[0;34m\u001b[0m\u001b[0m\n\u001b[0;32m--> 257\u001b[0;31m             \u001b[0;32mfor\u001b[0m \u001b[0mobj\u001b[0m \u001b[0;32min\u001b[0m \u001b[0msuper\u001b[0m\u001b[0;34m(\u001b[0m\u001b[0mtqdm_notebook\u001b[0m\u001b[0;34m,\u001b[0m \u001b[0mself\u001b[0m\u001b[0;34m)\u001b[0m\u001b[0;34m.\u001b[0m\u001b[0m__iter__\u001b[0m\u001b[0;34m(\u001b[0m\u001b[0;34m)\u001b[0m\u001b[0;34m:\u001b[0m\u001b[0;34m\u001b[0m\u001b[0;34m\u001b[0m\u001b[0m\n\u001b[0m\u001b[1;32m    258\u001b[0m                 \u001b[0;31m# return super(tqdm...) will not catch exception\u001b[0m\u001b[0;34m\u001b[0m\u001b[0;34m\u001b[0m\u001b[0;34m\u001b[0m\u001b[0m\n\u001b[1;32m    259\u001b[0m                 \u001b[0;32myield\u001b[0m \u001b[0mobj\u001b[0m\u001b[0;34m\u001b[0m\u001b[0;34m\u001b[0m\u001b[0m\n",
      "\u001b[0;32m/opt/conda/lib/python3.8/site-packages/tqdm/std.py\u001b[0m in \u001b[0;36m__iter__\u001b[0;34m(self)\u001b[0m\n\u001b[1;32m   1178\u001b[0m \u001b[0;34m\u001b[0m\u001b[0m\n\u001b[1;32m   1179\u001b[0m         \u001b[0;32mtry\u001b[0m\u001b[0;34m:\u001b[0m\u001b[0;34m\u001b[0m\u001b[0;34m\u001b[0m\u001b[0m\n\u001b[0;32m-> 1180\u001b[0;31m             \u001b[0;32mfor\u001b[0m \u001b[0mobj\u001b[0m \u001b[0;32min\u001b[0m \u001b[0miterable\u001b[0m\u001b[0;34m:\u001b[0m\u001b[0;34m\u001b[0m\u001b[0;34m\u001b[0m\u001b[0m\n\u001b[0m\u001b[1;32m   1181\u001b[0m                 \u001b[0;32myield\u001b[0m \u001b[0mobj\u001b[0m\u001b[0;34m\u001b[0m\u001b[0;34m\u001b[0m\u001b[0m\n\u001b[1;32m   1182\u001b[0m                 \u001b[0;31m# Update and possibly print the progressbar.\u001b[0m\u001b[0;34m\u001b[0m\u001b[0;34m\u001b[0m\u001b[0;34m\u001b[0m\u001b[0m\n",
      "\u001b[0;32m/opt/conda/lib/python3.8/site-packages/torch/utils/data/dataloader.py\u001b[0m in \u001b[0;36m__next__\u001b[0;34m(self)\u001b[0m\n\u001b[1;32m    519\u001b[0m             \u001b[0;32mif\u001b[0m \u001b[0mself\u001b[0m\u001b[0;34m.\u001b[0m\u001b[0m_sampler_iter\u001b[0m \u001b[0;32mis\u001b[0m \u001b[0;32mNone\u001b[0m\u001b[0;34m:\u001b[0m\u001b[0;34m\u001b[0m\u001b[0;34m\u001b[0m\u001b[0m\n\u001b[1;32m    520\u001b[0m                 \u001b[0mself\u001b[0m\u001b[0;34m.\u001b[0m\u001b[0m_reset\u001b[0m\u001b[0;34m(\u001b[0m\u001b[0;34m)\u001b[0m\u001b[0;34m\u001b[0m\u001b[0;34m\u001b[0m\u001b[0m\n\u001b[0;32m--> 521\u001b[0;31m             \u001b[0mdata\u001b[0m \u001b[0;34m=\u001b[0m \u001b[0mself\u001b[0m\u001b[0;34m.\u001b[0m\u001b[0m_next_data\u001b[0m\u001b[0;34m(\u001b[0m\u001b[0;34m)\u001b[0m\u001b[0;34m\u001b[0m\u001b[0;34m\u001b[0m\u001b[0m\n\u001b[0m\u001b[1;32m    522\u001b[0m             \u001b[0mself\u001b[0m\u001b[0;34m.\u001b[0m\u001b[0m_num_yielded\u001b[0m \u001b[0;34m+=\u001b[0m \u001b[0;36m1\u001b[0m\u001b[0;34m\u001b[0m\u001b[0;34m\u001b[0m\u001b[0m\n\u001b[1;32m    523\u001b[0m             \u001b[0;32mif\u001b[0m \u001b[0mself\u001b[0m\u001b[0;34m.\u001b[0m\u001b[0m_dataset_kind\u001b[0m \u001b[0;34m==\u001b[0m \u001b[0m_DatasetKind\u001b[0m\u001b[0;34m.\u001b[0m\u001b[0mIterable\u001b[0m \u001b[0;32mand\u001b[0m\u001b[0;31m \u001b[0m\u001b[0;31m\\\u001b[0m\u001b[0;34m\u001b[0m\u001b[0;34m\u001b[0m\u001b[0m\n",
      "\u001b[0;32m/opt/conda/lib/python3.8/site-packages/torch/utils/data/dataloader.py\u001b[0m in \u001b[0;36m_next_data\u001b[0;34m(self)\u001b[0m\n\u001b[1;32m    559\u001b[0m     \u001b[0;32mdef\u001b[0m \u001b[0m_next_data\u001b[0m\u001b[0;34m(\u001b[0m\u001b[0mself\u001b[0m\u001b[0;34m)\u001b[0m\u001b[0;34m:\u001b[0m\u001b[0;34m\u001b[0m\u001b[0;34m\u001b[0m\u001b[0m\n\u001b[1;32m    560\u001b[0m         \u001b[0mindex\u001b[0m \u001b[0;34m=\u001b[0m \u001b[0mself\u001b[0m\u001b[0;34m.\u001b[0m\u001b[0m_next_index\u001b[0m\u001b[0;34m(\u001b[0m\u001b[0;34m)\u001b[0m  \u001b[0;31m# may raise StopIteration\u001b[0m\u001b[0;34m\u001b[0m\u001b[0;34m\u001b[0m\u001b[0m\n\u001b[0;32m--> 561\u001b[0;31m         \u001b[0mdata\u001b[0m \u001b[0;34m=\u001b[0m \u001b[0mself\u001b[0m\u001b[0;34m.\u001b[0m\u001b[0m_dataset_fetcher\u001b[0m\u001b[0;34m.\u001b[0m\u001b[0mfetch\u001b[0m\u001b[0;34m(\u001b[0m\u001b[0mindex\u001b[0m\u001b[0;34m)\u001b[0m  \u001b[0;31m# may raise StopIteration\u001b[0m\u001b[0;34m\u001b[0m\u001b[0;34m\u001b[0m\u001b[0m\n\u001b[0m\u001b[1;32m    562\u001b[0m         \u001b[0;32mif\u001b[0m \u001b[0mself\u001b[0m\u001b[0;34m.\u001b[0m\u001b[0m_pin_memory\u001b[0m\u001b[0;34m:\u001b[0m\u001b[0;34m\u001b[0m\u001b[0;34m\u001b[0m\u001b[0m\n\u001b[1;32m    563\u001b[0m             \u001b[0mdata\u001b[0m \u001b[0;34m=\u001b[0m \u001b[0m_utils\u001b[0m\u001b[0;34m.\u001b[0m\u001b[0mpin_memory\u001b[0m\u001b[0;34m.\u001b[0m\u001b[0mpin_memory\u001b[0m\u001b[0;34m(\u001b[0m\u001b[0mdata\u001b[0m\u001b[0;34m)\u001b[0m\u001b[0;34m\u001b[0m\u001b[0;34m\u001b[0m\u001b[0m\n",
      "\u001b[0;32m/opt/conda/lib/python3.8/site-packages/torch/utils/data/_utils/fetch.py\u001b[0m in \u001b[0;36mfetch\u001b[0;34m(self, possibly_batched_index)\u001b[0m\n\u001b[1;32m     47\u001b[0m     \u001b[0;32mdef\u001b[0m \u001b[0mfetch\u001b[0m\u001b[0;34m(\u001b[0m\u001b[0mself\u001b[0m\u001b[0;34m,\u001b[0m \u001b[0mpossibly_batched_index\u001b[0m\u001b[0;34m)\u001b[0m\u001b[0;34m:\u001b[0m\u001b[0;34m\u001b[0m\u001b[0;34m\u001b[0m\u001b[0m\n\u001b[1;32m     48\u001b[0m         \u001b[0;32mif\u001b[0m \u001b[0mself\u001b[0m\u001b[0;34m.\u001b[0m\u001b[0mauto_collation\u001b[0m\u001b[0;34m:\u001b[0m\u001b[0;34m\u001b[0m\u001b[0;34m\u001b[0m\u001b[0m\n\u001b[0;32m---> 49\u001b[0;31m             \u001b[0mdata\u001b[0m \u001b[0;34m=\u001b[0m \u001b[0;34m[\u001b[0m\u001b[0mself\u001b[0m\u001b[0;34m.\u001b[0m\u001b[0mdataset\u001b[0m\u001b[0;34m[\u001b[0m\u001b[0midx\u001b[0m\u001b[0;34m]\u001b[0m \u001b[0;32mfor\u001b[0m \u001b[0midx\u001b[0m \u001b[0;32min\u001b[0m \u001b[0mpossibly_batched_index\u001b[0m\u001b[0;34m]\u001b[0m\u001b[0;34m\u001b[0m\u001b[0;34m\u001b[0m\u001b[0m\n\u001b[0m\u001b[1;32m     50\u001b[0m         \u001b[0;32melse\u001b[0m\u001b[0;34m:\u001b[0m\u001b[0;34m\u001b[0m\u001b[0;34m\u001b[0m\u001b[0m\n\u001b[1;32m     51\u001b[0m             \u001b[0mdata\u001b[0m \u001b[0;34m=\u001b[0m \u001b[0mself\u001b[0m\u001b[0;34m.\u001b[0m\u001b[0mdataset\u001b[0m\u001b[0;34m[\u001b[0m\u001b[0mpossibly_batched_index\u001b[0m\u001b[0;34m]\u001b[0m\u001b[0;34m\u001b[0m\u001b[0;34m\u001b[0m\u001b[0m\n",
      "\u001b[0;32m/opt/conda/lib/python3.8/site-packages/torch/utils/data/_utils/fetch.py\u001b[0m in \u001b[0;36m<listcomp>\u001b[0;34m(.0)\u001b[0m\n\u001b[1;32m     47\u001b[0m     \u001b[0;32mdef\u001b[0m \u001b[0mfetch\u001b[0m\u001b[0;34m(\u001b[0m\u001b[0mself\u001b[0m\u001b[0;34m,\u001b[0m \u001b[0mpossibly_batched_index\u001b[0m\u001b[0;34m)\u001b[0m\u001b[0;34m:\u001b[0m\u001b[0;34m\u001b[0m\u001b[0;34m\u001b[0m\u001b[0m\n\u001b[1;32m     48\u001b[0m         \u001b[0;32mif\u001b[0m \u001b[0mself\u001b[0m\u001b[0;34m.\u001b[0m\u001b[0mauto_collation\u001b[0m\u001b[0;34m:\u001b[0m\u001b[0;34m\u001b[0m\u001b[0;34m\u001b[0m\u001b[0m\n\u001b[0;32m---> 49\u001b[0;31m             \u001b[0mdata\u001b[0m \u001b[0;34m=\u001b[0m \u001b[0;34m[\u001b[0m\u001b[0mself\u001b[0m\u001b[0;34m.\u001b[0m\u001b[0mdataset\u001b[0m\u001b[0;34m[\u001b[0m\u001b[0midx\u001b[0m\u001b[0;34m]\u001b[0m \u001b[0;32mfor\u001b[0m \u001b[0midx\u001b[0m \u001b[0;32min\u001b[0m \u001b[0mpossibly_batched_index\u001b[0m\u001b[0;34m]\u001b[0m\u001b[0;34m\u001b[0m\u001b[0;34m\u001b[0m\u001b[0m\n\u001b[0m\u001b[1;32m     50\u001b[0m         \u001b[0;32melse\u001b[0m\u001b[0;34m:\u001b[0m\u001b[0;34m\u001b[0m\u001b[0;34m\u001b[0m\u001b[0m\n\u001b[1;32m     51\u001b[0m             \u001b[0mdata\u001b[0m \u001b[0;34m=\u001b[0m \u001b[0mself\u001b[0m\u001b[0;34m.\u001b[0m\u001b[0mdataset\u001b[0m\u001b[0;34m[\u001b[0m\u001b[0mpossibly_batched_index\u001b[0m\u001b[0;34m]\u001b[0m\u001b[0;34m\u001b[0m\u001b[0;34m\u001b[0m\u001b[0m\n",
      "\u001b[0;32m/opt/conda/lib/python3.8/site-packages/torchvision/datasets/lfw.py\u001b[0m in \u001b[0;36m__getitem__\u001b[0;34m(self, index)\u001b[0m\n\u001b[1;32m    160\u001b[0m             \u001b[0mtuple\u001b[0m\u001b[0;34m:\u001b[0m \u001b[0mTuple\u001b[0m \u001b[0;34m(\u001b[0m\u001b[0mimage\u001b[0m\u001b[0;34m,\u001b[0m \u001b[0mtarget\u001b[0m\u001b[0;34m)\u001b[0m \u001b[0mwhere\u001b[0m \u001b[0mtarget\u001b[0m \u001b[0;32mis\u001b[0m \u001b[0mthe\u001b[0m \u001b[0midentity\u001b[0m \u001b[0mof\u001b[0m \u001b[0mthe\u001b[0m \u001b[0mperson\u001b[0m\u001b[0;34m.\u001b[0m\u001b[0;34m\u001b[0m\u001b[0;34m\u001b[0m\u001b[0m\n\u001b[1;32m    161\u001b[0m         \"\"\"\n\u001b[0;32m--> 162\u001b[0;31m         \u001b[0mimg\u001b[0m \u001b[0;34m=\u001b[0m \u001b[0mself\u001b[0m\u001b[0;34m.\u001b[0m\u001b[0m_loader\u001b[0m\u001b[0;34m(\u001b[0m\u001b[0mself\u001b[0m\u001b[0;34m.\u001b[0m\u001b[0mdata\u001b[0m\u001b[0;34m[\u001b[0m\u001b[0mindex\u001b[0m\u001b[0;34m]\u001b[0m\u001b[0;34m)\u001b[0m\u001b[0;34m\u001b[0m\u001b[0;34m\u001b[0m\u001b[0m\n\u001b[0m\u001b[1;32m    163\u001b[0m         \u001b[0mtarget\u001b[0m \u001b[0;34m=\u001b[0m \u001b[0mself\u001b[0m\u001b[0;34m.\u001b[0m\u001b[0mtargets\u001b[0m\u001b[0;34m[\u001b[0m\u001b[0mindex\u001b[0m\u001b[0;34m]\u001b[0m\u001b[0;34m\u001b[0m\u001b[0;34m\u001b[0m\u001b[0m\n\u001b[1;32m    164\u001b[0m \u001b[0;34m\u001b[0m\u001b[0m\n",
      "\u001b[0;32m/opt/conda/lib/python3.8/site-packages/torchvision/datasets/lfw.py\u001b[0m in \u001b[0;36m_loader\u001b[0;34m(self, path)\u001b[0m\n\u001b[1;32m     61\u001b[0m         \u001b[0;32mwith\u001b[0m \u001b[0mopen\u001b[0m\u001b[0;34m(\u001b[0m\u001b[0mpath\u001b[0m\u001b[0;34m,\u001b[0m \u001b[0;34m'rb'\u001b[0m\u001b[0;34m)\u001b[0m \u001b[0;32mas\u001b[0m \u001b[0mf\u001b[0m\u001b[0;34m:\u001b[0m\u001b[0;34m\u001b[0m\u001b[0;34m\u001b[0m\u001b[0m\n\u001b[1;32m     62\u001b[0m             \u001b[0mimg\u001b[0m \u001b[0;34m=\u001b[0m \u001b[0mImage\u001b[0m\u001b[0;34m.\u001b[0m\u001b[0mopen\u001b[0m\u001b[0;34m(\u001b[0m\u001b[0mf\u001b[0m\u001b[0;34m)\u001b[0m\u001b[0;34m\u001b[0m\u001b[0;34m\u001b[0m\u001b[0m\n\u001b[0;32m---> 63\u001b[0;31m             \u001b[0;32mreturn\u001b[0m \u001b[0mimg\u001b[0m\u001b[0;34m.\u001b[0m\u001b[0mconvert\u001b[0m\u001b[0;34m(\u001b[0m\u001b[0;34m'RGB'\u001b[0m\u001b[0;34m)\u001b[0m\u001b[0;34m\u001b[0m\u001b[0;34m\u001b[0m\u001b[0m\n\u001b[0m\u001b[1;32m     64\u001b[0m \u001b[0;34m\u001b[0m\u001b[0m\n\u001b[1;32m     65\u001b[0m     \u001b[0;32mdef\u001b[0m \u001b[0m_check_integrity\u001b[0m\u001b[0;34m(\u001b[0m\u001b[0mself\u001b[0m\u001b[0;34m)\u001b[0m\u001b[0;34m:\u001b[0m\u001b[0;34m\u001b[0m\u001b[0;34m\u001b[0m\u001b[0m\n",
      "\u001b[0;32m/opt/conda/lib/python3.8/site-packages/PIL/Image.py\u001b[0m in \u001b[0;36mconvert\u001b[0;34m(self, mode, matrix, dither, palette, colors)\u001b[0m\n\u001b[1;32m    909\u001b[0m         \"\"\"\n\u001b[1;32m    910\u001b[0m \u001b[0;34m\u001b[0m\u001b[0m\n\u001b[0;32m--> 911\u001b[0;31m         \u001b[0mself\u001b[0m\u001b[0;34m.\u001b[0m\u001b[0mload\u001b[0m\u001b[0;34m(\u001b[0m\u001b[0;34m)\u001b[0m\u001b[0;34m\u001b[0m\u001b[0;34m\u001b[0m\u001b[0m\n\u001b[0m\u001b[1;32m    912\u001b[0m \u001b[0;34m\u001b[0m\u001b[0m\n\u001b[1;32m    913\u001b[0m         \u001b[0mhas_transparency\u001b[0m \u001b[0;34m=\u001b[0m \u001b[0mself\u001b[0m\u001b[0;34m.\u001b[0m\u001b[0minfo\u001b[0m\u001b[0;34m.\u001b[0m\u001b[0mget\u001b[0m\u001b[0;34m(\u001b[0m\u001b[0;34m\"transparency\"\u001b[0m\u001b[0;34m)\u001b[0m \u001b[0;32mis\u001b[0m \u001b[0;32mnot\u001b[0m \u001b[0;32mNone\u001b[0m\u001b[0;34m\u001b[0m\u001b[0;34m\u001b[0m\u001b[0m\n",
      "\u001b[0;32m/opt/conda/lib/python3.8/site-packages/PIL/ImageFile.py\u001b[0m in \u001b[0;36mload\u001b[0;34m(self)\u001b[0m\n\u001b[1;32m    235\u001b[0m             \u001b[0;32mfor\u001b[0m \u001b[0mdecoder_name\u001b[0m\u001b[0;34m,\u001b[0m \u001b[0mextents\u001b[0m\u001b[0;34m,\u001b[0m \u001b[0moffset\u001b[0m\u001b[0;34m,\u001b[0m \u001b[0margs\u001b[0m \u001b[0;32min\u001b[0m \u001b[0mself\u001b[0m\u001b[0;34m.\u001b[0m\u001b[0mtile\u001b[0m\u001b[0;34m:\u001b[0m\u001b[0;34m\u001b[0m\u001b[0;34m\u001b[0m\u001b[0m\n\u001b[1;32m    236\u001b[0m                 \u001b[0mseek\u001b[0m\u001b[0;34m(\u001b[0m\u001b[0moffset\u001b[0m\u001b[0;34m)\u001b[0m\u001b[0;34m\u001b[0m\u001b[0;34m\u001b[0m\u001b[0m\n\u001b[0;32m--> 237\u001b[0;31m                 decoder = Image._getdecoder(\n\u001b[0m\u001b[1;32m    238\u001b[0m                     \u001b[0mself\u001b[0m\u001b[0;34m.\u001b[0m\u001b[0mmode\u001b[0m\u001b[0;34m,\u001b[0m \u001b[0mdecoder_name\u001b[0m\u001b[0;34m,\u001b[0m \u001b[0margs\u001b[0m\u001b[0;34m,\u001b[0m \u001b[0mself\u001b[0m\u001b[0;34m.\u001b[0m\u001b[0mdecoderconfig\u001b[0m\u001b[0;34m\u001b[0m\u001b[0;34m\u001b[0m\u001b[0m\n\u001b[1;32m    239\u001b[0m                 )\n",
      "\u001b[0;32m/opt/conda/lib/python3.8/site-packages/PIL/Image.py\u001b[0m in \u001b[0;36m_getdecoder\u001b[0;34m(mode, decoder_name, args, extra)\u001b[0m\n\u001b[1;32m    390\u001b[0m         \u001b[0mmsg\u001b[0m \u001b[0;34m=\u001b[0m \u001b[0;34mf\"decoder {decoder_name} not available\"\u001b[0m\u001b[0;34m\u001b[0m\u001b[0;34m\u001b[0m\u001b[0m\n\u001b[1;32m    391\u001b[0m         \u001b[0;32mraise\u001b[0m \u001b[0mOSError\u001b[0m\u001b[0;34m(\u001b[0m\u001b[0mmsg\u001b[0m\u001b[0;34m)\u001b[0m \u001b[0;32mfrom\u001b[0m \u001b[0me\u001b[0m\u001b[0;34m\u001b[0m\u001b[0;34m\u001b[0m\u001b[0m\n\u001b[0;32m--> 392\u001b[0;31m     \u001b[0;32mreturn\u001b[0m \u001b[0mdecoder\u001b[0m\u001b[0;34m(\u001b[0m\u001b[0mmode\u001b[0m\u001b[0;34m,\u001b[0m \u001b[0;34m*\u001b[0m\u001b[0margs\u001b[0m \u001b[0;34m+\u001b[0m \u001b[0mextra\u001b[0m\u001b[0;34m)\u001b[0m\u001b[0;34m\u001b[0m\u001b[0;34m\u001b[0m\u001b[0m\n\u001b[0m\u001b[1;32m    393\u001b[0m \u001b[0;34m\u001b[0m\u001b[0m\n\u001b[1;32m    394\u001b[0m \u001b[0;34m\u001b[0m\u001b[0m\n",
      "\u001b[0;31mKeyboardInterrupt\u001b[0m: "
     ]
    }
   ],
   "source": [
    "train_dataset = make_dataset('LFW', split='train', image_size=0, face_detection=False, random_resized_crop=100, random=1)\n",
    "# norm_mean,norm_std=normalize_dataset([train_dataset])\n",
    "norm_mean,norm_std=torch.tensor([0.4659, 0.3943, 0.3430]),torch.tensor([0.2248, 0.2036, 0.1948])\n",
    "train_dataset = make_dataset('LFW', split='train', image_size=0, face_detection=False, normalize=1, norm_mean=norm_mean,norm_std=norm_std, random_resized_crop=100, random=1)\n",
    "test_dataset =  make_dataset('LFW', split='test',  image_size=0, crop=100, face_detection=False, normalize=1, norm_mean=norm_mean,norm_std=norm_std)\n",
    "redefine_train_parameters()\n",
    "name='PA+Crop(100)'\n",
    "model, train_loader, test_loader = train(train_dataset,test_dataset,save_path=f'./saved_models/{name}.ptm')\n",
    "evaluate_cos(model,train_loader)\n",
    "evaluate_cos(model,test_loader)\n",
    "test_dataset = torchvision.datasets.LFWPairs(\n",
    "    root='./data',\n",
    "    split='test',\n",
    "    download=True,\n",
    "    transform=transforms.Compose([\n",
    "        transforms.CenterCrop(100),\n",
    "        transforms.ToTensor(),\n",
    "        transforms.Normalize(norm_mean,norm_std)\n",
    "    ])\n",
    ")\n",
    "labels,sim_scores = evaluate(model,test_dataset)\n",
    "visualize(labels,sim_scores)"
   ]
  },
  {
   "cell_type": "code",
   "execution_count": 10,
   "id": "52225264",
   "metadata": {},
   "outputs": [
    {
     "name": "stderr",
     "output_type": "stream",
     "text": [
      "100%|███████████████████████████████████████████| 75/75 [04:03<00:00,  3.25s/it]\n"
     ]
    },
    {
     "name": "stdout",
     "output_type": "stream",
     "text": [
      "R@1 : 12.567\n",
      "R@2 : 16.703\n",
      "R@4 : 21.144\n",
      "R@8 : 26.215\n",
      "R@16 : 31.297\n",
      "R@32 : 36.724\n",
      "Average Recall train_PA:\n",
      "R@1 : 0.12566929133858268\n",
      "R@2 : 0.16703412073490814\n",
      "R@4 : 0.21144356955380578\n",
      "R@8 : 0.2621522309711286\n",
      "R@16 : 0.31296587926509184\n",
      "R@32 : 0.36724409448818895\n"
     ]
    },
    {
     "name": "stderr",
     "output_type": "stream",
     "text": [
      "100%|███████████████████████████████████████████| 29/29 [00:55<00:00,  1.92s/it]\n"
     ]
    },
    {
     "name": "stdout",
     "output_type": "stream",
     "text": [
      "R@1 : 14.132\n",
      "R@2 : 19.606\n",
      "R@4 : 26.160\n",
      "R@8 : 32.497\n",
      "R@16 : 38.916\n",
      "R@32 : 45.146\n",
      "Average Recall test_PA:\n",
      "R@1 : 0.1413160733549083\n",
      "R@2 : 0.19606256742179073\n",
      "R@4 : 0.261596548004315\n",
      "R@8 : 0.3249730312837109\n",
      "R@16 : 0.38915857605177995\n",
      "R@32 : 0.45145631067961167\n"
     ]
    }
   ],
   "source": [
    "save_output(evaluate_cos(model,train_loader),f'train_{name}')\n",
    "r1,r2,r4,r8,r16,r32=load_output()[f'train_{name}']\n",
    "avg_recall(f'train_{name}')\n",
    "save_output(evaluate_cos(model,test_loader),f'test_{name}')\n",
    "r1,r2,r4,r8,r16,r32=load_output()[f'test_{name}']\n",
    "avg_recall(f'test_{name}')"
   ]
  },
  {
   "cell_type": "code",
   "execution_count": 11,
   "id": "22d43a2b",
   "metadata": {},
   "outputs": [
    {
     "name": "stdout",
     "output_type": "stream",
     "text": [
      "Files already downloaded and verified\n"
     ]
    },
    {
     "data": {
      "image/png": "[encoded data removed]",
      "text/plain": [
       "<Figure size 432x288 with 1 Axes>"
      ]
     },
     "metadata": {
      "needs_background": "light"
     },
     "output_type": "display_data"
    },
    {
     "name": "stdout",
     "output_type": "stream",
     "text": [
      "TAR@FAR:\n",
      "    1%: 0.7240\n",
      "  0.1%: 0.2980\n",
      " 0.01%: 0.1480\n",
      "0.001%: 0.1480\n",
      "Accuracy: 0.819, Threshold: 0.7520571947097778\n"
     ]
    }
   ],
   "source": [
    "test_dataset = torchvision.datasets.LFWPairs(\n",
    "    root='./data',\n",
    "    split='test',\n",
    "    download=True,\n",
    "    transform=transforms.Compose([\n",
    "        transforms.CenterCrop(125),\n",
    "        transforms.ToTensor(),\n",
    "        transforms.Normalize(norm_mean,norm_std)\n",
    "    ])\n",
    ")\n",
    "labels,sim_scores = evaluate(model,test_dataset)\n",
    "visualize(labels,sim_scores)"
   ]
  },
  {
   "cell_type": "code",
   "execution_count": 74,
   "id": "7e908a2d",
   "metadata": {},
   "outputs": [
    {
     "name": "stdout",
     "output_type": "stream",
     "text": [
      "Files already downloaded and verified\n",
      "Files already downloaded and verified\n",
      "Files already downloaded and verified\n"
     ]
    }
   ],
   "source": [
    "train_dataset = make_dataset('LFW', split='train', image_size=100, face_detection=False, crop=125)\n",
    "redefine_train_parameters()\n",
    "train_dataset2 = make_dataset('LFW', split='train', image_size=100, face_detection=False, crop=125, random=True)\n",
    "train_dataset = torch.utils.data.ConcatDataset([train_dataset,train_dataset2])\n",
    "test_dataset = make_dataset('LFW', split='test', image_size=100, face_detection=False, crop=125)"
   ]
  },
  {
   "cell_type": "code",
   "execution_count": 75,
   "id": "cf31bf3a",
   "metadata": {},
   "outputs": [
    {
     "name": "stderr",
     "output_type": "stream",
     "text": [
      "100%|█████████████████████████████████████████| 596/596 [00:36<00:00, 16.44it/s]\n",
      "100%|█████████████████████████████████████████| 596/596 [00:35<00:00, 16.61it/s]\n",
      "100%|█████████████████████████████████████████| 596/596 [00:35<00:00, 16.57it/s]\n",
      "100%|█████████████████████████████████████████| 596/596 [00:36<00:00, 16.48it/s]\n",
      "100%|█████████████████████████████████████████| 596/596 [00:36<00:00, 16.48it/s]\n",
      "100%|█████████████████████████████████████████| 596/596 [00:35<00:00, 16.57it/s]\n",
      "100%|█████████████████████████████████████████| 596/596 [00:35<00:00, 16.68it/s]\n",
      "100%|█████████████████████████████████████████| 596/596 [00:36<00:00, 16.44it/s]\n",
      "100%|█████████████████████████████████████████| 596/596 [00:35<00:00, 16.66it/s]\n",
      "100%|█████████████████████████████████████████| 596/596 [00:36<00:00, 16.50it/s]\n",
      "100%|█████████████████████████████████████████| 596/596 [00:35<00:00, 16.58it/s]\n",
      "100%|█████████████████████████████████████████| 596/596 [00:35<00:00, 16.57it/s]\n",
      "100%|█████████████████████████████████████████| 596/596 [00:35<00:00, 16.58it/s]\n",
      "100%|█████████████████████████████████████████| 596/596 [00:35<00:00, 16.66it/s]\n",
      "100%|█████████████████████████████████████████| 596/596 [00:35<00:00, 16.65it/s]\n",
      "100%|█████████████████████████████████████████| 596/596 [00:35<00:00, 16.65it/s]\n",
      "100%|█████████████████████████████████████████| 596/596 [00:35<00:00, 16.63it/s]\n",
      "100%|█████████████████████████████████████████| 596/596 [00:35<00:00, 16.59it/s]\n",
      "100%|█████████████████████████████████████████| 596/596 [00:35<00:00, 16.62it/s]\n",
      "100%|█████████████████████████████████████████| 596/596 [00:35<00:00, 16.59it/s]\n"
     ]
    },
    {
     "name": "stdout",
     "output_type": "stream",
     "text": [
      "Finished Training, Time: 719.0705 Best loss: 6.4548\n"
     ]
    }
   ],
   "source": [
    "name='PA+Crop(125)+Random'\n",
    "model, train_loader, test_loader = train(train_dataset,test_dataset,save_path=f'./saved_models/{name}.ptm')"
   ]
  },
  {
   "cell_type": "code",
   "execution_count": 76,
   "id": "fff65117",
   "metadata": {},
   "outputs": [
    {
     "name": "stdout",
     "output_type": "stream",
     "text": [
      "Files already downloaded and verified\n"
     ]
    },
    {
     "name": "stderr",
     "output_type": "stream",
     "text": [
      "100%|█████████████████████████████████████████| 298/298 [00:09<00:00, 32.86it/s]\n"
     ]
    },
    {
     "name": "stdout",
     "output_type": "stream",
     "text": [
      "R@1 : 66.562\n",
      "R@2 : 66.919\n",
      "R@4 : 67.171\n",
      "R@8 : 67.402\n",
      "R@16 : 67.570\n",
      "R@32 : 67.769\n",
      "Average Recall train_PA+Crop(125)+Random:\n",
      "R@1 : 0.6656167979002625\n",
      "R@2 : 0.6691863517060368\n",
      "R@4 : 0.6717060367454069\n",
      "R@8 : 0.6740157480314961\n",
      "R@16 : 0.6756955380577427\n",
      "R@32 : 0.6776902887139108\n"
     ]
    },
    {
     "name": "stderr",
     "output_type": "stream",
     "text": [
      "100%|█████████████████████████████████████████| 116/116 [00:03<00:00, 33.50it/s]\n"
     ]
    },
    {
     "name": "stdout",
     "output_type": "stream",
     "text": [
      "R@1 : 24.784\n",
      "R@2 : 28.937\n",
      "R@4 : 32.362\n",
      "R@8 : 36.300\n",
      "R@16 : 40.022\n",
      "R@32 : 43.770\n",
      "Average Recall test_PA+Crop(125)+Random:\n",
      "R@1 : 0.24784250269687164\n",
      "R@2 : 0.28937432578209277\n",
      "R@4 : 0.32362459546925565\n",
      "R@8 : 0.3629989212513484\n",
      "R@16 : 0.4002157497303128\n",
      "R@32 : 0.4377022653721683\n"
     ]
    }
   ],
   "source": [
    "train_dataset = make_dataset('LFW', split='train', image_size=100, face_detection=False, crop=125)\n",
    "train_loader = load_dataset(train_dataset, batch_size=32, shuffle=True)\n",
    "save_output(evaluate_cos(model,train_loader),f'train_{name}')\n",
    "r1,r2,r4,r8,r16,r32=load_output()[f'train_{name}']\n",
    "avg_recall(f'train_{name}')\n",
    "save_output(evaluate_cos(model,test_loader),f'test_{name}')\n",
    "r1,r2,r4,r8,r16,r32=load_output()[f'test_{name}']\n",
    "avg_recall(f'test_{name}')"
   ]
  },
  {
   "cell_type": "code",
   "execution_count": null,
   "id": "1b480b4d",
   "metadata": {},
   "outputs": [
    {
     "name": "stdout",
     "output_type": "stream",
     "text": [
      "Files already downloaded and verified\n",
      "Files already downloaded and verified\n",
      "Files already downloaded and verified\n"
     ]
    },
    {
     "name": "stderr",
     "output_type": "stream",
     "text": [
      "100%|█████████████████████████████████████████| 596/596 [01:35<00:00,  6.25it/s]\n",
      "100%|█████████████████████████████████████████| 596/596 [01:35<00:00,  6.26it/s]\n",
      "100%|█████████████████████████████████████████| 596/596 [01:34<00:00,  6.29it/s]\n",
      "100%|█████████████████████████████████████████| 596/596 [01:34<00:00,  6.31it/s]\n",
      "100%|█████████████████████████████████████████| 596/596 [01:33<00:00,  6.35it/s]\n",
      "100%|█████████████████████████████████████████| 596/596 [01:33<00:00,  6.34it/s]\n",
      "100%|█████████████████████████████████████████| 596/596 [01:34<00:00,  6.32it/s]\n",
      "100%|█████████████████████████████████████████| 596/596 [01:34<00:00,  6.31it/s]\n",
      "100%|█████████████████████████████████████████| 596/596 [01:34<00:00,  6.32it/s]\n",
      "100%|█████████████████████████████████████████| 596/596 [01:34<00:00,  6.30it/s]\n",
      "100%|█████████████████████████████████████████| 596/596 [01:34<00:00,  6.30it/s]\n",
      "100%|█████████████████████████████████████████| 596/596 [01:34<00:00,  6.29it/s]\n",
      "100%|█████████████████████████████████████████| 596/596 [01:35<00:00,  6.26it/s]\n",
      " 61%|████████████████████████▉                | 362/596 [00:57<00:37,  6.28it/s]"
     ]
    }
   ],
   "source": [
    "for radius,amount in [(1,1),(1,2),(1,3),(3,1),(3,2),(3,3),(5,1),(5,2),(7,1),(7,2),(10,1),(20,1)]:\n",
    "    train_dataset = make_dataset('LFW', split='train', image_size=100, face_detection=False, crop=125,unsharp=1,unsharp_radius=radius,unsharp_amount=amount)\n",
    "    redefine_train_parameters()\n",
    "    train_dataset2 = make_dataset('LFW', split='train', image_size=100, face_detection=False, crop=125, random=True, unsharp=1,unsharp_radius=radius,unsharp_amount=amount)\n",
    "    train_dataset = torch.utils.data.ConcatDataset([train_dataset,train_dataset2])\n",
    "    test_dataset = make_dataset('LFW', split='test', image_size=100, face_detection=False, crop=125, unsharp=1,unsharp_radius=radius,unsharp_amount=amount)\n",
    "    name=f'PA+Crop(125)+Random+Unsharp(radius={radius},amount={amount})'\n",
    "    model, train_loader, test_loader = train(train_dataset,test_dataset,save_path=f'./saved_models/{name}.ptm')\n",
    "    train_dataset = make_dataset('LFW', split='train', image_size=100, face_detection=False, crop=125,unsharp=1,unsharp_radius=radius,unsharp_amount=amount)\n",
    "    train_loader = load_dataset(train_dataset, batch_size=32, shuffle=True)\n",
    "    save_output(evaluate_cos(model,train_loader),f'train_{name}')\n",
    "    r1,r2,r4,r8,r16,r32=load_output()[f'train_{name}']\n",
    "    avg_recall(f'train_{name}')\n",
    "    save_output(evaluate_cos(model,test_loader),f'test_{name}')\n",
    "    r1,r2,r4,r8,r16,r32=load_output()[f'test_{name}']\n",
    "    avg_recall(f'test_{name}')"
   ]
  },
  {
   "cell_type": "code",
   "execution_count": null,
   "id": "d4d02b98",
   "metadata": {},
   "outputs": [
    {
     "name": "stdout",
     "output_type": "stream",
     "text": [
      "Files already downloaded and verified\n",
      "Files already downloaded and verified\n",
      "Files already downloaded and verified\n"
     ]
    },
    {
     "name": "stderr",
     "output_type": "stream",
     "text": [
      "100%|█████████████████████████████████████████| 596/596 [02:28<00:00,  4.01it/s]\n",
      "100%|█████████████████████████████████████████| 596/596 [02:28<00:00,  4.00it/s]\n",
      "100%|█████████████████████████████████████████| 596/596 [02:28<00:00,  4.01it/s]\n",
      "100%|█████████████████████████████████████████| 596/596 [02:28<00:00,  4.02it/s]\n",
      "100%|█████████████████████████████████████████| 596/596 [02:28<00:00,  4.02it/s]\n",
      "100%|█████████████████████████████████████████| 596/596 [02:28<00:00,  4.02it/s]\n",
      "100%|█████████████████████████████████████████| 596/596 [02:28<00:00,  4.02it/s]\n",
      "100%|█████████████████████████████████████████| 596/596 [02:28<00:00,  4.01it/s]\n",
      "100%|█████████████████████████████████████████| 596/596 [02:28<00:00,  4.00it/s]\n",
      "100%|█████████████████████████████████████████| 596/596 [02:28<00:00,  4.02it/s]\n",
      "100%|█████████████████████████████████████████| 596/596 [02:28<00:00,  4.02it/s]\n",
      "100%|█████████████████████████████████████████| 596/596 [02:28<00:00,  4.02it/s]\n",
      "100%|█████████████████████████████████████████| 596/596 [02:28<00:00,  4.01it/s]\n",
      "100%|█████████████████████████████████████████| 596/596 [02:28<00:00,  4.01it/s]\n",
      "100%|█████████████████████████████████████████| 596/596 [02:28<00:00,  4.02it/s]\n",
      "100%|█████████████████████████████████████████| 596/596 [02:28<00:00,  4.02it/s]\n",
      "100%|█████████████████████████████████████████| 596/596 [02:28<00:00,  4.01it/s]\n",
      "100%|█████████████████████████████████████████| 596/596 [02:28<00:00,  4.01it/s]\n",
      "100%|█████████████████████████████████████████| 596/596 [02:28<00:00,  4.02it/s]\n",
      "100%|█████████████████████████████████████████| 596/596 [02:28<00:00,  4.00it/s]\n"
     ]
    },
    {
     "name": "stdout",
     "output_type": "stream",
     "text": [
      "Finished Training, Time: 2970.3397 Best loss: 6.4474\n",
      "Files already downloaded and verified\n"
     ]
    },
    {
     "name": "stderr",
     "output_type": "stream",
     "text": [
      "100%|█████████████████████████████████████████| 298/298 [01:05<00:00,  4.57it/s]\n"
     ]
    },
    {
     "name": "stdout",
     "output_type": "stream",
     "text": [
      "R@1 : 68.178\n",
      "R@2 : 68.367\n",
      "R@4 : 68.588\n",
      "R@8 : 68.745\n",
      "R@16 : 68.861\n",
      "R@32 : 68.966\n",
      "Average Recall train_PA+Crop(125)+Random+Unsharp(radius=1,amount=1)+MedianHSV(method=v,size=1):\n",
      "R@1 : 0.6817847769028872\n",
      "R@2 : 0.6836745406824147\n",
      "R@4 : 0.6858792650918635\n",
      "R@8 : 0.6874540682414698\n",
      "R@16 : 0.6886089238845144\n",
      "R@32 : 0.6896587926509187\n"
     ]
    },
    {
     "name": "stderr",
     "output_type": "stream",
     "text": [
      "100%|█████████████████████████████████████████| 116/116 [00:25<00:00,  4.55it/s]\n"
     ]
    },
    {
     "name": "stdout",
     "output_type": "stream",
     "text": [
      "R@1 : 27.913\n",
      "R@2 : 31.769\n",
      "R@4 : 35.275\n",
      "R@8 : 38.808\n",
      "R@16 : 41.775\n",
      "R@32 : 44.930\n",
      "Average Recall test_PA+Crop(125)+Random+Unsharp(radius=1,amount=1)+MedianHSV(method=v,size=1):\n",
      "R@1 : 0.279126213592233\n",
      "R@2 : 0.31769147788565266\n",
      "R@4 : 0.35275080906148865\n",
      "R@8 : 0.38807982740021574\n",
      "R@16 : 0.41774541531823084\n",
      "R@32 : 0.44929881337648325\n",
      "Files already downloaded and verified\n",
      "Files already downloaded and verified\n",
      "Files already downloaded and verified\n"
     ]
    },
    {
     "name": "stderr",
     "output_type": "stream",
     "text": [
      "100%|█████████████████████████████████████████| 596/596 [02:46<00:00,  3.59it/s]\n",
      "100%|█████████████████████████████████████████| 596/596 [02:46<00:00,  3.59it/s]\n",
      "100%|█████████████████████████████████████████| 596/596 [02:45<00:00,  3.59it/s]\n",
      " 29%|███████████▊                             | 172/596 [00:48<01:57,  3.62it/s]"
     ]
    }
   ],
   "source": [
    "for size in [1,3,5,7,9]:\n",
    "    train_dataset = make_dataset('LFW', split='train', image_size=100, face_detection=False, crop=125,unsharp=1,unsharp_radius=1,unsharp_amount=1,median_hsv=1,median_hsv_method='v',median_hsv_size=size)\n",
    "    redefine_train_parameters()\n",
    "    train_dataset2 = make_dataset('LFW', split='train', image_size=100, face_detection=False, crop=125, random=True, unsharp=1,unsharp_radius=1,unsharp_amount=1,median_hsv=1,median_hsv_method='v',median_hsv_size=size)\n",
    "    train_dataset = torch.utils.data.ConcatDataset([train_dataset,train_dataset2])\n",
    "    test_dataset = make_dataset('LFW', split='test', image_size=100, face_detection=False, crop=125, unsharp=1,unsharp_radius=1,unsharp_amount=1,median_hsv=1,median_hsv_method='v',median_hsv_size=size)\n",
    "    name=f'PA+Crop(125)+Random+Unsharp(radius=1,amount=1)+MedianHSV(method=v,size={size})'\n",
    "    model, train_loader, test_loader = train(train_dataset,test_dataset,save_path=f'./saved_models/{name}.ptm')\n",
    "    train_dataset = make_dataset('LFW', split='train', image_size=100, face_detection=False, crop=125,unsharp=1,unsharp_radius=1,unsharp_amount=1,median_hsv=1,median_hsv_method='v',median_hsv_size=size)\n",
    "    train_loader = load_dataset(train_dataset, batch_size=32, shuffle=True)\n",
    "    save_output(evaluate_cos(model,train_loader),f'train_{name}')\n",
    "    r1,r2,r4,r8,r16,r32=load_output()[f'train_{name}']\n",
    "    avg_recall(f'train_{name}')\n",
    "    save_output(evaluate_cos(model,test_loader),f'test_{name}')\n",
    "    r1,r2,r4,r8,r16,r32=load_output()[f'test_{name}']\n",
    "    avg_recall(f'test_{name}')"
   ]
  },
  {
   "cell_type": "code",
   "execution_count": null,
   "id": "ed51f851",
   "metadata": {},
   "outputs": [
    {
     "name": "stdout",
     "output_type": "stream",
     "text": [
      "Files already downloaded and verified\n",
      "Files already downloaded and verified\n",
      "Files already downloaded and verified\n"
     ]
    },
    {
     "name": "stderr",
     "output_type": "stream",
     "text": [
      " 21%|████████▊                                | 128/596 [02:17<08:21,  1.07s/it]"
     ]
    }
   ],
   "source": [
    "train_dataset = make_dataset('LFW', split='train', image_size=100, face_detection=1,unsharp=1,unsharp_radius=1,unsharp_amount=1)\n",
    "redefine_train_parameters()\n",
    "train_dataset2 = make_dataset('LFW', split='train', image_size=100, face_detection=1, random=True, unsharp=1,unsharp_radius=1,unsharp_amount=1)\n",
    "train_dataset = torch.utils.data.ConcatDataset([train_dataset,train_dataset2])\n",
    "test_dataset = make_dataset('LFW', split='test', image_size=100, face_detection=1, unsharp=1,unsharp_radius=1,unsharp_amount=1)\n",
    "name=f'PA+FaceDetection+Random+Unsharp(radius=1,amount=1)'\n",
    "model, train_loader, test_loader = train(train_dataset,test_dataset,save_path=f'./saved_models/{name}.ptm')\n",
    "train_dataset = make_dataset('LFW', split='train', image_size=100, mtcnn=1,unsharp=1,unsharp_radius=1,unsharp_amount=1)\n",
    "train_loader = load_dataset(train_dataset, batch_size=32, shuffle=True)\n",
    "save_output(evaluate_cos(model,train_loader),f'train_{name}')\n",
    "r1,r2,r4,r8,r16,r32=load_output()[f'train_{name}']\n",
    "avg_recall(f'train_{name}')\n",
    "save_output(evaluate_cos(model,test_loader),f'test_{name}')\n",
    "r1,r2,r4,r8,r16,r32=load_output()[f'test_{name}']\n",
    "avg_recall(f'test_{name}')"
   ]
  },
  {
   "cell_type": "code",
   "execution_count": 88,
   "id": "a2bd098c",
   "metadata": {},
   "outputs": [
    {
     "name": "stdout",
     "output_type": "stream",
     "text": [
      "Files already downloaded and verified\n",
      "Files already downloaded and verified\n",
      "Files already downloaded and verified\n"
     ]
    }
   ],
   "source": [
    "train_dataset = make_dataset('LFW', split='train', image_size=100, face_detection=False, crop=125,unsharp=1,autocontrast=1)\n",
    "redefine_train_parameters()\n",
    "train_dataset2 = make_dataset('LFW', split='train', image_size=100, face_detection=False, crop=125, random=True,autocontrast=1)\n",
    "train_dataset = torch.utils.data.ConcatDataset([train_dataset,train_dataset2])\n",
    "test_dataset = make_dataset('LFW', split='test', image_size=100, face_detection=False, crop=125, unsharp=1,autocontrast=1)"
   ]
  },
  {
   "cell_type": "code",
   "execution_count": 89,
   "id": "1009372b",
   "metadata": {},
   "outputs": [
    {
     "name": "stderr",
     "output_type": "stream",
     "text": [
      "100%|█████████████████████████████████████████| 596/596 [01:22<00:00,  7.19it/s]\n",
      "100%|█████████████████████████████████████████| 596/596 [01:22<00:00,  7.24it/s]\n",
      "100%|█████████████████████████████████████████| 596/596 [01:22<00:00,  7.24it/s]\n",
      "100%|█████████████████████████████████████████| 596/596 [01:22<00:00,  7.25it/s]\n",
      "100%|█████████████████████████████████████████| 596/596 [01:22<00:00,  7.27it/s]\n",
      "100%|█████████████████████████████████████████| 596/596 [01:22<00:00,  7.26it/s]\n",
      "100%|█████████████████████████████████████████| 596/596 [01:22<00:00,  7.25it/s]\n",
      "100%|█████████████████████████████████████████| 596/596 [01:22<00:00,  7.24it/s]\n",
      "100%|█████████████████████████████████████████| 596/596 [01:21<00:00,  7.27it/s]\n",
      "100%|█████████████████████████████████████████| 596/596 [01:22<00:00,  7.27it/s]\n",
      "100%|█████████████████████████████████████████| 596/596 [01:21<00:00,  7.27it/s]\n",
      "100%|█████████████████████████████████████████| 596/596 [01:21<00:00,  7.28it/s]\n",
      "100%|█████████████████████████████████████████| 596/596 [01:21<00:00,  7.27it/s]\n",
      "100%|█████████████████████████████████████████| 596/596 [01:22<00:00,  7.27it/s]\n",
      "100%|█████████████████████████████████████████| 596/596 [01:22<00:00,  7.24it/s]\n",
      "100%|█████████████████████████████████████████| 596/596 [01:22<00:00,  7.26it/s]\n",
      "100%|█████████████████████████████████████████| 596/596 [01:22<00:00,  7.26it/s]\n",
      "100%|█████████████████████████████████████████| 596/596 [01:22<00:00,  7.26it/s]\n",
      "100%|█████████████████████████████████████████| 596/596 [01:22<00:00,  7.25it/s]\n",
      "100%|█████████████████████████████████████████| 596/596 [01:22<00:00,  7.24it/s]\n"
     ]
    },
    {
     "name": "stdout",
     "output_type": "stream",
     "text": [
      "Finished Training, Time: 1643.3649 Best loss: 6.4609\n"
     ]
    }
   ],
   "source": [
    "name='PA+Crop(125)+Random+AutoContrast+Unsharp(radius=20,amount=1)'\n",
    "model, train_loader, test_loader = train(train_dataset,test_dataset,save_path=f'./saved_models/{name}.ptm')"
   ]
  },
  {
   "cell_type": "code",
   "execution_count": 90,
   "id": "413f8ce6",
   "metadata": {},
   "outputs": [
    {
     "name": "stdout",
     "output_type": "stream",
     "text": [
      "Files already downloaded and verified\n"
     ]
    },
    {
     "name": "stderr",
     "output_type": "stream",
     "text": [
      "100%|█████████████████████████████████████████| 298/298 [00:52<00:00,  5.69it/s]\n"
     ]
    },
    {
     "name": "stdout",
     "output_type": "stream",
     "text": [
      "R@1 : 66.730\n",
      "R@2 : 67.349\n",
      "R@4 : 67.675\n",
      "R@8 : 67.811\n",
      "R@16 : 68.094\n",
      "R@32 : 68.430\n",
      "Average Recall train_PA+Crop(125)+Random+AutoContrast+Unsharp(radius=20,amount=1):\n",
      "R@1 : 0.6672965879265091\n",
      "R@2 : 0.673490813648294\n",
      "R@4 : 0.676745406824147\n",
      "R@8 : 0.6781102362204724\n",
      "R@16 : 0.6809448818897638\n",
      "R@32 : 0.6843044619422572\n"
     ]
    },
    {
     "name": "stderr",
     "output_type": "stream",
     "text": [
      "100%|█████████████████████████████████████████| 116/116 [00:20<00:00,  5.65it/s]\n"
     ]
    },
    {
     "name": "stdout",
     "output_type": "stream",
     "text": [
      "R@1 : 24.784\n",
      "R@2 : 28.344\n",
      "R@4 : 31.769\n",
      "R@8 : 35.059\n",
      "R@16 : 38.835\n",
      "R@32 : 42.665\n",
      "Average Recall test_PA+Crop(125)+Random+AutoContrast+Unsharp(radius=20,amount=1):\n",
      "R@1 : 0.24784250269687164\n",
      "R@2 : 0.2834412081984897\n",
      "R@4 : 0.31769147788565266\n",
      "R@8 : 0.3505933117583603\n",
      "R@16 : 0.3883495145631068\n",
      "R@32 : 0.4266450916936354\n"
     ]
    }
   ],
   "source": [
    "train_dataset = make_dataset('LFW', split='train', image_size=100, face_detection=False, crop=125,unsharp=1,autocontrast=1)\n",
    "train_loader = load_dataset(train_dataset, batch_size=32, shuffle=True)\n",
    "save_output(evaluate_cos(model,train_loader),f'train_{name}')\n",
    "r1,r2,r4,r8,r16,r32=load_output()[f'train_{name}']\n",
    "avg_recall(f'train_{name}')\n",
    "save_output(evaluate_cos(model,test_loader),f'test_{name}')\n",
    "r1,r2,r4,r8,r16,r32=load_output()[f'test_{name}']\n",
    "avg_recall(f'test_{name}')"
   ]
  },
  {
   "cell_type": "code",
   "execution_count": 10,
   "id": "dd5fc31e",
   "metadata": {},
   "outputs": [
    {
     "name": "stdout",
     "output_type": "stream",
     "text": [
      "Files already downloaded and verified\n",
      "Files already downloaded and verified\n"
     ]
    }
   ],
   "source": [
    "train_dataset = make_dataset('LFW', split='train', image_size=100, face_detection=False)\n",
    "test_dataset = make_dataset('LFW', split='test', image_size=100, face_detection=False)\n",
    "redefine_train_parameters()"
   ]
  },
  {
   "cell_type": "code",
   "execution_count": 11,
   "id": "43ae26f6",
   "metadata": {},
   "outputs": [
    {
     "name": "stderr",
     "output_type": "stream",
     "text": [
      "100%|█████████████████████████████████████████| 297/297 [00:12<00:00, 23.70it/s]\n",
      "100%|█████████████████████████████████████████| 297/297 [00:12<00:00, 24.02it/s]\n",
      "100%|█████████████████████████████████████████| 297/297 [00:12<00:00, 23.43it/s]\n",
      "100%|█████████████████████████████████████████| 297/297 [00:13<00:00, 21.52it/s]\n",
      "100%|█████████████████████████████████████████| 297/297 [00:13<00:00, 22.24it/s]\n",
      "100%|█████████████████████████████████████████| 297/297 [00:13<00:00, 21.60it/s]\n",
      "100%|█████████████████████████████████████████| 297/297 [00:13<00:00, 22.13it/s]\n",
      "100%|█████████████████████████████████████████| 297/297 [00:13<00:00, 21.88it/s]\n",
      "100%|█████████████████████████████████████████| 297/297 [00:13<00:00, 21.61it/s]\n",
      "100%|█████████████████████████████████████████| 297/297 [00:13<00:00, 21.82it/s]\n",
      "100%|█████████████████████████████████████████| 297/297 [00:13<00:00, 22.45it/s]\n",
      "100%|█████████████████████████████████████████| 297/297 [00:13<00:00, 21.72it/s]\n",
      "100%|█████████████████████████████████████████| 297/297 [00:13<00:00, 21.83it/s]\n",
      "100%|█████████████████████████████████████████| 297/297 [00:13<00:00, 21.99it/s]\n",
      "100%|█████████████████████████████████████████| 297/297 [00:13<00:00, 21.97it/s]\n",
      "100%|█████████████████████████████████████████| 297/297 [00:12<00:00, 23.92it/s]\n",
      "100%|█████████████████████████████████████████| 297/297 [00:12<00:00, 24.25it/s]\n",
      "100%|█████████████████████████████████████████| 297/297 [00:12<00:00, 23.63it/s]\n",
      "100%|█████████████████████████████████████████| 297/297 [00:13<00:00, 22.09it/s]\n",
      "100%|█████████████████████████████████████████| 297/297 [00:13<00:00, 21.79it/s]\n"
     ]
    },
    {
     "name": "stdout",
     "output_type": "stream",
     "text": [
      "Finished Training, Time: 264.7282 Best loss: nan\n"
     ]
    }
   ],
   "source": [
    "name='PFE'\n",
    "model, train_loader, test_loader = train(train_dataset,test_dataset,save_path=f'./saved_models/{name}.ptm', optimizer='sgd', model_name='pfe', loss_func_name='mutual_likelihood_score', drop_last=True)"
   ]
  },
  {
   "cell_type": "code",
   "execution_count": 12,
   "id": "dcaf7e84",
   "metadata": {
    "scrolled": true
   },
   "outputs": [
    {
     "name": "stderr",
     "output_type": "stream",
     "text": [
      "100%|█████████████████████████████████████████| 297/297 [00:10<00:00, 27.48it/s]\n"
     ]
    },
    {
     "name": "stdout",
     "output_type": "stream",
     "text": [
      "R@1 : 7.092\n",
      "R@2 : 9.954\n",
      "R@4 : 13.794\n",
      "R@8 : 18.224\n",
      "R@16 : 22.980\n",
      "R@32 : 27.946\n",
      "Average Recall train_PFE:\n",
      "R@1 : 0.07091750841750842\n",
      "R@2 : 0.09953703703703703\n",
      "R@4 : 0.1379419191919192\n",
      "R@8 : 0.18223905723905723\n",
      "R@16 : 0.2297979797979798\n",
      "R@32 : 0.27946127946127947\n"
     ]
    },
    {
     "name": "stderr",
     "output_type": "stream",
     "text": [
      "100%|█████████████████████████████████████████| 115/115 [00:04<00:00, 27.84it/s]\n"
     ]
    },
    {
     "name": "stdout",
     "output_type": "stream",
     "text": [
      "R@1 : 8.016\n",
      "R@2 : 11.060\n",
      "R@4 : 14.864\n",
      "R@8 : 19.321\n",
      "R@16 : 24.701\n",
      "R@32 : 30.978\n",
      "Average Recall test_PFE:\n",
      "R@1 : 0.08016304347826086\n",
      "R@2 : 0.11059782608695652\n",
      "R@4 : 0.14864130434782608\n",
      "R@8 : 0.19320652173913044\n",
      "R@16 : 0.2470108695652174\n",
      "R@32 : 0.30978260869565216\n"
     ]
    }
   ],
   "source": [
    "save_output(evaluate_cos(model,train_loader),f'train_{name}')\n",
    "r1,r2,r4,r8,r16,r32=load_output()[f'train_{name}']\n",
    "avg_recall(f'train_{name}')\n",
    "save_output(evaluate_cos(model,test_loader),f'test_{name}')\n",
    "r1,r2,r4,r8,r16,r32=load_output()[f'test_{name}']\n",
    "avg_recall(f'test_{name}')"
   ]
  },
  {
   "cell_type": "code",
   "execution_count": 25,
   "id": "708ca4c1",
   "metadata": {},
   "outputs": [
    {
     "name": "stdout",
     "output_type": "stream",
     "text": [
      "Files already downloaded and verified\n",
      "Files already downloaded and verified\n",
      "Files already downloaded and verified\n"
     ]
    }
   ],
   "source": [
    "train_dataset = make_dataset('LFW', split='train', image_size=100, face_detection=False, random=True)\n",
    "redefine_train_parameters()\n",
    "train_dataset2 = make_dataset('LFW', split='train', image_size=100, face_detection=False)\n",
    "train_dataset = torch.utils.data.ConcatDataset([train_dataset,train_dataset2])\n",
    "test_dataset = make_dataset('LFW', split='test', image_size=100, face_detection=False)"
   ]
  },
  {
   "cell_type": "code",
   "execution_count": null,
   "id": "9ed907cd",
   "metadata": {},
   "outputs": [
    {
     "name": "stderr",
     "output_type": "stream",
     "text": [
      "100%|█████████████████████████████████████████| 595/595 [00:39<00:00, 14.88it/s]\n",
      "100%|█████████████████████████████████████████| 595/595 [00:40<00:00, 14.68it/s]\n",
      " 66%|███████████████████████████▏             | 394/595 [00:26<00:13, 14.94it/s]"
     ]
    }
   ],
   "source": [
    "name='PFE+Random'\n",
    "model, train_loader, test_loader = train(train_dataset,test_dataset,save_path=f'./saved_models/{name}.ptm', optimizer='sgd', model_name='pfe', loss_func_name='mutual_likelihood_score', drop_last=True)"
   ]
  },
  {
   "cell_type": "code",
   "execution_count": 29,
   "id": "99260c6b",
   "metadata": {
    "scrolled": true
   },
   "outputs": [
    {
     "name": "stdout",
     "output_type": "stream",
     "text": [
      "Files already downloaded and verified\n",
      "Average Recall train_PFE+Random:\n",
      "R@1 : 0.07338582677165355\n",
      "R@2 : 0.10656167979002625\n",
      "R@4 : 0.14761154855643044\n",
      "R@8 : 0.19034120734908136\n",
      "R@16 : 0.23748031496062993\n",
      "R@32 : 0.29039370078740157\n",
      "Average Recall test_PFE+Random:\n",
      "R@1 : 0.08396739130434783\n",
      "R@2 : 0.11875\n",
      "R@4 : 0.15815217391304348\n",
      "R@8 : 0.2\n",
      "R@16 : 0.25516304347826085\n",
      "R@32 : 0.3095108695652174\n"
     ]
    }
   ],
   "source": [
    "name='PFE+Random'\n",
    "model = torch.load(f'./saved_models/{name}.ptm')\n",
    "train_dataset = make_dataset('LFW', split='train', image_size=100, face_detection=False)\n",
    "train_loader = load_dataset(train_dataset, batch_size=32, shuffle=True)\n",
    "test_loader = load_dataset(test_dataset, batch_size=32, shuffle=False)\n",
    "save_output(evaluate_cos(model,train_loader),f'train_{name}')\n",
    "r1,r2,r4,r8,r16,r32=load_output()[f'train_{name}']\n",
    "avg_recall(f'train_{name}')\n",
    "save_output(evaluate_cos(model,test_loader),f'test_{name}')\n",
    "r1,r2,r4,r8,r16,r32=load_output()[f'test_{name}']\n",
    "avg_recall(f'test_{name}')"
   ]
  },
  {
   "cell_type": "code",
   "execution_count": 7,
   "id": "944c4c5d",
   "metadata": {},
   "outputs": [
    {
     "name": "stdout",
     "output_type": "stream",
     "text": [
      "Files already downloaded and verified\n",
      "Files already downloaded and verified\n",
      "Files already downloaded and verified\n"
     ]
    }
   ],
   "source": [
    "train_dataset = make_dataset('LFW', split='train', image_size=100, face_detection=False, crop=125, autocontrast=True, median_unsharp=True, median_unsharp_size=1, median_unsharp_amount=1, median_hsv=True, median_hsv_method='sv', median_hsv_size=3, random=True)\n",
    "redefine_train_parameters()\n",
    "train_dataset2 = make_dataset('LFW', split='train', image_size=100, face_detection=False, crop=125, autocontrast=True, median_unsharp=True, median_unsharp_size=1, median_unsharp_amount=1, median_hsv=True, median_hsv_method='sv', median_hsv_size=3)\n",
    "train_dataset = torch.utils.data.ConcatDataset([train_dataset,train_dataset2])\n",
    "test_dataset  = make_dataset('LFW', split='test',  image_size=100, face_detection=False, crop=125, autocontrast=True, median_unsharp=True, median_unsharp_size=1, median_unsharp_amount=1, median_hsv=True, median_hsv_method='sv', median_hsv_size=3)"
   ]
  },
  {
   "cell_type": "code",
   "execution_count": 14,
   "id": "cc58cd2b",
   "metadata": {},
   "outputs": [
    {
     "name": "stderr",
     "output_type": "stream",
     "text": [
      "100%|█████████████████████████████████████████| 596/596 [03:31<00:00,  2.82it/s]\n",
      "100%|█████████████████████████████████████████| 596/596 [03:30<00:00,  2.83it/s]\n",
      "100%|█████████████████████████████████████████| 596/596 [03:32<00:00,  2.81it/s]\n",
      "100%|█████████████████████████████████████████| 596/596 [03:32<00:00,  2.81it/s]\n",
      "100%|█████████████████████████████████████████| 596/596 [03:33<00:00,  2.80it/s]\n",
      "100%|█████████████████████████████████████████| 596/596 [03:30<00:00,  2.83it/s]\n",
      "100%|█████████████████████████████████████████| 596/596 [03:31<00:00,  2.82it/s]\n",
      "100%|█████████████████████████████████████████| 596/596 [03:30<00:00,  2.83it/s]\n",
      "100%|█████████████████████████████████████████| 596/596 [03:29<00:00,  2.85it/s]\n",
      "100%|█████████████████████████████████████████| 596/596 [03:31<00:00,  2.82it/s]\n",
      "100%|█████████████████████████████████████████| 596/596 [03:29<00:00,  2.85it/s]\n",
      "100%|█████████████████████████████████████████| 596/596 [03:28<00:00,  2.85it/s]\n",
      "100%|█████████████████████████████████████████| 596/596 [03:30<00:00,  2.83it/s]\n",
      "100%|█████████████████████████████████████████| 596/596 [03:31<00:00,  2.82it/s]\n",
      "100%|█████████████████████████████████████████| 596/596 [03:28<00:00,  2.86it/s]\n",
      "100%|█████████████████████████████████████████| 596/596 [03:35<00:00,  2.77it/s]\n",
      "100%|█████████████████████████████████████████| 596/596 [03:34<00:00,  2.78it/s]\n",
      "100%|█████████████████████████████████████████| 596/596 [03:33<00:00,  2.79it/s]\n",
      "100%|█████████████████████████████████████████| 596/596 [03:34<00:00,  2.78it/s]\n",
      "100%|█████████████████████████████████████████| 596/596 [03:33<00:00,  2.79it/s]\n"
     ]
    },
    {
     "name": "stdout",
     "output_type": "stream",
     "text": [
      "Finished Training, Time: 4231.4121 Best loss: 6.4288\n"
     ]
    }
   ],
   "source": [
    "name='PA+Crop(125)+Random+AutoContrast+MedianUnsharp(size=1,amount=1)+MedianHSV(method=sv,size=3)'\n",
    "model, train_loader, test_loader = train(train_dataset,test_dataset, save_path=f'./saved_models/{name}.ptm')"
   ]
  },
  {
   "cell_type": "code",
   "execution_count": 9,
   "id": "b58f59f1",
   "metadata": {},
   "outputs": [
    {
     "name": "stdout",
     "output_type": "stream",
     "text": [
      "Files already downloaded and verified\n"
     ]
    },
    {
     "name": "stderr",
     "output_type": "stream",
     "text": [
      "100%|█████████████████████████████████████████| 298/298 [01:35<00:00,  3.12it/s]\n"
     ]
    },
    {
     "name": "stdout",
     "output_type": "stream",
     "text": [
      "R@1 : 69.543\n",
      "R@2 : 69.711\n",
      "R@4 : 69.774\n",
      "R@8 : 69.827\n",
      "R@16 : 69.858\n",
      "R@32 : 69.869\n",
      "Average Recall train_PA+Crop(125)+Random+AutoContrast+MedianUnsharp(size=1,amount=1)+MedianHSV(method=sv,size=3):\n",
      "R@1 : 0.6954330708661417\n",
      "R@2 : 0.6971128608923884\n",
      "R@4 : 0.697742782152231\n",
      "R@8 : 0.6982677165354331\n",
      "R@16 : 0.6985826771653544\n",
      "R@32 : 0.6986876640419948\n"
     ]
    },
    {
     "name": "stderr",
     "output_type": "stream",
     "text": [
      "100%|█████████████████████████████████████████| 116/116 [00:37<00:00,  3.12it/s]\n"
     ]
    },
    {
     "name": "stdout",
     "output_type": "stream",
     "text": [
      "R@1 : 24.838\n",
      "R@2 : 27.859\n",
      "R@4 : 31.203\n",
      "R@8 : 34.466\n",
      "R@16 : 38.457\n",
      "R@32 : 42.530\n",
      "Average Recall test_PA+Crop(125)+Random+AutoContrast+MedianUnsharp(size=1,amount=1)+MedianHSV(method=sv,size=3):\n",
      "R@1 : 0.2483818770226537\n",
      "R@2 : 0.2785868392664509\n",
      "R@4 : 0.31202804746494067\n",
      "R@8 : 0.3446601941747573\n",
      "R@16 : 0.38457389428263217\n",
      "R@32 : 0.42529665587918014\n"
     ]
    }
   ],
   "source": [
    "train_dataset = make_dataset('LFW', split='train', image_size=100, face_detection=False, crop=125, autocontrast=True, median_unsharp=True, median_unsharp_size=1, median_unsharp_amount=1, median_hsv=True, median_hsv_method='sv', median_hsv_size=3)\n",
    "name='PA+Crop(125)+Random+AutoContrast+MedianUnsharp(size=1,amount=1)+MedianHSV(method=sv,size=3)'\n",
    "model = torch.load(f'./saved_models/{name}.ptm')\n",
    "train_loader = load_dataset(train_dataset, batch_size=32, shuffle=True)\n",
    "test_loader = load_dataset(test_dataset, batch_size=32, shuffle=False)\n",
    "save_output(evaluate_cos(model,train_loader),f'train_{name}')\n",
    "r1,r2,r4,r8,r16,r32=load_output()[f'train_{name}']\n",
    "avg_recall(f'train_{name}')\n",
    "save_output(evaluate_cos(model,test_loader),f'test_{name}')\n",
    "r1,r2,r4,r8,r16,r32=load_output()[f'test_{name}']\n",
    "avg_recall(f'test_{name}')"
   ]
  },
  {
   "cell_type": "code",
   "execution_count": 71,
   "id": "efe48eca",
   "metadata": {},
   "outputs": [
    {
     "name": "stdout",
     "output_type": "stream",
     "text": [
      "Files already downloaded and verified\n",
      "Files already downloaded and verified\n",
      "Files already downloaded and verified\n"
     ]
    }
   ],
   "source": [
    "train_dataset = make_dataset('LFW', split='train', image_size=100, face_detection=False, crop=125, autocontrast=True, median_unsharp=True, median_unsharp_size=5, median_unsharp_amount=1, median_hsv=True, median_hsv_method='sv', median_hsv_size=3, random=True)\n",
    "redefine_train_parameters()\n",
    "train_dataset2 = make_dataset('LFW', split='train', image_size=100, face_detection=False, crop=125, autocontrast=True, median_unsharp=True, median_unsharp_size=5, median_unsharp_amount=1, median_hsv=True, median_hsv_method='sv', median_hsv_size=3)\n",
    "train_dataset = torch.utils.data.ConcatDataset([train_dataset,train_dataset2])\n",
    "test_dataset  = make_dataset('LFW', split='test',  image_size=100, face_detection=False, crop=125, autocontrast=True, median_unsharp=True, median_unsharp_size=5, median_unsharp_amount=1, median_hsv=True, median_hsv_method='sv', median_hsv_size=3)"
   ]
  },
  {
   "cell_type": "code",
   "execution_count": 72,
   "id": "3533bd42",
   "metadata": {},
   "outputs": [
    {
     "name": "stderr",
     "output_type": "stream",
     "text": [
      "100%|█████████████████████████████████████████| 596/596 [04:31<00:00,  2.19it/s]\n",
      "100%|█████████████████████████████████████████| 596/596 [04:30<00:00,  2.20it/s]\n",
      "100%|█████████████████████████████████████████| 596/596 [04:30<00:00,  2.20it/s]\n",
      "100%|█████████████████████████████████████████| 596/596 [04:30<00:00,  2.20it/s]\n",
      "100%|█████████████████████████████████████████| 596/596 [04:30<00:00,  2.21it/s]\n",
      "100%|█████████████████████████████████████████| 596/596 [04:30<00:00,  2.21it/s]\n",
      "100%|█████████████████████████████████████████| 596/596 [04:30<00:00,  2.20it/s]\n",
      "100%|█████████████████████████████████████████| 596/596 [04:30<00:00,  2.21it/s]\n",
      "100%|█████████████████████████████████████████| 596/596 [04:30<00:00,  2.20it/s]\n",
      "100%|█████████████████████████████████████████| 596/596 [04:30<00:00,  2.20it/s]\n",
      "100%|█████████████████████████████████████████| 596/596 [04:31<00:00,  2.20it/s]\n",
      "100%|█████████████████████████████████████████| 596/596 [04:30<00:00,  2.20it/s]\n",
      "100%|█████████████████████████████████████████| 596/596 [04:31<00:00,  2.20it/s]\n",
      "100%|█████████████████████████████████████████| 596/596 [04:30<00:00,  2.20it/s]\n",
      "100%|█████████████████████████████████████████| 596/596 [04:29<00:00,  2.21it/s]\n",
      "100%|█████████████████████████████████████████| 596/596 [04:30<00:00,  2.20it/s]\n",
      "100%|█████████████████████████████████████████| 596/596 [04:30<00:00,  2.20it/s]\n",
      "100%|█████████████████████████████████████████| 596/596 [04:30<00:00,  2.20it/s]\n",
      "100%|█████████████████████████████████████████| 596/596 [04:30<00:00,  2.20it/s]\n"
     ]
    },
    {
     "name": "stdout",
     "output_type": "stream",
     "text": [
      "Finished Training, Time: 5413.2616 Best loss: 6.4355\n"
     ]
    }
   ],
   "source": [
    "name='PA+Crop(125)+Random+AutoContrast+MedianUnsharp(size=5,amount=1)+MedianHSV(method=sv,size=3)'\n",
    "model, train_loader, test_loader = train(train_dataset,test_dataset, save_path=f'./saved_models/{name}.ptm')"
   ]
  },
  {
   "cell_type": "code",
   "execution_count": 73,
   "id": "903fc1a0",
   "metadata": {},
   "outputs": [
    {
     "name": "stdout",
     "output_type": "stream",
     "text": [
      "Files already downloaded and verified\n"
     ]
    },
    {
     "name": "stderr",
     "output_type": "stream",
     "text": [
      "100%|█████████████████████████████████████████| 298/298 [02:07<00:00,  2.34it/s]\n"
     ]
    },
    {
     "name": "stdout",
     "output_type": "stream",
     "text": [
      "R@1 : 69.081\n",
      "R@2 : 69.239\n",
      "R@4 : 69.396\n",
      "R@8 : 69.512\n",
      "R@16 : 69.638\n",
      "R@32 : 69.743\n",
      "Average Recall train_PA+Crop(125)+Random+AutoContrast+MedianUnsharp(size=5,amount=1)+MedianHSV(method=sv,size=3):\n",
      "R@1 : 0.6908136482939633\n",
      "R@2 : 0.6923884514435695\n",
      "R@4 : 0.6939632545931759\n",
      "R@8 : 0.6951181102362205\n",
      "R@16 : 0.6963779527559055\n",
      "R@32 : 0.6974278215223098\n"
     ]
    },
    {
     "name": "stderr",
     "output_type": "stream",
     "text": [
      "100%|█████████████████████████████████████████| 116/116 [00:49<00:00,  2.33it/s]\n"
     ]
    },
    {
     "name": "stdout",
     "output_type": "stream",
     "text": [
      "R@1 : 25.755\n",
      "R@2 : 29.234\n",
      "R@4 : 32.524\n",
      "R@8 : 36.003\n",
      "R@16 : 39.725\n",
      "R@32 : 43.042\n",
      "Average Recall test_PA+Crop(125)+Random+AutoContrast+MedianUnsharp(size=5,amount=1)+MedianHSV(method=sv,size=3):\n",
      "R@1 : 0.2575512405609493\n",
      "R@2 : 0.2923408845738943\n",
      "R@4 : 0.32524271844660196\n",
      "R@8 : 0.36003236245954695\n",
      "R@16 : 0.39724919093851135\n",
      "R@32 : 0.43042071197411\n"
     ]
    }
   ],
   "source": [
    "train_dataset = make_dataset('LFW', split='train', image_size=100, face_detection=False, crop=125, autocontrast=True, median_unsharp=True, median_unsharp_size=5, median_unsharp_amount=1, median_hsv=True, median_hsv_method='sv', median_hsv_size=3)\n",
    "name='PA+Crop(125)+Random+AutoContrast+MedianUnsharp(size=5,amount=1)+MedianHSV(method=sv,size=3)'\n",
    "model = torch.load(f'./saved_models/{name}.ptm')\n",
    "train_loader = load_dataset(train_dataset, batch_size=32, shuffle=True)\n",
    "test_loader = load_dataset(test_dataset, batch_size=32, shuffle=False)\n",
    "save_output(evaluate_cos(model,train_loader),f'train_{name}')\n",
    "r1,r2,r4,r8,r16,r32=load_output()[f'train_{name}']\n",
    "avg_recall(f'train_{name}')\n",
    "save_output(evaluate_cos(model,test_loader),f'test_{name}')\n",
    "r1,r2,r4,r8,r16,r32=load_output()[f'test_{name}']\n",
    "avg_recall(f'test_{name}')"
   ]
  },
  {
   "cell_type": "code",
   "execution_count": 10,
   "id": "f2b63887",
   "metadata": {},
   "outputs": [
    {
     "name": "stdout",
     "output_type": "stream",
     "text": [
      "Files already downloaded and verified\n",
      "Files already downloaded and verified\n",
      "Files already downloaded and verified\n"
     ]
    }
   ],
   "source": [
    "train_dataset = make_dataset('LFW', split='train', image_size=100, face_detection=False, crop=125, autocontrast=True, median_unsharp=True, median_unsharp_size=1, median_unsharp_amount=1, median_hsv=True, median_hsv_method='sv', median_hsv_size=3, random=True)\n",
    "redefine_train_parameters()\n",
    "train_dataset2 = make_dataset('LFW', split='train', image_size=100, face_detection=False, crop=125, autocontrast=True, median_unsharp=True, median_unsharp_size=1, median_unsharp_amount=1, median_hsv=True, median_hsv_method='sv', median_hsv_size=3)\n",
    "train_dataset = torch.utils.data.ConcatDataset([train_dataset,train_dataset2])\n",
    "test_dataset  = make_dataset('LFW', split='test',  image_size=100, face_detection=False, crop=125, autocontrast=True, median_unsharp=True, median_unsharp_size=1, median_unsharp_amount=1, median_hsv=True, median_hsv_method='sv', median_hsv_size=3)"
   ]
  },
  {
   "cell_type": "code",
   "execution_count": null,
   "id": "f6852583",
   "metadata": {},
   "outputs": [
    {
     "name": "stderr",
     "output_type": "stream",
     "text": [
      "100%|█████████████████████████████████████████| 595/595 [03:18<00:00,  3.00it/s]\n",
      " 82%|█████████████████████████████████▍       | 486/595 [02:40<00:35,  3.07it/s]"
     ]
    }
   ],
   "source": [
    "name='PFE+Crop(125)+Random+AutoContrast+MedianUnsharp(size=1,amount=1)+MedianHSV(method=sv,size=3)'\n",
    "model, train_loader, test_loader = train(train_dataset,test_dataset, save_path=f'./saved_models/{name}.ptm', model_name='pfe', optimizer='sgd', loss_func_name='mutual_likelihood_score', drop_last=True)"
   ]
  },
  {
   "cell_type": "code",
   "execution_count": 16,
   "id": "fbbdea9f",
   "metadata": {},
   "outputs": [
    {
     "name": "stdout",
     "output_type": "stream",
     "text": [
      "Files already downloaded and verified\n",
      "Average Recall train_PFE+Crop(125)+Random+AutoContrast+MedianUnsharp(size=1,amount=1)+MedianHSV(method=sv,size=3):\n",
      "R@1 : 0.08220472440944881\n",
      "R@2 : 0.11559055118110237\n",
      "R@4 : 0.15391076115485564\n",
      "R@8 : 0.19380577427821521\n",
      "R@16 : 0.2388451443569554\n",
      "R@32 : 0.2895538057742782\n",
      "Average Recall test_PFE+Crop(125)+Random+AutoContrast+MedianUnsharp(size=1,amount=1)+MedianHSV(method=sv,size=3):\n",
      "R@1 : 0.08695652173913043\n",
      "R@2 : 0.11847826086956521\n",
      "R@4 : 0.15054347826086956\n",
      "R@8 : 0.19782608695652174\n",
      "R@16 : 0.25570652173913044\n",
      "R@32 : 0.31222826086956523\n"
     ]
    }
   ],
   "source": [
    "train_dataset = make_dataset('LFW', split='train', image_size=100, face_detection=False, crop=125, autocontrast=True, median_unsharp=True, median_unsharp_size=1, median_unsharp_amount=1, median_hsv=True, median_hsv_method='sv', median_hsv_size=3)\n",
    "train_loader = load_dataset(train_dataset, batch_size=32, shuffle=True)\n",
    "save_output(evaluate_cos(model,train_loader),f'train_{name}')\n",
    "r1,r2,r4,r8,r16,r32=load_output()[f'train_{name}']\n",
    "avg_recall(f'train_{name}')\n",
    "save_output(evaluate_cos(model,test_loader),f'test_{name}')\n",
    "r1,r2,r4,r8,r16,r32=load_output()[f'test_{name}']\n",
    "avg_recall(f'test_{name}')"
   ]
  },
  {
   "cell_type": "code",
   "execution_count": 11,
   "id": "fbfddf8a",
   "metadata": {},
   "outputs": [],
   "source": [
    "total_time = then-time.time()\n",
    "save_output(total_time, 'total_time')"
   ]
  }
 ],
 "metadata": {
  "kernelspec": {
   "display_name": "Python 3 (ipykernel)",
   "language": "python",
   "name": "python3"
  },
  "language_info": {
   "codemirror_mode": {
    "name": "ipython",
    "version": 3
   },
   "file_extension": ".py",
   "mimetype": "text/x-python",
   "name": "python",
   "nbconvert_exporter": "python",
   "pygments_lexer": "ipython3",
   "version": "3.8.12"
  }
 },
 "nbformat": 4,
 "nbformat_minor": 5
}
