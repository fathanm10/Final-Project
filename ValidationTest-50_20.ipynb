{
 "cells": [
  {
   "cell_type": "code",
   "execution_count": 1,
   "id": "a54a86d4",
   "metadata": {},
   "outputs": [],
   "source": [
    "import torch\n",
    "from train import train_model\n",
    "from dataset.utils import *\n",
    "from utils import *\n",
    "import numpy as np"
   ]
  },
  {
   "cell_type": "code",
   "execution_count": 2,
   "id": "88df472c",
   "metadata": {},
   "outputs": [],
   "source": [
    "batch_size = 32\n",
    "def redefine_train_parameters():\n",
    "    global device, epochs, learning_rate, loss_lr, num_classes, embedding_size\n",
    "    device = torch.device('cuda' if torch.cuda.is_available() else 'cpu')\n",
    "    epochs = 20\n",
    "    learning_rate = 0.001\n",
    "    loss_lr = 0.01\n",
    "    num_classes = get_num_classes(dataset)\n",
    "    embedding_size = 512"
   ]
  },
  {
   "cell_type": "code",
   "execution_count": 7,
   "id": "c5c3d871",
   "metadata": {},
   "outputs": [],
   "source": [
    "dataset = make_dataset('LFWCustom', split='10fold', max_classes=50, min_samples=20, image_size=100)\n",
    "redefine_train_parameters()"
   ]
  },
  {
   "cell_type": "code",
   "execution_count": 8,
   "id": "26c099b9",
   "metadata": {
    "scrolled": true
   },
   "outputs": [
    {
     "name": "stdout",
     "output_type": "stream",
     "text": [
      "----------\n",
      "fold 1:\n",
      "Finished Training, Time: 42.8669 Best loss: 2.6890\n"
     ]
    },
    {
     "name": "stderr",
     "output_type": "stream",
     "text": [
      "/workspace/Experiments/Clean/dataset/utils.py:132: FutureWarning: The input object of type 'Tensor' is an array-like implementing one of the corresponding protocols (`__array__`, `__array_interface__` or `__array_struct__`); but not a sequence (or 0-D). In the future, this object will be coerced as if it was first converted using `np.array(obj)`. To retain the old behaviour, you have to either modify the type 'Tensor', or assign to an empty array created with `np.empty(correct_shape, dtype=object)`.\n",
      "  except: num_classes = len(Counter(np.array(dataset, dtype=object)[:,1]))\n",
      "100%|██████████| 8/8 [00:00<00:00, 113.42it/s]\n"
     ]
    },
    {
     "name": "stdout",
     "output_type": "stream",
     "text": [
      "R@1 : 83.730\n",
      "R@2 : 90.873\n",
      "R@4 : 93.651\n",
      "R@8 : 95.238\n",
      "R@16 : 98.413\n",
      "R@32 : 98.810\n",
      "----------\n",
      "fold 2:\n",
      "Finished Training, Time: 40.6671 Best loss: 2.5605\n"
     ]
    },
    {
     "name": "stderr",
     "output_type": "stream",
     "text": [
      "100%|██████████| 8/8 [00:00<00:00, 121.19it/s]\n"
     ]
    },
    {
     "name": "stdout",
     "output_type": "stream",
     "text": [
      "R@1 : 92.063\n",
      "R@2 : 96.032\n",
      "R@4 : 97.222\n",
      "R@8 : 98.413\n",
      "R@16 : 99.206\n",
      "R@32 : 99.603\n",
      "----------\n",
      "fold 3:\n",
      "Finished Training, Time: 40.2837 Best loss: 2.4278\n"
     ]
    },
    {
     "name": "stderr",
     "output_type": "stream",
     "text": [
      "100%|██████████| 8/8 [00:00<00:00, 67.09it/s]\n"
     ]
    },
    {
     "name": "stdout",
     "output_type": "stream",
     "text": [
      "R@1 : 90.476\n",
      "R@2 : 93.254\n",
      "R@4 : 95.238\n",
      "R@8 : 96.429\n",
      "R@16 : 98.016\n",
      "R@32 : 98.413\n",
      "----------\n",
      "fold 4:\n",
      "Finished Training, Time: 40.0234 Best loss: 2.3169\n"
     ]
    },
    {
     "name": "stderr",
     "output_type": "stream",
     "text": [
      "100%|██████████| 8/8 [00:00<00:00, 121.00it/s]\n"
     ]
    },
    {
     "name": "stdout",
     "output_type": "stream",
     "text": [
      "R@1 : 100.000\n",
      "R@2 : 100.000\n",
      "R@4 : 100.000\n",
      "R@8 : 100.000\n",
      "R@16 : 100.000\n",
      "R@32 : 100.000\n",
      "----------\n",
      "fold 5:\n",
      "Finished Training, Time: 40.4737 Best loss: 2.2080\n"
     ]
    },
    {
     "name": "stderr",
     "output_type": "stream",
     "text": [
      "100%|██████████| 8/8 [00:00<00:00, 121.70it/s]\n"
     ]
    },
    {
     "name": "stdout",
     "output_type": "stream",
     "text": [
      "R@1 : 100.000\n",
      "R@2 : 100.000\n",
      "R@4 : 100.000\n",
      "R@8 : 100.000\n",
      "R@16 : 100.000\n",
      "R@32 : 100.000\n",
      "----------\n",
      "fold 6:\n",
      "Finished Training, Time: 40.3439 Best loss: 2.5898\n"
     ]
    },
    {
     "name": "stderr",
     "output_type": "stream",
     "text": [
      "100%|██████████| 8/8 [00:00<00:00, 108.22it/s]\n"
     ]
    },
    {
     "name": "stdout",
     "output_type": "stream",
     "text": [
      "R@1 : 92.857\n",
      "R@2 : 94.841\n",
      "R@4 : 96.825\n",
      "R@8 : 98.016\n",
      "R@16 : 99.206\n",
      "R@32 : 100.000\n",
      "----------\n",
      "fold 7:\n",
      "Finished Training, Time: 39.9279 Best loss: 2.3846\n"
     ]
    },
    {
     "name": "stderr",
     "output_type": "stream",
     "text": [
      "100%|██████████| 8/8 [00:00<00:00, 123.23it/s]\n"
     ]
    },
    {
     "name": "stdout",
     "output_type": "stream",
     "text": [
      "R@1 : 75.794\n",
      "R@2 : 82.937\n",
      "R@4 : 88.492\n",
      "R@8 : 95.635\n",
      "R@16 : 98.016\n",
      "R@32 : 99.206\n",
      "----------\n",
      "fold 8:\n",
      "Finished Training, Time: 39.8440 Best loss: 2.3060\n"
     ]
    },
    {
     "name": "stderr",
     "output_type": "stream",
     "text": [
      "100%|██████████| 8/8 [00:00<00:00, 117.79it/s]\n"
     ]
    },
    {
     "name": "stdout",
     "output_type": "stream",
     "text": [
      "R@1 : 77.381\n",
      "R@2 : 86.508\n",
      "R@4 : 90.873\n",
      "R@8 : 92.857\n",
      "R@16 : 97.619\n",
      "R@32 : 99.603\n",
      "----------\n",
      "fold 9:\n",
      "Finished Training, Time: 40.1641 Best loss: 2.6127\n"
     ]
    },
    {
     "name": "stderr",
     "output_type": "stream",
     "text": [
      "100%|██████████| 8/8 [00:00<00:00, 122.07it/s]\n"
     ]
    },
    {
     "name": "stdout",
     "output_type": "stream",
     "text": [
      "R@1 : 88.095\n",
      "R@2 : 91.270\n",
      "R@4 : 95.238\n",
      "R@8 : 96.429\n",
      "R@16 : 97.222\n",
      "R@32 : 99.603\n",
      "----------\n",
      "fold 10:\n",
      "Finished Training, Time: 39.8331 Best loss: 2.2805\n"
     ]
    },
    {
     "name": "stderr",
     "output_type": "stream",
     "text": [
      "100%|██████████| 8/8 [00:00<00:00, 121.92it/s]\n"
     ]
    },
    {
     "name": "stdout",
     "output_type": "stream",
     "text": [
      "R@1 : 82.937\n",
      "R@2 : 87.698\n",
      "R@4 : 93.254\n",
      "R@8 : 96.032\n",
      "R@16 : 98.413\n",
      "R@32 : 99.206\n"
     ]
    }
   ],
   "source": [
    "k=10\n",
    "split_len = len(dataset)//k\n",
    "max_index = split_len*k\n",
    "r1,r2,r4,r8,r16,r32= [],[],[],[],[],[]\n",
    "for fold in range(k):\n",
    "    print(f'''----------\n",
    "fold {fold+1}:''')\n",
    "    start = split_len * fold\n",
    "    train_dataset = dataset[:start] + dataset[start + split_len:max_index]\n",
    "    test_dataset = dataset[start:start+split_len]\n",
    "    train_loader = load_dataset(train_dataset, batch_size, shuffle=True)\n",
    "    test_loader = load_dataset(test_dataset, batch_size, shuffle=False)\n",
    "    model = train_model(model_name='resnet50',\n",
    "                    loss_func_name='proxy_anchor',\n",
    "                    num_classes=num_classes,\n",
    "                    dataloader=train_loader,\n",
    "                    epochs=epochs,\n",
    "                    learning_rate=learning_rate,\n",
    "                    verbose=0)\n",
    "    recall = evaluate_cos(model, test_loader)\n",
    "    r1.append(recall[0])\n",
    "    r2.append(recall[1])\n",
    "    r4.append(recall[2])\n",
    "    r8.append(recall[3])\n",
    "    r16.append(recall[4])\n",
    "    r32.append(recall[5])"
   ]
  },
  {
   "cell_type": "code",
   "execution_count": 9,
   "id": "b79a1e23",
   "metadata": {},
   "outputs": [
    {
     "name": "stdout",
     "output_type": "stream",
     "text": [
      "Average Recall PA:\n",
      "R@1 : 88.3333\n",
      "R@2 : 92.3413\n",
      "R@4 : 95.0794\n",
      "R@8 : 96.9048\n",
      "R@16 : 98.6111\n",
      "R@32 : 99.4444\n"
     ]
    }
   ],
   "source": [
    "print(f'''Average Recall PA:\n",
    "R@1 : {np.mean(r1)*100:.4f}\n",
    "R@2 : {np.mean(r2)*100:.4f}\n",
    "R@4 : {np.mean(r4)*100:.4f}\n",
    "R@8 : {np.mean(r8)*100:.4f}\n",
    "R@16 : {np.mean(r16)*100:.4f}\n",
    "R@32 : {np.mean(r32)*100:.4f}''')"
   ]
  },
  {
   "cell_type": "code",
   "execution_count": 12,
   "id": "af0a3980",
   "metadata": {},
   "outputs": [],
   "source": [
    "dataset = make_dataset('LFWCustom', split='10fold', max_classes=50, min_samples=20, image_size=100, flip=.2)\n",
    "redefine_train_parameters()"
   ]
  },
  {
   "cell_type": "code",
   "execution_count": 13,
   "id": "1eb1b2b6",
   "metadata": {
    "scrolled": true
   },
   "outputs": [
    {
     "name": "stdout",
     "output_type": "stream",
     "text": [
      "----------\n",
      "fold 1:\n",
      "Finished Training, Time: 41.2351 Best loss: 2.6116\n"
     ]
    },
    {
     "name": "stderr",
     "output_type": "stream",
     "text": [
      "100%|██████████| 8/8 [00:00<00:00, 119.18it/s]\n"
     ]
    },
    {
     "name": "stdout",
     "output_type": "stream",
     "text": [
      "R@1 : 82.540\n",
      "R@2 : 87.302\n",
      "R@4 : 92.460\n",
      "R@8 : 96.429\n",
      "R@16 : 98.016\n",
      "R@32 : 99.603\n",
      "----------\n",
      "fold 2:\n",
      "Finished Training, Time: 41.6400 Best loss: 2.5013\n"
     ]
    },
    {
     "name": "stderr",
     "output_type": "stream",
     "text": [
      "100%|██████████| 8/8 [00:00<00:00, 116.89it/s]\n"
     ]
    },
    {
     "name": "stdout",
     "output_type": "stream",
     "text": [
      "R@1 : 94.048\n",
      "R@2 : 96.825\n",
      "R@4 : 97.619\n",
      "R@8 : 98.413\n",
      "R@16 : 99.206\n",
      "R@32 : 99.603\n",
      "----------\n",
      "fold 3:\n",
      "Finished Training, Time: 41.1505 Best loss: 2.4594\n"
     ]
    },
    {
     "name": "stderr",
     "output_type": "stream",
     "text": [
      "100%|██████████| 8/8 [00:00<00:00, 118.05it/s]\n"
     ]
    },
    {
     "name": "stdout",
     "output_type": "stream",
     "text": [
      "R@1 : 92.857\n",
      "R@2 : 96.032\n",
      "R@4 : 96.825\n",
      "R@8 : 97.619\n",
      "R@16 : 98.016\n",
      "R@32 : 98.413\n",
      "----------\n",
      "fold 4:\n",
      "Finished Training, Time: 41.5510 Best loss: 2.5454\n"
     ]
    },
    {
     "name": "stderr",
     "output_type": "stream",
     "text": [
      "100%|██████████| 8/8 [00:00<00:00, 118.68it/s]\n"
     ]
    },
    {
     "name": "stdout",
     "output_type": "stream",
     "text": [
      "R@1 : 100.000\n",
      "R@2 : 100.000\n",
      "R@4 : 100.000\n",
      "R@8 : 100.000\n",
      "R@16 : 100.000\n",
      "R@32 : 100.000\n",
      "----------\n",
      "fold 5:\n",
      "Finished Training, Time: 40.9308 Best loss: 2.6487\n"
     ]
    },
    {
     "name": "stderr",
     "output_type": "stream",
     "text": [
      "100%|██████████| 8/8 [00:00<00:00, 115.47it/s]\n"
     ]
    },
    {
     "name": "stdout",
     "output_type": "stream",
     "text": [
      "R@1 : 100.000\n",
      "R@2 : 100.000\n",
      "R@4 : 100.000\n",
      "R@8 : 100.000\n",
      "R@16 : 100.000\n",
      "R@32 : 100.000\n",
      "----------\n",
      "fold 6:\n",
      "Finished Training, Time: 40.8411 Best loss: 2.4172\n"
     ]
    },
    {
     "name": "stderr",
     "output_type": "stream",
     "text": [
      "100%|██████████| 8/8 [00:00<00:00, 118.41it/s]\n"
     ]
    },
    {
     "name": "stdout",
     "output_type": "stream",
     "text": [
      "R@1 : 93.651\n",
      "R@2 : 96.032\n",
      "R@4 : 97.619\n",
      "R@8 : 98.810\n",
      "R@16 : 98.810\n",
      "R@32 : 100.000\n",
      "----------\n",
      "fold 7:\n",
      "Finished Training, Time: 41.6153 Best loss: 2.4304\n"
     ]
    },
    {
     "name": "stderr",
     "output_type": "stream",
     "text": [
      "100%|██████████| 8/8 [00:00<00:00, 120.35it/s]\n"
     ]
    },
    {
     "name": "stdout",
     "output_type": "stream",
     "text": [
      "R@1 : 79.762\n",
      "R@2 : 87.698\n",
      "R@4 : 93.254\n",
      "R@8 : 95.635\n",
      "R@16 : 98.016\n",
      "R@32 : 99.603\n",
      "----------\n",
      "fold 8:\n",
      "Finished Training, Time: 41.6524 Best loss: 2.7176\n"
     ]
    },
    {
     "name": "stderr",
     "output_type": "stream",
     "text": [
      "100%|██████████| 8/8 [00:00<00:00, 120.80it/s]\n"
     ]
    },
    {
     "name": "stdout",
     "output_type": "stream",
     "text": [
      "R@1 : 81.349\n",
      "R@2 : 90.079\n",
      "R@4 : 95.635\n",
      "R@8 : 97.222\n",
      "R@16 : 98.810\n",
      "R@32 : 99.206\n",
      "----------\n",
      "fold 9:\n",
      "Finished Training, Time: 40.8454 Best loss: 2.3665\n"
     ]
    },
    {
     "name": "stderr",
     "output_type": "stream",
     "text": [
      "100%|██████████| 8/8 [00:00<00:00, 118.73it/s]\n"
     ]
    },
    {
     "name": "stdout",
     "output_type": "stream",
     "text": [
      "R@1 : 90.476\n",
      "R@2 : 93.254\n",
      "R@4 : 97.222\n",
      "R@8 : 98.413\n",
      "R@16 : 99.206\n",
      "R@32 : 99.603\n",
      "----------\n",
      "fold 10:\n",
      "Finished Training, Time: 40.6131 Best loss: 2.4940\n"
     ]
    },
    {
     "name": "stderr",
     "output_type": "stream",
     "text": [
      "100%|██████████| 8/8 [00:00<00:00, 117.13it/s]"
     ]
    },
    {
     "name": "stdout",
     "output_type": "stream",
     "text": [
      "R@1 : 79.762\n",
      "R@2 : 85.714\n",
      "R@4 : 92.857\n",
      "R@8 : 95.635\n",
      "R@16 : 98.016\n",
      "R@32 : 99.603\n"
     ]
    },
    {
     "name": "stderr",
     "output_type": "stream",
     "text": [
      "\n"
     ]
    }
   ],
   "source": [
    "k=10\n",
    "split_len = len(dataset)//k\n",
    "max_index = split_len*k\n",
    "r1,r2,r4,r8,r16,r32= [],[],[],[],[],[]\n",
    "for fold in range(k):\n",
    "    print(f'''----------\n",
    "fold {fold+1}:''')\n",
    "    start = split_len * fold\n",
    "    train_dataset = dataset[:start] + dataset[start + split_len:max_index]\n",
    "    test_dataset = dataset[start:start+split_len]\n",
    "    train_loader = load_dataset(train_dataset, batch_size, shuffle=True)\n",
    "    test_loader = load_dataset(test_dataset, batch_size, shuffle=False)\n",
    "    model = train_model(model_name='resnet50',\n",
    "                    loss_func_name='proxy_anchor',\n",
    "                    num_classes=num_classes,\n",
    "                    dataloader=train_loader,\n",
    "                    epochs=epochs,\n",
    "                    learning_rate=learning_rate,\n",
    "                    verbose=0)\n",
    "    recall = evaluate_cos(model, test_loader)\n",
    "    r1.append(recall[0])\n",
    "    r2.append(recall[1])\n",
    "    r4.append(recall[2])\n",
    "    r8.append(recall[3])\n",
    "    r16.append(recall[4])\n",
    "    r32.append(recall[5])"
   ]
  },
  {
   "cell_type": "code",
   "execution_count": 14,
   "id": "210cd8b1",
   "metadata": {},
   "outputs": [
    {
     "name": "stdout",
     "output_type": "stream",
     "text": [
      "Average Recall PA+Flip(.2):\n",
      "R@1 : 89.4444\n",
      "R@2 : 93.2937\n",
      "R@4 : 96.3492\n",
      "R@8 : 97.8175\n",
      "R@16 : 98.8095\n",
      "R@32 : 99.5635\n"
     ]
    }
   ],
   "source": [
    "print(f'''Average Recall PA+Flip(.2):\n",
    "R@1 : {np.mean(r1)*100:.4f}\n",
    "R@2 : {np.mean(r2)*100:.4f}\n",
    "R@4 : {np.mean(r4)*100:.4f}\n",
    "R@8 : {np.mean(r8)*100:.4f}\n",
    "R@16 : {np.mean(r16)*100:.4f}\n",
    "R@32 : {np.mean(r32)*100:.4f}''')"
   ]
  },
  {
   "cell_type": "code",
   "execution_count": 3,
   "id": "c1fb817c",
   "metadata": {},
   "outputs": [],
   "source": [
    "dataset = make_dataset('LFWCustom', split='10fold', max_classes=50, min_samples=20, image_size=100, flip=.5)\n",
    "redefine_train_parameters()"
   ]
  },
  {
   "cell_type": "code",
   "execution_count": 4,
   "id": "e603e792",
   "metadata": {
    "scrolled": true
   },
   "outputs": [
    {
     "name": "stdout",
     "output_type": "stream",
     "text": [
      "----------\n",
      "fold 1:\n",
      "Finished Training, Time: 44.0380 Best loss: 2.3481\n"
     ]
    },
    {
     "name": "stderr",
     "output_type": "stream",
     "text": [
      "/workspace/Experiments/Clean/dataset/utils.py:135: FutureWarning: The input object of type 'Tensor' is an array-like implementing one of the corresponding protocols (`__array__`, `__array_interface__` or `__array_struct__`); but not a sequence (or 0-D). In the future, this object will be coerced as if it was first converted using `np.array(obj)`. To retain the old behaviour, you have to either modify the type 'Tensor', or assign to an empty array created with `np.empty(correct_shape, dtype=object)`.\n",
      "  except: num_classes = len(Counter(np.array(dataset, dtype=object)[:,1]))\n",
      "100%|██████████| 8/8 [00:00<00:00, 116.78it/s]\n"
     ]
    },
    {
     "name": "stdout",
     "output_type": "stream",
     "text": [
      "R@1 : 82.143\n",
      "R@2 : 88.889\n",
      "R@4 : 94.444\n",
      "R@8 : 96.032\n",
      "R@16 : 97.222\n",
      "R@32 : 98.810\n",
      "----------\n",
      "fold 2:\n",
      "Finished Training, Time: 42.2710 Best loss: 2.3027\n"
     ]
    },
    {
     "name": "stderr",
     "output_type": "stream",
     "text": [
      "100%|██████████| 8/8 [00:00<00:00, 120.23it/s]\n"
     ]
    },
    {
     "name": "stdout",
     "output_type": "stream",
     "text": [
      "R@1 : 90.476\n",
      "R@2 : 94.444\n",
      "R@4 : 96.825\n",
      "R@8 : 97.619\n",
      "R@16 : 99.206\n",
      "R@32 : 99.603\n",
      "----------\n",
      "fold 3:\n",
      "Finished Training, Time: 42.8836 Best loss: 2.3530\n"
     ]
    },
    {
     "name": "stderr",
     "output_type": "stream",
     "text": [
      "100%|██████████| 8/8 [00:00<00:00, 118.91it/s]\n"
     ]
    },
    {
     "name": "stdout",
     "output_type": "stream",
     "text": [
      "R@1 : 94.048\n",
      "R@2 : 96.429\n",
      "R@4 : 98.413\n",
      "R@8 : 98.810\n",
      "R@16 : 99.206\n",
      "R@32 : 99.206\n",
      "----------\n",
      "fold 4:\n",
      "Finished Training, Time: 43.5153 Best loss: 2.4155\n"
     ]
    },
    {
     "name": "stderr",
     "output_type": "stream",
     "text": [
      "100%|██████████| 8/8 [00:00<00:00, 113.14it/s]\n"
     ]
    },
    {
     "name": "stdout",
     "output_type": "stream",
     "text": [
      "R@1 : 100.000\n",
      "R@2 : 100.000\n",
      "R@4 : 100.000\n",
      "R@8 : 100.000\n",
      "R@16 : 100.000\n",
      "R@32 : 100.000\n",
      "----------\n",
      "fold 5:\n",
      "Finished Training, Time: 42.8986 Best loss: 2.3198\n"
     ]
    },
    {
     "name": "stderr",
     "output_type": "stream",
     "text": [
      "100%|██████████| 8/8 [00:00<00:00, 116.74it/s]\n"
     ]
    },
    {
     "name": "stdout",
     "output_type": "stream",
     "text": [
      "R@1 : 100.000\n",
      "R@2 : 100.000\n",
      "R@4 : 100.000\n",
      "R@8 : 100.000\n",
      "R@16 : 100.000\n",
      "R@32 : 100.000\n",
      "----------\n",
      "fold 6:\n",
      "Finished Training, Time: 43.1466 Best loss: 2.4862\n"
     ]
    },
    {
     "name": "stderr",
     "output_type": "stream",
     "text": [
      "100%|██████████| 8/8 [00:00<00:00, 114.49it/s]\n"
     ]
    },
    {
     "name": "stdout",
     "output_type": "stream",
     "text": [
      "R@1 : 90.079\n",
      "R@2 : 93.254\n",
      "R@4 : 96.429\n",
      "R@8 : 96.825\n",
      "R@16 : 98.413\n",
      "R@32 : 99.206\n",
      "----------\n",
      "fold 7:\n",
      "Finished Training, Time: 43.1369 Best loss: 2.3188\n"
     ]
    },
    {
     "name": "stderr",
     "output_type": "stream",
     "text": [
      "100%|██████████| 8/8 [00:00<00:00, 117.37it/s]\n"
     ]
    },
    {
     "name": "stdout",
     "output_type": "stream",
     "text": [
      "R@1 : 80.159\n",
      "R@2 : 86.905\n",
      "R@4 : 94.048\n",
      "R@8 : 97.619\n",
      "R@16 : 98.016\n",
      "R@32 : 99.603\n",
      "----------\n",
      "fold 8:\n",
      "Finished Training, Time: 41.9170 Best loss: 2.4141\n"
     ]
    },
    {
     "name": "stderr",
     "output_type": "stream",
     "text": [
      "100%|██████████| 8/8 [00:00<00:00, 117.80it/s]\n"
     ]
    },
    {
     "name": "stdout",
     "output_type": "stream",
     "text": [
      "R@1 : 79.762\n",
      "R@2 : 86.508\n",
      "R@4 : 90.476\n",
      "R@8 : 94.444\n",
      "R@16 : 98.016\n",
      "R@32 : 99.206\n",
      "----------\n",
      "fold 9:\n",
      "Finished Training, Time: 41.5940 Best loss: 2.5160\n"
     ]
    },
    {
     "name": "stderr",
     "output_type": "stream",
     "text": [
      "100%|██████████| 8/8 [00:00<00:00, 116.57it/s]\n"
     ]
    },
    {
     "name": "stdout",
     "output_type": "stream",
     "text": [
      "R@1 : 83.333\n",
      "R@2 : 88.492\n",
      "R@4 : 90.873\n",
      "R@8 : 96.429\n",
      "R@16 : 98.413\n",
      "R@32 : 99.206\n",
      "----------\n",
      "fold 10:\n",
      "Finished Training, Time: 40.7792 Best loss: 2.4753\n"
     ]
    },
    {
     "name": "stderr",
     "output_type": "stream",
     "text": [
      "100%|██████████| 8/8 [00:00<00:00, 116.88it/s]"
     ]
    },
    {
     "name": "stdout",
     "output_type": "stream",
     "text": [
      "R@1 : 75.397\n",
      "R@2 : 82.143\n",
      "R@4 : 89.683\n",
      "R@8 : 94.444\n",
      "R@16 : 97.619\n",
      "R@32 : 99.206\n"
     ]
    },
    {
     "name": "stderr",
     "output_type": "stream",
     "text": [
      "\n"
     ]
    }
   ],
   "source": [
    "k=10\n",
    "split_len = len(dataset)//k\n",
    "max_index = split_len*k\n",
    "r1,r2,r4,r8,r16,r32= [],[],[],[],[],[]\n",
    "for fold in range(k):\n",
    "    print(f'''----------\n",
    "fold {fold+1}:''')\n",
    "    start = split_len * fold\n",
    "    train_dataset = dataset[:start] + dataset[start + split_len:max_index]\n",
    "    test_dataset = dataset[start:start+split_len]\n",
    "    train_loader = load_dataset(train_dataset, batch_size, shuffle=True)\n",
    "    test_loader = load_dataset(test_dataset, batch_size, shuffle=False)\n",
    "    model = train_model(model_name='resnet50',\n",
    "                    loss_func_name='proxy_anchor',\n",
    "                    num_classes=num_classes,\n",
    "                    dataloader=train_loader,\n",
    "                    epochs=epochs,\n",
    "                    learning_rate=learning_rate,\n",
    "                    verbose=0)\n",
    "    recall = evaluate_cos(model, test_loader)\n",
    "    r1.append(recall[0])\n",
    "    r2.append(recall[1])\n",
    "    r4.append(recall[2])\n",
    "    r8.append(recall[3])\n",
    "    r16.append(recall[4])\n",
    "    r32.append(recall[5])"
   ]
  },
  {
   "cell_type": "code",
   "execution_count": 5,
   "id": "416d2c35",
   "metadata": {},
   "outputs": [
    {
     "name": "stdout",
     "output_type": "stream",
     "text": [
      "Average Recall PA+Flip:\n",
      "R@1 : 87.5397\n",
      "R@2 : 91.7063\n",
      "R@4 : 95.1190\n",
      "R@8 : 97.2222\n",
      "R@16 : 98.6111\n",
      "R@32 : 99.4048\n"
     ]
    }
   ],
   "source": [
    "print(f'''Average Recall PA+Flip(.5):\n",
    "R@1 : {np.mean(r1)*100:.4f}\n",
    "R@2 : {np.mean(r2)*100:.4f}\n",
    "R@4 : {np.mean(r4)*100:.4f}\n",
    "R@8 : {np.mean(r8)*100:.4f}\n",
    "R@16 : {np.mean(r16)*100:.4f}\n",
    "R@32 : {np.mean(r32)*100:.4f}''')"
   ]
  },
  {
   "cell_type": "code",
   "execution_count": 6,
   "id": "5f2a04dc",
   "metadata": {},
   "outputs": [],
   "source": [
    "dataset = make_dataset('LFWCustom', split='10fold', max_classes=50, min_samples=20, image_size=100, flip=.9)\n",
    "redefine_train_parameters()"
   ]
  },
  {
   "cell_type": "code",
   "execution_count": 7,
   "id": "c2f624a5",
   "metadata": {
    "scrolled": true
   },
   "outputs": [
    {
     "name": "stdout",
     "output_type": "stream",
     "text": [
      "----------\n",
      "fold 1:\n",
      "Finished Training, Time: 41.7388 Best loss: 2.6092\n"
     ]
    },
    {
     "name": "stderr",
     "output_type": "stream",
     "text": [
      "100%|██████████| 8/8 [00:00<00:00, 118.14it/s]\n"
     ]
    },
    {
     "name": "stdout",
     "output_type": "stream",
     "text": [
      "R@1 : 80.556\n",
      "R@2 : 88.095\n",
      "R@4 : 92.857\n",
      "R@8 : 94.841\n",
      "R@16 : 97.222\n",
      "R@32 : 98.413\n",
      "----------\n",
      "fold 2:\n",
      "Finished Training, Time: 41.2338 Best loss: 2.1549\n"
     ]
    },
    {
     "name": "stderr",
     "output_type": "stream",
     "text": [
      "100%|██████████| 8/8 [00:00<00:00, 118.89it/s]\n"
     ]
    },
    {
     "name": "stdout",
     "output_type": "stream",
     "text": [
      "R@1 : 91.667\n",
      "R@2 : 94.048\n",
      "R@4 : 96.429\n",
      "R@8 : 98.413\n",
      "R@16 : 99.206\n",
      "R@32 : 99.206\n",
      "----------\n",
      "fold 3:\n",
      "Finished Training, Time: 41.4589 Best loss: 2.4753\n"
     ]
    },
    {
     "name": "stderr",
     "output_type": "stream",
     "text": [
      "100%|██████████| 8/8 [00:00<00:00, 112.72it/s]\n"
     ]
    },
    {
     "name": "stdout",
     "output_type": "stream",
     "text": [
      "R@1 : 93.254\n",
      "R@2 : 96.825\n",
      "R@4 : 98.810\n",
      "R@8 : 99.206\n",
      "R@16 : 99.206\n",
      "R@32 : 99.206\n",
      "----------\n",
      "fold 4:\n",
      "Finished Training, Time: 40.4540 Best loss: 2.4883\n"
     ]
    },
    {
     "name": "stderr",
     "output_type": "stream",
     "text": [
      "100%|██████████| 8/8 [00:00<00:00, 119.95it/s]\n"
     ]
    },
    {
     "name": "stdout",
     "output_type": "stream",
     "text": [
      "R@1 : 100.000\n",
      "R@2 : 100.000\n",
      "R@4 : 100.000\n",
      "R@8 : 100.000\n",
      "R@16 : 100.000\n",
      "R@32 : 100.000\n",
      "----------\n",
      "fold 5:\n",
      "Finished Training, Time: 41.4806 Best loss: 2.5592\n"
     ]
    },
    {
     "name": "stderr",
     "output_type": "stream",
     "text": [
      "100%|██████████| 8/8 [00:00<00:00, 115.86it/s]\n"
     ]
    },
    {
     "name": "stdout",
     "output_type": "stream",
     "text": [
      "R@1 : 100.000\n",
      "R@2 : 100.000\n",
      "R@4 : 100.000\n",
      "R@8 : 100.000\n",
      "R@16 : 100.000\n",
      "R@32 : 100.000\n",
      "----------\n",
      "fold 6:\n",
      "Finished Training, Time: 41.6907 Best loss: 2.5199\n"
     ]
    },
    {
     "name": "stderr",
     "output_type": "stream",
     "text": [
      "100%|██████████| 8/8 [00:00<00:00, 119.46it/s]\n"
     ]
    },
    {
     "name": "stdout",
     "output_type": "stream",
     "text": [
      "R@1 : 84.921\n",
      "R@2 : 89.683\n",
      "R@4 : 94.444\n",
      "R@8 : 97.619\n",
      "R@16 : 98.413\n",
      "R@32 : 99.603\n",
      "----------\n",
      "fold 7:\n",
      "Finished Training, Time: 41.4034 Best loss: 2.2990\n"
     ]
    },
    {
     "name": "stderr",
     "output_type": "stream",
     "text": [
      "100%|██████████| 8/8 [00:00<00:00, 115.34it/s]\n"
     ]
    },
    {
     "name": "stdout",
     "output_type": "stream",
     "text": [
      "R@1 : 77.778\n",
      "R@2 : 86.111\n",
      "R@4 : 91.667\n",
      "R@8 : 96.825\n",
      "R@16 : 99.603\n",
      "R@32 : 100.000\n",
      "----------\n",
      "fold 8:\n",
      "Finished Training, Time: 41.3681 Best loss: 2.2716\n"
     ]
    },
    {
     "name": "stderr",
     "output_type": "stream",
     "text": [
      "100%|██████████| 8/8 [00:00<00:00, 119.50it/s]\n"
     ]
    },
    {
     "name": "stdout",
     "output_type": "stream",
     "text": [
      "R@1 : 67.857\n",
      "R@2 : 80.556\n",
      "R@4 : 87.302\n",
      "R@8 : 92.460\n",
      "R@16 : 96.825\n",
      "R@32 : 99.206\n",
      "----------\n",
      "fold 9:\n",
      "Finished Training, Time: 41.6898 Best loss: 2.5538\n"
     ]
    },
    {
     "name": "stderr",
     "output_type": "stream",
     "text": [
      "100%|██████████| 8/8 [00:00<00:00, 119.01it/s]\n"
     ]
    },
    {
     "name": "stdout",
     "output_type": "stream",
     "text": [
      "R@1 : 86.905\n",
      "R@2 : 90.079\n",
      "R@4 : 92.460\n",
      "R@8 : 95.635\n",
      "R@16 : 97.619\n",
      "R@32 : 98.413\n",
      "----------\n",
      "fold 10:\n",
      "Finished Training, Time: 41.4928 Best loss: 2.5493\n"
     ]
    },
    {
     "name": "stderr",
     "output_type": "stream",
     "text": [
      "100%|██████████| 8/8 [00:00<00:00, 119.34it/s]"
     ]
    },
    {
     "name": "stdout",
     "output_type": "stream",
     "text": [
      "R@1 : 75.000\n",
      "R@2 : 84.921\n",
      "R@4 : 90.079\n",
      "R@8 : 94.444\n",
      "R@16 : 97.619\n",
      "R@32 : 100.000\n"
     ]
    },
    {
     "name": "stderr",
     "output_type": "stream",
     "text": [
      "\n"
     ]
    }
   ],
   "source": [
    "k=10\n",
    "split_len = len(dataset)//k\n",
    "max_index = split_len*k\n",
    "r1,r2,r4,r8,r16,r32= [],[],[],[],[],[]\n",
    "for fold in range(k):\n",
    "    print(f'''----------\n",
    "fold {fold+1}:''')\n",
    "    start = split_len * fold\n",
    "    train_dataset = dataset[:start] + dataset[start + split_len:max_index]\n",
    "    test_dataset = dataset[start:start+split_len]\n",
    "    train_loader = load_dataset(train_dataset, batch_size, shuffle=True)\n",
    "    test_loader = load_dataset(test_dataset, batch_size, shuffle=False)\n",
    "    model = train_model(model_name='resnet50',\n",
    "                    loss_func_name='proxy_anchor',\n",
    "                    num_classes=num_classes,\n",
    "                    dataloader=train_loader,\n",
    "                    epochs=epochs,\n",
    "                    learning_rate=learning_rate,\n",
    "                    verbose=0)\n",
    "    recall = evaluate_cos(model, test_loader)\n",
    "    r1.append(recall[0])\n",
    "    r2.append(recall[1])\n",
    "    r4.append(recall[2])\n",
    "    r8.append(recall[3])\n",
    "    r16.append(recall[4])\n",
    "    r32.append(recall[5])"
   ]
  },
  {
   "cell_type": "code",
   "execution_count": 8,
   "id": "4d847bbc",
   "metadata": {},
   "outputs": [
    {
     "name": "stdout",
     "output_type": "stream",
     "text": [
      "Average Recall PA+Flip(.9):\n",
      "R@1 : 85.7937\n",
      "R@2 : 91.0317\n",
      "R@4 : 94.4048\n",
      "R@8 : 96.9444\n",
      "R@16 : 98.5714\n",
      "R@32 : 99.4048\n"
     ]
    }
   ],
   "source": [
    "print(f'''Average Recall PA+Flip(.9):\n",
    "R@1 : {np.mean(r1)*100:.4f}\n",
    "R@2 : {np.mean(r2)*100:.4f}\n",
    "R@4 : {np.mean(r4)*100:.4f}\n",
    "R@8 : {np.mean(r8)*100:.4f}\n",
    "R@16 : {np.mean(r16)*100:.4f}\n",
    "R@32 : {np.mean(r32)*100:.4f}''')"
   ]
  },
  {
   "cell_type": "code",
   "execution_count": 27,
   "id": "6d686005",
   "metadata": {},
   "outputs": [],
   "source": [
    "dataset = make_dataset('LFWCustom', split='10fold', max_classes=50, min_samples=20, image_size=100, hist='v')\n",
    "redefine_train_parameters()"
   ]
  },
  {
   "cell_type": "code",
   "execution_count": 28,
   "id": "e5c09be6",
   "metadata": {
    "scrolled": true
   },
   "outputs": [
    {
     "name": "stdout",
     "output_type": "stream",
     "text": [
      "----------\n",
      "fold 1:\n",
      "Finished Training, Time: 43.9333 Best loss: 2.4401\n"
     ]
    },
    {
     "name": "stderr",
     "output_type": "stream",
     "text": [
      "100%|██████████| 8/8 [00:00<00:00, 102.30it/s]\n"
     ]
    },
    {
     "name": "stdout",
     "output_type": "stream",
     "text": [
      "R@1 : 77.381\n",
      "R@2 : 86.508\n",
      "R@4 : 92.063\n",
      "R@8 : 94.048\n",
      "R@16 : 97.619\n",
      "R@32 : 98.810\n",
      "----------\n",
      "fold 2:\n",
      "Finished Training, Time: 43.9874 Best loss: 2.4276\n"
     ]
    },
    {
     "name": "stderr",
     "output_type": "stream",
     "text": [
      "100%|██████████| 8/8 [00:00<00:00, 101.88it/s]\n"
     ]
    },
    {
     "name": "stdout",
     "output_type": "stream",
     "text": [
      "R@1 : 92.857\n",
      "R@2 : 94.841\n",
      "R@4 : 96.825\n",
      "R@8 : 98.810\n",
      "R@16 : 99.206\n",
      "R@32 : 99.206\n",
      "----------\n",
      "fold 3:\n",
      "Finished Training, Time: 44.1331 Best loss: 2.5157\n"
     ]
    },
    {
     "name": "stderr",
     "output_type": "stream",
     "text": [
      "100%|██████████| 8/8 [00:00<00:00, 100.04it/s]\n"
     ]
    },
    {
     "name": "stdout",
     "output_type": "stream",
     "text": [
      "R@1 : 94.444\n",
      "R@2 : 96.032\n",
      "R@4 : 97.619\n",
      "R@8 : 98.413\n",
      "R@16 : 98.810\n",
      "R@32 : 98.810\n",
      "----------\n",
      "fold 4:\n",
      "Finished Training, Time: 54.3695 Best loss: 2.3972\n"
     ]
    },
    {
     "name": "stderr",
     "output_type": "stream",
     "text": [
      "100%|██████████| 8/8 [00:00<00:00, 89.32it/s]\n"
     ]
    },
    {
     "name": "stdout",
     "output_type": "stream",
     "text": [
      "R@1 : 100.000\n",
      "R@2 : 100.000\n",
      "R@4 : 100.000\n",
      "R@8 : 100.000\n",
      "R@16 : 100.000\n",
      "R@32 : 100.000\n",
      "----------\n",
      "fold 5:\n",
      "Finished Training, Time: 50.7173 Best loss: 2.5065\n"
     ]
    },
    {
     "name": "stderr",
     "output_type": "stream",
     "text": [
      "100%|██████████| 8/8 [00:00<00:00, 87.10it/s]\n"
     ]
    },
    {
     "name": "stdout",
     "output_type": "stream",
     "text": [
      "R@1 : 100.000\n",
      "R@2 : 100.000\n",
      "R@4 : 100.000\n",
      "R@8 : 100.000\n",
      "R@16 : 100.000\n",
      "R@32 : 100.000\n",
      "----------\n",
      "fold 6:\n",
      "Finished Training, Time: 54.2073 Best loss: 2.5248\n"
     ]
    },
    {
     "name": "stderr",
     "output_type": "stream",
     "text": [
      "100%|██████████| 8/8 [00:00<00:00, 84.03it/s]\n"
     ]
    },
    {
     "name": "stdout",
     "output_type": "stream",
     "text": [
      "R@1 : 87.698\n",
      "R@2 : 93.651\n",
      "R@4 : 94.841\n",
      "R@8 : 96.825\n",
      "R@16 : 97.619\n",
      "R@32 : 99.206\n",
      "----------\n",
      "fold 7:\n",
      "Finished Training, Time: 52.1082 Best loss: 2.3874\n"
     ]
    },
    {
     "name": "stderr",
     "output_type": "stream",
     "text": [
      "100%|██████████| 8/8 [00:00<00:00, 99.06it/s]\n"
     ]
    },
    {
     "name": "stdout",
     "output_type": "stream",
     "text": [
      "R@1 : 80.952\n",
      "R@2 : 88.889\n",
      "R@4 : 93.651\n",
      "R@8 : 95.635\n",
      "R@16 : 98.810\n",
      "R@32 : 99.603\n",
      "----------\n",
      "fold 8:\n",
      "Finished Training, Time: 52.4204 Best loss: 2.3668\n"
     ]
    },
    {
     "name": "stderr",
     "output_type": "stream",
     "text": [
      "100%|██████████| 8/8 [00:00<00:00, 82.21it/s]\n"
     ]
    },
    {
     "name": "stdout",
     "output_type": "stream",
     "text": [
      "R@1 : 78.175\n",
      "R@2 : 86.508\n",
      "R@4 : 92.460\n",
      "R@8 : 96.429\n",
      "R@16 : 97.619\n",
      "R@32 : 99.603\n",
      "----------\n",
      "fold 9:\n",
      "Finished Training, Time: 52.4887 Best loss: 2.3206\n"
     ]
    },
    {
     "name": "stderr",
     "output_type": "stream",
     "text": [
      "100%|██████████| 8/8 [00:00<00:00, 99.25it/s]\n"
     ]
    },
    {
     "name": "stdout",
     "output_type": "stream",
     "text": [
      "R@1 : 87.302\n",
      "R@2 : 92.460\n",
      "R@4 : 95.635\n",
      "R@8 : 97.222\n",
      "R@16 : 99.206\n",
      "R@32 : 99.206\n",
      "----------\n",
      "fold 10:\n",
      "Finished Training, Time: 52.1662 Best loss: 2.4727\n"
     ]
    },
    {
     "name": "stderr",
     "output_type": "stream",
     "text": [
      "100%|██████████| 8/8 [00:00<00:00, 99.46it/s]\n"
     ]
    },
    {
     "name": "stdout",
     "output_type": "stream",
     "text": [
      "R@1 : 76.587\n",
      "R@2 : 83.333\n",
      "R@4 : 89.683\n",
      "R@8 : 94.048\n",
      "R@16 : 98.016\n",
      "R@32 : 99.603\n"
     ]
    }
   ],
   "source": [
    "k=10\n",
    "split_len = len(dataset)//k\n",
    "max_index = split_len*k\n",
    "r1,r2,r4,r8,r16,r32= [],[],[],[],[],[]\n",
    "for fold in range(k):\n",
    "    print(f'''----------\n",
    "fold {fold+1}:''')\n",
    "    start = split_len * fold\n",
    "    train_dataset = dataset[:start] + dataset[start + split_len:max_index]\n",
    "    test_dataset = dataset[start:start+split_len]\n",
    "    train_loader = load_dataset(train_dataset, batch_size, shuffle=True)\n",
    "    test_loader = load_dataset(test_dataset, batch_size, shuffle=False)\n",
    "    model = train_model(model_name='resnet50',\n",
    "                    loss_func_name='proxy_anchor',\n",
    "                    num_classes=num_classes,\n",
    "                    dataloader=train_loader,\n",
    "                    epochs=epochs,\n",
    "                    learning_rate=learning_rate,\n",
    "                    verbose=0)\n",
    "    recall = evaluate_cos(model, test_loader)\n",
    "    r1.append(recall[0])\n",
    "    r2.append(recall[1])\n",
    "    r4.append(recall[2])\n",
    "    r8.append(recall[3])\n",
    "    r16.append(recall[4])\n",
    "    r32.append(recall[5])"
   ]
  },
  {
   "cell_type": "code",
   "execution_count": 29,
   "id": "68d0e317",
   "metadata": {},
   "outputs": [
    {
     "name": "stdout",
     "output_type": "stream",
     "text": [
      "Average Recall PA+AdaptiveV:\n",
      "R@1 : 0.8753968253968255\n",
      "R@2 : 0.9222222222222223\n",
      "R@4 : 0.9527777777777777\n",
      "R@8 : 0.9714285714285713\n",
      "R@16 : 0.9869047619047618\n",
      "R@32 : 0.994047619047619\n"
     ]
    }
   ],
   "source": [
    "print(f'''Average Recall PA+AdaptiveV:\n",
    "R@1 : {np.mean(r1)*100:.4f}\n",
    "R@2 : {np.mean(r2)*100:.4f}\n",
    "R@4 : {np.mean(r4)*100:.4f}\n",
    "R@8 : {np.mean(r8)*100:.4f}\n",
    "R@16 : {np.mean(r16)*100:.4f}\n",
    "R@32 : {np.mean(r32)*100:.4f}''')"
   ]
  },
  {
   "cell_type": "code",
   "execution_count": 18,
   "id": "744b918e",
   "metadata": {},
   "outputs": [],
   "source": [
    "dataset = make_dataset('LFWCustom', split='10fold', max_classes=50, min_samples=20, image_size=100, median=True)\n",
    "redefine_train_parameters()"
   ]
  },
  {
   "cell_type": "code",
   "execution_count": 19,
   "id": "c651f5e7",
   "metadata": {
    "scrolled": true
   },
   "outputs": [
    {
     "name": "stdout",
     "output_type": "stream",
     "text": [
      "----------\n",
      "fold 1:\n",
      "Finished Training, Time: 41.3174 Best loss: 2.3253\n"
     ]
    },
    {
     "name": "stderr",
     "output_type": "stream",
     "text": [
      "100%|██████████| 8/8 [00:00<00:00, 118.42it/s]\n"
     ]
    },
    {
     "name": "stdout",
     "output_type": "stream",
     "text": [
      "R@1 : 75.397\n",
      "R@2 : 84.921\n",
      "R@4 : 89.683\n",
      "R@8 : 93.254\n",
      "R@16 : 95.238\n",
      "R@32 : 97.222\n",
      "----------\n",
      "fold 2:\n",
      "Finished Training, Time: 41.8876 Best loss: 2.5970\n"
     ]
    },
    {
     "name": "stderr",
     "output_type": "stream",
     "text": [
      "100%|██████████| 8/8 [00:00<00:00, 110.45it/s]\n"
     ]
    },
    {
     "name": "stdout",
     "output_type": "stream",
     "text": [
      "R@1 : 92.857\n",
      "R@2 : 95.238\n",
      "R@4 : 97.222\n",
      "R@8 : 98.810\n",
      "R@16 : 100.000\n",
      "R@32 : 100.000\n",
      "----------\n",
      "fold 3:\n",
      "Finished Training, Time: 41.5815 Best loss: 2.3479\n"
     ]
    },
    {
     "name": "stderr",
     "output_type": "stream",
     "text": [
      "100%|██████████| 8/8 [00:00<00:00, 119.75it/s]\n"
     ]
    },
    {
     "name": "stdout",
     "output_type": "stream",
     "text": [
      "R@1 : 91.667\n",
      "R@2 : 96.032\n",
      "R@4 : 98.016\n",
      "R@8 : 98.413\n",
      "R@16 : 98.810\n",
      "R@32 : 99.206\n",
      "----------\n",
      "fold 4:\n",
      "Finished Training, Time: 41.9139 Best loss: 2.5134\n"
     ]
    },
    {
     "name": "stderr",
     "output_type": "stream",
     "text": [
      "100%|██████████| 8/8 [00:00<00:00, 120.38it/s]\n"
     ]
    },
    {
     "name": "stdout",
     "output_type": "stream",
     "text": [
      "R@1 : 100.000\n",
      "R@2 : 100.000\n",
      "R@4 : 100.000\n",
      "R@8 : 100.000\n",
      "R@16 : 100.000\n",
      "R@32 : 100.000\n",
      "----------\n",
      "fold 5:\n",
      "Finished Training, Time: 41.6447 Best loss: 2.4738\n"
     ]
    },
    {
     "name": "stderr",
     "output_type": "stream",
     "text": [
      "100%|██████████| 8/8 [00:00<00:00, 119.98it/s]\n"
     ]
    },
    {
     "name": "stdout",
     "output_type": "stream",
     "text": [
      "R@1 : 100.000\n",
      "R@2 : 100.000\n",
      "R@4 : 100.000\n",
      "R@8 : 100.000\n",
      "R@16 : 100.000\n",
      "R@32 : 100.000\n",
      "----------\n",
      "fold 6:\n",
      "Finished Training, Time: 41.7798 Best loss: 2.3597\n"
     ]
    },
    {
     "name": "stderr",
     "output_type": "stream",
     "text": [
      "100%|██████████| 8/8 [00:00<00:00, 120.48it/s]\n"
     ]
    },
    {
     "name": "stdout",
     "output_type": "stream",
     "text": [
      "R@1 : 91.667\n",
      "R@2 : 94.841\n",
      "R@4 : 96.032\n",
      "R@8 : 96.429\n",
      "R@16 : 97.619\n",
      "R@32 : 99.603\n",
      "----------\n",
      "fold 7:\n",
      "Finished Training, Time: 41.3121 Best loss: 2.3887\n"
     ]
    },
    {
     "name": "stderr",
     "output_type": "stream",
     "text": [
      "100%|██████████| 8/8 [00:00<00:00, 110.89it/s]\n"
     ]
    },
    {
     "name": "stdout",
     "output_type": "stream",
     "text": [
      "R@1 : 77.381\n",
      "R@2 : 88.492\n",
      "R@4 : 94.444\n",
      "R@8 : 97.222\n",
      "R@16 : 99.206\n",
      "R@32 : 99.603\n",
      "----------\n",
      "fold 8:\n",
      "Finished Training, Time: 42.0296 Best loss: 2.4005\n"
     ]
    },
    {
     "name": "stderr",
     "output_type": "stream",
     "text": [
      "100%|██████████| 8/8 [00:00<00:00, 119.00it/s]\n"
     ]
    },
    {
     "name": "stdout",
     "output_type": "stream",
     "text": [
      "R@1 : 75.397\n",
      "R@2 : 83.730\n",
      "R@4 : 91.270\n",
      "R@8 : 95.238\n",
      "R@16 : 97.619\n",
      "R@32 : 98.810\n",
      "----------\n",
      "fold 9:\n",
      "Finished Training, Time: 42.1666 Best loss: 2.7125\n"
     ]
    },
    {
     "name": "stderr",
     "output_type": "stream",
     "text": [
      "100%|██████████| 8/8 [00:00<00:00, 115.76it/s]\n"
     ]
    },
    {
     "name": "stdout",
     "output_type": "stream",
     "text": [
      "R@1 : 86.905\n",
      "R@2 : 91.667\n",
      "R@4 : 96.429\n",
      "R@8 : 98.016\n",
      "R@16 : 99.603\n",
      "R@32 : 99.603\n",
      "----------\n",
      "fold 10:\n",
      "Finished Training, Time: 41.1057 Best loss: 2.3866\n"
     ]
    },
    {
     "name": "stderr",
     "output_type": "stream",
     "text": [
      "100%|██████████| 8/8 [00:00<00:00, 75.55it/s]"
     ]
    },
    {
     "name": "stdout",
     "output_type": "stream",
     "text": [
      "R@1 : 71.429\n",
      "R@2 : 82.143\n",
      "R@4 : 90.476\n",
      "R@8 : 96.032\n",
      "R@16 : 97.619\n",
      "R@32 : 99.206\n"
     ]
    },
    {
     "name": "stderr",
     "output_type": "stream",
     "text": [
      "\n"
     ]
    }
   ],
   "source": [
    "k=10\n",
    "split_len = len(dataset)//k\n",
    "max_index = split_len*k\n",
    "r1,r2,r4,r8,r16,r32= [],[],[],[],[],[]\n",
    "for fold in range(k):\n",
    "    print(f'''----------\n",
    "fold {fold+1}:''')\n",
    "    start = split_len * fold\n",
    "    train_dataset = dataset[:start] + dataset[start + split_len:max_index]\n",
    "    test_dataset = dataset[start:start+split_len]\n",
    "    train_loader = load_dataset(train_dataset, batch_size, shuffle=True)\n",
    "    test_loader = load_dataset(test_dataset, batch_size, shuffle=False)\n",
    "    model = train_model(model_name='resnet50',\n",
    "                    loss_func_name='proxy_anchor',\n",
    "                    num_classes=num_classes,\n",
    "                    dataloader=train_loader,\n",
    "                    epochs=epochs,\n",
    "                    learning_rate=learning_rate,\n",
    "                    verbose=0)\n",
    "    recall = evaluate_cos(model, test_loader)\n",
    "    r1.append(recall[0])\n",
    "    r2.append(recall[1])\n",
    "    r4.append(recall[2])\n",
    "    r8.append(recall[3])\n",
    "    r16.append(recall[4])\n",
    "    r32.append(recall[5])"
   ]
  },
  {
   "cell_type": "code",
   "execution_count": 20,
   "id": "06a01ef5",
   "metadata": {},
   "outputs": [
    {
     "name": "stdout",
     "output_type": "stream",
     "text": [
      "Average Recall PA+Median:\n",
      "R@1 : 0.8626984126984125\n",
      "R@2 : 0.9170634920634921\n",
      "R@4 : 0.9535714285714286\n",
      "R@8 : 0.9734126984126984\n",
      "R@16 : 0.9857142857142858\n",
      "R@32 : 0.9932539682539682\n"
     ]
    }
   ],
   "source": [
    "print(f'''Average Recall PA+Median:\n",
    "R@1 : {np.mean(r1)*100:.4f}\n",
    "R@2 : {np.mean(r2)*100:.4f}\n",
    "R@4 : {np.mean(r4)*100:.4f}\n",
    "R@8 : {np.mean(r8)*100:.4f}\n",
    "R@16 : {np.mean(r16)*100:.4f}\n",
    "R@32 : {np.mean(r32)*100:.4f}''')"
   ]
  },
  {
   "cell_type": "code",
   "execution_count": 30,
   "id": "36171cbf",
   "metadata": {},
   "outputs": [],
   "source": [
    "dataset = make_dataset('LFWCustom', split='10fold', max_classes=50, min_samples=20, image_size=100, hist='v', median_before=True)\n",
    "redefine_train_parameters()"
   ]
  },
  {
   "cell_type": "code",
   "execution_count": 31,
   "id": "eb8ed63c",
   "metadata": {
    "scrolled": true
   },
   "outputs": [
    {
     "name": "stdout",
     "output_type": "stream",
     "text": [
      "----------\n",
      "fold 1:\n",
      "Finished Training, Time: 55.3754 Best loss: 2.4657\n"
     ]
    },
    {
     "name": "stderr",
     "output_type": "stream",
     "text": [
      "100%|██████████| 8/8 [00:00<00:00, 100.76it/s]\n"
     ]
    },
    {
     "name": "stdout",
     "output_type": "stream",
     "text": [
      "R@1 : 78.571\n",
      "R@2 : 84.921\n",
      "R@4 : 90.079\n",
      "R@8 : 92.857\n",
      "R@16 : 95.635\n",
      "R@32 : 99.206\n",
      "----------\n",
      "fold 2:\n",
      "Finished Training, Time: 55.4371 Best loss: 2.5520\n"
     ]
    },
    {
     "name": "stderr",
     "output_type": "stream",
     "text": [
      "100%|██████████| 8/8 [00:00<00:00, 100.31it/s]\n"
     ]
    },
    {
     "name": "stdout",
     "output_type": "stream",
     "text": [
      "R@1 : 91.667\n",
      "R@2 : 94.444\n",
      "R@4 : 96.032\n",
      "R@8 : 97.619\n",
      "R@16 : 99.206\n",
      "R@32 : 100.000\n",
      "----------\n",
      "fold 3:\n",
      "Finished Training, Time: 58.8922 Best loss: 2.5226\n"
     ]
    },
    {
     "name": "stderr",
     "output_type": "stream",
     "text": [
      "100%|██████████| 8/8 [00:00<00:00, 102.14it/s]\n"
     ]
    },
    {
     "name": "stdout",
     "output_type": "stream",
     "text": [
      "R@1 : 87.302\n",
      "R@2 : 90.476\n",
      "R@4 : 94.048\n",
      "R@8 : 96.429\n",
      "R@16 : 96.825\n",
      "R@32 : 98.016\n",
      "----------\n",
      "fold 4:\n",
      "Finished Training, Time: 55.5797 Best loss: 2.3345\n"
     ]
    },
    {
     "name": "stderr",
     "output_type": "stream",
     "text": [
      "100%|██████████| 8/8 [00:00<00:00, 79.94it/s]\n"
     ]
    },
    {
     "name": "stdout",
     "output_type": "stream",
     "text": [
      "R@1 : 100.000\n",
      "R@2 : 100.000\n",
      "R@4 : 100.000\n",
      "R@8 : 100.000\n",
      "R@16 : 100.000\n",
      "R@32 : 100.000\n",
      "----------\n",
      "fold 5:\n",
      "Finished Training, Time: 60.5970 Best loss: 2.5238\n"
     ]
    },
    {
     "name": "stderr",
     "output_type": "stream",
     "text": [
      "100%|██████████| 8/8 [00:00<00:00, 82.86it/s]\n"
     ]
    },
    {
     "name": "stdout",
     "output_type": "stream",
     "text": [
      "R@1 : 100.000\n",
      "R@2 : 100.000\n",
      "R@4 : 100.000\n",
      "R@8 : 100.000\n",
      "R@16 : 100.000\n",
      "R@32 : 100.000\n",
      "----------\n",
      "fold 6:\n",
      "Finished Training, Time: 58.7821 Best loss: 2.5640\n"
     ]
    },
    {
     "name": "stderr",
     "output_type": "stream",
     "text": [
      "100%|██████████| 8/8 [00:00<00:00, 85.01it/s]\n"
     ]
    },
    {
     "name": "stdout",
     "output_type": "stream",
     "text": [
      "R@1 : 87.698\n",
      "R@2 : 92.063\n",
      "R@4 : 94.048\n",
      "R@8 : 96.825\n",
      "R@16 : 97.222\n",
      "R@32 : 100.000\n",
      "----------\n",
      "fold 7:\n",
      "Finished Training, Time: 58.4103 Best loss: 2.5776\n"
     ]
    },
    {
     "name": "stderr",
     "output_type": "stream",
     "text": [
      "100%|██████████| 8/8 [00:00<00:00, 86.33it/s]\n"
     ]
    },
    {
     "name": "stdout",
     "output_type": "stream",
     "text": [
      "R@1 : 83.333\n",
      "R@2 : 86.905\n",
      "R@4 : 94.048\n",
      "R@8 : 98.016\n",
      "R@16 : 99.603\n",
      "R@32 : 100.000\n",
      "----------\n",
      "fold 8:\n",
      "Finished Training, Time: 58.4515 Best loss: 2.4478\n"
     ]
    },
    {
     "name": "stderr",
     "output_type": "stream",
     "text": [
      "100%|██████████| 8/8 [00:00<00:00, 80.24it/s]\n"
     ]
    },
    {
     "name": "stdout",
     "output_type": "stream",
     "text": [
      "R@1 : 79.762\n",
      "R@2 : 88.095\n",
      "R@4 : 93.254\n",
      "R@8 : 95.635\n",
      "R@16 : 99.603\n",
      "R@32 : 99.603\n",
      "----------\n",
      "fold 9:\n",
      "Finished Training, Time: 57.6927 Best loss: 2.3458\n"
     ]
    },
    {
     "name": "stderr",
     "output_type": "stream",
     "text": [
      "100%|██████████| 8/8 [00:00<00:00, 84.28it/s]\n"
     ]
    },
    {
     "name": "stdout",
     "output_type": "stream",
     "text": [
      "R@1 : 87.302\n",
      "R@2 : 90.873\n",
      "R@4 : 94.048\n",
      "R@8 : 95.635\n",
      "R@16 : 98.016\n",
      "R@32 : 99.603\n",
      "----------\n",
      "fold 10:\n",
      "Finished Training, Time: 61.0387 Best loss: 2.5052\n"
     ]
    },
    {
     "name": "stderr",
     "output_type": "stream",
     "text": [
      "100%|██████████| 8/8 [00:00<00:00, 83.58it/s]"
     ]
    },
    {
     "name": "stdout",
     "output_type": "stream",
     "text": [
      "R@1 : 75.397\n",
      "R@2 : 82.937\n",
      "R@4 : 89.286\n",
      "R@8 : 96.032\n",
      "R@16 : 98.413\n",
      "R@32 : 99.603\n"
     ]
    },
    {
     "name": "stderr",
     "output_type": "stream",
     "text": [
      "\n"
     ]
    }
   ],
   "source": [
    "k=10\n",
    "split_len = len(dataset)//k\n",
    "max_index = split_len*k\n",
    "r1,r2,r4,r8,r16,r32= [],[],[],[],[],[]\n",
    "for fold in range(k):\n",
    "    print(f'''----------\n",
    "fold {fold+1}:''')\n",
    "    start = split_len * fold\n",
    "    train_dataset = dataset[:start] + dataset[start + split_len:max_index]\n",
    "    test_dataset = dataset[start:start+split_len]\n",
    "    train_loader = load_dataset(train_dataset, batch_size, shuffle=True)\n",
    "    test_loader = load_dataset(test_dataset, batch_size, shuffle=False)\n",
    "    model = train_model(model_name='resnet50',\n",
    "                    loss_func_name='proxy_anchor',\n",
    "                    num_classes=num_classes,\n",
    "                    dataloader=train_loader,\n",
    "                    epochs=epochs,\n",
    "                    learning_rate=learning_rate,\n",
    "                    verbose=0)\n",
    "    recall = evaluate_cos(model, test_loader)\n",
    "    r1.append(recall[0])\n",
    "    r2.append(recall[1])\n",
    "    r4.append(recall[2])\n",
    "    r8.append(recall[3])\n",
    "    r16.append(recall[4])\n",
    "    r32.append(recall[5])"
   ]
  },
  {
   "cell_type": "code",
   "execution_count": 32,
   "id": "9b074cd9",
   "metadata": {},
   "outputs": [
    {
     "name": "stdout",
     "output_type": "stream",
     "text": [
      "Average Recall PA+Median+AdaptiveV:\n",
      "R@1 : 0.8710317460317458\n",
      "R@2 : 0.9107142857142856\n",
      "R@4 : 0.9448412698412698\n",
      "R@8 : 0.9690476190476189\n",
      "R@16 : 0.9845238095238095\n",
      "R@32 : 0.9960317460317463\n"
     ]
    }
   ],
   "source": [
    "print(f'''Average Recall PA+Median+AdaptiveV:\n",
    "R@1 : {np.mean(r1)*100:.4f}\n",
    "R@2 : {np.mean(r2)*100:.4f}\n",
    "R@4 : {np.mean(r4)*100:.4f}\n",
    "R@8 : {np.mean(r8)*100:.4f}\n",
    "R@16 : {np.mean(r16)*100:.4f}\n",
    "R@32 : {np.mean(r32)*100:.4f}''')"
   ]
  },
  {
   "cell_type": "code",
   "execution_count": 15,
   "id": "a11bb655",
   "metadata": {},
   "outputs": [],
   "source": [
    "dataset = make_dataset('LFWCustom', split='10fold', max_classes=50, min_samples=20, image_size=100, unsharp=True)\n",
    "redefine_train_parameters()"
   ]
  },
  {
   "cell_type": "code",
   "execution_count": 16,
   "id": "8eddc5c8",
   "metadata": {
    "scrolled": true
   },
   "outputs": [
    {
     "name": "stdout",
     "output_type": "stream",
     "text": [
      "----------\n",
      "fold 1:\n"
     ]
    },
    {
     "name": "stderr",
     "output_type": "stream",
     "text": [
      "/opt/conda/lib/python3.8/site-packages/skimage/filters/_unsharp_mask.py:11: FutureWarning: Automatic detection of the color channel was deprecated in v0.19, and `channel_axis=None` will be the new default in v0.22. Set `channel_axis=-1` explicitly to silence this warning.\n",
      "  blurred = gaussian(image, sigma=radius, mode='reflect')\n"
     ]
    },
    {
     "name": "stdout",
     "output_type": "stream",
     "text": [
      "Finished Training, Time: 43.4726 Best loss: 2.6362\n"
     ]
    },
    {
     "name": "stderr",
     "output_type": "stream",
     "text": [
      "100%|██████████| 8/8 [00:00<00:00, 102.69it/s]\n"
     ]
    },
    {
     "name": "stdout",
     "output_type": "stream",
     "text": [
      "R@1 : 78.571\n",
      "R@2 : 85.317\n",
      "R@4 : 93.254\n",
      "R@8 : 96.429\n",
      "R@16 : 97.619\n",
      "R@32 : 99.206\n",
      "----------\n",
      "fold 2:\n",
      "Finished Training, Time: 44.3740 Best loss: 2.4825\n"
     ]
    },
    {
     "name": "stderr",
     "output_type": "stream",
     "text": [
      "100%|██████████| 8/8 [00:00<00:00, 101.74it/s]\n"
     ]
    },
    {
     "name": "stdout",
     "output_type": "stream",
     "text": [
      "R@1 : 92.063\n",
      "R@2 : 96.032\n",
      "R@4 : 96.825\n",
      "R@8 : 97.619\n",
      "R@16 : 98.413\n",
      "R@32 : 99.206\n",
      "----------\n",
      "fold 3:\n",
      "Finished Training, Time: 43.7635 Best loss: 2.6772\n"
     ]
    },
    {
     "name": "stderr",
     "output_type": "stream",
     "text": [
      "100%|██████████| 8/8 [00:00<00:00, 101.71it/s]\n"
     ]
    },
    {
     "name": "stdout",
     "output_type": "stream",
     "text": [
      "R@1 : 92.857\n",
      "R@2 : 94.444\n",
      "R@4 : 96.429\n",
      "R@8 : 99.206\n",
      "R@16 : 99.206\n",
      "R@32 : 99.603\n",
      "----------\n",
      "fold 4:\n",
      "Finished Training, Time: 43.4098 Best loss: 2.3999\n"
     ]
    },
    {
     "name": "stderr",
     "output_type": "stream",
     "text": [
      "100%|██████████| 8/8 [00:00<00:00, 103.06it/s]\n"
     ]
    },
    {
     "name": "stdout",
     "output_type": "stream",
     "text": [
      "R@1 : 100.000\n",
      "R@2 : 100.000\n",
      "R@4 : 100.000\n",
      "R@8 : 100.000\n",
      "R@16 : 100.000\n",
      "R@32 : 100.000\n",
      "----------\n",
      "fold 5:\n",
      "Finished Training, Time: 44.0976 Best loss: 2.4584\n"
     ]
    },
    {
     "name": "stderr",
     "output_type": "stream",
     "text": [
      "100%|██████████| 8/8 [00:00<00:00, 87.66it/s]\n"
     ]
    },
    {
     "name": "stdout",
     "output_type": "stream",
     "text": [
      "R@1 : 100.000\n",
      "R@2 : 100.000\n",
      "R@4 : 100.000\n",
      "R@8 : 100.000\n",
      "R@16 : 100.000\n",
      "R@32 : 100.000\n",
      "----------\n",
      "fold 6:\n",
      "Finished Training, Time: 43.2351 Best loss: 2.2487\n"
     ]
    },
    {
     "name": "stderr",
     "output_type": "stream",
     "text": [
      "100%|██████████| 8/8 [00:00<00:00, 102.20it/s]\n"
     ]
    },
    {
     "name": "stdout",
     "output_type": "stream",
     "text": [
      "R@1 : 92.460\n",
      "R@2 : 94.841\n",
      "R@4 : 96.825\n",
      "R@8 : 97.222\n",
      "R@16 : 97.619\n",
      "R@32 : 99.603\n",
      "----------\n",
      "fold 7:\n",
      "Finished Training, Time: 43.6019 Best loss: 2.4779\n"
     ]
    },
    {
     "name": "stderr",
     "output_type": "stream",
     "text": [
      "100%|██████████| 8/8 [00:00<00:00, 100.46it/s]\n"
     ]
    },
    {
     "name": "stdout",
     "output_type": "stream",
     "text": [
      "R@1 : 81.349\n",
      "R@2 : 88.889\n",
      "R@4 : 93.254\n",
      "R@8 : 96.032\n",
      "R@16 : 98.413\n",
      "R@32 : 99.206\n",
      "----------\n",
      "fold 8:\n",
      "Finished Training, Time: 43.7538 Best loss: 2.3635\n"
     ]
    },
    {
     "name": "stderr",
     "output_type": "stream",
     "text": [
      "100%|██████████| 8/8 [00:00<00:00, 103.22it/s]\n"
     ]
    },
    {
     "name": "stdout",
     "output_type": "stream",
     "text": [
      "R@1 : 79.762\n",
      "R@2 : 90.873\n",
      "R@4 : 95.635\n",
      "R@8 : 96.429\n",
      "R@16 : 98.413\n",
      "R@32 : 99.603\n",
      "----------\n",
      "fold 9:\n",
      "Finished Training, Time: 43.7371 Best loss: 2.4612\n"
     ]
    },
    {
     "name": "stderr",
     "output_type": "stream",
     "text": [
      "100%|██████████| 8/8 [00:00<00:00, 101.33it/s]\n"
     ]
    },
    {
     "name": "stdout",
     "output_type": "stream",
     "text": [
      "R@1 : 87.698\n",
      "R@2 : 91.270\n",
      "R@4 : 92.857\n",
      "R@8 : 96.825\n",
      "R@16 : 98.810\n",
      "R@32 : 99.206\n",
      "----------\n",
      "fold 10:\n",
      "Finished Training, Time: 43.7695 Best loss: 2.4281\n"
     ]
    },
    {
     "name": "stderr",
     "output_type": "stream",
     "text": [
      "100%|██████████| 8/8 [00:00<00:00, 102.85it/s]\n"
     ]
    },
    {
     "name": "stdout",
     "output_type": "stream",
     "text": [
      "R@1 : 77.778\n",
      "R@2 : 86.905\n",
      "R@4 : 92.460\n",
      "R@8 : 96.825\n",
      "R@16 : 98.413\n",
      "R@32 : 99.206\n"
     ]
    }
   ],
   "source": [
    "k=10\n",
    "split_len = len(dataset)//k\n",
    "max_index = split_len*k\n",
    "r1,r2,r4,r8,r16,r32= [],[],[],[],[],[]\n",
    "for fold in range(k):\n",
    "    print(f'''----------\n",
    "fold {fold+1}:''')\n",
    "    start = split_len * fold\n",
    "    train_dataset = dataset[:start] + dataset[start + split_len:max_index]\n",
    "    test_dataset = dataset[start:start+split_len]\n",
    "    train_loader = load_dataset(train_dataset, batch_size, shuffle=True)\n",
    "    test_loader = load_dataset(test_dataset, batch_size, shuffle=False)\n",
    "    model = train_model(model_name='resnet50',\n",
    "                    loss_func_name='proxy_anchor',\n",
    "                    num_classes=num_classes,\n",
    "                    dataloader=train_loader,\n",
    "                    epochs=epochs,\n",
    "                    learning_rate=learning_rate,\n",
    "                    verbose=0)\n",
    "    recall = evaluate_cos(model, test_loader)\n",
    "    r1.append(recall[0])\n",
    "    r2.append(recall[1])\n",
    "    r4.append(recall[2])\n",
    "    r8.append(recall[3])\n",
    "    r16.append(recall[4])\n",
    "    r32.append(recall[5])"
   ]
  },
  {
   "cell_type": "code",
   "execution_count": 17,
   "id": "12e0a7fd",
   "metadata": {},
   "outputs": [
    {
     "name": "stdout",
     "output_type": "stream",
     "text": [
      "Average Recall PA+Unsharp:\n",
      "R@1 : 0.8825396825396826\n",
      "R@2 : 0.9285714285714285\n",
      "R@4 : 0.9575396825396825\n",
      "R@8 : 0.9765873015873016\n",
      "R@16 : 0.9869047619047621\n",
      "R@32 : 0.9948412698412697\n"
     ]
    }
   ],
   "source": [
    "print(f'''Average Recall PA+Unsharp:\n",
    "R@1 : {np.mean(r1)*100:.4f}\n",
    "R@2 : {np.mean(r2)*100:.4f}\n",
    "R@4 : {np.mean(r4)*100:.4f}\n",
    "R@8 : {np.mean(r8)*100:.4f}\n",
    "R@16 : {np.mean(r16)*100:.4f}\n",
    "R@32 : {np.mean(r32)*100:.4f}''')"
   ]
  },
  {
   "cell_type": "code",
   "execution_count": 21,
   "id": "8df8c7cd",
   "metadata": {},
   "outputs": [],
   "source": [
    "dataset = make_dataset('LFWCustom', split='10fold', max_classes=50, min_samples=20, image_size=100, median_unsharp=True, median=True)\n",
    "redefine_train_parameters()"
   ]
  },
  {
   "cell_type": "code",
   "execution_count": 22,
   "id": "385c5f0a",
   "metadata": {
    "scrolled": true
   },
   "outputs": [
    {
     "name": "stdout",
     "output_type": "stream",
     "text": [
      "----------\n",
      "fold 1:\n",
      "Finished Training, Time: 43.4293 Best loss: 2.3735\n"
     ]
    },
    {
     "name": "stderr",
     "output_type": "stream",
     "text": [
      "100%|██████████| 8/8 [00:00<00:00, 101.32it/s]\n"
     ]
    },
    {
     "name": "stdout",
     "output_type": "stream",
     "text": [
      "R@1 : 82.937\n",
      "R@2 : 89.683\n",
      "R@4 : 93.651\n",
      "R@8 : 96.429\n",
      "R@16 : 98.810\n",
      "R@32 : 99.603\n",
      "----------\n",
      "fold 2:\n",
      "Finished Training, Time: 43.4266 Best loss: 2.4985\n"
     ]
    },
    {
     "name": "stderr",
     "output_type": "stream",
     "text": [
      "100%|██████████| 8/8 [00:00<00:00, 102.61it/s]\n"
     ]
    },
    {
     "name": "stdout",
     "output_type": "stream",
     "text": [
      "R@1 : 94.444\n",
      "R@2 : 97.619\n",
      "R@4 : 98.016\n",
      "R@8 : 99.603\n",
      "R@16 : 99.603\n",
      "R@32 : 100.000\n",
      "----------\n",
      "fold 3:\n",
      "Finished Training, Time: 43.5122 Best loss: 2.2953\n"
     ]
    },
    {
     "name": "stderr",
     "output_type": "stream",
     "text": [
      "100%|██████████| 8/8 [00:00<00:00, 100.22it/s]\n"
     ]
    },
    {
     "name": "stdout",
     "output_type": "stream",
     "text": [
      "R@1 : 89.286\n",
      "R@2 : 93.254\n",
      "R@4 : 96.032\n",
      "R@8 : 98.016\n",
      "R@16 : 98.810\n",
      "R@32 : 99.603\n",
      "----------\n",
      "fold 4:\n",
      "Finished Training, Time: 43.8182 Best loss: 2.4753\n"
     ]
    },
    {
     "name": "stderr",
     "output_type": "stream",
     "text": [
      "100%|██████████| 8/8 [00:00<00:00, 103.99it/s]\n"
     ]
    },
    {
     "name": "stdout",
     "output_type": "stream",
     "text": [
      "R@1 : 100.000\n",
      "R@2 : 100.000\n",
      "R@4 : 100.000\n",
      "R@8 : 100.000\n",
      "R@16 : 100.000\n",
      "R@32 : 100.000\n",
      "----------\n",
      "fold 5:\n",
      "Finished Training, Time: 43.8647 Best loss: 2.4161\n"
     ]
    },
    {
     "name": "stderr",
     "output_type": "stream",
     "text": [
      "100%|██████████| 8/8 [00:00<00:00, 102.97it/s]\n"
     ]
    },
    {
     "name": "stdout",
     "output_type": "stream",
     "text": [
      "R@1 : 100.000\n",
      "R@2 : 100.000\n",
      "R@4 : 100.000\n",
      "R@8 : 100.000\n",
      "R@16 : 100.000\n",
      "R@32 : 100.000\n",
      "----------\n",
      "fold 6:\n",
      "Finished Training, Time: 43.5109 Best loss: 2.5307\n"
     ]
    },
    {
     "name": "stderr",
     "output_type": "stream",
     "text": [
      "100%|██████████| 8/8 [00:00<00:00, 101.65it/s]\n"
     ]
    },
    {
     "name": "stdout",
     "output_type": "stream",
     "text": [
      "R@1 : 90.873\n",
      "R@2 : 95.635\n",
      "R@4 : 97.222\n",
      "R@8 : 98.016\n",
      "R@16 : 98.016\n",
      "R@32 : 99.603\n",
      "----------\n",
      "fold 7:\n",
      "Finished Training, Time: 43.4941 Best loss: 2.4347\n"
     ]
    },
    {
     "name": "stderr",
     "output_type": "stream",
     "text": [
      "100%|██████████| 8/8 [00:00<00:00, 101.99it/s]\n"
     ]
    },
    {
     "name": "stdout",
     "output_type": "stream",
     "text": [
      "R@1 : 77.381\n",
      "R@2 : 86.508\n",
      "R@4 : 90.079\n",
      "R@8 : 94.444\n",
      "R@16 : 96.825\n",
      "R@32 : 99.206\n",
      "----------\n",
      "fold 8:\n",
      "Finished Training, Time: 43.8335 Best loss: 2.7139\n"
     ]
    },
    {
     "name": "stderr",
     "output_type": "stream",
     "text": [
      "100%|██████████| 8/8 [00:00<00:00, 93.37it/s]\n"
     ]
    },
    {
     "name": "stdout",
     "output_type": "stream",
     "text": [
      "R@1 : 84.524\n",
      "R@2 : 90.079\n",
      "R@4 : 95.635\n",
      "R@8 : 97.222\n",
      "R@16 : 99.206\n",
      "R@32 : 99.603\n",
      "----------\n",
      "fold 9:\n",
      "Finished Training, Time: 43.6998 Best loss: 2.4916\n"
     ]
    },
    {
     "name": "stderr",
     "output_type": "stream",
     "text": [
      "100%|██████████| 8/8 [00:00<00:00, 103.80it/s]\n"
     ]
    },
    {
     "name": "stdout",
     "output_type": "stream",
     "text": [
      "R@1 : 83.730\n",
      "R@2 : 88.889\n",
      "R@4 : 92.857\n",
      "R@8 : 96.429\n",
      "R@16 : 98.413\n",
      "R@32 : 99.603\n",
      "----------\n",
      "fold 10:\n",
      "Finished Training, Time: 43.6294 Best loss: 2.5091\n"
     ]
    },
    {
     "name": "stderr",
     "output_type": "stream",
     "text": [
      "100%|██████████| 8/8 [00:00<00:00, 102.57it/s]"
     ]
    },
    {
     "name": "stdout",
     "output_type": "stream",
     "text": [
      "R@1 : 76.587\n",
      "R@2 : 83.333\n",
      "R@4 : 88.492\n",
      "R@8 : 96.429\n",
      "R@16 : 99.206\n",
      "R@32 : 99.206\n"
     ]
    },
    {
     "name": "stderr",
     "output_type": "stream",
     "text": [
      "\n"
     ]
    }
   ],
   "source": [
    "k=10\n",
    "split_len = len(dataset)//k\n",
    "max_index = split_len*k\n",
    "r1,r2,r4,r8,r16,r32= [],[],[],[],[],[]\n",
    "for fold in range(k):\n",
    "    print(f'''----------\n",
    "fold {fold+1}:''')\n",
    "    start = split_len * fold\n",
    "    train_dataset = dataset[:start] + dataset[start + split_len:max_index]\n",
    "    test_dataset = dataset[start:start+split_len]\n",
    "    train_loader = load_dataset(train_dataset, batch_size, shuffle=True)\n",
    "    test_loader = load_dataset(test_dataset, batch_size, shuffle=False)\n",
    "    model = train_model(model_name='resnet50',\n",
    "                    loss_func_name='proxy_anchor',\n",
    "                    num_classes=num_classes,\n",
    "                    dataloader=train_loader,\n",
    "                    epochs=epochs,\n",
    "                    learning_rate=learning_rate,\n",
    "                    verbose=0)\n",
    "    recall = evaluate_cos(model, test_loader)\n",
    "    r1.append(recall[0])\n",
    "    r2.append(recall[1])\n",
    "    r4.append(recall[2])\n",
    "    r8.append(recall[3])\n",
    "    r16.append(recall[4])\n",
    "    r32.append(recall[5])"
   ]
  },
  {
   "cell_type": "code",
   "execution_count": 23,
   "id": "5faa7366",
   "metadata": {},
   "outputs": [
    {
     "name": "stdout",
     "output_type": "stream",
     "text": [
      "Average Recall PA+MedianUnsharp+Median:\n",
      "R@1 : 0.8797619047619047\n",
      "R@2 : 0.925\n",
      "R@4 : 0.9519841269841269\n",
      "R@8 : 0.9765873015873014\n",
      "R@16 : 0.9888888888888889\n",
      "R@32 : 0.9964285714285713\n"
     ]
    }
   ],
   "source": [
    "print(f'''Average Recall PA+MedianUnsharp+Median:\n",
    "R@1 : {np.mean(r1)*100:.4f}\n",
    "R@2 : {np.mean(r2)*100:.4f}\n",
    "R@4 : {np.mean(r4)*100:.4f}\n",
    "R@8 : {np.mean(r8)*100:.4f}\n",
    "R@16 : {np.mean(r16)*100:.4f}\n",
    "R@32 : {np.mean(r32)*100:.4f}''')"
   ]
  },
  {
   "cell_type": "code",
   "execution_count": 3,
   "id": "bc435c21",
   "metadata": {},
   "outputs": [],
   "source": [
    "dataset = make_dataset('LFWCustom', split='10fold', max_classes=50, min_samples=20, image_size=100, adjust_log=True)\n",
    "redefine_train_parameters()"
   ]
  },
  {
   "cell_type": "code",
   "execution_count": 9,
   "id": "eb13a69d",
   "metadata": {
    "scrolled": true
   },
   "outputs": [
    {
     "name": "stdout",
     "output_type": "stream",
     "text": [
      "Finished Training, Time: 45.9773 Best loss: 2.4762\n"
     ]
    },
    {
     "name": "stderr",
     "output_type": "stream",
     "text": [
      "/workspace/Experiments/Clean/dataset/utils.py:132: FutureWarning: The input object of type 'Tensor' is an array-like implementing one of the corresponding protocols (`__array__`, `__array_interface__` or `__array_struct__`); but not a sequence (or 0-D). In the future, this object will be coerced as if it was first converted using `np.array(obj)`. To retain the old behaviour, you have to either modify the type 'Tensor', or assign to an empty array created with `np.empty(correct_shape, dtype=object)`.\n",
      "  except: num_classes = len(Counter(np.array(dataset, dtype=object)[:,1]))\n",
      "100%|██████████| 8/8 [00:00<00:00, 108.29it/s]\n"
     ]
    },
    {
     "name": "stdout",
     "output_type": "stream",
     "text": [
      "R@1 : 81.746\n",
      "R@2 : 88.095\n",
      "R@4 : 93.651\n",
      "R@8 : 97.222\n",
      "R@16 : 99.206\n",
      "R@32 : 99.206\n",
      "Finished Training, Time: 45.8486 Best loss: 2.4301\n"
     ]
    },
    {
     "name": "stderr",
     "output_type": "stream",
     "text": [
      "100%|██████████| 8/8 [00:00<00:00, 105.78it/s]\n"
     ]
    },
    {
     "name": "stdout",
     "output_type": "stream",
     "text": [
      "R@1 : 94.048\n",
      "R@2 : 96.825\n",
      "R@4 : 98.016\n",
      "R@8 : 98.413\n",
      "R@16 : 99.206\n",
      "R@32 : 100.000\n",
      "Finished Training, Time: 44.4474 Best loss: 2.4218\n"
     ]
    },
    {
     "name": "stderr",
     "output_type": "stream",
     "text": [
      "100%|██████████| 8/8 [00:00<00:00, 113.23it/s]\n"
     ]
    },
    {
     "name": "stdout",
     "output_type": "stream",
     "text": [
      "R@1 : 91.270\n",
      "R@2 : 94.444\n",
      "R@4 : 96.825\n",
      "R@8 : 97.222\n",
      "R@16 : 98.016\n",
      "R@32 : 98.810\n",
      "Finished Training, Time: 44.1027 Best loss: 2.4899\n"
     ]
    },
    {
     "name": "stderr",
     "output_type": "stream",
     "text": [
      "100%|██████████| 8/8 [00:00<00:00, 117.21it/s]\n"
     ]
    },
    {
     "name": "stdout",
     "output_type": "stream",
     "text": [
      "R@1 : 100.000\n",
      "R@2 : 100.000\n",
      "R@4 : 100.000\n",
      "R@8 : 100.000\n",
      "R@16 : 100.000\n",
      "R@32 : 100.000\n",
      "Finished Training, Time: 44.5922 Best loss: 2.4074\n"
     ]
    },
    {
     "name": "stderr",
     "output_type": "stream",
     "text": [
      "100%|██████████| 8/8 [00:00<00:00, 99.16it/s]\n"
     ]
    },
    {
     "name": "stdout",
     "output_type": "stream",
     "text": [
      "R@1 : 100.000\n",
      "R@2 : 100.000\n",
      "R@4 : 100.000\n",
      "R@8 : 100.000\n",
      "R@16 : 100.000\n",
      "R@32 : 100.000\n",
      "Finished Training, Time: 44.7957 Best loss: 2.2272\n"
     ]
    },
    {
     "name": "stderr",
     "output_type": "stream",
     "text": [
      "100%|██████████| 8/8 [00:00<00:00, 113.78it/s]\n"
     ]
    },
    {
     "name": "stdout",
     "output_type": "stream",
     "text": [
      "R@1 : 91.270\n",
      "R@2 : 94.841\n",
      "R@4 : 97.619\n",
      "R@8 : 98.016\n",
      "R@16 : 98.413\n",
      "R@32 : 99.603\n",
      "Finished Training, Time: 44.6580 Best loss: 2.3858\n"
     ]
    },
    {
     "name": "stderr",
     "output_type": "stream",
     "text": [
      "100%|██████████| 8/8 [00:00<00:00, 115.69it/s]\n"
     ]
    },
    {
     "name": "stdout",
     "output_type": "stream",
     "text": [
      "R@1 : 71.429\n",
      "R@2 : 80.952\n",
      "R@4 : 89.286\n",
      "R@8 : 95.635\n",
      "R@16 : 98.016\n",
      "R@32 : 99.206\n",
      "Finished Training, Time: 44.0053 Best loss: 2.1665\n"
     ]
    },
    {
     "name": "stderr",
     "output_type": "stream",
     "text": [
      "100%|██████████| 8/8 [00:00<00:00, 104.02it/s]\n"
     ]
    },
    {
     "name": "stdout",
     "output_type": "stream",
     "text": [
      "R@1 : 81.746\n",
      "R@2 : 90.079\n",
      "R@4 : 94.444\n",
      "R@8 : 96.032\n",
      "R@16 : 97.619\n",
      "R@32 : 98.413\n",
      "Finished Training, Time: 45.1441 Best loss: 2.4619\n"
     ]
    },
    {
     "name": "stderr",
     "output_type": "stream",
     "text": [
      "100%|██████████| 8/8 [00:00<00:00, 112.83it/s]\n"
     ]
    },
    {
     "name": "stdout",
     "output_type": "stream",
     "text": [
      "R@1 : 87.698\n",
      "R@2 : 90.873\n",
      "R@4 : 94.048\n",
      "R@8 : 96.429\n",
      "R@16 : 98.413\n",
      "R@32 : 99.603\n",
      "Finished Training, Time: 43.9402 Best loss: 2.3760\n"
     ]
    },
    {
     "name": "stderr",
     "output_type": "stream",
     "text": [
      "100%|██████████| 8/8 [00:00<00:00, 104.34it/s]\n"
     ]
    },
    {
     "name": "stdout",
     "output_type": "stream",
     "text": [
      "R@1 : 80.556\n",
      "R@2 : 90.873\n",
      "R@4 : 94.841\n",
      "R@8 : 96.429\n",
      "R@16 : 98.810\n",
      "R@32 : 99.603\n"
     ]
    }
   ],
   "source": [
    "k=10\n",
    "split_len = len(dataset)//k\n",
    "max_index = split_len*k\n",
    "r1,r2,r4,r8,r16,r32= [],[],[],[],[],[]\n",
    "for fold in range(k):\n",
    "    print(f'''----------\n",
    "fold {fold+1}:''')\n",
    "    start = split_len * fold\n",
    "    train_dataset = dataset[:start] + dataset[start + split_len:max_index]\n",
    "    test_dataset = dataset[start:start+split_len]\n",
    "    train_loader = load_dataset(train_dataset, batch_size, shuffle=True)\n",
    "    test_loader = load_dataset(test_dataset, batch_size, shuffle=False)\n",
    "    model = train_model(model_name='resnet50',\n",
    "                    loss_func_name='proxy_anchor',\n",
    "                    num_classes=num_classes,\n",
    "                    dataloader=train_loader,\n",
    "                    epochs=epochs,\n",
    "                    learning_rate=learning_rate,\n",
    "                    verbose=0)\n",
    "    recall = evaluate_cos(model, test_loader)\n",
    "    r1.append(recall[0])\n",
    "    r2.append(recall[1])\n",
    "    r4.append(recall[2])\n",
    "    r8.append(recall[3])\n",
    "    r16.append(recall[4])\n",
    "    r32.append(recall[5])"
   ]
  },
  {
   "cell_type": "code",
   "execution_count": 33,
   "id": "e131b7bb",
   "metadata": {},
   "outputs": [
    {
     "name": "stdout",
     "output_type": "stream",
     "text": [
      "Average Recall PA+AdjustLog:\n",
      "R@1 : 0.8797619047619047\n",
      "R@2 : 0.9269841269841269\n",
      "R@4 : 0.9587301587301587\n",
      "R@8 : 0.9753968253968253\n",
      "R@16 : 0.9876984126984126\n",
      "R@32 : 0.9944444444444447\n"
     ]
    }
   ],
   "source": [
    "print(f'''Average Recall PA+AdjustLog:\n",
    "R@1 : {np.mean(r1)*100:.4f}\n",
    "R@2 : {np.mean(r2)*100:.4f}\n",
    "R@4 : {np.mean(r4)*100:.4f}\n",
    "R@8 : {np.mean(r8)*100:.4f}\n",
    "R@16 : {np.mean(r16)*100:.4f}\n",
    "R@32 : {np.mean(r32)*100:.4f}''')"
   ]
  },
  {
   "cell_type": "code",
   "execution_count": 24,
   "id": "d4b4fd54",
   "metadata": {},
   "outputs": [],
   "source": [
    "dataset = make_dataset('LFWCustom', split='10fold', max_classes=50, min_samples=20, image_size=100, unsharp=True, adjust_log=True)\n",
    "redefine_train_parameters()"
   ]
  },
  {
   "cell_type": "code",
   "execution_count": 25,
   "id": "c251c2d1",
   "metadata": {
    "scrolled": true
   },
   "outputs": [
    {
     "name": "stdout",
     "output_type": "stream",
     "text": [
      "----------\n",
      "fold 1:\n",
      "Finished Training, Time: 43.4334 Best loss: 2.4538\n"
     ]
    },
    {
     "name": "stderr",
     "output_type": "stream",
     "text": [
      "100%|██████████| 8/8 [00:00<00:00, 101.76it/s]\n"
     ]
    },
    {
     "name": "stdout",
     "output_type": "stream",
     "text": [
      "R@1 : 78.175\n",
      "R@2 : 85.714\n",
      "R@4 : 91.270\n",
      "R@8 : 95.238\n",
      "R@16 : 97.222\n",
      "R@32 : 99.603\n",
      "----------\n",
      "fold 2:\n",
      "Finished Training, Time: 43.7764 Best loss: 2.4907\n"
     ]
    },
    {
     "name": "stderr",
     "output_type": "stream",
     "text": [
      "100%|██████████| 8/8 [00:00<00:00, 103.08it/s]\n"
     ]
    },
    {
     "name": "stdout",
     "output_type": "stream",
     "text": [
      "R@1 : 90.079\n",
      "R@2 : 93.651\n",
      "R@4 : 96.429\n",
      "R@8 : 98.413\n",
      "R@16 : 99.206\n",
      "R@32 : 99.603\n",
      "----------\n",
      "fold 3:\n",
      "Finished Training, Time: 43.9784 Best loss: 2.4550\n"
     ]
    },
    {
     "name": "stderr",
     "output_type": "stream",
     "text": [
      "100%|██████████| 8/8 [00:00<00:00, 102.85it/s]\n"
     ]
    },
    {
     "name": "stdout",
     "output_type": "stream",
     "text": [
      "R@1 : 91.270\n",
      "R@2 : 94.048\n",
      "R@4 : 97.619\n",
      "R@8 : 98.016\n",
      "R@16 : 98.413\n",
      "R@32 : 98.413\n",
      "----------\n",
      "fold 4:\n",
      "Finished Training, Time: 43.6033 Best loss: 2.4111\n"
     ]
    },
    {
     "name": "stderr",
     "output_type": "stream",
     "text": [
      "100%|██████████| 8/8 [00:00<00:00, 101.97it/s]\n"
     ]
    },
    {
     "name": "stdout",
     "output_type": "stream",
     "text": [
      "R@1 : 100.000\n",
      "R@2 : 100.000\n",
      "R@4 : 100.000\n",
      "R@8 : 100.000\n",
      "R@16 : 100.000\n",
      "R@32 : 100.000\n",
      "----------\n",
      "fold 5:\n",
      "Finished Training, Time: 43.6780 Best loss: 2.3647\n"
     ]
    },
    {
     "name": "stderr",
     "output_type": "stream",
     "text": [
      "100%|██████████| 8/8 [00:00<00:00, 102.32it/s]\n"
     ]
    },
    {
     "name": "stdout",
     "output_type": "stream",
     "text": [
      "R@1 : 100.000\n",
      "R@2 : 100.000\n",
      "R@4 : 100.000\n",
      "R@8 : 100.000\n",
      "R@16 : 100.000\n",
      "R@32 : 100.000\n",
      "----------\n",
      "fold 6:\n",
      "Finished Training, Time: 43.8622 Best loss: 2.3270\n"
     ]
    },
    {
     "name": "stderr",
     "output_type": "stream",
     "text": [
      "100%|██████████| 8/8 [00:00<00:00, 98.83it/s]\n"
     ]
    },
    {
     "name": "stdout",
     "output_type": "stream",
     "text": [
      "R@1 : 88.095\n",
      "R@2 : 91.667\n",
      "R@4 : 93.651\n",
      "R@8 : 95.635\n",
      "R@16 : 98.413\n",
      "R@32 : 100.000\n",
      "----------\n",
      "fold 7:\n",
      "Finished Training, Time: 43.5871 Best loss: 2.3310\n"
     ]
    },
    {
     "name": "stderr",
     "output_type": "stream",
     "text": [
      "100%|██████████| 8/8 [00:00<00:00, 100.23it/s]\n"
     ]
    },
    {
     "name": "stdout",
     "output_type": "stream",
     "text": [
      "R@1 : 78.968\n",
      "R@2 : 87.698\n",
      "R@4 : 93.651\n",
      "R@8 : 95.635\n",
      "R@16 : 99.206\n",
      "R@32 : 99.206\n",
      "----------\n",
      "fold 8:\n",
      "Finished Training, Time: 43.5627 Best loss: 2.5237\n"
     ]
    },
    {
     "name": "stderr",
     "output_type": "stream",
     "text": [
      "100%|██████████| 8/8 [00:00<00:00, 102.20it/s]\n"
     ]
    },
    {
     "name": "stdout",
     "output_type": "stream",
     "text": [
      "R@1 : 81.746\n",
      "R@2 : 86.508\n",
      "R@4 : 91.667\n",
      "R@8 : 94.841\n",
      "R@16 : 97.619\n",
      "R@32 : 99.206\n",
      "----------\n",
      "fold 9:\n",
      "Finished Training, Time: 43.8013 Best loss: 2.3223\n"
     ]
    },
    {
     "name": "stderr",
     "output_type": "stream",
     "text": [
      "100%|██████████| 8/8 [00:00<00:00, 101.58it/s]\n"
     ]
    },
    {
     "name": "stdout",
     "output_type": "stream",
     "text": [
      "R@1 : 81.349\n",
      "R@2 : 86.508\n",
      "R@4 : 90.873\n",
      "R@8 : 94.841\n",
      "R@16 : 98.810\n",
      "R@32 : 99.603\n",
      "----------\n",
      "fold 10:\n",
      "Finished Training, Time: 43.7680 Best loss: 2.6048\n"
     ]
    },
    {
     "name": "stderr",
     "output_type": "stream",
     "text": [
      "100%|██████████| 8/8 [00:00<00:00, 100.74it/s]\n"
     ]
    },
    {
     "name": "stdout",
     "output_type": "stream",
     "text": [
      "R@1 : 79.365\n",
      "R@2 : 87.302\n",
      "R@4 : 92.460\n",
      "R@8 : 97.222\n",
      "R@16 : 99.603\n",
      "R@32 : 99.603\n"
     ]
    }
   ],
   "source": [
    "k=10\n",
    "split_len = len(dataset)//k\n",
    "max_index = split_len*k\n",
    "r1,r2,r4,r8,r16,r32= [],[],[],[],[],[]\n",
    "for fold in range(k):\n",
    "    print(f'''----------\n",
    "fold {fold+1}:''')\n",
    "    start = split_len * fold\n",
    "    train_dataset = dataset[:start] + dataset[start + split_len:max_index]\n",
    "    test_dataset = dataset[start:start+split_len]\n",
    "    train_loader = load_dataset(train_dataset, batch_size, shuffle=True)\n",
    "    test_loader = load_dataset(test_dataset, batch_size, shuffle=False)\n",
    "    model = train_model(model_name='resnet50',\n",
    "                    loss_func_name='proxy_anchor',\n",
    "                    num_classes=num_classes,\n",
    "                    dataloader=train_loader,\n",
    "                    epochs=epochs,\n",
    "                    learning_rate=learning_rate,\n",
    "                    verbose=0)\n",
    "    recall = evaluate_cos(model, test_loader)\n",
    "    r1.append(recall[0])\n",
    "    r2.append(recall[1])\n",
    "    r4.append(recall[2])\n",
    "    r8.append(recall[3])\n",
    "    r16.append(recall[4])\n",
    "    r32.append(recall[5])"
   ]
  },
  {
   "cell_type": "code",
   "execution_count": 26,
   "id": "6d571ae0",
   "metadata": {},
   "outputs": [
    {
     "name": "stdout",
     "output_type": "stream",
     "text": [
      "Average Recall PA+Unsharp+AdjustLog:\n",
      "R@1 : 0.869047619047619\n",
      "R@2 : 0.9130952380952382\n",
      "R@4 : 0.9476190476190475\n",
      "R@8 : 0.9698412698412697\n",
      "R@16 : 0.9884920634920636\n",
      "R@32 : 0.9952380952380953\n"
     ]
    }
   ],
   "source": [
    "print(f'''Average Recall PA+Unsharp+AdjustLog:\n",
    "R@1 : {np.mean(r1)*100:.4f}\n",
    "R@2 : {np.mean(r2)*100:.4f}\n",
    "R@4 : {np.mean(r4)*100:.4f}\n",
    "R@8 : {np.mean(r8)*100:.4f}\n",
    "R@16 : {np.mean(r16)*100:.4f}\n",
    "R@32 : {np.mean(r32)*100:.4f}''')"
   ]
  },
  {
   "cell_type": "code",
   "execution_count": 34,
   "id": "30817913",
   "metadata": {},
   "outputs": [],
   "source": [
    "dataset = make_dataset('LFWCustom', split='10fold', max_classes=50, min_samples=20, image_size=100, adjust_log=True, unsharp_after=True)\n",
    "redefine_train_parameters()"
   ]
  },
  {
   "cell_type": "code",
   "execution_count": 35,
   "id": "e2b6cd14",
   "metadata": {
    "scrolled": true
   },
   "outputs": [
    {
     "name": "stdout",
     "output_type": "stream",
     "text": [
      "----------\n",
      "fold 1:\n",
      "Finished Training, Time: 60.1472 Best loss: 2.3642\n"
     ]
    },
    {
     "name": "stderr",
     "output_type": "stream",
     "text": [
      "100%|██████████| 8/8 [00:00<00:00, 87.49it/s]\n"
     ]
    },
    {
     "name": "stdout",
     "output_type": "stream",
     "text": [
      "R@1 : 80.159\n",
      "R@2 : 85.714\n",
      "R@4 : 91.270\n",
      "R@8 : 94.444\n",
      "R@16 : 96.825\n",
      "R@32 : 99.206\n",
      "----------\n",
      "fold 2:\n",
      "Finished Training, Time: 61.2909 Best loss: 2.3984\n"
     ]
    },
    {
     "name": "stderr",
     "output_type": "stream",
     "text": [
      "100%|██████████| 8/8 [00:00<00:00, 80.83it/s]\n"
     ]
    },
    {
     "name": "stdout",
     "output_type": "stream",
     "text": [
      "R@1 : 92.857\n",
      "R@2 : 96.032\n",
      "R@4 : 96.825\n",
      "R@8 : 97.619\n",
      "R@16 : 98.810\n",
      "R@32 : 99.206\n",
      "----------\n",
      "fold 3:\n",
      "Finished Training, Time: 59.8058 Best loss: 2.2633\n"
     ]
    },
    {
     "name": "stderr",
     "output_type": "stream",
     "text": [
      "100%|██████████| 8/8 [00:00<00:00, 82.98it/s]\n"
     ]
    },
    {
     "name": "stdout",
     "output_type": "stream",
     "text": [
      "R@1 : 94.444\n",
      "R@2 : 95.635\n",
      "R@4 : 98.016\n",
      "R@8 : 98.810\n",
      "R@16 : 99.206\n",
      "R@32 : 99.603\n",
      "----------\n",
      "fold 4:\n",
      "Finished Training, Time: 61.6161 Best loss: 2.3787\n"
     ]
    },
    {
     "name": "stderr",
     "output_type": "stream",
     "text": [
      "100%|██████████| 8/8 [00:00<00:00, 77.71it/s]\n"
     ]
    },
    {
     "name": "stdout",
     "output_type": "stream",
     "text": [
      "R@1 : 100.000\n",
      "R@2 : 100.000\n",
      "R@4 : 100.000\n",
      "R@8 : 100.000\n",
      "R@16 : 100.000\n",
      "R@32 : 100.000\n",
      "----------\n",
      "fold 5:\n",
      "Finished Training, Time: 60.0121 Best loss: 2.3962\n"
     ]
    },
    {
     "name": "stderr",
     "output_type": "stream",
     "text": [
      "100%|██████████| 8/8 [00:00<00:00, 86.11it/s]\n"
     ]
    },
    {
     "name": "stdout",
     "output_type": "stream",
     "text": [
      "R@1 : 100.000\n",
      "R@2 : 100.000\n",
      "R@4 : 100.000\n",
      "R@8 : 100.000\n",
      "R@16 : 100.000\n",
      "R@32 : 100.000\n",
      "----------\n",
      "fold 6:\n",
      "Finished Training, Time: 61.3116 Best loss: 2.4784\n"
     ]
    },
    {
     "name": "stderr",
     "output_type": "stream",
     "text": [
      "100%|██████████| 8/8 [00:00<00:00, 81.49it/s]\n"
     ]
    },
    {
     "name": "stdout",
     "output_type": "stream",
     "text": [
      "R@1 : 91.270\n",
      "R@2 : 93.254\n",
      "R@4 : 95.238\n",
      "R@8 : 96.032\n",
      "R@16 : 97.619\n",
      "R@32 : 99.603\n",
      "----------\n",
      "fold 7:\n",
      "Finished Training, Time: 61.5022 Best loss: 2.4353\n"
     ]
    },
    {
     "name": "stderr",
     "output_type": "stream",
     "text": [
      "100%|██████████| 8/8 [00:00<00:00, 79.83it/s]\n"
     ]
    },
    {
     "name": "stdout",
     "output_type": "stream",
     "text": [
      "R@1 : 78.968\n",
      "R@2 : 85.714\n",
      "R@4 : 90.873\n",
      "R@8 : 96.032\n",
      "R@16 : 99.206\n",
      "R@32 : 99.603\n",
      "----------\n",
      "fold 8:\n",
      "Finished Training, Time: 61.0010 Best loss: 2.4113\n"
     ]
    },
    {
     "name": "stderr",
     "output_type": "stream",
     "text": [
      "100%|██████████| 8/8 [00:00<00:00, 81.88it/s]\n"
     ]
    },
    {
     "name": "stdout",
     "output_type": "stream",
     "text": [
      "R@1 : 74.603\n",
      "R@2 : 85.317\n",
      "R@4 : 92.460\n",
      "R@8 : 95.238\n",
      "R@16 : 98.810\n",
      "R@32 : 99.206\n",
      "----------\n",
      "fold 9:\n",
      "Finished Training, Time: 60.9896 Best loss: 2.2049\n"
     ]
    },
    {
     "name": "stderr",
     "output_type": "stream",
     "text": [
      "100%|██████████| 8/8 [00:00<00:00, 81.24it/s]\n"
     ]
    },
    {
     "name": "stdout",
     "output_type": "stream",
     "text": [
      "R@1 : 88.889\n",
      "R@2 : 92.857\n",
      "R@4 : 94.444\n",
      "R@8 : 97.222\n",
      "R@16 : 98.413\n",
      "R@32 : 99.206\n",
      "----------\n",
      "fold 10:\n",
      "Finished Training, Time: 61.5015 Best loss: 2.4077\n"
     ]
    },
    {
     "name": "stderr",
     "output_type": "stream",
     "text": [
      "100%|██████████| 8/8 [00:00<00:00, 85.24it/s]\n"
     ]
    },
    {
     "name": "stdout",
     "output_type": "stream",
     "text": [
      "R@1 : 75.794\n",
      "R@2 : 84.127\n",
      "R@4 : 90.476\n",
      "R@8 : 95.238\n",
      "R@16 : 98.413\n",
      "R@32 : 99.603\n"
     ]
    }
   ],
   "source": [
    "k=10\n",
    "split_len = len(dataset)//k\n",
    "max_index = split_len*k\n",
    "r1,r2,r4,r8,r16,r32= [],[],[],[],[],[]\n",
    "for fold in range(k):\n",
    "    print(f'''----------\n",
    "fold {fold+1}:''')\n",
    "    start = split_len * fold\n",
    "    train_dataset = dataset[:start] + dataset[start + split_len:max_index]\n",
    "    test_dataset = dataset[start:start+split_len]\n",
    "    train_loader = load_dataset(train_dataset, batch_size, shuffle=True)\n",
    "    test_loader = load_dataset(test_dataset, batch_size, shuffle=False)\n",
    "    model = train_model(model_name='resnet50',\n",
    "                    loss_func_name='proxy_anchor',\n",
    "                    num_classes=num_classes,\n",
    "                    dataloader=train_loader,\n",
    "                    epochs=epochs,\n",
    "                    learning_rate=learning_rate,\n",
    "                    verbose=0)\n",
    "    recall = evaluate_cos(model, test_loader)\n",
    "    r1.append(recall[0])\n",
    "    r2.append(recall[1])\n",
    "    r4.append(recall[2])\n",
    "    r8.append(recall[3])\n",
    "    r16.append(recall[4])\n",
    "    r32.append(recall[5])"
   ]
  },
  {
   "cell_type": "code",
   "execution_count": 36,
   "id": "e1493efc",
   "metadata": {},
   "outputs": [
    {
     "name": "stdout",
     "output_type": "stream",
     "text": [
      "Average Recall PA+AdjustLog+Unsharp:\n",
      "R@1 : 0.8769841269841271\n",
      "R@2 : 0.9186507936507937\n",
      "R@4 : 0.9496031746031747\n",
      "R@8 : 0.9706349206349205\n",
      "R@16 : 0.9873015873015873\n",
      "R@32 : 0.9952380952380953\n"
     ]
    }
   ],
   "source": [
    "print(f'''Average Recall PA+AdjustLog+Unsharp:\n",
    "R@1 : {np.mean(r1)*100:.4f}\n",
    "R@2 : {np.mean(r2)*100:.4f}\n",
    "R@4 : {np.mean(r4)*100:.4f}\n",
    "R@8 : {np.mean(r8)*100:.4f}\n",
    "R@16 : {np.mean(r16)*100:.4f}\n",
    "R@32 : {np.mean(r32)*100:.4f}''')"
   ]
  }
 ],
 "metadata": {
  "kernelspec": {
   "display_name": "Python 3 (ipykernel)",
   "language": "python",
   "name": "python3"
  },
  "language_info": {
   "codemirror_mode": {
    "name": "ipython",
    "version": 3
   },
   "file_extension": ".py",
   "mimetype": "text/x-python",
   "name": "python",
   "nbconvert_exporter": "python",
   "pygments_lexer": "ipython3",
   "version": "3.8.12"
  }
 },
 "nbformat": 4,
 "nbformat_minor": 5
}
