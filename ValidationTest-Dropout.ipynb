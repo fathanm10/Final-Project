{
 "cells": [
  {
   "cell_type": "code",
   "execution_count": 7,
   "id": "a54a86d4",
   "metadata": {},
   "outputs": [],
   "source": [
    "import torch\n",
    "from train import train_model\n",
    "from dataset.utils import *\n",
    "from utils import *\n",
    "import numpy as np"
   ]
  },
  {
   "cell_type": "code",
   "execution_count": 8,
   "id": "88df472c",
   "metadata": {},
   "outputs": [],
   "source": [
    "batch_size = 32\n",
    "def redefine_train_parameters():\n",
    "    global device, epochs, learning_rate, loss_lr, num_classes, embedding_size\n",
    "    device = torch.device('cuda' if torch.cuda.is_available() else 'cpu')\n",
    "    epochs = 2\n",
    "    learning_rate = 0.001\n",
    "    loss_lr = 0.01\n",
    "    num_classes = get_num_classes(train_dataset)\n",
    "    embedding_size = 512"
   ]
  },
  {
   "cell_type": "code",
   "execution_count": 9,
   "id": "ed35c438",
   "metadata": {},
   "outputs": [],
   "source": [
    "def validate(train_dataset, test_dataset, title=False):\n",
    "    global r1,r2,r4,r8,r16,r32\n",
    "    train_loader = load_dataset(train_dataset, batch_size, shuffle=True)\n",
    "    test_loader = load_dataset(test_dataset, batch_size, shuffle=False)\n",
    "    model = train_model(model_name='resnet50',\n",
    "                    loss_func_name='proxy_anchor',\n",
    "                    num_classes=num_classes,\n",
    "                    dataloader=train_loader,\n",
    "                    epochs=epochs,\n",
    "                    learning_rate=learning_rate,\n",
    "                    verbose=0)\n",
    "    if title:\n",
    "        print(f'Recall {title}:')\n",
    "    r1,r2,r4,r8,r16,r32 = evaluate_cos(model, test_loader)\n",
    "    return r1,r2,r4,r8,r16,r32"
   ]
  },
  {
   "cell_type": "code",
   "execution_count": 10,
   "id": "3dfd647b",
   "metadata": {
    "scrolled": true
   },
   "outputs": [],
   "source": [
    "def cross_validate(dataset, k=10):\n",
    "    global r1,r2,r4,r8,r16,r32\n",
    "    k=k\n",
    "    split_len = len(dataset)//k\n",
    "    max_index = split_len*k\n",
    "    r1,r2,r4,r8,r16,r32= [],[],[],[],[],[]\n",
    "    for fold in range(k):\n",
    "        print(f'''----------\n",
    "fold {fold+1}:''')\n",
    "        start = split_len * fold\n",
    "        train_dataset = dataset[:start] + dataset[start + split_len:max_index]\n",
    "        test_dataset = dataset[start:start+split_len]\n",
    "        train_loader = load_dataset(train_dataset, batch_size, shuffle=True)\n",
    "        test_loader = load_dataset(test_dataset, batch_size, shuffle=False)\n",
    "        model = train_model(model_name='resnet50',\n",
    "                        loss_func_name='proxy_anchor',\n",
    "                        num_classes=num_classes,\n",
    "                        dataloader=train_loader,\n",
    "                        epochs=epochs,\n",
    "                        learning_rate=learning_rate,\n",
    "                        verbose=0)\n",
    "        recall = evaluate_cos(model, test_loader)\n",
    "        r1.append(recall[0])\n",
    "        r2.append(recall[1])\n",
    "        r4.append(recall[2])\n",
    "        r8.append(recall[3])\n",
    "        r16.append(recall[4])\n",
    "        r32.append(recall[5])"
   ]
  },
  {
   "cell_type": "code",
   "execution_count": 11,
   "id": "d9cba134",
   "metadata": {},
   "outputs": [],
   "source": [
    "def avg_recall(name):\n",
    "    print(f'''Average Recall {name}:\n",
    "R@1 : {np.mean(r1)*100:.4f}\n",
    "R@2 : {np.mean(r2)*100:.4f}\n",
    "R@4 : {np.mean(r4)*100:.4f}\n",
    "R@8 : {np.mean(r8)*100:.4f}\n",
    "R@16 : {np.mean(r16)*100:.4f}\n",
    "R@32 : {np.mean(r32)*100:.4f}''')"
   ]
  },
  {
   "cell_type": "code",
   "execution_count": 12,
   "id": "c5c3d871",
   "metadata": {},
   "outputs": [],
   "source": [
    "train_dataset = make_dataset('LFWCustom', split='train', image_size=100)\n",
    "test_dataset = make_dataset('LFWCustom', split='test', image_size=100)\n",
    "redefine_train_parameters()"
   ]
  },
  {
   "cell_type": "code",
   "execution_count": 13,
   "id": "866d618b",
   "metadata": {},
   "outputs": [
    {
     "name": "stdout",
     "output_type": "stream",
     "text": [
      "Finished Training, Time: 334.3954 Best loss: 9.5777\n",
      "Recall PA:\n"
     ]
    },
    {
     "name": "stderr",
     "output_type": "stream",
     "text": [
      "100%|██████████| 262/262 [04:02<00:00,  1.08it/s]\n"
     ]
    },
    {
     "name": "stdout",
     "output_type": "stream",
     "text": [
      "R@1 : 0.549\n",
      "R@2 : 0.919\n",
      "R@4 : 1.551\n",
      "R@8 : 2.660\n",
      "R@16 : 3.877\n",
      "R@32 : 5.571\n"
     ]
    },
    {
     "data": {
      "text/plain": [
       "(0.005487295717523559,\n",
       " 0.00918525587498509,\n",
       " 0.015507574853870928,\n",
       " 0.02660145532625552,\n",
       " 0.03876893713467732,\n",
       " 0.05570798043659788)"
      ]
     },
     "execution_count": 13,
     "metadata": {},
     "output_type": "execute_result"
    }
   ],
   "source": [
    "validate(train_dataset,test_dataset, title='PA')"
   ]
  },
  {
   "cell_type": "code",
   "execution_count": 14,
   "id": "44937e31",
   "metadata": {},
   "outputs": [],
   "source": [
    "train_dataset = make_dataset('LFWCustom', split='train', image_size=100, flip=0.2)\n",
    "test_dataset = make_dataset('LFWCustom', split='test', image_size=100)\n",
    "redefine_train_parameters()"
   ]
  },
  {
   "cell_type": "code",
   "execution_count": 15,
   "id": "2c6cc9d9",
   "metadata": {},
   "outputs": [
    {
     "name": "stdout",
     "output_type": "stream",
     "text": [
      "Finished Training, Time: 331.9935 Best loss: 9.5116\n",
      "Recall PA+Flip(.2):\n"
     ]
    },
    {
     "name": "stderr",
     "output_type": "stream",
     "text": [
      "100%|██████████| 262/262 [04:02<00:00,  1.08it/s]\n"
     ]
    },
    {
     "name": "stdout",
     "output_type": "stream",
     "text": [
      "R@1 : 0.644\n",
      "R@2 : 1.050\n",
      "R@4 : 1.694\n",
      "R@8 : 2.756\n",
      "R@16 : 4.330\n",
      "R@32 : 6.239\n"
     ]
    },
    {
     "data": {
      "text/plain": [
       "(0.006441608016223309,\n",
       " 0.010497435285697245,\n",
       " 0.016939043301920552,\n",
       " 0.027555767624955266,\n",
       " 0.043301920553501135,\n",
       " 0.062388166527496125)"
      ]
     },
     "execution_count": 15,
     "metadata": {},
     "output_type": "execute_result"
    }
   ],
   "source": [
    "validate(train_dataset,test_dataset,title='PA+Flip(.2)')"
   ]
  },
  {
   "cell_type": "code",
   "execution_count": 16,
   "id": "6d686005",
   "metadata": {},
   "outputs": [],
   "source": [
    "train_dataset = make_dataset('LFWCustom', split='train', image_size=100, hist='v')\n",
    "test_dataset = make_dataset('LFWCustom', split='test', image_size=100, hist='v')\n",
    "redefine_train_parameters()"
   ]
  },
  {
   "cell_type": "code",
   "execution_count": 17,
   "id": "0d7c9009",
   "metadata": {},
   "outputs": [
    {
     "name": "stdout",
     "output_type": "stream",
     "text": [
      "Finished Training, Time: 415.4978 Best loss: 9.5199\n",
      "Recall PA+AdaptiveV:\n"
     ]
    },
    {
     "name": "stderr",
     "output_type": "stream",
     "text": [
      "100%|██████████| 262/262 [05:03<00:00,  1.16s/it]\n"
     ]
    },
    {
     "name": "stdout",
     "output_type": "stream",
     "text": [
      "R@1 : 0.823\n",
      "R@2 : 1.372\n",
      "R@4 : 2.195\n",
      "R@8 : 3.364\n",
      "R@16 : 4.676\n",
      "R@32 : 6.203\n"
     ]
    },
    {
     "data": {
      "text/plain": [
       "(0.00823094357628534,\n",
       " 0.0137182392938089,\n",
       " 0.021949182870094237,\n",
       " 0.03363950852916617,\n",
       " 0.04676130263628773,\n",
       " 0.062030299415483714)"
      ]
     },
     "execution_count": 17,
     "metadata": {},
     "output_type": "execute_result"
    }
   ],
   "source": [
    "validate(train_dataset,test_dataset,title='PA+AdaptiveV')"
   ]
  },
  {
   "cell_type": "code",
   "execution_count": 18,
   "id": "744b918e",
   "metadata": {},
   "outputs": [],
   "source": [
    "train_dataset = make_dataset('LFWCustom', split='train', image_size=100, median=True)\n",
    "test_dataset = make_dataset('LFWCustom', split='test', image_size=100, median=True)\n",
    "redefine_train_parameters()"
   ]
  },
  {
   "cell_type": "code",
   "execution_count": 19,
   "id": "560fafc4",
   "metadata": {},
   "outputs": [
    {
     "name": "stdout",
     "output_type": "stream",
     "text": [
      "Finished Training, Time: 434.1292 Best loss: 9.5932\n",
      "Recall PA+Median:\n"
     ]
    },
    {
     "name": "stderr",
     "output_type": "stream",
     "text": [
      "100%|██████████| 262/262 [05:18<00:00,  1.21s/it]\n"
     ]
    },
    {
     "name": "stdout",
     "output_type": "stream",
     "text": [
      "R@1 : 0.656\n",
      "R@2 : 1.062\n",
      "R@4 : 1.622\n",
      "R@8 : 2.350\n",
      "R@16 : 3.638\n",
      "R@32 : 5.607\n"
     ]
    },
    {
     "data": {
      "text/plain": [
       "(0.006560897053560778,\n",
       " 0.010616724323034713,\n",
       " 0.01622330907789574,\n",
       " 0.023499940355481332,\n",
       " 0.03638315638792795,\n",
       " 0.056065847548610284)"
      ]
     },
     "execution_count": 19,
     "metadata": {},
     "output_type": "execute_result"
    }
   ],
   "source": [
    "validate(train_dataset,test_dataset,title='PA+Median')"
   ]
  },
  {
   "cell_type": "code",
   "execution_count": 20,
   "id": "36171cbf",
   "metadata": {},
   "outputs": [],
   "source": [
    "train_dataset = make_dataset('LFWCustom', split='train', image_size=100, hist='v', median_before=True)\n",
    "test_dataset = make_dataset('LFWCustom', split='test', image_size=100, hist='v', median_before=True)\n",
    "redefine_train_parameters()"
   ]
  },
  {
   "cell_type": "code",
   "execution_count": 21,
   "id": "89d691ab",
   "metadata": {},
   "outputs": [
    {
     "name": "stdout",
     "output_type": "stream",
     "text": [
      "Finished Training, Time: 518.2473 Best loss: 9.5689\n",
      "Recall PA+Median+AdaptiveV:\n"
     ]
    },
    {
     "name": "stderr",
     "output_type": "stream",
     "text": [
      "100%|██████████| 262/262 [06:21<00:00,  1.46s/it]\n"
     ]
    },
    {
     "name": "stdout",
     "output_type": "stream",
     "text": [
      "R@1 : 1.169\n",
      "R@2 : 2.052\n",
      "R@4 : 3.364\n",
      "R@8 : 5.153\n",
      "R@16 : 7.300\n",
      "R@32 : 9.615\n"
     ]
    },
    {
     "data": {
      "text/plain": [
       "(0.011690325659071932,\n",
       " 0.020517714422044614,\n",
       " 0.03363950852916617,\n",
       " 0.05153286412978647,\n",
       " 0.07300489085053084,\n",
       " 0.09614696409399977)"
      ]
     },
     "execution_count": 21,
     "metadata": {},
     "output_type": "execute_result"
    }
   ],
   "source": [
    "validate(train_dataset,test_dataset,title='PA+Median+AdaptiveV')"
   ]
  },
  {
   "cell_type": "code",
   "execution_count": 22,
   "id": "a11bb655",
   "metadata": {},
   "outputs": [],
   "source": [
    "train_dataset = make_dataset('LFWCustom', split='train', image_size=100, unsharp=True)\n",
    "test_dataset = make_dataset('LFWCustom', split='test', image_size=100, unsharp=True)\n",
    "redefine_train_parameters()"
   ]
  },
  {
   "cell_type": "code",
   "execution_count": 23,
   "id": "c8ac1212",
   "metadata": {},
   "outputs": [
    {
     "name": "stderr",
     "output_type": "stream",
     "text": [
      "/opt/conda/lib/python3.8/site-packages/skimage/filters/_unsharp_mask.py:11: FutureWarning: Automatic detection of the color channel was deprecated in v0.19, and `channel_axis=None` will be the new default in v0.22. Set `channel_axis=-1` explicitly to silence this warning.\n",
      "  blurred = gaussian(image, sigma=radius, mode='reflect')\n"
     ]
    },
    {
     "name": "stdout",
     "output_type": "stream",
     "text": [
      "Finished Training, Time: 379.0681 Best loss: 9.5272\n",
      "Recall PA+Unsharp:\n"
     ]
    },
    {
     "name": "stderr",
     "output_type": "stream",
     "text": [
      "100%|██████████| 262/262 [04:37<00:00,  1.06s/it]\n"
     ]
    },
    {
     "name": "stdout",
     "output_type": "stream",
     "text": [
      "R@1 : 0.799\n",
      "R@2 : 1.300\n",
      "R@4 : 1.861\n",
      "R@8 : 2.899\n",
      "R@16 : 4.354\n",
      "R@32 : 6.096\n"
     ]
    },
    {
     "data": {
      "text/plain": [
       "(0.007992365501610402,\n",
       " 0.013002505069784088,\n",
       " 0.018609089824645115,\n",
       " 0.02898723607300489,\n",
       " 0.04354049862817607,\n",
       " 0.0609566980794465)"
      ]
     },
     "execution_count": 23,
     "metadata": {},
     "output_type": "execute_result"
    }
   ],
   "source": [
    "validate(train_dataset,test_dataset,title='PA+Unsharp')"
   ]
  },
  {
   "cell_type": "code",
   "execution_count": 24,
   "id": "8df8c7cd",
   "metadata": {},
   "outputs": [],
   "source": [
    "train_dataset = make_dataset('LFWCustom', split='train', image_size=100, median_unsharp=True, median=True)\n",
    "test_dataset = make_dataset('LFWCustom', split='test', image_size=100, median_unsharp=True, median=True)\n",
    "redefine_train_parameters()"
   ]
  },
  {
   "cell_type": "code",
   "execution_count": 25,
   "id": "3c5ba62e",
   "metadata": {},
   "outputs": [
    {
     "name": "stdout",
     "output_type": "stream",
     "text": [
      "Finished Training, Time: 492.4416 Best loss: 9.5952\n",
      "Recall PA+MedianUnsharp+Median:\n"
     ]
    },
    {
     "name": "stderr",
     "output_type": "stream",
     "text": [
      "100%|██████████| 262/262 [06:02<00:00,  1.38s/it]\n"
     ]
    },
    {
     "name": "stdout",
     "output_type": "stream",
     "text": [
      "R@1 : 0.787\n",
      "R@2 : 1.217\n",
      "R@4 : 1.622\n",
      "R@8 : 2.624\n",
      "R@16 : 4.211\n",
      "R@32 : 6.048\n"
     ]
    },
    {
     "data": {
      "text/plain": [
       "(0.007873076464272934,\n",
       " 0.012167481808421806,\n",
       " 0.01622330907789574,\n",
       " 0.02624358821424311,\n",
       " 0.04210903018012645,\n",
       " 0.06047954193009662)"
      ]
     },
     "execution_count": 25,
     "metadata": {},
     "output_type": "execute_result"
    }
   ],
   "source": [
    "validate(train_dataset,test_dataset,title='PA+MedianUnsharp+Median')"
   ]
  },
  {
   "cell_type": "code",
   "execution_count": 27,
   "id": "0e601f75",
   "metadata": {},
   "outputs": [],
   "source": [
    "train_dataset = make_dataset('LFWCustom', split='train', image_size=100, flip=.2, median_unsharp=True, median=True)\n",
    "test_dataset = make_dataset('LFWCustom', split='test', image_size=100, median_unsharp=True, median=True)\n",
    "redefine_train_parameters()"
   ]
  },
  {
   "cell_type": "code",
   "execution_count": 29,
   "id": "08edc19a",
   "metadata": {},
   "outputs": [
    {
     "name": "stdout",
     "output_type": "stream",
     "text": [
      "Finished Training, Time: 491.8508 Best loss: 9.5984\n",
      "Recall PA+Flip(.2)+MedianUnsharp+Median:\n"
     ]
    },
    {
     "name": "stderr",
     "output_type": "stream",
     "text": [
      "100%|██████████| 262/262 [06:02<00:00,  1.38s/it]\n"
     ]
    },
    {
     "name": "stdout",
     "output_type": "stream",
     "text": [
      "R@1 : 2.171\n",
      "R@2 : 3.054\n",
      "R@4 : 4.402\n",
      "R@8 : 5.654\n",
      "R@16 : 7.038\n",
      "R@32 : 8.493\n"
     ]
    },
    {
     "data": {
      "text/plain": [
       "(0.0217106047954193,\n",
       " 0.030537993558391985,\n",
       " 0.04401765477752594,\n",
       " 0.056543003697960156,\n",
       " 0.07038053202910652,\n",
       " 0.0849337945842777)"
      ]
     },
     "execution_count": 29,
     "metadata": {},
     "output_type": "execute_result"
    }
   ],
   "source": [
    "validate(train_dataset,test_dataset,title='PA+Flip(.2)+MedianUnsharp+Median')"
   ]
  },
  {
   "cell_type": "code",
   "execution_count": 30,
   "id": "bc703cf4",
   "metadata": {},
   "outputs": [],
   "source": [
    "train_dataset = make_dataset('LFWCustom', split='train', image_size=100, adjust_log=True)\n",
    "test_dataset = make_dataset('LFWCustom', split='test', image_size=100, adjust_log=True)\n",
    "redefine_train_parameters()"
   ]
  },
  {
   "cell_type": "code",
   "execution_count": 31,
   "id": "a6e4039a",
   "metadata": {},
   "outputs": [
    {
     "name": "stdout",
     "output_type": "stream",
     "text": [
      "Finished Training, Time: 334.0110 Best loss: 9.5603\n",
      "Recall PA+AdjustLog:\n"
     ]
    },
    {
     "name": "stderr",
     "output_type": "stream",
     "text": [
      "100%|██████████| 262/262 [04:04<00:00,  1.07it/s]\n"
     ]
    },
    {
     "name": "stdout",
     "output_type": "stream",
     "text": [
      "R@1 : 0.919\n",
      "R@2 : 1.491\n",
      "R@4 : 2.302\n",
      "R@8 : 3.233\n",
      "R@16 : 4.414\n",
      "R@32 : 6.525\n"
     ]
    },
    {
     "data": {
      "text/plain": [
       "(0.00918525587498509,\n",
       " 0.014911129667183587,\n",
       " 0.023022784206131457,\n",
       " 0.03232732911845401,\n",
       " 0.04413694381486341,\n",
       " 0.06525110342359537)"
      ]
     },
     "execution_count": 31,
     "metadata": {},
     "output_type": "execute_result"
    }
   ],
   "source": [
    "validate(train_dataset,test_dataset,title='PA+AdjustLog')"
   ]
  },
  {
   "cell_type": "code",
   "execution_count": 32,
   "id": "3f777fcc",
   "metadata": {},
   "outputs": [],
   "source": [
    "train_dataset = make_dataset('LFWCustom', split='train', image_size=100, unsharp=True, adjust_log=True)\n",
    "test_dataset = make_dataset('LFWCustom', split='test', image_size=100, unsharp=True, adjust_log=True)\n",
    "redefine_train_parameters()"
   ]
  },
  {
   "cell_type": "code",
   "execution_count": 33,
   "id": "5524ff6b",
   "metadata": {},
   "outputs": [
    {
     "name": "stdout",
     "output_type": "stream",
     "text": [
      "Finished Training, Time: 381.9993 Best loss: 9.5122\n",
      "Recall PA+Unsharp+AdjustLog:\n"
     ]
    },
    {
     "name": "stderr",
     "output_type": "stream",
     "text": [
      "100%|██████████| 262/262 [04:40<00:00,  1.07s/it]\n"
     ]
    },
    {
     "name": "stdout",
     "output_type": "stream",
     "text": [
      "R@1 : 1.062\n",
      "R@2 : 1.515\n",
      "R@4 : 2.243\n",
      "R@8 : 3.042\n",
      "R@16 : 4.330\n",
      "R@32 : 5.988\n"
     ]
    },
    {
     "data": {
      "text/plain": [
       "(0.010616724323034713,\n",
       " 0.015149707741858523,\n",
       " 0.022426339019444113,\n",
       " 0.030418704521054517,\n",
       " 0.043301920553501135,\n",
       " 0.05988309674340928)"
      ]
     },
     "execution_count": 33,
     "metadata": {},
     "output_type": "execute_result"
    }
   ],
   "source": [
    "validate(train_dataset,test_dataset,title='PA+Unsharp+AdjustLog')"
   ]
  },
  {
   "cell_type": "code",
   "execution_count": 34,
   "id": "af622f7a",
   "metadata": {},
   "outputs": [],
   "source": [
    "train_dataset = make_dataset('LFWCustom', split='train', image_size=100, adjust_log=True, unsharp_after=True)\n",
    "test_dataset = make_dataset('LFWCustom', split='test', image_size=100, adjust_log=True, unsharp_after=True)\n",
    "redefine_train_parameters()"
   ]
  },
  {
   "cell_type": "code",
   "execution_count": 35,
   "id": "8478d465",
   "metadata": {},
   "outputs": [
    {
     "name": "stdout",
     "output_type": "stream",
     "text": [
      "Finished Training, Time: 381.3271 Best loss: 9.4625\n",
      "Recall PA+AdjustLog+Unsharp:\n"
     ]
    },
    {
     "name": "stderr",
     "output_type": "stream",
     "text": [
      "100%|██████████| 262/262 [04:39<00:00,  1.07s/it]\n"
     ]
    },
    {
     "name": "stdout",
     "output_type": "stream",
     "text": [
      "R@1 : 0.871\n",
      "R@2 : 1.324\n",
      "R@4 : 1.956\n",
      "R@8 : 2.768\n",
      "R@16 : 4.115\n",
      "R@32 : 5.404\n"
     ]
    },
    {
     "data": {
      "text/plain": [
       "(0.008708099725635214,\n",
       " 0.013241083144459024,\n",
       " 0.019563402123344866,\n",
       " 0.027675056662292735,\n",
       " 0.041154717881426696,\n",
       " 0.054037933913873314)"
      ]
     },
     "execution_count": 35,
     "metadata": {},
     "output_type": "execute_result"
    }
   ],
   "source": [
    "validate(train_dataset,test_dataset,title='PA+AdjustLog+Unsharp')"
   ]
  },
  {
   "cell_type": "code",
   "execution_count": null,
   "id": "2d82f769",
   "metadata": {},
   "outputs": [],
   "source": []
  }
 ],
 "metadata": {
  "kernelspec": {
   "display_name": "Python 3 (ipykernel)",
   "language": "python",
   "name": "python3"
  },
  "language_info": {
   "codemirror_mode": {
    "name": "ipython",
    "version": 3
   },
   "file_extension": ".py",
   "mimetype": "text/x-python",
   "name": "python",
   "nbconvert_exporter": "python",
   "pygments_lexer": "ipython3",
   "version": "3.8.12"
  }
 },
 "nbformat": 4,
 "nbformat_minor": 5
}
