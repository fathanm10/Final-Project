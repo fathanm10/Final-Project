{
 "cells": [
  {
   "cell_type": "code",
   "execution_count": 1,
   "id": "a54a86d4",
   "metadata": {},
   "outputs": [],
   "source": [
    "import torch\n",
    "from train import train_model\n",
    "from dataset.utils import *\n",
    "from utils import *\n",
    "import numpy as np\n",
    "import pickle\n",
    "import time"
   ]
  },
  {
   "cell_type": "code",
   "execution_count": 2,
   "id": "db7a4f34",
   "metadata": {},
   "outputs": [],
   "source": [
    "then=time.time()"
   ]
  },
  {
   "cell_type": "code",
   "execution_count": 3,
   "id": "88df472c",
   "metadata": {},
   "outputs": [],
   "source": [
    "batch_size = 32\n",
    "def redefine_train_parameters():\n",
    "    global device, epochs, learning_rate, loss_lr, num_classes, embedding_size\n",
    "    device = torch.device('cuda' if torch.cuda.is_available() else 'cpu')\n",
    "    epochs = 20\n",
    "    learning_rate = 0.001\n",
    "    loss_lr = 0.01\n",
    "    try:\n",
    "        num_classes = get_num_classes(dataset)\n",
    "    except:\n",
    "        num_classes = get_num_classes(train_dataset)\n",
    "    embedding_size = 512"
   ]
  },
  {
   "cell_type": "code",
   "execution_count": 4,
   "id": "ed35c438",
   "metadata": {},
   "outputs": [],
   "source": [
    "def train(train_dataset, test_dataset):\n",
    "    train_loader = load_dataset(train_dataset, batch_size, shuffle=True)\n",
    "    test_loader = load_dataset(test_dataset, batch_size, shuffle=False)\n",
    "    model = train_model(model_name='resnet50',\n",
    "                    loss_func_name='proxy_anchor',\n",
    "                    num_classes=num_classes,\n",
    "                    dataloader=train_loader,\n",
    "                    epochs=epochs,\n",
    "                    learning_rate=learning_rate,\n",
    "                    verbose=0)\n",
    "    return model, train_loader, test_loader"
   ]
  },
  {
   "cell_type": "code",
   "execution_count": 5,
   "id": "3dfd647b",
   "metadata": {
    "scrolled": true
   },
   "outputs": [],
   "source": [
    "def cross_validate(dataset, k=10):\n",
    "    np.random.shuffle(np.array(dataset))\n",
    "    k=k\n",
    "    split_len = len(dataset)//k\n",
    "    max_index = split_len*k\n",
    "    r1,r2,r4,r8,r16,r32= [],[],[],[],[],[]\n",
    "    for fold in range(k):\n",
    "        print(f'''----------\n",
    "fold {fold+1}:''')\n",
    "        start = split_len * fold\n",
    "        train_dataset = dataset[:start] + dataset[start + split_len:max_index]\n",
    "        test_dataset = dataset[start:start+split_len]\n",
    "        train_loader = load_dataset(train_dataset, batch_size, shuffle=True)\n",
    "        test_loader = load_dataset(test_dataset, batch_size, shuffle=False)\n",
    "        model = train_model(model_name='resnet50',\n",
    "                        loss_func_name='proxy_anchor',\n",
    "                        num_classes=num_classes,\n",
    "                        dataloader=train_loader,\n",
    "                        epochs=epochs,\n",
    "                        learning_rate=learning_rate,\n",
    "                        verbose=0)\n",
    "        recall = evaluate_cos(model, test_loader)\n",
    "        r1.append(recall[0])\n",
    "        r2.append(recall[1])\n",
    "        r4.append(recall[2])\n",
    "        r8.append(recall[3])\n",
    "        r16.append(recall[4])\n",
    "        r32.append(recall[5])\n",
    "    return r1,r2,r4,r8,r16,r32"
   ]
  },
  {
   "cell_type": "code",
   "execution_count": 6,
   "id": "d9cba134",
   "metadata": {},
   "outputs": [],
   "source": [
    "def avg_recall(name):\n",
    "    print(f'''Average Recall {name}:\n",
    "R@1 : {np.mean(r1)}\n",
    "R@2 : {np.mean(r2)}\n",
    "R@4 : {np.mean(r4)}\n",
    "R@8 : {np.mean(r8)}\n",
    "R@16 : {np.mean(r16)}\n",
    "R@32 : {np.mean(r32)}''')\n",
    "    \n",
    "    print(f'''Average Recall {name}:\n",
    "R@1 : {np.mean(r1)*100:.4f}\n",
    "R@2 : {np.mean(r2)*100:.4f}\n",
    "R@4 : {np.mean(r4)*100:.4f}\n",
    "R@8 : {np.mean(r8)*100:.4f}\n",
    "R@16 : {np.mean(r16)*100:.4f}\n",
    "R@32 : {np.mean(r32)*100:.4f}''')"
   ]
  },
  {
   "cell_type": "code",
   "execution_count": 7,
   "id": "81dd549b",
   "metadata": {},
   "outputs": [],
   "source": [
    "def save_output(output, name):\n",
    "    try:\n",
    "        data = load_output()\n",
    "    except:\n",
    "        data = dict()\n",
    "    data[name] = output\n",
    "    with open('recall50_20.pkl', 'wb') as file:\n",
    "        pickle.dump(data, file)\n",
    "        \n",
    "def load_output():\n",
    "    with open('recall50_20.pkl', 'rb') as file:\n",
    "        return pickle.load(file)"
   ]
  },
  {
   "cell_type": "code",
   "execution_count": 9,
   "id": "c61a577c",
   "metadata": {
    "collapsed": true
   },
   "outputs": [
    {
     "name": "stderr",
     "output_type": "stream",
     "text": [
      "/tmp/ipykernel_745932/3704652543.py:2: FutureWarning: The input object of type 'Tensor' is an array-like implementing one of the corresponding protocols (`__array__`, `__array_interface__` or `__array_struct__`); but not a sequence (or 0-D). In the future, this object will be coerced as if it was first converted using `np.array(obj)`. To retain the old behaviour, you have to either modify the type 'Tensor', or assign to an empty array created with `np.empty(correct_shape, dtype=object)`.\n",
      "  np.random.shuffle(np.array(dataset))\n",
      "/tmp/ipykernel_745932/3704652543.py:2: VisibleDeprecationWarning: Creating an ndarray from ragged nested sequences (which is a list-or-tuple of lists-or-tuples-or ndarrays with different lengths or shapes) is deprecated. If you meant to do this, you must specify 'dtype=object' when creating the ndarray.\n",
      "  np.random.shuffle(np.array(dataset))\n"
     ]
    },
    {
     "name": "stdout",
     "output_type": "stream",
     "text": [
      "----------\n",
      "fold 1:\n"
     ]
    },
    {
     "name": "stderr",
     "output_type": "stream",
     "text": [
      "/workspace/Experiments/Clean/dataset/utils.py:119: FutureWarning: The input object of type 'Tensor' is an array-like implementing one of the corresponding protocols (`__array__`, `__array_interface__` or `__array_struct__`); but not a sequence (or 0-D). In the future, this object will be coerced as if it was first converted using `np.array(obj)`. To retain the old behaviour, you have to either modify the type 'Tensor', or assign to an empty array created with `np.empty(correct_shape, dtype=object)`.\n",
      "  except: num_classes = len(Counter(np.array(dataset, dtype=object)[:,1]))\n"
     ]
    },
    {
     "name": "stdout",
     "output_type": "stream",
     "text": [
      "Finished Training, Time: 40.2199 Best loss: 2.5464\n"
     ]
    },
    {
     "name": "stderr",
     "output_type": "stream",
     "text": [
      "100%|██████████| 8/8 [00:00<00:00, 121.44it/s]\n"
     ]
    },
    {
     "name": "stdout",
     "output_type": "stream",
     "text": [
      "R@1 : 84.127\n",
      "R@2 : 91.270\n",
      "R@4 : 95.635\n",
      "R@8 : 97.222\n",
      "R@16 : 98.810\n",
      "R@32 : 99.603\n",
      "----------\n",
      "fold 2:\n",
      "Finished Training, Time: 40.7528 Best loss: 2.2516\n"
     ]
    },
    {
     "name": "stderr",
     "output_type": "stream",
     "text": [
      "100%|██████████| 8/8 [00:00<00:00, 122.52it/s]\n"
     ]
    },
    {
     "name": "stdout",
     "output_type": "stream",
     "text": [
      "R@1 : 91.667\n",
      "R@2 : 94.841\n",
      "R@4 : 97.619\n",
      "R@8 : 99.603\n",
      "R@16 : 99.603\n",
      "R@32 : 100.000\n",
      "----------\n",
      "fold 3:\n",
      "Finished Training, Time: 40.0877 Best loss: 2.3550\n"
     ]
    },
    {
     "name": "stderr",
     "output_type": "stream",
     "text": [
      "100%|██████████| 8/8 [00:00<00:00, 121.47it/s]\n"
     ]
    },
    {
     "name": "stdout",
     "output_type": "stream",
     "text": [
      "R@1 : 94.444\n",
      "R@2 : 96.429\n",
      "R@4 : 98.016\n",
      "R@8 : 99.206\n",
      "R@16 : 99.603\n",
      "R@32 : 99.603\n",
      "----------\n",
      "fold 4:\n",
      "Finished Training, Time: 41.3237 Best loss: 2.3308\n"
     ]
    },
    {
     "name": "stderr",
     "output_type": "stream",
     "text": [
      "100%|██████████| 8/8 [00:00<00:00, 119.76it/s]\n"
     ]
    },
    {
     "name": "stdout",
     "output_type": "stream",
     "text": [
      "R@1 : 100.000\n",
      "R@2 : 100.000\n",
      "R@4 : 100.000\n",
      "R@8 : 100.000\n",
      "R@16 : 100.000\n",
      "R@32 : 100.000\n",
      "----------\n",
      "fold 5:\n",
      "Finished Training, Time: 40.5794 Best loss: 2.4447\n"
     ]
    },
    {
     "name": "stderr",
     "output_type": "stream",
     "text": [
      "100%|██████████| 8/8 [00:00<00:00, 121.37it/s]\n"
     ]
    },
    {
     "name": "stdout",
     "output_type": "stream",
     "text": [
      "R@1 : 100.000\n",
      "R@2 : 100.000\n",
      "R@4 : 100.000\n",
      "R@8 : 100.000\n",
      "R@16 : 100.000\n",
      "R@32 : 100.000\n",
      "----------\n",
      "fold 6:\n",
      "Finished Training, Time: 40.8016 Best loss: 2.4688\n"
     ]
    },
    {
     "name": "stderr",
     "output_type": "stream",
     "text": [
      "100%|██████████| 8/8 [00:00<00:00, 121.33it/s]\n"
     ]
    },
    {
     "name": "stdout",
     "output_type": "stream",
     "text": [
      "R@1 : 94.444\n",
      "R@2 : 96.032\n",
      "R@4 : 96.429\n",
      "R@8 : 97.222\n",
      "R@16 : 97.619\n",
      "R@32 : 98.810\n",
      "----------\n",
      "fold 7:\n",
      "Finished Training, Time: 40.4303 Best loss: 2.4536\n"
     ]
    },
    {
     "name": "stderr",
     "output_type": "stream",
     "text": [
      "100%|██████████| 8/8 [00:00<00:00, 110.77it/s]\n"
     ]
    },
    {
     "name": "stdout",
     "output_type": "stream",
     "text": [
      "R@1 : 81.349\n",
      "R@2 : 86.905\n",
      "R@4 : 92.857\n",
      "R@8 : 96.032\n",
      "R@16 : 97.619\n",
      "R@32 : 99.206\n",
      "----------\n",
      "fold 8:\n",
      "Finished Training, Time: 40.1513 Best loss: 2.5729\n"
     ]
    },
    {
     "name": "stderr",
     "output_type": "stream",
     "text": [
      "100%|██████████| 8/8 [00:00<00:00, 121.00it/s]\n"
     ]
    },
    {
     "name": "stdout",
     "output_type": "stream",
     "text": [
      "R@1 : 85.317\n",
      "R@2 : 90.476\n",
      "R@4 : 93.651\n",
      "R@8 : 97.222\n",
      "R@16 : 98.810\n",
      "R@32 : 99.603\n",
      "----------\n",
      "fold 9:\n",
      "Finished Training, Time: 40.3167 Best loss: 2.2924\n"
     ]
    },
    {
     "name": "stderr",
     "output_type": "stream",
     "text": [
      "100%|██████████| 8/8 [00:00<00:00, 114.02it/s]\n"
     ]
    },
    {
     "name": "stdout",
     "output_type": "stream",
     "text": [
      "R@1 : 88.095\n",
      "R@2 : 92.063\n",
      "R@4 : 96.032\n",
      "R@8 : 96.429\n",
      "R@16 : 98.810\n",
      "R@32 : 99.603\n",
      "----------\n",
      "fold 10:\n",
      "Finished Training, Time: 39.9203 Best loss: 2.3906\n"
     ]
    },
    {
     "name": "stderr",
     "output_type": "stream",
     "text": [
      "100%|██████████| 8/8 [00:00<00:00, 122.65it/s]"
     ]
    },
    {
     "name": "stdout",
     "output_type": "stream",
     "text": [
      "R@1 : 80.952\n",
      "R@2 : 87.698\n",
      "R@4 : 93.254\n",
      "R@8 : 96.825\n",
      "R@16 : 96.825\n",
      "R@32 : 98.810\n"
     ]
    },
    {
     "name": "stderr",
     "output_type": "stream",
     "text": [
      "\n"
     ]
    }
   ],
   "source": [
    "dataset = make_dataset('LFWCustom', split='10fold', max_classes=50, min_samples=20, image_size=100, face_detection=False)\n",
    "redefine_train_parameters()\n",
    "name=f'PA'\n",
    "recalls=cross_validate(dataset)\n",
    "save_output(recalls,f'{name}')\n",
    "save_output([np.mean(arr) for arr in recalls],f'{name}_mean')"
   ]
  },
  {
   "cell_type": "code",
   "execution_count": 12,
   "id": "e8c996bb",
   "metadata": {
    "collapsed": true
   },
   "outputs": [
    {
     "name": "stderr",
     "output_type": "stream",
     "text": [
      "/tmp/ipykernel_745932/3704652543.py:2: FutureWarning: The input object of type 'Tensor' is an array-like implementing one of the corresponding protocols (`__array__`, `__array_interface__` or `__array_struct__`); but not a sequence (or 0-D). In the future, this object will be coerced as if it was first converted using `np.array(obj)`. To retain the old behaviour, you have to either modify the type 'Tensor', or assign to an empty array created with `np.empty(correct_shape, dtype=object)`.\n",
      "  np.random.shuffle(np.array(dataset))\n",
      "/tmp/ipykernel_745932/3704652543.py:2: VisibleDeprecationWarning: Creating an ndarray from ragged nested sequences (which is a list-or-tuple of lists-or-tuples-or ndarrays with different lengths or shapes) is deprecated. If you meant to do this, you must specify 'dtype=object' when creating the ndarray.\n",
      "  np.random.shuffle(np.array(dataset))\n"
     ]
    },
    {
     "name": "stdout",
     "output_type": "stream",
     "text": [
      "----------\n",
      "fold 1:\n",
      "Finished Training, Time: 39.9901 Best loss: 2.3822\n"
     ]
    },
    {
     "name": "stderr",
     "output_type": "stream",
     "text": [
      "100%|██████████| 8/8 [00:00<00:00, 121.80it/s]\n"
     ]
    },
    {
     "name": "stdout",
     "output_type": "stream",
     "text": [
      "R@1 : 83.333\n",
      "R@2 : 90.079\n",
      "R@4 : 94.841\n",
      "R@8 : 97.619\n",
      "R@16 : 99.206\n",
      "R@32 : 100.000\n",
      "----------\n",
      "fold 2:\n",
      "Finished Training, Time: 40.1387 Best loss: 2.5073\n"
     ]
    },
    {
     "name": "stderr",
     "output_type": "stream",
     "text": [
      "100%|██████████| 8/8 [00:00<00:00, 122.13it/s]\n"
     ]
    },
    {
     "name": "stdout",
     "output_type": "stream",
     "text": [
      "R@1 : 92.460\n",
      "R@2 : 95.238\n",
      "R@4 : 97.619\n",
      "R@8 : 99.206\n",
      "R@16 : 99.603\n",
      "R@32 : 99.603\n",
      "----------\n",
      "fold 3:\n",
      "Finished Training, Time: 40.5056 Best loss: 2.5853\n"
     ]
    },
    {
     "name": "stderr",
     "output_type": "stream",
     "text": [
      "100%|██████████| 8/8 [00:00<00:00, 121.94it/s]\n"
     ]
    },
    {
     "name": "stdout",
     "output_type": "stream",
     "text": [
      "R@1 : 94.841\n",
      "R@2 : 96.429\n",
      "R@4 : 97.619\n",
      "R@8 : 98.016\n",
      "R@16 : 100.000\n",
      "R@32 : 100.000\n",
      "----------\n",
      "fold 4:\n",
      "Finished Training, Time: 40.6971 Best loss: 2.2866\n"
     ]
    },
    {
     "name": "stderr",
     "output_type": "stream",
     "text": [
      "100%|██████████| 8/8 [00:00<00:00, 75.06it/s]\n"
     ]
    },
    {
     "name": "stdout",
     "output_type": "stream",
     "text": [
      "R@1 : 100.000\n",
      "R@2 : 100.000\n",
      "R@4 : 100.000\n",
      "R@8 : 100.000\n",
      "R@16 : 100.000\n",
      "R@32 : 100.000\n",
      "----------\n",
      "fold 5:\n",
      "Finished Training, Time: 40.4495 Best loss: 2.4391\n"
     ]
    },
    {
     "name": "stderr",
     "output_type": "stream",
     "text": [
      "100%|██████████| 8/8 [00:00<00:00, 121.66it/s]\n"
     ]
    },
    {
     "name": "stdout",
     "output_type": "stream",
     "text": [
      "R@1 : 100.000\n",
      "R@2 : 100.000\n",
      "R@4 : 100.000\n",
      "R@8 : 100.000\n",
      "R@16 : 100.000\n",
      "R@32 : 100.000\n",
      "----------\n",
      "fold 6:\n",
      "Finished Training, Time: 40.3357 Best loss: 2.5900\n"
     ]
    },
    {
     "name": "stderr",
     "output_type": "stream",
     "text": [
      "100%|██████████| 8/8 [00:00<00:00, 121.62it/s]\n"
     ]
    },
    {
     "name": "stdout",
     "output_type": "stream",
     "text": [
      "R@1 : 93.254\n",
      "R@2 : 96.429\n",
      "R@4 : 97.619\n",
      "R@8 : 98.413\n",
      "R@16 : 98.413\n",
      "R@32 : 99.206\n",
      "----------\n",
      "fold 7:\n",
      "Finished Training, Time: 40.3406 Best loss: 2.5823\n"
     ]
    },
    {
     "name": "stderr",
     "output_type": "stream",
     "text": [
      "100%|██████████| 8/8 [00:00<00:00, 120.55it/s]\n"
     ]
    },
    {
     "name": "stdout",
     "output_type": "stream",
     "text": [
      "R@1 : 80.556\n",
      "R@2 : 86.508\n",
      "R@4 : 90.079\n",
      "R@8 : 94.444\n",
      "R@16 : 98.016\n",
      "R@32 : 100.000\n",
      "----------\n",
      "fold 8:\n",
      "Finished Training, Time: 40.2041 Best loss: 2.3205\n"
     ]
    },
    {
     "name": "stderr",
     "output_type": "stream",
     "text": [
      "100%|██████████| 8/8 [00:00<00:00, 122.32it/s]\n"
     ]
    },
    {
     "name": "stdout",
     "output_type": "stream",
     "text": [
      "R@1 : 86.508\n",
      "R@2 : 90.476\n",
      "R@4 : 94.841\n",
      "R@8 : 97.222\n",
      "R@16 : 98.810\n",
      "R@32 : 99.206\n",
      "----------\n",
      "fold 9:\n",
      "Finished Training, Time: 40.3935 Best loss: 2.5995\n"
     ]
    },
    {
     "name": "stderr",
     "output_type": "stream",
     "text": [
      "100%|██████████| 8/8 [00:00<00:00, 121.32it/s]\n"
     ]
    },
    {
     "name": "stdout",
     "output_type": "stream",
     "text": [
      "R@1 : 86.905\n",
      "R@2 : 91.270\n",
      "R@4 : 96.032\n",
      "R@8 : 97.619\n",
      "R@16 : 98.810\n",
      "R@32 : 100.000\n",
      "----------\n",
      "fold 10:\n",
      "Finished Training, Time: 40.6756 Best loss: 2.3341\n"
     ]
    },
    {
     "name": "stderr",
     "output_type": "stream",
     "text": [
      "100%|██████████| 8/8 [00:00<00:00, 120.21it/s]\n"
     ]
    },
    {
     "name": "stdout",
     "output_type": "stream",
     "text": [
      "R@1 : 84.127\n",
      "R@2 : 88.492\n",
      "R@4 : 92.063\n",
      "R@8 : 97.222\n",
      "R@16 : 98.413\n",
      "R@32 : 99.206\n"
     ]
    }
   ],
   "source": [
    "dataset = make_dataset('LFWCustom', split='10fold', max_classes=50, min_samples=20, image_size=100, face_detection=False, autocontrast=True)\n",
    "redefine_train_parameters()\n",
    "name=f'PA+AutoContrast'\n",
    "recalls=cross_validate(dataset)\n",
    "save_output(recalls,f'{name}')\n",
    "save_output([np.mean(arr) for arr in recalls],f'{name}_mean')"
   ]
  },
  {
   "cell_type": "code",
   "execution_count": 10,
   "id": "1f4a038d",
   "metadata": {
    "collapsed": true
   },
   "outputs": [
    {
     "name": "stderr",
     "output_type": "stream",
     "text": [
      "/tmp/ipykernel_745932/3704652543.py:2: FutureWarning: The input object of type 'Tensor' is an array-like implementing one of the corresponding protocols (`__array__`, `__array_interface__` or `__array_struct__`); but not a sequence (or 0-D). In the future, this object will be coerced as if it was first converted using `np.array(obj)`. To retain the old behaviour, you have to either modify the type 'Tensor', or assign to an empty array created with `np.empty(correct_shape, dtype=object)`.\n",
      "  np.random.shuffle(np.array(dataset))\n",
      "/tmp/ipykernel_745932/3704652543.py:2: VisibleDeprecationWarning: Creating an ndarray from ragged nested sequences (which is a list-or-tuple of lists-or-tuples-or ndarrays with different lengths or shapes) is deprecated. If you meant to do this, you must specify 'dtype=object' when creating the ndarray.\n",
      "  np.random.shuffle(np.array(dataset))\n"
     ]
    },
    {
     "name": "stdout",
     "output_type": "stream",
     "text": [
      "----------\n",
      "fold 1:\n",
      "Finished Training, Time: 40.2109 Best loss: 2.5159\n"
     ]
    },
    {
     "name": "stderr",
     "output_type": "stream",
     "text": [
      "100%|██████████| 8/8 [00:00<00:00, 121.34it/s]\n"
     ]
    },
    {
     "name": "stdout",
     "output_type": "stream",
     "text": [
      "R@1 : 82.143\n",
      "R@2 : 86.905\n",
      "R@4 : 92.063\n",
      "R@8 : 94.841\n",
      "R@16 : 98.016\n",
      "R@32 : 99.206\n",
      "----------\n",
      "fold 2:\n",
      "Finished Training, Time: 40.4343 Best loss: 2.1858\n"
     ]
    },
    {
     "name": "stderr",
     "output_type": "stream",
     "text": [
      "100%|██████████| 8/8 [00:00<00:00, 111.67it/s]\n"
     ]
    },
    {
     "name": "stdout",
     "output_type": "stream",
     "text": [
      "R@1 : 89.683\n",
      "R@2 : 94.048\n",
      "R@4 : 96.032\n",
      "R@8 : 97.222\n",
      "R@16 : 98.413\n",
      "R@32 : 98.810\n",
      "----------\n",
      "fold 3:\n",
      "Finished Training, Time: 40.2330 Best loss: 2.4538\n"
     ]
    },
    {
     "name": "stderr",
     "output_type": "stream",
     "text": [
      "100%|██████████| 8/8 [00:00<00:00, 120.68it/s]\n"
     ]
    },
    {
     "name": "stdout",
     "output_type": "stream",
     "text": [
      "R@1 : 93.651\n",
      "R@2 : 95.635\n",
      "R@4 : 96.825\n",
      "R@8 : 97.222\n",
      "R@16 : 98.016\n",
      "R@32 : 98.810\n",
      "----------\n",
      "fold 4:\n",
      "Finished Training, Time: 40.5322 Best loss: 2.4261\n"
     ]
    },
    {
     "name": "stderr",
     "output_type": "stream",
     "text": [
      "100%|██████████| 8/8 [00:00<00:00, 121.32it/s]\n"
     ]
    },
    {
     "name": "stdout",
     "output_type": "stream",
     "text": [
      "R@1 : 100.000\n",
      "R@2 : 100.000\n",
      "R@4 : 100.000\n",
      "R@8 : 100.000\n",
      "R@16 : 100.000\n",
      "R@32 : 100.000\n",
      "----------\n",
      "fold 5:\n",
      "Finished Training, Time: 40.7006 Best loss: 2.3640\n"
     ]
    },
    {
     "name": "stderr",
     "output_type": "stream",
     "text": [
      "100%|██████████| 8/8 [00:00<00:00, 120.92it/s]\n"
     ]
    },
    {
     "name": "stdout",
     "output_type": "stream",
     "text": [
      "R@1 : 100.000\n",
      "R@2 : 100.000\n",
      "R@4 : 100.000\n",
      "R@8 : 100.000\n",
      "R@16 : 100.000\n",
      "R@32 : 100.000\n",
      "----------\n",
      "fold 6:\n",
      "Finished Training, Time: 40.7402 Best loss: 2.2982\n"
     ]
    },
    {
     "name": "stderr",
     "output_type": "stream",
     "text": [
      "100%|██████████| 8/8 [00:00<00:00, 122.54it/s]\n"
     ]
    },
    {
     "name": "stdout",
     "output_type": "stream",
     "text": [
      "R@1 : 90.873\n",
      "R@2 : 94.048\n",
      "R@4 : 95.238\n",
      "R@8 : 96.429\n",
      "R@16 : 97.619\n",
      "R@32 : 99.206\n",
      "----------\n",
      "fold 7:\n",
      "Finished Training, Time: 40.7827 Best loss: 2.3019\n"
     ]
    },
    {
     "name": "stderr",
     "output_type": "stream",
     "text": [
      "100%|██████████| 8/8 [00:00<00:00, 115.53it/s]\n"
     ]
    },
    {
     "name": "stdout",
     "output_type": "stream",
     "text": [
      "R@1 : 77.778\n",
      "R@2 : 86.905\n",
      "R@4 : 91.270\n",
      "R@8 : 94.841\n",
      "R@16 : 97.619\n",
      "R@32 : 100.000\n",
      "----------\n",
      "fold 8:\n",
      "Finished Training, Time: 40.0844 Best loss: 2.4523\n"
     ]
    },
    {
     "name": "stderr",
     "output_type": "stream",
     "text": [
      "100%|██████████| 8/8 [00:00<00:00, 123.46it/s]\n"
     ]
    },
    {
     "name": "stdout",
     "output_type": "stream",
     "text": [
      "R@1 : 82.143\n",
      "R@2 : 90.079\n",
      "R@4 : 95.635\n",
      "R@8 : 97.619\n",
      "R@16 : 99.206\n",
      "R@32 : 99.603\n",
      "----------\n",
      "fold 9:\n",
      "Finished Training, Time: 40.8435 Best loss: 2.6184\n"
     ]
    },
    {
     "name": "stderr",
     "output_type": "stream",
     "text": [
      "100%|██████████| 8/8 [00:00<00:00, 119.90it/s]\n"
     ]
    },
    {
     "name": "stdout",
     "output_type": "stream",
     "text": [
      "R@1 : 83.333\n",
      "R@2 : 89.683\n",
      "R@4 : 94.841\n",
      "R@8 : 97.619\n",
      "R@16 : 99.603\n",
      "R@32 : 100.000\n",
      "----------\n",
      "fold 10:\n",
      "Finished Training, Time: 40.3612 Best loss: 2.6459\n"
     ]
    },
    {
     "name": "stderr",
     "output_type": "stream",
     "text": [
      "100%|██████████| 8/8 [00:00<00:00, 120.67it/s]\n"
     ]
    },
    {
     "name": "stdout",
     "output_type": "stream",
     "text": [
      "R@1 : 78.968\n",
      "R@2 : 84.921\n",
      "R@4 : 88.889\n",
      "R@8 : 94.841\n",
      "R@16 : 98.016\n",
      "R@32 : 99.206\n"
     ]
    }
   ],
   "source": [
    "dataset = make_dataset('LFWCustom', split='10fold', max_classes=50, min_samples=20, image_size=100)\n",
    "redefine_train_parameters()\n",
    "name=f'PA+FaceDetection'\n",
    "recalls=cross_validate(dataset)\n",
    "save_output(recalls,f'{name}')\n",
    "save_output([np.mean(arr) for arr in recalls],f'{name}_mean')"
   ]
  },
  {
   "cell_type": "code",
   "execution_count": 11,
   "id": "6776d7a9",
   "metadata": {
    "collapsed": true
   },
   "outputs": [
    {
     "name": "stderr",
     "output_type": "stream",
     "text": [
      "/tmp/ipykernel_745932/3704652543.py:2: FutureWarning: The input object of type 'Tensor' is an array-like implementing one of the corresponding protocols (`__array__`, `__array_interface__` or `__array_struct__`); but not a sequence (or 0-D). In the future, this object will be coerced as if it was first converted using `np.array(obj)`. To retain the old behaviour, you have to either modify the type 'Tensor', or assign to an empty array created with `np.empty(correct_shape, dtype=object)`.\n",
      "  np.random.shuffle(np.array(dataset))\n",
      "/tmp/ipykernel_745932/3704652543.py:2: VisibleDeprecationWarning: Creating an ndarray from ragged nested sequences (which is a list-or-tuple of lists-or-tuples-or ndarrays with different lengths or shapes) is deprecated. If you meant to do this, you must specify 'dtype=object' when creating the ndarray.\n",
      "  np.random.shuffle(np.array(dataset))\n"
     ]
    },
    {
     "name": "stdout",
     "output_type": "stream",
     "text": [
      "----------\n",
      "fold 1:\n",
      "Finished Training, Time: 40.1747 Best loss: 2.5179\n"
     ]
    },
    {
     "name": "stderr",
     "output_type": "stream",
     "text": [
      "100%|██████████| 8/8 [00:00<00:00, 122.57it/s]\n"
     ]
    },
    {
     "name": "stdout",
     "output_type": "stream",
     "text": [
      "R@1 : 90.079\n",
      "R@2 : 94.841\n",
      "R@4 : 95.238\n",
      "R@8 : 96.429\n",
      "R@16 : 98.016\n",
      "R@32 : 99.603\n",
      "----------\n",
      "fold 2:\n",
      "Finished Training, Time: 39.9077 Best loss: 2.3856\n"
     ]
    },
    {
     "name": "stderr",
     "output_type": "stream",
     "text": [
      "100%|██████████| 8/8 [00:00<00:00, 121.61it/s]\n"
     ]
    },
    {
     "name": "stdout",
     "output_type": "stream",
     "text": [
      "R@1 : 91.667\n",
      "R@2 : 94.841\n",
      "R@4 : 98.413\n",
      "R@8 : 99.206\n",
      "R@16 : 99.206\n",
      "R@32 : 99.206\n",
      "----------\n",
      "fold 3:\n",
      "Finished Training, Time: 40.0872 Best loss: 2.4047\n"
     ]
    },
    {
     "name": "stderr",
     "output_type": "stream",
     "text": [
      "100%|██████████| 8/8 [00:00<00:00, 120.38it/s]\n"
     ]
    },
    {
     "name": "stdout",
     "output_type": "stream",
     "text": [
      "R@1 : 94.048\n",
      "R@2 : 95.635\n",
      "R@4 : 98.016\n",
      "R@8 : 98.413\n",
      "R@16 : 99.206\n",
      "R@32 : 100.000\n",
      "----------\n",
      "fold 4:\n",
      "Finished Training, Time: 40.2049 Best loss: 2.3903\n"
     ]
    },
    {
     "name": "stderr",
     "output_type": "stream",
     "text": [
      "100%|██████████| 8/8 [00:00<00:00, 122.70it/s]\n"
     ]
    },
    {
     "name": "stdout",
     "output_type": "stream",
     "text": [
      "R@1 : 100.000\n",
      "R@2 : 100.000\n",
      "R@4 : 100.000\n",
      "R@8 : 100.000\n",
      "R@16 : 100.000\n",
      "R@32 : 100.000\n",
      "----------\n",
      "fold 5:\n",
      "Finished Training, Time: 40.6370 Best loss: 2.3980\n"
     ]
    },
    {
     "name": "stderr",
     "output_type": "stream",
     "text": [
      "100%|██████████| 8/8 [00:00<00:00, 122.96it/s]\n"
     ]
    },
    {
     "name": "stdout",
     "output_type": "stream",
     "text": [
      "R@1 : 100.000\n",
      "R@2 : 100.000\n",
      "R@4 : 100.000\n",
      "R@8 : 100.000\n",
      "R@16 : 100.000\n",
      "R@32 : 100.000\n",
      "----------\n",
      "fold 6:\n",
      "Finished Training, Time: 40.2673 Best loss: 2.4443\n"
     ]
    },
    {
     "name": "stderr",
     "output_type": "stream",
     "text": [
      "100%|██████████| 8/8 [00:00<00:00, 122.58it/s]\n"
     ]
    },
    {
     "name": "stdout",
     "output_type": "stream",
     "text": [
      "R@1 : 95.635\n",
      "R@2 : 96.429\n",
      "R@4 : 98.413\n",
      "R@8 : 98.413\n",
      "R@16 : 99.206\n",
      "R@32 : 99.603\n",
      "----------\n",
      "fold 7:\n",
      "Finished Training, Time: 40.3454 Best loss: 2.5007\n"
     ]
    },
    {
     "name": "stderr",
     "output_type": "stream",
     "text": [
      "100%|██████████| 8/8 [00:00<00:00, 120.05it/s]\n"
     ]
    },
    {
     "name": "stdout",
     "output_type": "stream",
     "text": [
      "R@1 : 88.095\n",
      "R@2 : 92.063\n",
      "R@4 : 95.635\n",
      "R@8 : 97.222\n",
      "R@16 : 98.810\n",
      "R@32 : 99.603\n",
      "----------\n",
      "fold 8:\n",
      "Finished Training, Time: 40.3157 Best loss: 2.3646\n"
     ]
    },
    {
     "name": "stderr",
     "output_type": "stream",
     "text": [
      "100%|██████████| 8/8 [00:00<00:00, 122.28it/s]\n"
     ]
    },
    {
     "name": "stdout",
     "output_type": "stream",
     "text": [
      "R@1 : 82.143\n",
      "R@2 : 86.905\n",
      "R@4 : 90.476\n",
      "R@8 : 95.635\n",
      "R@16 : 98.016\n",
      "R@32 : 99.206\n",
      "----------\n",
      "fold 9:\n",
      "Finished Training, Time: 40.2698 Best loss: 2.5600\n"
     ]
    },
    {
     "name": "stderr",
     "output_type": "stream",
     "text": [
      "100%|██████████| 8/8 [00:00<00:00, 122.07it/s]\n"
     ]
    },
    {
     "name": "stdout",
     "output_type": "stream",
     "text": [
      "R@1 : 87.698\n",
      "R@2 : 92.063\n",
      "R@4 : 94.841\n",
      "R@8 : 97.222\n",
      "R@16 : 98.810\n",
      "R@32 : 99.603\n",
      "----------\n",
      "fold 10:\n",
      "Finished Training, Time: 40.1167 Best loss: 2.5392\n"
     ]
    },
    {
     "name": "stderr",
     "output_type": "stream",
     "text": [
      "100%|██████████| 8/8 [00:00<00:00, 122.68it/s]\n"
     ]
    },
    {
     "name": "stdout",
     "output_type": "stream",
     "text": [
      "R@1 : 86.905\n",
      "R@2 : 90.476\n",
      "R@4 : 93.254\n",
      "R@8 : 96.429\n",
      "R@16 : 98.016\n",
      "R@32 : 99.603\n"
     ]
    }
   ],
   "source": [
    "dataset = make_dataset('LFWCustom', split='10fold', max_classes=50, min_samples=20, image_size=100, face_detection=False, crop=125)\n",
    "redefine_train_parameters()\n",
    "name=f'PA+Crop(125)'\n",
    "recalls=cross_validate(dataset)\n",
    "save_output(recalls,f'{name}')\n",
    "save_output([np.mean(arr) for arr in recalls],f'{name}_mean')"
   ]
  },
  {
   "cell_type": "code",
   "execution_count": 19,
   "id": "d9d5008c",
   "metadata": {
    "collapsed": true
   },
   "outputs": [
    {
     "name": "stderr",
     "output_type": "stream",
     "text": [
      "/tmp/ipykernel_745932/3704652543.py:2: FutureWarning: The input object of type 'Tensor' is an array-like implementing one of the corresponding protocols (`__array__`, `__array_interface__` or `__array_struct__`); but not a sequence (or 0-D). In the future, this object will be coerced as if it was first converted using `np.array(obj)`. To retain the old behaviour, you have to either modify the type 'Tensor', or assign to an empty array created with `np.empty(correct_shape, dtype=object)`.\n",
      "  np.random.shuffle(np.array(dataset))\n",
      "/tmp/ipykernel_745932/3704652543.py:2: VisibleDeprecationWarning: Creating an ndarray from ragged nested sequences (which is a list-or-tuple of lists-or-tuples-or ndarrays with different lengths or shapes) is deprecated. If you meant to do this, you must specify 'dtype=object' when creating the ndarray.\n",
      "  np.random.shuffle(np.array(dataset))\n"
     ]
    },
    {
     "name": "stdout",
     "output_type": "stream",
     "text": [
      "----------\n",
      "fold 1:\n",
      "Finished Training, Time: 40.0707 Best loss: 2.5380\n"
     ]
    },
    {
     "name": "stderr",
     "output_type": "stream",
     "text": [
      "100%|██████████| 8/8 [00:00<00:00, 122.15it/s]\n"
     ]
    },
    {
     "name": "stdout",
     "output_type": "stream",
     "text": [
      "R@1 : 87.302\n",
      "R@2 : 90.873\n",
      "R@4 : 94.841\n",
      "R@8 : 97.619\n",
      "R@16 : 98.810\n",
      "R@32 : 99.603\n",
      "----------\n",
      "fold 2:\n",
      "Finished Training, Time: 39.9147 Best loss: 2.3488\n"
     ]
    },
    {
     "name": "stderr",
     "output_type": "stream",
     "text": [
      "100%|██████████| 8/8 [00:00<00:00, 121.78it/s]\n"
     ]
    },
    {
     "name": "stdout",
     "output_type": "stream",
     "text": [
      "R@1 : 92.857\n",
      "R@2 : 96.429\n",
      "R@4 : 97.619\n",
      "R@8 : 99.206\n",
      "R@16 : 99.603\n",
      "R@32 : 99.603\n",
      "----------\n",
      "fold 3:\n",
      "Finished Training, Time: 40.0664 Best loss: 2.4828\n"
     ]
    },
    {
     "name": "stderr",
     "output_type": "stream",
     "text": [
      "100%|██████████| 8/8 [00:00<00:00, 120.44it/s]\n"
     ]
    },
    {
     "name": "stdout",
     "output_type": "stream",
     "text": [
      "R@1 : 96.825\n",
      "R@2 : 97.619\n",
      "R@4 : 99.206\n",
      "R@8 : 99.603\n",
      "R@16 : 100.000\n",
      "R@32 : 100.000\n",
      "----------\n",
      "fold 4:\n",
      "Finished Training, Time: 40.4380 Best loss: 2.4911\n"
     ]
    },
    {
     "name": "stderr",
     "output_type": "stream",
     "text": [
      "100%|██████████| 8/8 [00:00<00:00, 124.54it/s]\n"
     ]
    },
    {
     "name": "stdout",
     "output_type": "stream",
     "text": [
      "R@1 : 100.000\n",
      "R@2 : 100.000\n",
      "R@4 : 100.000\n",
      "R@8 : 100.000\n",
      "R@16 : 100.000\n",
      "R@32 : 100.000\n",
      "----------\n",
      "fold 5:\n",
      "Finished Training, Time: 40.4524 Best loss: 2.6701\n"
     ]
    },
    {
     "name": "stderr",
     "output_type": "stream",
     "text": [
      "100%|██████████| 8/8 [00:00<00:00, 120.21it/s]\n"
     ]
    },
    {
     "name": "stdout",
     "output_type": "stream",
     "text": [
      "R@1 : 100.000\n",
      "R@2 : 100.000\n",
      "R@4 : 100.000\n",
      "R@8 : 100.000\n",
      "R@16 : 100.000\n",
      "R@32 : 100.000\n",
      "----------\n",
      "fold 6:\n",
      "Finished Training, Time: 39.8408 Best loss: 2.4735\n"
     ]
    },
    {
     "name": "stderr",
     "output_type": "stream",
     "text": [
      "100%|██████████| 8/8 [00:00<00:00, 120.23it/s]\n"
     ]
    },
    {
     "name": "stdout",
     "output_type": "stream",
     "text": [
      "R@1 : 94.048\n",
      "R@2 : 95.238\n",
      "R@4 : 96.032\n",
      "R@8 : 98.016\n",
      "R@16 : 98.413\n",
      "R@32 : 100.000\n",
      "----------\n",
      "fold 7:\n",
      "Finished Training, Time: 41.1487 Best loss: 2.3893\n"
     ]
    },
    {
     "name": "stderr",
     "output_type": "stream",
     "text": [
      "100%|██████████| 8/8 [00:00<00:00, 120.12it/s]\n"
     ]
    },
    {
     "name": "stdout",
     "output_type": "stream",
     "text": [
      "R@1 : 84.921\n",
      "R@2 : 90.873\n",
      "R@4 : 94.841\n",
      "R@8 : 96.429\n",
      "R@16 : 98.810\n",
      "R@32 : 99.603\n",
      "----------\n",
      "fold 8:\n",
      "Finished Training, Time: 40.6257 Best loss: 2.5065\n"
     ]
    },
    {
     "name": "stderr",
     "output_type": "stream",
     "text": [
      "100%|██████████| 8/8 [00:00<00:00, 122.95it/s]\n"
     ]
    },
    {
     "name": "stdout",
     "output_type": "stream",
     "text": [
      "R@1 : 85.317\n",
      "R@2 : 91.667\n",
      "R@4 : 94.048\n",
      "R@8 : 96.825\n",
      "R@16 : 98.016\n",
      "R@32 : 98.413\n",
      "----------\n",
      "fold 9:\n",
      "Finished Training, Time: 41.2006 Best loss: 2.3931\n"
     ]
    },
    {
     "name": "stderr",
     "output_type": "stream",
     "text": [
      "100%|██████████| 8/8 [00:00<00:00, 120.73it/s]\n"
     ]
    },
    {
     "name": "stdout",
     "output_type": "stream",
     "text": [
      "R@1 : 84.921\n",
      "R@2 : 90.873\n",
      "R@4 : 95.238\n",
      "R@8 : 96.825\n",
      "R@16 : 98.810\n",
      "R@32 : 99.603\n",
      "----------\n",
      "fold 10:\n",
      "Finished Training, Time: 40.9426 Best loss: 2.4150\n"
     ]
    },
    {
     "name": "stderr",
     "output_type": "stream",
     "text": [
      "100%|██████████| 8/8 [00:00<00:00, 120.73it/s]\n"
     ]
    },
    {
     "name": "stdout",
     "output_type": "stream",
     "text": [
      "R@1 : 80.159\n",
      "R@2 : 88.095\n",
      "R@4 : 94.444\n",
      "R@8 : 96.429\n",
      "R@16 : 98.413\n",
      "R@32 : 99.603\n"
     ]
    }
   ],
   "source": [
    "dataset = make_dataset('LFWCustom', split='10fold', max_classes=50, min_samples=20, image_size=100, face_detection=False, crop=125, autocontrast=True)\n",
    "redefine_train_parameters()\n",
    "name=f'PA+AutoContrast+Crop(125)'\n",
    "recalls=cross_validate(dataset)\n",
    "save_output(recalls,f'{name}')\n",
    "save_output([np.mean(arr) for arr in recalls],f'{name}_mean')"
   ]
  },
  {
   "cell_type": "code",
   "execution_count": 13,
   "id": "be866a31",
   "metadata": {
    "collapsed": true
   },
   "outputs": [
    {
     "name": "stderr",
     "output_type": "stream",
     "text": [
      "/tmp/ipykernel_745932/3704652543.py:2: FutureWarning: The input object of type 'Tensor' is an array-like implementing one of the corresponding protocols (`__array__`, `__array_interface__` or `__array_struct__`); but not a sequence (or 0-D). In the future, this object will be coerced as if it was first converted using `np.array(obj)`. To retain the old behaviour, you have to either modify the type 'Tensor', or assign to an empty array created with `np.empty(correct_shape, dtype=object)`.\n",
      "  np.random.shuffle(np.array(dataset))\n",
      "/tmp/ipykernel_745932/3704652543.py:2: VisibleDeprecationWarning: Creating an ndarray from ragged nested sequences (which is a list-or-tuple of lists-or-tuples-or ndarrays with different lengths or shapes) is deprecated. If you meant to do this, you must specify 'dtype=object' when creating the ndarray.\n",
      "  np.random.shuffle(np.array(dataset))\n"
     ]
    },
    {
     "name": "stdout",
     "output_type": "stream",
     "text": [
      "----------\n",
      "fold 1:\n",
      "Finished Training, Time: 41.8469 Best loss: 2.3539\n"
     ]
    },
    {
     "name": "stderr",
     "output_type": "stream",
     "text": [
      "100%|██████████| 8/8 [00:00<00:00, 107.36it/s]\n"
     ]
    },
    {
     "name": "stdout",
     "output_type": "stream",
     "text": [
      "R@1 : 86.508\n",
      "R@2 : 91.270\n",
      "R@4 : 95.238\n",
      "R@8 : 97.619\n",
      "R@16 : 98.413\n",
      "R@32 : 99.603\n",
      "----------\n",
      "fold 2:\n",
      "Finished Training, Time: 41.9167 Best loss: 2.6002\n"
     ]
    },
    {
     "name": "stderr",
     "output_type": "stream",
     "text": [
      "100%|██████████| 8/8 [00:00<00:00, 104.42it/s]\n"
     ]
    },
    {
     "name": "stdout",
     "output_type": "stream",
     "text": [
      "R@1 : 92.063\n",
      "R@2 : 93.254\n",
      "R@4 : 95.635\n",
      "R@8 : 97.222\n",
      "R@16 : 98.810\n",
      "R@32 : 99.206\n",
      "----------\n",
      "fold 3:\n",
      "Finished Training, Time: 43.9092 Best loss: 2.3338\n"
     ]
    },
    {
     "name": "stderr",
     "output_type": "stream",
     "text": [
      "100%|██████████| 8/8 [00:00<00:00, 103.01it/s]\n"
     ]
    },
    {
     "name": "stdout",
     "output_type": "stream",
     "text": [
      "R@1 : 92.460\n",
      "R@2 : 96.032\n",
      "R@4 : 98.016\n",
      "R@8 : 98.810\n",
      "R@16 : 99.206\n",
      "R@32 : 99.206\n",
      "----------\n",
      "fold 4:\n",
      "Finished Training, Time: 43.3181 Best loss: 2.5301\n"
     ]
    },
    {
     "name": "stderr",
     "output_type": "stream",
     "text": [
      "100%|██████████| 8/8 [00:00<00:00, 106.95it/s]\n"
     ]
    },
    {
     "name": "stdout",
     "output_type": "stream",
     "text": [
      "R@1 : 100.000\n",
      "R@2 : 100.000\n",
      "R@4 : 100.000\n",
      "R@8 : 100.000\n",
      "R@16 : 100.000\n",
      "R@32 : 100.000\n",
      "----------\n",
      "fold 5:\n",
      "Finished Training, Time: 42.3507 Best loss: 2.3127\n"
     ]
    },
    {
     "name": "stderr",
     "output_type": "stream",
     "text": [
      "100%|██████████| 8/8 [00:00<00:00, 105.62it/s]\n"
     ]
    },
    {
     "name": "stdout",
     "output_type": "stream",
     "text": [
      "R@1 : 100.000\n",
      "R@2 : 100.000\n",
      "R@4 : 100.000\n",
      "R@8 : 100.000\n",
      "R@16 : 100.000\n",
      "R@32 : 100.000\n",
      "----------\n",
      "fold 6:\n",
      "Finished Training, Time: 44.0371 Best loss: 2.6107\n"
     ]
    },
    {
     "name": "stderr",
     "output_type": "stream",
     "text": [
      "100%|██████████| 8/8 [00:00<00:00, 101.81it/s]\n"
     ]
    },
    {
     "name": "stdout",
     "output_type": "stream",
     "text": [
      "R@1 : 93.651\n",
      "R@2 : 94.841\n",
      "R@4 : 96.032\n",
      "R@8 : 96.825\n",
      "R@16 : 98.016\n",
      "R@32 : 99.206\n",
      "----------\n",
      "fold 7:\n",
      "Finished Training, Time: 42.0059 Best loss: 2.5569\n"
     ]
    },
    {
     "name": "stderr",
     "output_type": "stream",
     "text": [
      "100%|██████████| 8/8 [00:00<00:00, 105.41it/s]\n"
     ]
    },
    {
     "name": "stdout",
     "output_type": "stream",
     "text": [
      "R@1 : 83.730\n",
      "R@2 : 88.889\n",
      "R@4 : 92.460\n",
      "R@8 : 96.825\n",
      "R@16 : 98.413\n",
      "R@32 : 100.000\n",
      "----------\n",
      "fold 8:\n",
      "Finished Training, Time: 43.5767 Best loss: 2.5558\n"
     ]
    },
    {
     "name": "stderr",
     "output_type": "stream",
     "text": [
      "100%|██████████| 8/8 [00:00<00:00, 100.37it/s]\n"
     ]
    },
    {
     "name": "stdout",
     "output_type": "stream",
     "text": [
      "R@1 : 83.730\n",
      "R@2 : 88.889\n",
      "R@4 : 92.460\n",
      "R@8 : 95.635\n",
      "R@16 : 97.222\n",
      "R@32 : 98.413\n",
      "----------\n",
      "fold 9:\n",
      "Finished Training, Time: 42.0813 Best loss: 2.4576\n"
     ]
    },
    {
     "name": "stderr",
     "output_type": "stream",
     "text": [
      "100%|██████████| 8/8 [00:00<00:00, 104.99it/s]\n"
     ]
    },
    {
     "name": "stdout",
     "output_type": "stream",
     "text": [
      "R@1 : 89.286\n",
      "R@2 : 92.857\n",
      "R@4 : 97.222\n",
      "R@8 : 98.413\n",
      "R@16 : 99.206\n",
      "R@32 : 99.603\n",
      "----------\n",
      "fold 10:\n",
      "Finished Training, Time: 42.5043 Best loss: 2.5642\n"
     ]
    },
    {
     "name": "stderr",
     "output_type": "stream",
     "text": [
      "100%|██████████| 8/8 [00:00<00:00, 105.16it/s]\n"
     ]
    },
    {
     "name": "stdout",
     "output_type": "stream",
     "text": [
      "R@1 : 86.508\n",
      "R@2 : 91.270\n",
      "R@4 : 96.032\n",
      "R@8 : 98.016\n",
      "R@16 : 99.206\n",
      "R@32 : 99.206\n"
     ]
    }
   ],
   "source": [
    "dataset = make_dataset('LFWCustom', split='10fold', max_classes=50, min_samples=20, image_size=100, face_detection=False, crop=125, median_unsharp=True, median_unsharp_size=3, median_unsharp_amount=2, median=True, median_size=3)\n",
    "redefine_train_parameters()\n",
    "name=f'PA+Crop(125)+MedianUnsharp(size=3,amount=2)+Median(size=3)'\n",
    "recalls=cross_validate(dataset)\n",
    "save_output(recalls,f'{name}')\n",
    "save_output([np.mean(arr) for arr in recalls],f'{name}_mean')"
   ]
  },
  {
   "cell_type": "code",
   "execution_count": 20,
   "id": "0e952659",
   "metadata": {
    "collapsed": true
   },
   "outputs": [
    {
     "name": "stderr",
     "output_type": "stream",
     "text": [
      "/tmp/ipykernel_745932/3704652543.py:2: FutureWarning: The input object of type 'Tensor' is an array-like implementing one of the corresponding protocols (`__array__`, `__array_interface__` or `__array_struct__`); but not a sequence (or 0-D). In the future, this object will be coerced as if it was first converted using `np.array(obj)`. To retain the old behaviour, you have to either modify the type 'Tensor', or assign to an empty array created with `np.empty(correct_shape, dtype=object)`.\n",
      "  np.random.shuffle(np.array(dataset))\n",
      "/tmp/ipykernel_745932/3704652543.py:2: VisibleDeprecationWarning: Creating an ndarray from ragged nested sequences (which is a list-or-tuple of lists-or-tuples-or ndarrays with different lengths or shapes) is deprecated. If you meant to do this, you must specify 'dtype=object' when creating the ndarray.\n",
      "  np.random.shuffle(np.array(dataset))\n"
     ]
    },
    {
     "name": "stdout",
     "output_type": "stream",
     "text": [
      "----------\n",
      "fold 1:\n",
      "Finished Training, Time: 42.4475 Best loss: 2.5813\n"
     ]
    },
    {
     "name": "stderr",
     "output_type": "stream",
     "text": [
      "100%|██████████| 8/8 [00:00<00:00, 106.42it/s]\n"
     ]
    },
    {
     "name": "stdout",
     "output_type": "stream",
     "text": [
      "R@1 : 89.286\n",
      "R@2 : 94.444\n",
      "R@4 : 97.222\n",
      "R@8 : 98.413\n",
      "R@16 : 99.603\n",
      "R@32 : 100.000\n",
      "----------\n",
      "fold 2:\n",
      "Finished Training, Time: 42.9009 Best loss: 2.2317\n"
     ]
    },
    {
     "name": "stderr",
     "output_type": "stream",
     "text": [
      "100%|██████████| 8/8 [00:00<00:00, 77.25it/s]\n"
     ]
    },
    {
     "name": "stdout",
     "output_type": "stream",
     "text": [
      "R@1 : 88.492\n",
      "R@2 : 92.460\n",
      "R@4 : 94.841\n",
      "R@8 : 97.222\n",
      "R@16 : 98.810\n",
      "R@32 : 99.603\n",
      "----------\n",
      "fold 3:\n",
      "Finished Training, Time: 42.7449 Best loss: 2.5309\n"
     ]
    },
    {
     "name": "stderr",
     "output_type": "stream",
     "text": [
      "100%|██████████| 8/8 [00:00<00:00, 106.24it/s]\n"
     ]
    },
    {
     "name": "stdout",
     "output_type": "stream",
     "text": [
      "R@1 : 93.254\n",
      "R@2 : 95.238\n",
      "R@4 : 96.429\n",
      "R@8 : 97.222\n",
      "R@16 : 98.016\n",
      "R@32 : 98.413\n",
      "----------\n",
      "fold 4:\n",
      "Finished Training, Time: 41.9924 Best loss: 2.5870\n"
     ]
    },
    {
     "name": "stderr",
     "output_type": "stream",
     "text": [
      "100%|██████████| 8/8 [00:00<00:00, 106.05it/s]\n"
     ]
    },
    {
     "name": "stdout",
     "output_type": "stream",
     "text": [
      "R@1 : 100.000\n",
      "R@2 : 100.000\n",
      "R@4 : 100.000\n",
      "R@8 : 100.000\n",
      "R@16 : 100.000\n",
      "R@32 : 100.000\n",
      "----------\n",
      "fold 5:\n",
      "Finished Training, Time: 42.8473 Best loss: 2.4292\n"
     ]
    },
    {
     "name": "stderr",
     "output_type": "stream",
     "text": [
      "100%|██████████| 8/8 [00:00<00:00, 106.74it/s]\n"
     ]
    },
    {
     "name": "stdout",
     "output_type": "stream",
     "text": [
      "R@1 : 100.000\n",
      "R@2 : 100.000\n",
      "R@4 : 100.000\n",
      "R@8 : 100.000\n",
      "R@16 : 100.000\n",
      "R@32 : 100.000\n",
      "----------\n",
      "fold 6:\n",
      "Finished Training, Time: 42.4034 Best loss: 2.4536\n"
     ]
    },
    {
     "name": "stderr",
     "output_type": "stream",
     "text": [
      "100%|██████████| 8/8 [00:00<00:00, 106.70it/s]\n"
     ]
    },
    {
     "name": "stdout",
     "output_type": "stream",
     "text": [
      "R@1 : 90.476\n",
      "R@2 : 91.667\n",
      "R@4 : 95.635\n",
      "R@8 : 96.429\n",
      "R@16 : 97.222\n",
      "R@32 : 99.603\n",
      "----------\n",
      "fold 7:\n",
      "Finished Training, Time: 42.6228 Best loss: 2.3732\n"
     ]
    },
    {
     "name": "stderr",
     "output_type": "stream",
     "text": [
      "100%|██████████| 8/8 [00:00<00:00, 106.76it/s]\n"
     ]
    },
    {
     "name": "stdout",
     "output_type": "stream",
     "text": [
      "R@1 : 82.540\n",
      "R@2 : 89.683\n",
      "R@4 : 95.635\n",
      "R@8 : 98.016\n",
      "R@16 : 99.206\n",
      "R@32 : 100.000\n",
      "----------\n",
      "fold 8:\n",
      "Finished Training, Time: 42.3480 Best loss: 2.4131\n"
     ]
    },
    {
     "name": "stderr",
     "output_type": "stream",
     "text": [
      "100%|██████████| 8/8 [00:00<00:00, 106.26it/s]\n"
     ]
    },
    {
     "name": "stdout",
     "output_type": "stream",
     "text": [
      "R@1 : 83.333\n",
      "R@2 : 90.476\n",
      "R@4 : 93.651\n",
      "R@8 : 96.429\n",
      "R@16 : 98.413\n",
      "R@32 : 99.603\n",
      "----------\n",
      "fold 9:\n",
      "Finished Training, Time: 43.0918 Best loss: 2.5041\n"
     ]
    },
    {
     "name": "stderr",
     "output_type": "stream",
     "text": [
      "100%|██████████| 8/8 [00:00<00:00, 106.58it/s]\n"
     ]
    },
    {
     "name": "stdout",
     "output_type": "stream",
     "text": [
      "R@1 : 92.063\n",
      "R@2 : 94.841\n",
      "R@4 : 96.825\n",
      "R@8 : 98.016\n",
      "R@16 : 99.603\n",
      "R@32 : 100.000\n",
      "----------\n",
      "fold 10:\n",
      "Finished Training, Time: 42.9899 Best loss: 2.5644\n"
     ]
    },
    {
     "name": "stderr",
     "output_type": "stream",
     "text": [
      "100%|██████████| 8/8 [00:00<00:00, 105.41it/s]\n"
     ]
    },
    {
     "name": "stdout",
     "output_type": "stream",
     "text": [
      "R@1 : 85.714\n",
      "R@2 : 91.270\n",
      "R@4 : 93.651\n",
      "R@8 : 97.222\n",
      "R@16 : 98.413\n",
      "R@32 : 99.206\n",
      "----------\n",
      "fold 1:\n",
      "Finished Training, Time: 41.8916 Best loss: 2.3727\n"
     ]
    },
    {
     "name": "stderr",
     "output_type": "stream",
     "text": [
      "100%|██████████| 8/8 [00:00<00:00, 107.49it/s]\n"
     ]
    },
    {
     "name": "stdout",
     "output_type": "stream",
     "text": [
      "R@1 : 86.905\n",
      "R@2 : 91.667\n",
      "R@4 : 94.444\n",
      "R@8 : 96.032\n",
      "R@16 : 98.016\n",
      "R@32 : 99.206\n",
      "----------\n",
      "fold 2:\n",
      "Finished Training, Time: 41.8650 Best loss: 2.4183\n"
     ]
    },
    {
     "name": "stderr",
     "output_type": "stream",
     "text": [
      "100%|██████████| 8/8 [00:00<00:00, 105.48it/s]\n"
     ]
    },
    {
     "name": "stdout",
     "output_type": "stream",
     "text": [
      "R@1 : 94.444\n",
      "R@2 : 96.032\n",
      "R@4 : 96.429\n",
      "R@8 : 98.810\n",
      "R@16 : 99.603\n",
      "R@32 : 99.603\n",
      "----------\n",
      "fold 3:\n",
      "Finished Training, Time: 43.6717 Best loss: 2.4237\n"
     ]
    },
    {
     "name": "stderr",
     "output_type": "stream",
     "text": [
      "100%|██████████| 8/8 [00:00<00:00, 106.42it/s]\n"
     ]
    },
    {
     "name": "stdout",
     "output_type": "stream",
     "text": [
      "R@1 : 95.238\n",
      "R@2 : 97.222\n",
      "R@4 : 98.016\n",
      "R@8 : 98.810\n",
      "R@16 : 98.810\n",
      "R@32 : 99.206\n",
      "----------\n",
      "fold 4:\n",
      "Finished Training, Time: 41.9256 Best loss: 2.6075\n"
     ]
    },
    {
     "name": "stderr",
     "output_type": "stream",
     "text": [
      "100%|██████████| 8/8 [00:00<00:00, 98.72it/s]\n"
     ]
    },
    {
     "name": "stdout",
     "output_type": "stream",
     "text": [
      "R@1 : 100.000\n",
      "R@2 : 100.000\n",
      "R@4 : 100.000\n",
      "R@8 : 100.000\n",
      "R@16 : 100.000\n",
      "R@32 : 100.000\n",
      "----------\n",
      "fold 5:\n",
      "Finished Training, Time: 42.2540 Best loss: 2.4959\n"
     ]
    },
    {
     "name": "stderr",
     "output_type": "stream",
     "text": [
      "100%|██████████| 8/8 [00:00<00:00, 106.74it/s]\n"
     ]
    },
    {
     "name": "stdout",
     "output_type": "stream",
     "text": [
      "R@1 : 100.000\n",
      "R@2 : 100.000\n",
      "R@4 : 100.000\n",
      "R@8 : 100.000\n",
      "R@16 : 100.000\n",
      "R@32 : 100.000\n",
      "----------\n",
      "fold 6:\n",
      "Finished Training, Time: 42.9248 Best loss: 2.2128\n"
     ]
    },
    {
     "name": "stderr",
     "output_type": "stream",
     "text": [
      "100%|██████████| 8/8 [00:00<00:00, 107.27it/s]\n"
     ]
    },
    {
     "name": "stdout",
     "output_type": "stream",
     "text": [
      "R@1 : 94.444\n",
      "R@2 : 96.429\n",
      "R@4 : 96.825\n",
      "R@8 : 96.825\n",
      "R@16 : 98.413\n",
      "R@32 : 99.206\n",
      "----------\n",
      "fold 7:\n",
      "Finished Training, Time: 42.2426 Best loss: 2.4185\n"
     ]
    },
    {
     "name": "stderr",
     "output_type": "stream",
     "text": [
      "100%|██████████| 8/8 [00:00<00:00, 106.23it/s]\n"
     ]
    },
    {
     "name": "stdout",
     "output_type": "stream",
     "text": [
      "R@1 : 82.143\n",
      "R@2 : 89.286\n",
      "R@4 : 94.841\n",
      "R@8 : 97.619\n",
      "R@16 : 98.810\n",
      "R@32 : 99.603\n",
      "----------\n",
      "fold 8:\n",
      "Finished Training, Time: 43.1033 Best loss: 2.3278\n"
     ]
    },
    {
     "name": "stderr",
     "output_type": "stream",
     "text": [
      "100%|██████████| 8/8 [00:00<00:00, 105.90it/s]\n"
     ]
    },
    {
     "name": "stdout",
     "output_type": "stream",
     "text": [
      "R@1 : 85.714\n",
      "R@2 : 90.873\n",
      "R@4 : 94.048\n",
      "R@8 : 96.429\n",
      "R@16 : 97.619\n",
      "R@32 : 98.413\n",
      "----------\n",
      "fold 9:\n",
      "Finished Training, Time: 44.7613 Best loss: 2.5700\n"
     ]
    },
    {
     "name": "stderr",
     "output_type": "stream",
     "text": [
      "100%|██████████| 8/8 [00:00<00:00, 101.57it/s]\n"
     ]
    },
    {
     "name": "stdout",
     "output_type": "stream",
     "text": [
      "R@1 : 90.079\n",
      "R@2 : 94.841\n",
      "R@4 : 96.825\n",
      "R@8 : 98.810\n",
      "R@16 : 98.810\n",
      "R@32 : 100.000\n",
      "----------\n",
      "fold 10:\n",
      "Finished Training, Time: 43.4560 Best loss: 2.4335\n"
     ]
    },
    {
     "name": "stderr",
     "output_type": "stream",
     "text": [
      "100%|██████████| 8/8 [00:00<00:00, 104.02it/s]\n"
     ]
    },
    {
     "name": "stdout",
     "output_type": "stream",
     "text": [
      "R@1 : 84.127\n",
      "R@2 : 90.079\n",
      "R@4 : 91.667\n",
      "R@8 : 96.032\n",
      "R@16 : 97.222\n",
      "R@32 : 99.603\n",
      "----------\n",
      "fold 1:\n",
      "Finished Training, Time: 42.8540 Best loss: 2.5085\n"
     ]
    },
    {
     "name": "stderr",
     "output_type": "stream",
     "text": [
      "100%|██████████| 8/8 [00:00<00:00, 104.96it/s]\n"
     ]
    },
    {
     "name": "stdout",
     "output_type": "stream",
     "text": [
      "R@1 : 86.111\n",
      "R@2 : 91.270\n",
      "R@4 : 95.635\n",
      "R@8 : 97.222\n",
      "R@16 : 98.413\n",
      "R@32 : 99.206\n",
      "----------\n",
      "fold 2:\n",
      "Finished Training, Time: 43.4980 Best loss: 2.5433\n"
     ]
    },
    {
     "name": "stderr",
     "output_type": "stream",
     "text": [
      "100%|██████████| 8/8 [00:00<00:00, 97.29it/s]\n"
     ]
    },
    {
     "name": "stdout",
     "output_type": "stream",
     "text": [
      "R@1 : 85.714\n",
      "R@2 : 93.651\n",
      "R@4 : 96.429\n",
      "R@8 : 98.413\n",
      "R@16 : 99.206\n",
      "R@32 : 99.206\n",
      "----------\n",
      "fold 3:\n",
      "Finished Training, Time: 42.2359 Best loss: 2.5882\n"
     ]
    },
    {
     "name": "stderr",
     "output_type": "stream",
     "text": [
      "100%|██████████| 8/8 [00:00<00:00, 107.15it/s]\n"
     ]
    },
    {
     "name": "stdout",
     "output_type": "stream",
     "text": [
      "R@1 : 89.683\n",
      "R@2 : 92.460\n",
      "R@4 : 95.635\n",
      "R@8 : 97.619\n",
      "R@16 : 98.413\n",
      "R@32 : 98.413\n",
      "----------\n",
      "fold 4:\n",
      "Finished Training, Time: 43.8048 Best loss: 2.4800\n"
     ]
    },
    {
     "name": "stderr",
     "output_type": "stream",
     "text": [
      "100%|██████████| 8/8 [00:00<00:00, 105.49it/s]\n"
     ]
    },
    {
     "name": "stdout",
     "output_type": "stream",
     "text": [
      "R@1 : 100.000\n",
      "R@2 : 100.000\n",
      "R@4 : 100.000\n",
      "R@8 : 100.000\n",
      "R@16 : 100.000\n",
      "R@32 : 100.000\n",
      "----------\n",
      "fold 5:\n",
      "Finished Training, Time: 42.1316 Best loss: 2.6153\n"
     ]
    },
    {
     "name": "stderr",
     "output_type": "stream",
     "text": [
      "100%|██████████| 8/8 [00:00<00:00, 106.69it/s]\n"
     ]
    },
    {
     "name": "stdout",
     "output_type": "stream",
     "text": [
      "R@1 : 100.000\n",
      "R@2 : 100.000\n",
      "R@4 : 100.000\n",
      "R@8 : 100.000\n",
      "R@16 : 100.000\n",
      "R@32 : 100.000\n",
      "----------\n",
      "fold 6:\n",
      "Finished Training, Time: 42.5336 Best loss: 2.4870\n"
     ]
    },
    {
     "name": "stderr",
     "output_type": "stream",
     "text": [
      "100%|██████████| 8/8 [00:00<00:00, 106.06it/s]\n"
     ]
    },
    {
     "name": "stdout",
     "output_type": "stream",
     "text": [
      "R@1 : 92.063\n",
      "R@2 : 94.048\n",
      "R@4 : 96.032\n",
      "R@8 : 97.222\n",
      "R@16 : 98.810\n",
      "R@32 : 100.000\n",
      "----------\n",
      "fold 7:\n",
      "Finished Training, Time: 43.5007 Best loss: 2.4574\n"
     ]
    },
    {
     "name": "stderr",
     "output_type": "stream",
     "text": [
      "100%|██████████| 8/8 [00:00<00:00, 106.60it/s]\n"
     ]
    },
    {
     "name": "stdout",
     "output_type": "stream",
     "text": [
      "R@1 : 78.968\n",
      "R@2 : 85.714\n",
      "R@4 : 91.667\n",
      "R@8 : 96.825\n",
      "R@16 : 99.603\n",
      "R@32 : 100.000\n",
      "----------\n",
      "fold 8:\n",
      "Finished Training, Time: 42.7833 Best loss: 2.4412\n"
     ]
    },
    {
     "name": "stderr",
     "output_type": "stream",
     "text": [
      "100%|██████████| 8/8 [00:00<00:00, 103.95it/s]\n"
     ]
    },
    {
     "name": "stdout",
     "output_type": "stream",
     "text": [
      "R@1 : 76.190\n",
      "R@2 : 84.921\n",
      "R@4 : 92.857\n",
      "R@8 : 96.825\n",
      "R@16 : 98.016\n",
      "R@32 : 99.206\n",
      "----------\n",
      "fold 9:\n",
      "Finished Training, Time: 42.1860 Best loss: 2.2810\n"
     ]
    },
    {
     "name": "stderr",
     "output_type": "stream",
     "text": [
      "100%|██████████| 8/8 [00:00<00:00, 105.51it/s]\n"
     ]
    },
    {
     "name": "stdout",
     "output_type": "stream",
     "text": [
      "R@1 : 88.889\n",
      "R@2 : 93.254\n",
      "R@4 : 95.238\n",
      "R@8 : 97.222\n",
      "R@16 : 99.603\n",
      "R@32 : 99.603\n",
      "----------\n",
      "fold 10:\n",
      "Finished Training, Time: 43.5609 Best loss: 2.3547\n"
     ]
    },
    {
     "name": "stderr",
     "output_type": "stream",
     "text": [
      "100%|██████████| 8/8 [00:00<00:00, 106.18it/s]\n"
     ]
    },
    {
     "name": "stdout",
     "output_type": "stream",
     "text": [
      "R@1 : 83.333\n",
      "R@2 : 90.873\n",
      "R@4 : 96.032\n",
      "R@8 : 97.222\n",
      "R@16 : 98.413\n",
      "R@32 : 99.206\n",
      "----------\n",
      "fold 1:\n",
      "Finished Training, Time: 42.0237 Best loss: 2.6026\n"
     ]
    },
    {
     "name": "stderr",
     "output_type": "stream",
     "text": [
      "100%|██████████| 8/8 [00:00<00:00, 107.06it/s]\n"
     ]
    },
    {
     "name": "stdout",
     "output_type": "stream",
     "text": [
      "R@1 : 88.889\n",
      "R@2 : 94.048\n",
      "R@4 : 94.841\n",
      "R@8 : 96.032\n",
      "R@16 : 99.206\n",
      "R@32 : 99.603\n",
      "----------\n",
      "fold 2:\n",
      "Finished Training, Time: 42.7026 Best loss: 2.4099\n"
     ]
    },
    {
     "name": "stderr",
     "output_type": "stream",
     "text": [
      "100%|██████████| 8/8 [00:00<00:00, 105.78it/s]\n"
     ]
    },
    {
     "name": "stdout",
     "output_type": "stream",
     "text": [
      "R@1 : 93.651\n",
      "R@2 : 96.825\n",
      "R@4 : 97.619\n",
      "R@8 : 98.413\n",
      "R@16 : 98.810\n",
      "R@32 : 100.000\n",
      "----------\n",
      "fold 3:\n",
      "Finished Training, Time: 42.3055 Best loss: 2.3625\n"
     ]
    },
    {
     "name": "stderr",
     "output_type": "stream",
     "text": [
      "100%|██████████| 8/8 [00:00<00:00, 104.13it/s]\n"
     ]
    },
    {
     "name": "stdout",
     "output_type": "stream",
     "text": [
      "R@1 : 96.032\n",
      "R@2 : 98.413\n",
      "R@4 : 98.810\n",
      "R@8 : 99.603\n",
      "R@16 : 99.603\n",
      "R@32 : 100.000\n",
      "----------\n",
      "fold 4:\n",
      "Finished Training, Time: 41.9693 Best loss: 2.3308\n"
     ]
    },
    {
     "name": "stderr",
     "output_type": "stream",
     "text": [
      "100%|██████████| 8/8 [00:00<00:00, 106.95it/s]\n"
     ]
    },
    {
     "name": "stdout",
     "output_type": "stream",
     "text": [
      "R@1 : 100.000\n",
      "R@2 : 100.000\n",
      "R@4 : 100.000\n",
      "R@8 : 100.000\n",
      "R@16 : 100.000\n",
      "R@32 : 100.000\n",
      "----------\n",
      "fold 5:\n",
      "Finished Training, Time: 43.1571 Best loss: 2.4808\n"
     ]
    },
    {
     "name": "stderr",
     "output_type": "stream",
     "text": [
      "100%|██████████| 8/8 [00:00<00:00, 104.48it/s]\n"
     ]
    },
    {
     "name": "stdout",
     "output_type": "stream",
     "text": [
      "R@1 : 100.000\n",
      "R@2 : 100.000\n",
      "R@4 : 100.000\n",
      "R@8 : 100.000\n",
      "R@16 : 100.000\n",
      "R@32 : 100.000\n",
      "----------\n",
      "fold 6:\n",
      "Finished Training, Time: 43.4695 Best loss: 2.4266\n"
     ]
    },
    {
     "name": "stderr",
     "output_type": "stream",
     "text": [
      "100%|██████████| 8/8 [00:00<00:00, 107.57it/s]\n"
     ]
    },
    {
     "name": "stdout",
     "output_type": "stream",
     "text": [
      "R@1 : 94.444\n",
      "R@2 : 96.429\n",
      "R@4 : 96.825\n",
      "R@8 : 98.016\n",
      "R@16 : 98.016\n",
      "R@32 : 99.603\n",
      "----------\n",
      "fold 7:\n",
      "Finished Training, Time: 42.3235 Best loss: 2.4981\n"
     ]
    },
    {
     "name": "stderr",
     "output_type": "stream",
     "text": [
      "100%|██████████| 8/8 [00:00<00:00, 105.34it/s]\n"
     ]
    },
    {
     "name": "stdout",
     "output_type": "stream",
     "text": [
      "R@1 : 82.540\n",
      "R@2 : 90.079\n",
      "R@4 : 94.444\n",
      "R@8 : 97.222\n",
      "R@16 : 98.413\n",
      "R@32 : 99.206\n",
      "----------\n",
      "fold 8:\n",
      "Finished Training, Time: 42.1536 Best loss: 2.6606\n"
     ]
    },
    {
     "name": "stderr",
     "output_type": "stream",
     "text": [
      "100%|██████████| 8/8 [00:00<00:00, 107.28it/s]\n"
     ]
    },
    {
     "name": "stdout",
     "output_type": "stream",
     "text": [
      "R@1 : 83.730\n",
      "R@2 : 91.270\n",
      "R@4 : 94.841\n",
      "R@8 : 95.635\n",
      "R@16 : 97.222\n",
      "R@32 : 98.810\n",
      "----------\n",
      "fold 9:\n",
      "Finished Training, Time: 42.3499 Best loss: 2.3238\n"
     ]
    },
    {
     "name": "stderr",
     "output_type": "stream",
     "text": [
      "100%|██████████| 8/8 [00:00<00:00, 104.48it/s]\n"
     ]
    },
    {
     "name": "stdout",
     "output_type": "stream",
     "text": [
      "R@1 : 83.333\n",
      "R@2 : 88.889\n",
      "R@4 : 94.048\n",
      "R@8 : 96.429\n",
      "R@16 : 98.016\n",
      "R@32 : 99.206\n",
      "----------\n",
      "fold 10:\n",
      "Finished Training, Time: 42.0019 Best loss: 2.3505\n"
     ]
    },
    {
     "name": "stderr",
     "output_type": "stream",
     "text": [
      "100%|██████████| 8/8 [00:00<00:00, 105.91it/s]\n"
     ]
    },
    {
     "name": "stdout",
     "output_type": "stream",
     "text": [
      "R@1 : 79.365\n",
      "R@2 : 88.095\n",
      "R@4 : 94.048\n",
      "R@8 : 96.825\n",
      "R@16 : 98.413\n",
      "R@32 : 99.603\n",
      "----------\n",
      "fold 1:\n",
      "Finished Training, Time: 43.2405 Best loss: 2.4671\n"
     ]
    },
    {
     "name": "stderr",
     "output_type": "stream",
     "text": [
      "100%|██████████| 8/8 [00:00<00:00, 104.81it/s]\n"
     ]
    },
    {
     "name": "stdout",
     "output_type": "stream",
     "text": [
      "R@1 : 84.921\n",
      "R@2 : 89.286\n",
      "R@4 : 93.254\n",
      "R@8 : 96.825\n",
      "R@16 : 99.603\n",
      "R@32 : 100.000\n",
      "----------\n",
      "fold 2:\n",
      "Finished Training, Time: 43.2488 Best loss: 2.3560\n"
     ]
    },
    {
     "name": "stderr",
     "output_type": "stream",
     "text": [
      "100%|██████████| 8/8 [00:00<00:00, 106.86it/s]\n"
     ]
    },
    {
     "name": "stdout",
     "output_type": "stream",
     "text": [
      "R@1 : 94.841\n",
      "R@2 : 98.413\n",
      "R@4 : 99.206\n",
      "R@8 : 100.000\n",
      "R@16 : 100.000\n",
      "R@32 : 100.000\n",
      "----------\n",
      "fold 3:\n",
      "Finished Training, Time: 42.8929 Best loss: 2.5367\n"
     ]
    },
    {
     "name": "stderr",
     "output_type": "stream",
     "text": [
      "100%|██████████| 8/8 [00:00<00:00, 107.80it/s]\n"
     ]
    },
    {
     "name": "stdout",
     "output_type": "stream",
     "text": [
      "R@1 : 93.651\n",
      "R@2 : 95.238\n",
      "R@4 : 96.825\n",
      "R@8 : 97.222\n",
      "R@16 : 97.222\n",
      "R@32 : 98.810\n",
      "----------\n",
      "fold 4:\n",
      "Finished Training, Time: 42.7709 Best loss: 2.4619\n"
     ]
    },
    {
     "name": "stderr",
     "output_type": "stream",
     "text": [
      "100%|██████████| 8/8 [00:00<00:00, 70.99it/s]\n"
     ]
    },
    {
     "name": "stdout",
     "output_type": "stream",
     "text": [
      "R@1 : 100.000\n",
      "R@2 : 100.000\n",
      "R@4 : 100.000\n",
      "R@8 : 100.000\n",
      "R@16 : 100.000\n",
      "R@32 : 100.000\n",
      "----------\n",
      "fold 5:\n",
      "Finished Training, Time: 42.2237 Best loss: 2.1522\n"
     ]
    },
    {
     "name": "stderr",
     "output_type": "stream",
     "text": [
      "100%|██████████| 8/8 [00:00<00:00, 105.24it/s]\n"
     ]
    },
    {
     "name": "stdout",
     "output_type": "stream",
     "text": [
      "R@1 : 100.000\n",
      "R@2 : 100.000\n",
      "R@4 : 100.000\n",
      "R@8 : 100.000\n",
      "R@16 : 100.000\n",
      "R@32 : 100.000\n",
      "----------\n",
      "fold 6:\n",
      "Finished Training, Time: 42.6576 Best loss: 2.5189\n"
     ]
    },
    {
     "name": "stderr",
     "output_type": "stream",
     "text": [
      "100%|██████████| 8/8 [00:00<00:00, 106.15it/s]\n"
     ]
    },
    {
     "name": "stdout",
     "output_type": "stream",
     "text": [
      "R@1 : 94.841\n",
      "R@2 : 96.429\n",
      "R@4 : 97.619\n",
      "R@8 : 98.016\n",
      "R@16 : 98.413\n",
      "R@32 : 99.206\n",
      "----------\n",
      "fold 7:\n",
      "Finished Training, Time: 42.7332 Best loss: 2.3060\n"
     ]
    },
    {
     "name": "stderr",
     "output_type": "stream",
     "text": [
      "100%|██████████| 8/8 [00:00<00:00, 104.28it/s]\n"
     ]
    },
    {
     "name": "stdout",
     "output_type": "stream",
     "text": [
      "R@1 : 88.889\n",
      "R@2 : 94.048\n",
      "R@4 : 96.825\n",
      "R@8 : 98.016\n",
      "R@16 : 98.810\n",
      "R@32 : 98.810\n",
      "----------\n",
      "fold 8:\n",
      "Finished Training, Time: 42.3442 Best loss: 2.5208\n"
     ]
    },
    {
     "name": "stderr",
     "output_type": "stream",
     "text": [
      "100%|██████████| 8/8 [00:00<00:00, 105.40it/s]\n"
     ]
    },
    {
     "name": "stdout",
     "output_type": "stream",
     "text": [
      "R@1 : 81.349\n",
      "R@2 : 89.286\n",
      "R@4 : 92.857\n",
      "R@8 : 96.032\n",
      "R@16 : 98.016\n",
      "R@32 : 99.603\n",
      "----------\n",
      "fold 9:\n",
      "Finished Training, Time: 42.3020 Best loss: 2.3847\n"
     ]
    },
    {
     "name": "stderr",
     "output_type": "stream",
     "text": [
      "100%|██████████| 8/8 [00:00<00:00, 107.75it/s]\n"
     ]
    },
    {
     "name": "stdout",
     "output_type": "stream",
     "text": [
      "R@1 : 85.317\n",
      "R@2 : 92.063\n",
      "R@4 : 95.238\n",
      "R@8 : 97.222\n",
      "R@16 : 100.000\n",
      "R@32 : 100.000\n",
      "----------\n",
      "fold 10:\n",
      "Finished Training, Time: 43.1590 Best loss: 2.3928\n"
     ]
    },
    {
     "name": "stderr",
     "output_type": "stream",
     "text": [
      "100%|██████████| 8/8 [00:00<00:00, 106.46it/s]\n"
     ]
    },
    {
     "name": "stdout",
     "output_type": "stream",
     "text": [
      "R@1 : 88.889\n",
      "R@2 : 92.460\n",
      "R@4 : 96.032\n",
      "R@8 : 99.206\n",
      "R@16 : 99.206\n",
      "R@32 : 99.603\n",
      "----------\n",
      "fold 1:\n",
      "Finished Training, Time: 42.1858 Best loss: 2.3543\n"
     ]
    },
    {
     "name": "stderr",
     "output_type": "stream",
     "text": [
      "100%|██████████| 8/8 [00:00<00:00, 105.87it/s]\n"
     ]
    },
    {
     "name": "stdout",
     "output_type": "stream",
     "text": [
      "R@1 : 86.508\n",
      "R@2 : 92.460\n",
      "R@4 : 95.635\n",
      "R@8 : 96.825\n",
      "R@16 : 98.810\n",
      "R@32 : 100.000\n",
      "----------\n",
      "fold 2:\n",
      "Finished Training, Time: 42.4815 Best loss: 2.3724\n"
     ]
    },
    {
     "name": "stderr",
     "output_type": "stream",
     "text": [
      "100%|██████████| 8/8 [00:00<00:00, 106.40it/s]\n"
     ]
    },
    {
     "name": "stdout",
     "output_type": "stream",
     "text": [
      "R@1 : 86.508\n",
      "R@2 : 94.048\n",
      "R@4 : 96.825\n",
      "R@8 : 98.016\n",
      "R@16 : 99.206\n",
      "R@32 : 99.603\n",
      "----------\n",
      "fold 3:\n",
      "Finished Training, Time: 42.6178 Best loss: 2.3035\n"
     ]
    },
    {
     "name": "stderr",
     "output_type": "stream",
     "text": [
      "100%|██████████| 8/8 [00:00<00:00, 104.85it/s]\n"
     ]
    },
    {
     "name": "stdout",
     "output_type": "stream",
     "text": [
      "R@1 : 90.873\n",
      "R@2 : 95.635\n",
      "R@4 : 98.413\n",
      "R@8 : 99.603\n",
      "R@16 : 99.603\n",
      "R@32 : 99.603\n",
      "----------\n",
      "fold 4:\n",
      "Finished Training, Time: 42.1915 Best loss: 2.5263\n"
     ]
    },
    {
     "name": "stderr",
     "output_type": "stream",
     "text": [
      "100%|██████████| 8/8 [00:00<00:00, 107.28it/s]\n"
     ]
    },
    {
     "name": "stdout",
     "output_type": "stream",
     "text": [
      "R@1 : 100.000\n",
      "R@2 : 100.000\n",
      "R@4 : 100.000\n",
      "R@8 : 100.000\n",
      "R@16 : 100.000\n",
      "R@32 : 100.000\n",
      "----------\n",
      "fold 5:\n",
      "Finished Training, Time: 42.9671 Best loss: 2.4635\n"
     ]
    },
    {
     "name": "stderr",
     "output_type": "stream",
     "text": [
      "100%|██████████| 8/8 [00:00<00:00, 105.65it/s]\n"
     ]
    },
    {
     "name": "stdout",
     "output_type": "stream",
     "text": [
      "R@1 : 100.000\n",
      "R@2 : 100.000\n",
      "R@4 : 100.000\n",
      "R@8 : 100.000\n",
      "R@16 : 100.000\n",
      "R@32 : 100.000\n",
      "----------\n",
      "fold 6:\n",
      "Finished Training, Time: 42.4010 Best loss: 2.4397\n"
     ]
    },
    {
     "name": "stderr",
     "output_type": "stream",
     "text": [
      "100%|██████████| 8/8 [00:00<00:00, 105.83it/s]\n"
     ]
    },
    {
     "name": "stdout",
     "output_type": "stream",
     "text": [
      "R@1 : 93.254\n",
      "R@2 : 94.444\n",
      "R@4 : 95.238\n",
      "R@8 : 97.222\n",
      "R@16 : 97.619\n",
      "R@32 : 99.603\n",
      "----------\n",
      "fold 7:\n",
      "Finished Training, Time: 43.8731 Best loss: 2.5093\n"
     ]
    },
    {
     "name": "stderr",
     "output_type": "stream",
     "text": [
      "100%|██████████| 8/8 [00:00<00:00, 103.64it/s]\n"
     ]
    },
    {
     "name": "stdout",
     "output_type": "stream",
     "text": [
      "R@1 : 84.127\n",
      "R@2 : 93.254\n",
      "R@4 : 96.032\n",
      "R@8 : 97.619\n",
      "R@16 : 99.206\n",
      "R@32 : 99.603\n",
      "----------\n",
      "fold 8:\n",
      "Finished Training, Time: 42.4250 Best loss: 2.4265\n"
     ]
    },
    {
     "name": "stderr",
     "output_type": "stream",
     "text": [
      "100%|██████████| 8/8 [00:00<00:00, 104.93it/s]\n"
     ]
    },
    {
     "name": "stdout",
     "output_type": "stream",
     "text": [
      "R@1 : 83.730\n",
      "R@2 : 88.889\n",
      "R@4 : 93.254\n",
      "R@8 : 95.238\n",
      "R@16 : 98.413\n",
      "R@32 : 99.206\n",
      "----------\n",
      "fold 9:\n",
      "Finished Training, Time: 42.3938 Best loss: 2.3323\n"
     ]
    },
    {
     "name": "stderr",
     "output_type": "stream",
     "text": [
      "100%|██████████| 8/8 [00:00<00:00, 101.91it/s]\n"
     ]
    },
    {
     "name": "stdout",
     "output_type": "stream",
     "text": [
      "R@1 : 92.460\n",
      "R@2 : 96.032\n",
      "R@4 : 98.016\n",
      "R@8 : 98.413\n",
      "R@16 : 100.000\n",
      "R@32 : 100.000\n",
      "----------\n",
      "fold 10:\n",
      "Finished Training, Time: 42.7754 Best loss: 2.4131\n"
     ]
    },
    {
     "name": "stderr",
     "output_type": "stream",
     "text": [
      "100%|██████████| 8/8 [00:00<00:00, 103.99it/s]\n"
     ]
    },
    {
     "name": "stdout",
     "output_type": "stream",
     "text": [
      "R@1 : 85.317\n",
      "R@2 : 91.667\n",
      "R@4 : 93.651\n",
      "R@8 : 96.032\n",
      "R@16 : 98.413\n",
      "R@32 : 99.603\n",
      "----------\n",
      "fold 1:\n",
      "Finished Training, Time: 43.1313 Best loss: 2.4125\n"
     ]
    },
    {
     "name": "stderr",
     "output_type": "stream",
     "text": [
      "100%|██████████| 8/8 [00:00<00:00, 102.78it/s]\n"
     ]
    },
    {
     "name": "stdout",
     "output_type": "stream",
     "text": [
      "R@1 : 82.143\n",
      "R@2 : 90.873\n",
      "R@4 : 94.841\n",
      "R@8 : 97.619\n",
      "R@16 : 99.206\n",
      "R@32 : 100.000\n",
      "----------\n",
      "fold 2:\n",
      "Finished Training, Time: 42.6083 Best loss: 2.3885\n"
     ]
    },
    {
     "name": "stderr",
     "output_type": "stream",
     "text": [
      "100%|██████████| 8/8 [00:00<00:00, 105.86it/s]\n"
     ]
    },
    {
     "name": "stdout",
     "output_type": "stream",
     "text": [
      "R@1 : 91.270\n",
      "R@2 : 94.444\n",
      "R@4 : 96.825\n",
      "R@8 : 98.413\n",
      "R@16 : 99.206\n",
      "R@32 : 99.206\n",
      "----------\n",
      "fold 3:\n",
      "Finished Training, Time: 42.0788 Best loss: 2.3819\n"
     ]
    },
    {
     "name": "stderr",
     "output_type": "stream",
     "text": [
      "100%|██████████| 8/8 [00:00<00:00, 104.24it/s]\n"
     ]
    },
    {
     "name": "stdout",
     "output_type": "stream",
     "text": [
      "R@1 : 93.651\n",
      "R@2 : 94.841\n",
      "R@4 : 96.429\n",
      "R@8 : 97.619\n",
      "R@16 : 98.016\n",
      "R@32 : 98.810\n",
      "----------\n",
      "fold 4:\n",
      "Finished Training, Time: 42.5098 Best loss: 2.4042\n"
     ]
    },
    {
     "name": "stderr",
     "output_type": "stream",
     "text": [
      "100%|██████████| 8/8 [00:00<00:00, 105.22it/s]\n"
     ]
    },
    {
     "name": "stdout",
     "output_type": "stream",
     "text": [
      "R@1 : 100.000\n",
      "R@2 : 100.000\n",
      "R@4 : 100.000\n",
      "R@8 : 100.000\n",
      "R@16 : 100.000\n",
      "R@32 : 100.000\n",
      "----------\n",
      "fold 5:\n",
      "Finished Training, Time: 42.9792 Best loss: 2.4463\n"
     ]
    },
    {
     "name": "stderr",
     "output_type": "stream",
     "text": [
      "100%|██████████| 8/8 [00:00<00:00, 105.06it/s]\n"
     ]
    },
    {
     "name": "stdout",
     "output_type": "stream",
     "text": [
      "R@1 : 100.000\n",
      "R@2 : 100.000\n",
      "R@4 : 100.000\n",
      "R@8 : 100.000\n",
      "R@16 : 100.000\n",
      "R@32 : 100.000\n",
      "----------\n",
      "fold 6:\n",
      "Finished Training, Time: 42.2183 Best loss: 2.5006\n"
     ]
    },
    {
     "name": "stderr",
     "output_type": "stream",
     "text": [
      "100%|██████████| 8/8 [00:00<00:00, 106.91it/s]\n"
     ]
    },
    {
     "name": "stdout",
     "output_type": "stream",
     "text": [
      "R@1 : 94.841\n",
      "R@2 : 97.222\n",
      "R@4 : 98.016\n",
      "R@8 : 98.413\n",
      "R@16 : 99.206\n",
      "R@32 : 100.000\n",
      "----------\n",
      "fold 7:\n",
      "Finished Training, Time: 42.2982 Best loss: 2.4486\n"
     ]
    },
    {
     "name": "stderr",
     "output_type": "stream",
     "text": [
      "100%|██████████| 8/8 [00:00<00:00, 104.90it/s]\n"
     ]
    },
    {
     "name": "stdout",
     "output_type": "stream",
     "text": [
      "R@1 : 85.714\n",
      "R@2 : 92.063\n",
      "R@4 : 95.635\n",
      "R@8 : 98.016\n",
      "R@16 : 98.810\n",
      "R@32 : 99.206\n",
      "----------\n",
      "fold 8:\n",
      "Finished Training, Time: 42.4209 Best loss: 2.2692\n"
     ]
    },
    {
     "name": "stderr",
     "output_type": "stream",
     "text": [
      "100%|██████████| 8/8 [00:00<00:00, 104.58it/s]\n"
     ]
    },
    {
     "name": "stdout",
     "output_type": "stream",
     "text": [
      "R@1 : 75.794\n",
      "R@2 : 83.333\n",
      "R@4 : 90.079\n",
      "R@8 : 94.048\n",
      "R@16 : 96.032\n",
      "R@32 : 98.810\n",
      "----------\n",
      "fold 9:\n",
      "Finished Training, Time: 43.7224 Best loss: 2.5458\n"
     ]
    },
    {
     "name": "stderr",
     "output_type": "stream",
     "text": [
      "100%|██████████| 8/8 [00:00<00:00, 104.23it/s]\n"
     ]
    },
    {
     "name": "stdout",
     "output_type": "stream",
     "text": [
      "R@1 : 85.317\n",
      "R@2 : 90.873\n",
      "R@4 : 94.841\n",
      "R@8 : 96.429\n",
      "R@16 : 98.016\n",
      "R@32 : 100.000\n",
      "----------\n",
      "fold 10:\n",
      "Finished Training, Time: 42.4958 Best loss: 2.2054\n"
     ]
    },
    {
     "name": "stderr",
     "output_type": "stream",
     "text": [
      "100%|██████████| 8/8 [00:00<00:00, 105.57it/s]\n"
     ]
    },
    {
     "name": "stdout",
     "output_type": "stream",
     "text": [
      "R@1 : 86.905\n",
      "R@2 : 93.651\n",
      "R@4 : 95.635\n",
      "R@8 : 96.429\n",
      "R@16 : 98.413\n",
      "R@32 : 99.206\n",
      "----------\n",
      "fold 1:\n",
      "Finished Training, Time: 41.8396 Best loss: 2.5316\n"
     ]
    },
    {
     "name": "stderr",
     "output_type": "stream",
     "text": [
      "100%|██████████| 8/8 [00:00<00:00, 105.01it/s]\n"
     ]
    },
    {
     "name": "stdout",
     "output_type": "stream",
     "text": [
      "R@1 : 81.746\n",
      "R@2 : 88.095\n",
      "R@4 : 92.063\n",
      "R@8 : 95.635\n",
      "R@16 : 98.810\n",
      "R@32 : 100.000\n",
      "----------\n",
      "fold 2:\n",
      "Finished Training, Time: 42.7149 Best loss: 2.4546\n"
     ]
    },
    {
     "name": "stderr",
     "output_type": "stream",
     "text": [
      "100%|██████████| 8/8 [00:00<00:00, 103.48it/s]\n"
     ]
    },
    {
     "name": "stdout",
     "output_type": "stream",
     "text": [
      "R@1 : 88.492\n",
      "R@2 : 92.857\n",
      "R@4 : 96.429\n",
      "R@8 : 98.016\n",
      "R@16 : 99.206\n",
      "R@32 : 99.603\n",
      "----------\n",
      "fold 3:\n",
      "Finished Training, Time: 42.0452 Best loss: 2.5125\n"
     ]
    },
    {
     "name": "stderr",
     "output_type": "stream",
     "text": [
      "100%|██████████| 8/8 [00:00<00:00, 106.23it/s]\n"
     ]
    },
    {
     "name": "stdout",
     "output_type": "stream",
     "text": [
      "R@1 : 93.651\n",
      "R@2 : 96.032\n",
      "R@4 : 97.222\n",
      "R@8 : 98.016\n",
      "R@16 : 98.413\n",
      "R@32 : 99.603\n",
      "----------\n",
      "fold 4:\n",
      "Finished Training, Time: 42.2375 Best loss: 2.5348\n"
     ]
    },
    {
     "name": "stderr",
     "output_type": "stream",
     "text": [
      "100%|██████████| 8/8 [00:00<00:00, 107.15it/s]\n"
     ]
    },
    {
     "name": "stdout",
     "output_type": "stream",
     "text": [
      "R@1 : 100.000\n",
      "R@2 : 100.000\n",
      "R@4 : 100.000\n",
      "R@8 : 100.000\n",
      "R@16 : 100.000\n",
      "R@32 : 100.000\n",
      "----------\n",
      "fold 5:\n",
      "Finished Training, Time: 42.1300 Best loss: 2.7050\n"
     ]
    },
    {
     "name": "stderr",
     "output_type": "stream",
     "text": [
      "100%|██████████| 8/8 [00:00<00:00, 104.71it/s]\n"
     ]
    },
    {
     "name": "stdout",
     "output_type": "stream",
     "text": [
      "R@1 : 100.000\n",
      "R@2 : 100.000\n",
      "R@4 : 100.000\n",
      "R@8 : 100.000\n",
      "R@16 : 100.000\n",
      "R@32 : 100.000\n",
      "----------\n",
      "fold 6:\n",
      "Finished Training, Time: 42.4193 Best loss: 2.4163\n"
     ]
    },
    {
     "name": "stderr",
     "output_type": "stream",
     "text": [
      "100%|██████████| 8/8 [00:00<00:00, 105.96it/s]\n"
     ]
    },
    {
     "name": "stdout",
     "output_type": "stream",
     "text": [
      "R@1 : 91.667\n",
      "R@2 : 94.048\n",
      "R@4 : 95.635\n",
      "R@8 : 97.619\n",
      "R@16 : 98.016\n",
      "R@32 : 98.810\n",
      "----------\n",
      "fold 7:\n",
      "Finished Training, Time: 42.3748 Best loss: 2.2699\n"
     ]
    },
    {
     "name": "stderr",
     "output_type": "stream",
     "text": [
      "100%|██████████| 8/8 [00:00<00:00, 105.48it/s]\n"
     ]
    },
    {
     "name": "stdout",
     "output_type": "stream",
     "text": [
      "R@1 : 88.889\n",
      "R@2 : 94.841\n",
      "R@4 : 96.032\n",
      "R@8 : 97.619\n",
      "R@16 : 98.810\n",
      "R@32 : 98.810\n",
      "----------\n",
      "fold 8:\n",
      "Finished Training, Time: 42.7252 Best loss: 2.2900\n"
     ]
    },
    {
     "name": "stderr",
     "output_type": "stream",
     "text": [
      "100%|██████████| 8/8 [00:00<00:00, 96.01it/s]\n"
     ]
    },
    {
     "name": "stdout",
     "output_type": "stream",
     "text": [
      "R@1 : 81.746\n",
      "R@2 : 88.095\n",
      "R@4 : 92.063\n",
      "R@8 : 94.841\n",
      "R@16 : 98.016\n",
      "R@32 : 99.206\n",
      "----------\n",
      "fold 9:\n",
      "Finished Training, Time: 42.4397 Best loss: 2.4842\n"
     ]
    },
    {
     "name": "stderr",
     "output_type": "stream",
     "text": [
      "100%|██████████| 8/8 [00:00<00:00, 105.01it/s]\n"
     ]
    },
    {
     "name": "stdout",
     "output_type": "stream",
     "text": [
      "R@1 : 88.095\n",
      "R@2 : 91.667\n",
      "R@4 : 95.635\n",
      "R@8 : 97.619\n",
      "R@16 : 99.603\n",
      "R@32 : 100.000\n",
      "----------\n",
      "fold 10:\n",
      "Finished Training, Time: 42.5438 Best loss: 2.4086\n"
     ]
    },
    {
     "name": "stderr",
     "output_type": "stream",
     "text": [
      "100%|██████████| 8/8 [00:00<00:00, 105.20it/s]\n"
     ]
    },
    {
     "name": "stdout",
     "output_type": "stream",
     "text": [
      "R@1 : 80.159\n",
      "R@2 : 88.889\n",
      "R@4 : 94.444\n",
      "R@8 : 97.222\n",
      "R@16 : 98.810\n",
      "R@32 : 99.206\n",
      "----------\n",
      "fold 1:\n",
      "Finished Training, Time: 41.9147 Best loss: 2.3988\n"
     ]
    },
    {
     "name": "stderr",
     "output_type": "stream",
     "text": [
      "100%|██████████| 8/8 [00:00<00:00, 105.84it/s]\n"
     ]
    },
    {
     "name": "stdout",
     "output_type": "stream",
     "text": [
      "R@1 : 86.111\n",
      "R@2 : 90.873\n",
      "R@4 : 94.048\n",
      "R@8 : 94.841\n",
      "R@16 : 98.016\n",
      "R@32 : 99.206\n",
      "----------\n",
      "fold 2:\n",
      "Finished Training, Time: 43.1650 Best loss: 2.6026\n"
     ]
    },
    {
     "name": "stderr",
     "output_type": "stream",
     "text": [
      "100%|██████████| 8/8 [00:00<00:00, 100.83it/s]\n"
     ]
    },
    {
     "name": "stdout",
     "output_type": "stream",
     "text": [
      "R@1 : 92.857\n",
      "R@2 : 95.635\n",
      "R@4 : 96.825\n",
      "R@8 : 97.619\n",
      "R@16 : 99.206\n",
      "R@32 : 99.206\n",
      "----------\n",
      "fold 3:\n",
      "Finished Training, Time: 41.9647 Best loss: 2.5304\n"
     ]
    },
    {
     "name": "stderr",
     "output_type": "stream",
     "text": [
      "100%|██████████| 8/8 [00:00<00:00, 107.14it/s]\n"
     ]
    },
    {
     "name": "stdout",
     "output_type": "stream",
     "text": [
      "R@1 : 89.683\n",
      "R@2 : 95.238\n",
      "R@4 : 97.619\n",
      "R@8 : 98.810\n",
      "R@16 : 98.810\n",
      "R@32 : 99.206\n",
      "----------\n",
      "fold 4:\n",
      "Finished Training, Time: 44.1505 Best loss: 2.5661\n"
     ]
    },
    {
     "name": "stderr",
     "output_type": "stream",
     "text": [
      "100%|██████████| 8/8 [00:00<00:00, 106.00it/s]\n"
     ]
    },
    {
     "name": "stdout",
     "output_type": "stream",
     "text": [
      "R@1 : 100.000\n",
      "R@2 : 100.000\n",
      "R@4 : 100.000\n",
      "R@8 : 100.000\n",
      "R@16 : 100.000\n",
      "R@32 : 100.000\n",
      "----------\n",
      "fold 5:\n",
      "Finished Training, Time: 42.5592 Best loss: 2.4517\n"
     ]
    },
    {
     "name": "stderr",
     "output_type": "stream",
     "text": [
      "100%|██████████| 8/8 [00:00<00:00, 100.03it/s]\n"
     ]
    },
    {
     "name": "stdout",
     "output_type": "stream",
     "text": [
      "R@1 : 100.000\n",
      "R@2 : 100.000\n",
      "R@4 : 100.000\n",
      "R@8 : 100.000\n",
      "R@16 : 100.000\n",
      "R@32 : 100.000\n",
      "----------\n",
      "fold 6:\n",
      "Finished Training, Time: 42.6214 Best loss: 2.4547\n"
     ]
    },
    {
     "name": "stderr",
     "output_type": "stream",
     "text": [
      "100%|██████████| 8/8 [00:00<00:00, 105.24it/s]\n"
     ]
    },
    {
     "name": "stdout",
     "output_type": "stream",
     "text": [
      "R@1 : 90.873\n",
      "R@2 : 91.270\n",
      "R@4 : 93.651\n",
      "R@8 : 94.841\n",
      "R@16 : 96.825\n",
      "R@32 : 98.810\n",
      "----------\n",
      "fold 7:\n",
      "Finished Training, Time: 44.2958 Best loss: 2.6005\n"
     ]
    },
    {
     "name": "stderr",
     "output_type": "stream",
     "text": [
      "100%|██████████| 8/8 [00:00<00:00, 103.99it/s]\n"
     ]
    },
    {
     "name": "stdout",
     "output_type": "stream",
     "text": [
      "R@1 : 82.540\n",
      "R@2 : 90.873\n",
      "R@4 : 94.841\n",
      "R@8 : 96.429\n",
      "R@16 : 98.413\n",
      "R@32 : 98.810\n",
      "----------\n",
      "fold 8:\n",
      "Finished Training, Time: 42.3679 Best loss: 2.3160\n"
     ]
    },
    {
     "name": "stderr",
     "output_type": "stream",
     "text": [
      "100%|██████████| 8/8 [00:00<00:00, 105.66it/s]\n"
     ]
    },
    {
     "name": "stdout",
     "output_type": "stream",
     "text": [
      "R@1 : 85.317\n",
      "R@2 : 91.667\n",
      "R@4 : 95.238\n",
      "R@8 : 96.825\n",
      "R@16 : 98.413\n",
      "R@32 : 98.810\n",
      "----------\n",
      "fold 9:\n",
      "Finished Training, Time: 42.5643 Best loss: 2.4107\n"
     ]
    },
    {
     "name": "stderr",
     "output_type": "stream",
     "text": [
      "100%|██████████| 8/8 [00:00<00:00, 105.92it/s]\n"
     ]
    },
    {
     "name": "stdout",
     "output_type": "stream",
     "text": [
      "R@1 : 92.460\n",
      "R@2 : 94.048\n",
      "R@4 : 96.825\n",
      "R@8 : 98.413\n",
      "R@16 : 99.206\n",
      "R@32 : 100.000\n",
      "----------\n",
      "fold 10:\n",
      "Finished Training, Time: 43.8105 Best loss: 2.4900\n"
     ]
    },
    {
     "name": "stderr",
     "output_type": "stream",
     "text": [
      "100%|██████████| 8/8 [00:00<00:00, 103.31it/s]\n"
     ]
    },
    {
     "name": "stdout",
     "output_type": "stream",
     "text": [
      "R@1 : 84.524\n",
      "R@2 : 91.270\n",
      "R@4 : 94.841\n",
      "R@8 : 97.619\n",
      "R@16 : 98.016\n",
      "R@32 : 99.603\n",
      "----------\n",
      "fold 1:\n",
      "Finished Training, Time: 41.9297 Best loss: 2.3412\n"
     ]
    },
    {
     "name": "stderr",
     "output_type": "stream",
     "text": [
      "100%|██████████| 8/8 [00:00<00:00, 73.05it/s]\n"
     ]
    },
    {
     "name": "stdout",
     "output_type": "stream",
     "text": [
      "R@1 : 89.286\n",
      "R@2 : 93.651\n",
      "R@4 : 96.825\n",
      "R@8 : 98.810\n",
      "R@16 : 99.206\n",
      "R@32 : 100.000\n",
      "----------\n",
      "fold 2:\n",
      "Finished Training, Time: 42.6578 Best loss: 2.3243\n"
     ]
    },
    {
     "name": "stderr",
     "output_type": "stream",
     "text": [
      "100%|██████████| 8/8 [00:00<00:00, 103.54it/s]\n"
     ]
    },
    {
     "name": "stdout",
     "output_type": "stream",
     "text": [
      "R@1 : 93.651\n",
      "R@2 : 96.032\n",
      "R@4 : 97.619\n",
      "R@8 : 97.619\n",
      "R@16 : 99.603\n",
      "R@32 : 99.603\n",
      "----------\n",
      "fold 3:\n",
      "Finished Training, Time: 41.9977 Best loss: 2.4261\n"
     ]
    },
    {
     "name": "stderr",
     "output_type": "stream",
     "text": [
      "100%|██████████| 8/8 [00:00<00:00, 106.10it/s]\n"
     ]
    },
    {
     "name": "stdout",
     "output_type": "stream",
     "text": [
      "R@1 : 92.460\n",
      "R@2 : 95.635\n",
      "R@4 : 98.413\n",
      "R@8 : 98.413\n",
      "R@16 : 98.413\n",
      "R@32 : 98.413\n",
      "----------\n",
      "fold 4:\n",
      "Finished Training, Time: 42.4412 Best loss: 2.5266\n"
     ]
    },
    {
     "name": "stderr",
     "output_type": "stream",
     "text": [
      "100%|██████████| 8/8 [00:00<00:00, 105.30it/s]\n"
     ]
    },
    {
     "name": "stdout",
     "output_type": "stream",
     "text": [
      "R@1 : 100.000\n",
      "R@2 : 100.000\n",
      "R@4 : 100.000\n",
      "R@8 : 100.000\n",
      "R@16 : 100.000\n",
      "R@32 : 100.000\n",
      "----------\n",
      "fold 5:\n",
      "Finished Training, Time: 42.2406 Best loss: 2.4199\n"
     ]
    },
    {
     "name": "stderr",
     "output_type": "stream",
     "text": [
      "100%|██████████| 8/8 [00:00<00:00, 105.16it/s]\n"
     ]
    },
    {
     "name": "stdout",
     "output_type": "stream",
     "text": [
      "R@1 : 100.000\n",
      "R@2 : 100.000\n",
      "R@4 : 100.000\n",
      "R@8 : 100.000\n",
      "R@16 : 100.000\n",
      "R@32 : 100.000\n",
      "----------\n",
      "fold 6:\n",
      "Finished Training, Time: 42.1899 Best loss: 2.5704\n"
     ]
    },
    {
     "name": "stderr",
     "output_type": "stream",
     "text": [
      "100%|██████████| 8/8 [00:00<00:00, 104.44it/s]\n"
     ]
    },
    {
     "name": "stdout",
     "output_type": "stream",
     "text": [
      "R@1 : 96.032\n",
      "R@2 : 99.206\n",
      "R@4 : 99.206\n",
      "R@8 : 99.206\n",
      "R@16 : 99.206\n",
      "R@32 : 99.603\n",
      "----------\n",
      "fold 7:\n",
      "Finished Training, Time: 42.5819 Best loss: 2.3968\n"
     ]
    },
    {
     "name": "stderr",
     "output_type": "stream",
     "text": [
      "100%|██████████| 8/8 [00:00<00:00, 105.64it/s]\n"
     ]
    },
    {
     "name": "stdout",
     "output_type": "stream",
     "text": [
      "R@1 : 80.556\n",
      "R@2 : 86.905\n",
      "R@4 : 92.857\n",
      "R@8 : 94.841\n",
      "R@16 : 96.825\n",
      "R@32 : 99.206\n",
      "----------\n",
      "fold 8:\n",
      "Finished Training, Time: 43.5830 Best loss: 2.4188\n"
     ]
    },
    {
     "name": "stderr",
     "output_type": "stream",
     "text": [
      "100%|██████████| 8/8 [00:00<00:00, 105.81it/s]\n"
     ]
    },
    {
     "name": "stdout",
     "output_type": "stream",
     "text": [
      "R@1 : 81.746\n",
      "R@2 : 90.873\n",
      "R@4 : 94.444\n",
      "R@8 : 96.825\n",
      "R@16 : 98.413\n",
      "R@32 : 98.810\n",
      "----------\n",
      "fold 9:\n",
      "Finished Training, Time: 42.9548 Best loss: 2.3321\n"
     ]
    },
    {
     "name": "stderr",
     "output_type": "stream",
     "text": [
      "100%|██████████| 8/8 [00:00<00:00, 107.83it/s]\n"
     ]
    },
    {
     "name": "stdout",
     "output_type": "stream",
     "text": [
      "R@1 : 86.508\n",
      "R@2 : 91.270\n",
      "R@4 : 94.048\n",
      "R@8 : 96.825\n",
      "R@16 : 98.413\n",
      "R@32 : 99.206\n",
      "----------\n",
      "fold 10:\n",
      "Finished Training, Time: 42.3556 Best loss: 2.4300\n"
     ]
    },
    {
     "name": "stderr",
     "output_type": "stream",
     "text": [
      "100%|██████████| 8/8 [00:00<00:00, 105.63it/s]\n"
     ]
    },
    {
     "name": "stdout",
     "output_type": "stream",
     "text": [
      "R@1 : 88.492\n",
      "R@2 : 92.063\n",
      "R@4 : 94.048\n",
      "R@8 : 96.825\n",
      "R@16 : 98.413\n",
      "R@32 : 99.603\n",
      "----------\n",
      "fold 1:\n",
      "Finished Training, Time: 42.5087 Best loss: 2.4757\n"
     ]
    },
    {
     "name": "stderr",
     "output_type": "stream",
     "text": [
      "100%|██████████| 8/8 [00:00<00:00, 104.32it/s]\n"
     ]
    },
    {
     "name": "stdout",
     "output_type": "stream",
     "text": [
      "R@1 : 85.317\n",
      "R@2 : 90.873\n",
      "R@4 : 92.460\n",
      "R@8 : 95.635\n",
      "R@16 : 98.413\n",
      "R@32 : 99.603\n",
      "----------\n",
      "fold 2:\n",
      "Finished Training, Time: 42.4124 Best loss: 2.4362\n"
     ]
    },
    {
     "name": "stderr",
     "output_type": "stream",
     "text": [
      "100%|██████████| 8/8 [00:00<00:00, 104.77it/s]\n"
     ]
    },
    {
     "name": "stdout",
     "output_type": "stream",
     "text": [
      "R@1 : 92.063\n",
      "R@2 : 95.238\n",
      "R@4 : 96.032\n",
      "R@8 : 97.222\n",
      "R@16 : 99.206\n",
      "R@32 : 99.206\n",
      "----------\n",
      "fold 3:\n",
      "Finished Training, Time: 42.6012 Best loss: 2.5426\n"
     ]
    },
    {
     "name": "stderr",
     "output_type": "stream",
     "text": [
      "100%|██████████| 8/8 [00:00<00:00, 105.47it/s]\n"
     ]
    },
    {
     "name": "stdout",
     "output_type": "stream",
     "text": [
      "R@1 : 94.841\n",
      "R@2 : 96.429\n",
      "R@4 : 98.413\n",
      "R@8 : 98.810\n",
      "R@16 : 98.810\n",
      "R@32 : 99.206\n",
      "----------\n",
      "fold 4:\n",
      "Finished Training, Time: 42.2381 Best loss: 2.4184\n"
     ]
    },
    {
     "name": "stderr",
     "output_type": "stream",
     "text": [
      "100%|██████████| 8/8 [00:00<00:00, 105.65it/s]\n"
     ]
    },
    {
     "name": "stdout",
     "output_type": "stream",
     "text": [
      "R@1 : 100.000\n",
      "R@2 : 100.000\n",
      "R@4 : 100.000\n",
      "R@8 : 100.000\n",
      "R@16 : 100.000\n",
      "R@32 : 100.000\n",
      "----------\n",
      "fold 5:\n",
      "Finished Training, Time: 42.2791 Best loss: 2.5259\n"
     ]
    },
    {
     "name": "stderr",
     "output_type": "stream",
     "text": [
      "100%|██████████| 8/8 [00:00<00:00, 106.26it/s]\n"
     ]
    },
    {
     "name": "stdout",
     "output_type": "stream",
     "text": [
      "R@1 : 100.000\n",
      "R@2 : 100.000\n",
      "R@4 : 100.000\n",
      "R@8 : 100.000\n",
      "R@16 : 100.000\n",
      "R@32 : 100.000\n",
      "----------\n",
      "fold 6:\n",
      "Finished Training, Time: 42.7341 Best loss: 2.3282\n"
     ]
    },
    {
     "name": "stderr",
     "output_type": "stream",
     "text": [
      "100%|██████████| 8/8 [00:00<00:00, 105.78it/s]\n"
     ]
    },
    {
     "name": "stdout",
     "output_type": "stream",
     "text": [
      "R@1 : 92.460\n",
      "R@2 : 95.238\n",
      "R@4 : 97.222\n",
      "R@8 : 98.016\n",
      "R@16 : 98.413\n",
      "R@32 : 99.603\n",
      "----------\n",
      "fold 7:\n",
      "Finished Training, Time: 42.1201 Best loss: 2.4100\n"
     ]
    },
    {
     "name": "stderr",
     "output_type": "stream",
     "text": [
      "100%|██████████| 8/8 [00:00<00:00, 104.62it/s]\n"
     ]
    },
    {
     "name": "stdout",
     "output_type": "stream",
     "text": [
      "R@1 : 81.746\n",
      "R@2 : 92.063\n",
      "R@4 : 96.032\n",
      "R@8 : 97.222\n",
      "R@16 : 98.810\n",
      "R@32 : 99.603\n",
      "----------\n",
      "fold 8:\n",
      "Finished Training, Time: 42.1059 Best loss: 2.3927\n"
     ]
    },
    {
     "name": "stderr",
     "output_type": "stream",
     "text": [
      "100%|██████████| 8/8 [00:00<00:00, 105.02it/s]\n"
     ]
    },
    {
     "name": "stdout",
     "output_type": "stream",
     "text": [
      "R@1 : 78.175\n",
      "R@2 : 86.905\n",
      "R@4 : 90.873\n",
      "R@8 : 93.254\n",
      "R@16 : 97.619\n",
      "R@32 : 98.810\n",
      "----------\n",
      "fold 9:\n",
      "Finished Training, Time: 42.0964 Best loss: 2.3510\n"
     ]
    },
    {
     "name": "stderr",
     "output_type": "stream",
     "text": [
      "100%|██████████| 8/8 [00:00<00:00, 103.75it/s]\n"
     ]
    },
    {
     "name": "stdout",
     "output_type": "stream",
     "text": [
      "R@1 : 90.476\n",
      "R@2 : 95.635\n",
      "R@4 : 97.619\n",
      "R@8 : 99.206\n",
      "R@16 : 99.603\n",
      "R@32 : 99.603\n",
      "----------\n",
      "fold 10:\n",
      "Finished Training, Time: 42.2814 Best loss: 2.4649\n"
     ]
    },
    {
     "name": "stderr",
     "output_type": "stream",
     "text": [
      "100%|██████████| 8/8 [00:00<00:00, 104.57it/s]\n"
     ]
    },
    {
     "name": "stdout",
     "output_type": "stream",
     "text": [
      "R@1 : 84.524\n",
      "R@2 : 90.079\n",
      "R@4 : 94.048\n",
      "R@8 : 96.825\n",
      "R@16 : 99.206\n",
      "R@32 : 99.603\n",
      "----------\n",
      "fold 1:\n",
      "Finished Training, Time: 42.7728 Best loss: 2.6128\n"
     ]
    },
    {
     "name": "stderr",
     "output_type": "stream",
     "text": [
      "100%|██████████| 8/8 [00:00<00:00, 107.63it/s]\n"
     ]
    },
    {
     "name": "stdout",
     "output_type": "stream",
     "text": [
      "R@1 : 86.508\n",
      "R@2 : 90.873\n",
      "R@4 : 94.048\n",
      "R@8 : 97.222\n",
      "R@16 : 99.603\n",
      "R@32 : 99.603\n",
      "----------\n",
      "fold 2:\n",
      "Finished Training, Time: 43.4726 Best loss: 2.3155\n"
     ]
    },
    {
     "name": "stderr",
     "output_type": "stream",
     "text": [
      "100%|██████████| 8/8 [00:00<00:00, 105.93it/s]\n"
     ]
    },
    {
     "name": "stdout",
     "output_type": "stream",
     "text": [
      "R@1 : 92.063\n",
      "R@2 : 93.651\n",
      "R@4 : 98.413\n",
      "R@8 : 99.206\n",
      "R@16 : 99.206\n",
      "R@32 : 100.000\n",
      "----------\n",
      "fold 3:\n",
      "Finished Training, Time: 42.4260 Best loss: 2.5060\n"
     ]
    },
    {
     "name": "stderr",
     "output_type": "stream",
     "text": [
      "100%|██████████| 8/8 [00:00<00:00, 106.25it/s]\n"
     ]
    },
    {
     "name": "stdout",
     "output_type": "stream",
     "text": [
      "R@1 : 90.873\n",
      "R@2 : 93.651\n",
      "R@4 : 96.032\n",
      "R@8 : 96.825\n",
      "R@16 : 98.016\n",
      "R@32 : 98.810\n",
      "----------\n",
      "fold 4:\n",
      "Finished Training, Time: 43.0755 Best loss: 2.4731\n"
     ]
    },
    {
     "name": "stderr",
     "output_type": "stream",
     "text": [
      "100%|██████████| 8/8 [00:00<00:00, 94.01it/s]\n"
     ]
    },
    {
     "name": "stdout",
     "output_type": "stream",
     "text": [
      "R@1 : 100.000\n",
      "R@2 : 100.000\n",
      "R@4 : 100.000\n",
      "R@8 : 100.000\n",
      "R@16 : 100.000\n",
      "R@32 : 100.000\n",
      "----------\n",
      "fold 5:\n",
      "Finished Training, Time: 43.1915 Best loss: 2.4590\n"
     ]
    },
    {
     "name": "stderr",
     "output_type": "stream",
     "text": [
      "100%|██████████| 8/8 [00:00<00:00, 104.15it/s]\n"
     ]
    },
    {
     "name": "stdout",
     "output_type": "stream",
     "text": [
      "R@1 : 100.000\n",
      "R@2 : 100.000\n",
      "R@4 : 100.000\n",
      "R@8 : 100.000\n",
      "R@16 : 100.000\n",
      "R@32 : 100.000\n",
      "----------\n",
      "fold 6:\n",
      "Finished Training, Time: 42.6324 Best loss: 2.3874\n"
     ]
    },
    {
     "name": "stderr",
     "output_type": "stream",
     "text": [
      "100%|██████████| 8/8 [00:00<00:00, 106.41it/s]\n"
     ]
    },
    {
     "name": "stdout",
     "output_type": "stream",
     "text": [
      "R@1 : 95.238\n",
      "R@2 : 96.032\n",
      "R@4 : 96.429\n",
      "R@8 : 97.222\n",
      "R@16 : 97.619\n",
      "R@32 : 98.810\n",
      "----------\n",
      "fold 7:\n",
      "Finished Training, Time: 42.4898 Best loss: 2.3692\n"
     ]
    },
    {
     "name": "stderr",
     "output_type": "stream",
     "text": [
      "100%|██████████| 8/8 [00:00<00:00, 106.37it/s]\n"
     ]
    },
    {
     "name": "stdout",
     "output_type": "stream",
     "text": [
      "R@1 : 80.556\n",
      "R@2 : 86.905\n",
      "R@4 : 92.063\n",
      "R@8 : 96.825\n",
      "R@16 : 99.206\n",
      "R@32 : 99.603\n",
      "----------\n",
      "fold 8:\n",
      "Finished Training, Time: 42.2338 Best loss: 2.1867\n"
     ]
    },
    {
     "name": "stderr",
     "output_type": "stream",
     "text": [
      "100%|██████████| 8/8 [00:00<00:00, 106.33it/s]\n"
     ]
    },
    {
     "name": "stdout",
     "output_type": "stream",
     "text": [
      "R@1 : 81.746\n",
      "R@2 : 88.889\n",
      "R@4 : 92.857\n",
      "R@8 : 94.841\n",
      "R@16 : 98.016\n",
      "R@32 : 98.810\n",
      "----------\n",
      "fold 9:\n",
      "Finished Training, Time: 42.2776 Best loss: 2.3966\n"
     ]
    },
    {
     "name": "stderr",
     "output_type": "stream",
     "text": [
      "100%|██████████| 8/8 [00:00<00:00, 106.98it/s]\n"
     ]
    },
    {
     "name": "stdout",
     "output_type": "stream",
     "text": [
      "R@1 : 90.079\n",
      "R@2 : 93.254\n",
      "R@4 : 96.429\n",
      "R@8 : 98.016\n",
      "R@16 : 99.206\n",
      "R@32 : 100.000\n",
      "----------\n",
      "fold 10:\n",
      "Finished Training, Time: 42.3508 Best loss: 2.4495\n"
     ]
    },
    {
     "name": "stderr",
     "output_type": "stream",
     "text": [
      "100%|██████████| 8/8 [00:00<00:00, 106.25it/s]\n"
     ]
    },
    {
     "name": "stdout",
     "output_type": "stream",
     "text": [
      "R@1 : 86.508\n",
      "R@2 : 90.873\n",
      "R@4 : 95.238\n",
      "R@8 : 97.619\n",
      "R@16 : 99.603\n",
      "R@32 : 100.000\n",
      "----------\n",
      "fold 1:\n",
      "Finished Training, Time: 41.8477 Best loss: 2.4539\n"
     ]
    },
    {
     "name": "stderr",
     "output_type": "stream",
     "text": [
      "100%|██████████| 8/8 [00:00<00:00, 105.97it/s]\n"
     ]
    },
    {
     "name": "stdout",
     "output_type": "stream",
     "text": [
      "R@1 : 88.492\n",
      "R@2 : 93.651\n",
      "R@4 : 96.032\n",
      "R@8 : 97.222\n",
      "R@16 : 99.603\n",
      "R@32 : 100.000\n",
      "----------\n",
      "fold 2:\n",
      "Finished Training, Time: 42.5838 Best loss: 2.4847\n"
     ]
    },
    {
     "name": "stderr",
     "output_type": "stream",
     "text": [
      "100%|██████████| 8/8 [00:00<00:00, 105.01it/s]\n"
     ]
    },
    {
     "name": "stdout",
     "output_type": "stream",
     "text": [
      "R@1 : 91.667\n",
      "R@2 : 93.651\n",
      "R@4 : 96.429\n",
      "R@8 : 97.619\n",
      "R@16 : 99.206\n",
      "R@32 : 99.603\n",
      "----------\n",
      "fold 3:\n",
      "Finished Training, Time: 43.1076 Best loss: 2.6554\n"
     ]
    },
    {
     "name": "stderr",
     "output_type": "stream",
     "text": [
      "100%|██████████| 8/8 [00:00<00:00, 104.94it/s]\n"
     ]
    },
    {
     "name": "stdout",
     "output_type": "stream",
     "text": [
      "R@1 : 92.460\n",
      "R@2 : 94.048\n",
      "R@4 : 96.032\n",
      "R@8 : 96.825\n",
      "R@16 : 98.016\n",
      "R@32 : 98.810\n",
      "----------\n",
      "fold 4:\n",
      "Finished Training, Time: 42.0883 Best loss: 2.5822\n"
     ]
    },
    {
     "name": "stderr",
     "output_type": "stream",
     "text": [
      "100%|██████████| 8/8 [00:00<00:00, 105.41it/s]\n"
     ]
    },
    {
     "name": "stdout",
     "output_type": "stream",
     "text": [
      "R@1 : 100.000\n",
      "R@2 : 100.000\n",
      "R@4 : 100.000\n",
      "R@8 : 100.000\n",
      "R@16 : 100.000\n",
      "R@32 : 100.000\n",
      "----------\n",
      "fold 5:\n",
      "Finished Training, Time: 42.7960 Best loss: 2.4752\n"
     ]
    },
    {
     "name": "stderr",
     "output_type": "stream",
     "text": [
      "100%|██████████| 8/8 [00:00<00:00, 106.52it/s]\n"
     ]
    },
    {
     "name": "stdout",
     "output_type": "stream",
     "text": [
      "R@1 : 100.000\n",
      "R@2 : 100.000\n",
      "R@4 : 100.000\n",
      "R@8 : 100.000\n",
      "R@16 : 100.000\n",
      "R@32 : 100.000\n",
      "----------\n",
      "fold 6:\n",
      "Finished Training, Time: 42.5281 Best loss: 2.4556\n"
     ]
    },
    {
     "name": "stderr",
     "output_type": "stream",
     "text": [
      "100%|██████████| 8/8 [00:00<00:00, 103.87it/s]\n"
     ]
    },
    {
     "name": "stdout",
     "output_type": "stream",
     "text": [
      "R@1 : 92.460\n",
      "R@2 : 95.238\n",
      "R@4 : 96.429\n",
      "R@8 : 98.016\n",
      "R@16 : 98.413\n",
      "R@32 : 98.810\n",
      "----------\n",
      "fold 7:\n",
      "Finished Training, Time: 42.8988 Best loss: 2.2722\n"
     ]
    },
    {
     "name": "stderr",
     "output_type": "stream",
     "text": [
      "100%|██████████| 8/8 [00:00<00:00, 103.85it/s]\n"
     ]
    },
    {
     "name": "stdout",
     "output_type": "stream",
     "text": [
      "R@1 : 86.508\n",
      "R@2 : 92.063\n",
      "R@4 : 95.238\n",
      "R@8 : 98.016\n",
      "R@16 : 100.000\n",
      "R@32 : 100.000\n",
      "----------\n",
      "fold 8:\n",
      "Finished Training, Time: 42.2286 Best loss: 2.3651\n"
     ]
    },
    {
     "name": "stderr",
     "output_type": "stream",
     "text": [
      "100%|██████████| 8/8 [00:00<00:00, 104.28it/s]\n"
     ]
    },
    {
     "name": "stdout",
     "output_type": "stream",
     "text": [
      "R@1 : 82.540\n",
      "R@2 : 87.698\n",
      "R@4 : 92.460\n",
      "R@8 : 95.635\n",
      "R@16 : 97.222\n",
      "R@32 : 99.206\n",
      "----------\n",
      "fold 9:\n",
      "Finished Training, Time: 42.7226 Best loss: 2.5134\n"
     ]
    },
    {
     "name": "stderr",
     "output_type": "stream",
     "text": [
      "100%|██████████| 8/8 [00:00<00:00, 105.33it/s]\n"
     ]
    },
    {
     "name": "stdout",
     "output_type": "stream",
     "text": [
      "R@1 : 86.905\n",
      "R@2 : 91.270\n",
      "R@4 : 94.048\n",
      "R@8 : 98.413\n",
      "R@16 : 99.603\n",
      "R@32 : 100.000\n",
      "----------\n",
      "fold 10:\n",
      "Finished Training, Time: 42.2418 Best loss: 2.5224\n"
     ]
    },
    {
     "name": "stderr",
     "output_type": "stream",
     "text": [
      "100%|██████████| 8/8 [00:00<00:00, 105.53it/s]\n"
     ]
    },
    {
     "name": "stdout",
     "output_type": "stream",
     "text": [
      "R@1 : 83.333\n",
      "R@2 : 91.667\n",
      "R@4 : 94.841\n",
      "R@8 : 96.825\n",
      "R@16 : 98.810\n",
      "R@32 : 99.603\n",
      "----------\n",
      "fold 1:\n",
      "Finished Training, Time: 41.9347 Best loss: 2.2704\n"
     ]
    },
    {
     "name": "stderr",
     "output_type": "stream",
     "text": [
      "100%|██████████| 8/8 [00:00<00:00, 108.26it/s]\n"
     ]
    },
    {
     "name": "stdout",
     "output_type": "stream",
     "text": [
      "R@1 : 80.159\n",
      "R@2 : 90.476\n",
      "R@4 : 95.635\n",
      "R@8 : 98.413\n",
      "R@16 : 99.603\n",
      "R@32 : 100.000\n",
      "----------\n",
      "fold 2:\n",
      "Finished Training, Time: 42.0560 Best loss: 2.4714\n"
     ]
    },
    {
     "name": "stderr",
     "output_type": "stream",
     "text": [
      "100%|██████████| 8/8 [00:00<00:00, 105.94it/s]\n"
     ]
    },
    {
     "name": "stdout",
     "output_type": "stream",
     "text": [
      "R@1 : 95.238\n",
      "R@2 : 96.429\n",
      "R@4 : 97.619\n",
      "R@8 : 98.810\n",
      "R@16 : 100.000\n",
      "R@32 : 100.000\n",
      "----------\n",
      "fold 3:\n",
      "Finished Training, Time: 42.0284 Best loss: 2.4127\n"
     ]
    },
    {
     "name": "stderr",
     "output_type": "stream",
     "text": [
      "100%|██████████| 8/8 [00:00<00:00, 106.49it/s]\n"
     ]
    },
    {
     "name": "stdout",
     "output_type": "stream",
     "text": [
      "R@1 : 92.460\n",
      "R@2 : 95.635\n",
      "R@4 : 96.825\n",
      "R@8 : 97.619\n",
      "R@16 : 98.413\n",
      "R@32 : 99.206\n",
      "----------\n",
      "fold 4:\n",
      "Finished Training, Time: 42.4952 Best loss: 2.6039\n"
     ]
    },
    {
     "name": "stderr",
     "output_type": "stream",
     "text": [
      "100%|██████████| 8/8 [00:00<00:00, 107.43it/s]\n"
     ]
    },
    {
     "name": "stdout",
     "output_type": "stream",
     "text": [
      "R@1 : 100.000\n",
      "R@2 : 100.000\n",
      "R@4 : 100.000\n",
      "R@8 : 100.000\n",
      "R@16 : 100.000\n",
      "R@32 : 100.000\n",
      "----------\n",
      "fold 5:\n",
      "Finished Training, Time: 42.0891 Best loss: 2.5063\n"
     ]
    },
    {
     "name": "stderr",
     "output_type": "stream",
     "text": [
      "100%|██████████| 8/8 [00:00<00:00, 105.13it/s]\n"
     ]
    },
    {
     "name": "stdout",
     "output_type": "stream",
     "text": [
      "R@1 : 100.000\n",
      "R@2 : 100.000\n",
      "R@4 : 100.000\n",
      "R@8 : 100.000\n",
      "R@16 : 100.000\n",
      "R@32 : 100.000\n",
      "----------\n",
      "fold 6:\n",
      "Finished Training, Time: 41.9277 Best loss: 2.3483\n"
     ]
    },
    {
     "name": "stderr",
     "output_type": "stream",
     "text": [
      "100%|██████████| 8/8 [00:00<00:00, 105.32it/s]\n"
     ]
    },
    {
     "name": "stdout",
     "output_type": "stream",
     "text": [
      "R@1 : 96.032\n",
      "R@2 : 96.032\n",
      "R@4 : 97.222\n",
      "R@8 : 97.619\n",
      "R@16 : 98.016\n",
      "R@32 : 99.603\n",
      "----------\n",
      "fold 7:\n",
      "Finished Training, Time: 42.0282 Best loss: 2.4163\n"
     ]
    },
    {
     "name": "stderr",
     "output_type": "stream",
     "text": [
      "100%|██████████| 8/8 [00:00<00:00, 106.88it/s]\n"
     ]
    },
    {
     "name": "stdout",
     "output_type": "stream",
     "text": [
      "R@1 : 84.127\n",
      "R@2 : 90.873\n",
      "R@4 : 93.254\n",
      "R@8 : 94.444\n",
      "R@16 : 97.222\n",
      "R@32 : 100.000\n",
      "----------\n",
      "fold 8:\n",
      "Finished Training, Time: 43.2041 Best loss: 2.3881\n"
     ]
    },
    {
     "name": "stderr",
     "output_type": "stream",
     "text": [
      "100%|██████████| 8/8 [00:00<00:00, 103.56it/s]\n"
     ]
    },
    {
     "name": "stdout",
     "output_type": "stream",
     "text": [
      "R@1 : 87.302\n",
      "R@2 : 90.873\n",
      "R@4 : 93.651\n",
      "R@8 : 96.825\n",
      "R@16 : 98.810\n",
      "R@32 : 99.603\n",
      "----------\n",
      "fold 9:\n",
      "Finished Training, Time: 43.0352 Best loss: 2.3985\n"
     ]
    },
    {
     "name": "stderr",
     "output_type": "stream",
     "text": [
      "100%|██████████| 8/8 [00:00<00:00, 105.14it/s]\n"
     ]
    },
    {
     "name": "stdout",
     "output_type": "stream",
     "text": [
      "R@1 : 87.698\n",
      "R@2 : 93.254\n",
      "R@4 : 94.841\n",
      "R@8 : 96.825\n",
      "R@16 : 99.206\n",
      "R@32 : 100.000\n",
      "----------\n",
      "fold 10:\n",
      "Finished Training, Time: 42.5726 Best loss: 2.5313\n"
     ]
    },
    {
     "name": "stderr",
     "output_type": "stream",
     "text": [
      "100%|██████████| 8/8 [00:00<00:00, 106.00it/s]\n"
     ]
    },
    {
     "name": "stdout",
     "output_type": "stream",
     "text": [
      "R@1 : 82.937\n",
      "R@2 : 87.698\n",
      "R@4 : 93.651\n",
      "R@8 : 97.619\n",
      "R@16 : 99.603\n",
      "R@32 : 99.603\n",
      "----------\n",
      "fold 1:\n",
      "Finished Training, Time: 42.2507 Best loss: 2.6403\n"
     ]
    },
    {
     "name": "stderr",
     "output_type": "stream",
     "text": [
      "100%|██████████| 8/8 [00:00<00:00, 108.27it/s]\n"
     ]
    },
    {
     "name": "stdout",
     "output_type": "stream",
     "text": [
      "R@1 : 86.508\n",
      "R@2 : 94.048\n",
      "R@4 : 94.841\n",
      "R@8 : 96.825\n",
      "R@16 : 98.413\n",
      "R@32 : 99.603\n",
      "----------\n",
      "fold 2:\n",
      "Finished Training, Time: 42.0969 Best loss: 2.4892\n"
     ]
    },
    {
     "name": "stderr",
     "output_type": "stream",
     "text": [
      "100%|██████████| 8/8 [00:00<00:00, 105.79it/s]\n"
     ]
    },
    {
     "name": "stdout",
     "output_type": "stream",
     "text": [
      "R@1 : 92.460\n",
      "R@2 : 95.238\n",
      "R@4 : 97.222\n",
      "R@8 : 98.413\n",
      "R@16 : 98.810\n",
      "R@32 : 100.000\n",
      "----------\n",
      "fold 3:\n",
      "Finished Training, Time: 42.8783 Best loss: 2.3072\n"
     ]
    },
    {
     "name": "stderr",
     "output_type": "stream",
     "text": [
      "100%|██████████| 8/8 [00:00<00:00, 105.09it/s]\n"
     ]
    },
    {
     "name": "stdout",
     "output_type": "stream",
     "text": [
      "R@1 : 90.873\n",
      "R@2 : 93.254\n",
      "R@4 : 95.635\n",
      "R@8 : 96.429\n",
      "R@16 : 98.016\n",
      "R@32 : 98.810\n",
      "----------\n",
      "fold 4:\n",
      "Finished Training, Time: 42.0600 Best loss: 2.4311\n"
     ]
    },
    {
     "name": "stderr",
     "output_type": "stream",
     "text": [
      "100%|██████████| 8/8 [00:00<00:00, 106.49it/s]\n"
     ]
    },
    {
     "name": "stdout",
     "output_type": "stream",
     "text": [
      "R@1 : 100.000\n",
      "R@2 : 100.000\n",
      "R@4 : 100.000\n",
      "R@8 : 100.000\n",
      "R@16 : 100.000\n",
      "R@32 : 100.000\n",
      "----------\n",
      "fold 5:\n",
      "Finished Training, Time: 42.1845 Best loss: 2.4965\n"
     ]
    },
    {
     "name": "stderr",
     "output_type": "stream",
     "text": [
      "100%|██████████| 8/8 [00:00<00:00, 106.08it/s]\n"
     ]
    },
    {
     "name": "stdout",
     "output_type": "stream",
     "text": [
      "R@1 : 100.000\n",
      "R@2 : 100.000\n",
      "R@4 : 100.000\n",
      "R@8 : 100.000\n",
      "R@16 : 100.000\n",
      "R@32 : 100.000\n",
      "----------\n",
      "fold 6:\n",
      "Finished Training, Time: 43.1136 Best loss: 2.5326\n"
     ]
    },
    {
     "name": "stderr",
     "output_type": "stream",
     "text": [
      "100%|██████████| 8/8 [00:00<00:00, 107.05it/s]\n"
     ]
    },
    {
     "name": "stdout",
     "output_type": "stream",
     "text": [
      "R@1 : 90.873\n",
      "R@2 : 93.651\n",
      "R@4 : 95.238\n",
      "R@8 : 97.222\n",
      "R@16 : 98.016\n",
      "R@32 : 99.603\n",
      "----------\n",
      "fold 7:\n",
      "Finished Training, Time: 42.1943 Best loss: 2.2924\n"
     ]
    },
    {
     "name": "stderr",
     "output_type": "stream",
     "text": [
      "100%|██████████| 8/8 [00:00<00:00, 105.35it/s]\n"
     ]
    },
    {
     "name": "stdout",
     "output_type": "stream",
     "text": [
      "R@1 : 84.921\n",
      "R@2 : 88.492\n",
      "R@4 : 93.254\n",
      "R@8 : 96.825\n",
      "R@16 : 99.206\n",
      "R@32 : 100.000\n",
      "----------\n",
      "fold 8:\n"
     ]
    },
    {
     "ename": "KeyboardInterrupt",
     "evalue": "",
     "output_type": "error",
     "traceback": [
      "\u001b[0;31m---------------------------------------------------------------------------\u001b[0m",
      "\u001b[0;31mKeyboardInterrupt\u001b[0m                         Traceback (most recent call last)",
      "\u001b[0;32m/tmp/ipykernel_745932/1772196876.py\u001b[0m in \u001b[0;36m<module>\u001b[0;34m\u001b[0m\n\u001b[1;32m      7\u001b[0m         \u001b[0mredefine_train_parameters\u001b[0m\u001b[0;34m(\u001b[0m\u001b[0;34m)\u001b[0m\u001b[0;34m\u001b[0m\u001b[0;34m\u001b[0m\u001b[0m\n\u001b[1;32m      8\u001b[0m         \u001b[0mname\u001b[0m\u001b[0;34m=\u001b[0m\u001b[0;34mf'PA+Crop(125)+MedianUnsharp(size={musize},amount={muamount})+MedianHSV(method=sv,size={msize})'\u001b[0m\u001b[0;34m\u001b[0m\u001b[0;34m\u001b[0m\u001b[0m\n\u001b[0;32m----> 9\u001b[0;31m         \u001b[0mrecalls\u001b[0m\u001b[0;34m=\u001b[0m\u001b[0mcross_validate\u001b[0m\u001b[0;34m(\u001b[0m\u001b[0mdataset\u001b[0m\u001b[0;34m)\u001b[0m\u001b[0;34m\u001b[0m\u001b[0;34m\u001b[0m\u001b[0m\n\u001b[0m\u001b[1;32m     10\u001b[0m         \u001b[0msave_output\u001b[0m\u001b[0;34m(\u001b[0m\u001b[0mrecalls\u001b[0m\u001b[0;34m,\u001b[0m\u001b[0;34mf'{name}'\u001b[0m\u001b[0;34m)\u001b[0m\u001b[0;34m\u001b[0m\u001b[0;34m\u001b[0m\u001b[0m\n\u001b[1;32m     11\u001b[0m         \u001b[0msave_output\u001b[0m\u001b[0;34m(\u001b[0m\u001b[0;34m[\u001b[0m\u001b[0mnp\u001b[0m\u001b[0;34m.\u001b[0m\u001b[0mmean\u001b[0m\u001b[0;34m(\u001b[0m\u001b[0marr\u001b[0m\u001b[0;34m)\u001b[0m \u001b[0;32mfor\u001b[0m \u001b[0marr\u001b[0m \u001b[0;32min\u001b[0m \u001b[0mrecalls\u001b[0m\u001b[0;34m]\u001b[0m\u001b[0;34m,\u001b[0m\u001b[0;34mf'{name}_mean'\u001b[0m\u001b[0;34m)\u001b[0m\u001b[0;34m\u001b[0m\u001b[0;34m\u001b[0m\u001b[0m\n",
      "\u001b[0;32m/tmp/ipykernel_745932/3704652543.py\u001b[0m in \u001b[0;36mcross_validate\u001b[0;34m(dataset, k)\u001b[0m\n\u001b[1;32m     13\u001b[0m         \u001b[0mtrain_loader\u001b[0m \u001b[0;34m=\u001b[0m \u001b[0mload_dataset\u001b[0m\u001b[0;34m(\u001b[0m\u001b[0mtrain_dataset\u001b[0m\u001b[0;34m,\u001b[0m \u001b[0mbatch_size\u001b[0m\u001b[0;34m,\u001b[0m \u001b[0mshuffle\u001b[0m\u001b[0;34m=\u001b[0m\u001b[0;32mTrue\u001b[0m\u001b[0;34m)\u001b[0m\u001b[0;34m\u001b[0m\u001b[0;34m\u001b[0m\u001b[0m\n\u001b[1;32m     14\u001b[0m         \u001b[0mtest_loader\u001b[0m \u001b[0;34m=\u001b[0m \u001b[0mload_dataset\u001b[0m\u001b[0;34m(\u001b[0m\u001b[0mtest_dataset\u001b[0m\u001b[0;34m,\u001b[0m \u001b[0mbatch_size\u001b[0m\u001b[0;34m,\u001b[0m \u001b[0mshuffle\u001b[0m\u001b[0;34m=\u001b[0m\u001b[0;32mFalse\u001b[0m\u001b[0;34m)\u001b[0m\u001b[0;34m\u001b[0m\u001b[0;34m\u001b[0m\u001b[0m\n\u001b[0;32m---> 15\u001b[0;31m         model = train_model(model_name='resnet50',\n\u001b[0m\u001b[1;32m     16\u001b[0m                         \u001b[0mloss_func_name\u001b[0m\u001b[0;34m=\u001b[0m\u001b[0;34m'proxy_anchor'\u001b[0m\u001b[0;34m,\u001b[0m\u001b[0;34m\u001b[0m\u001b[0;34m\u001b[0m\u001b[0m\n\u001b[1;32m     17\u001b[0m                         \u001b[0mnum_classes\u001b[0m\u001b[0;34m=\u001b[0m\u001b[0mnum_classes\u001b[0m\u001b[0;34m,\u001b[0m\u001b[0;34m\u001b[0m\u001b[0;34m\u001b[0m\u001b[0m\n",
      "\u001b[0;32m/workspace/Experiments/Clean/train.py\u001b[0m in \u001b[0;36mtrain_model\u001b[0;34m(model_name, loss_func_name, num_classes, epochs, dataloader, optimizer, use_loss_optimizer, embedding_size, pretrained, learning_rate, loss_learning_rate, margin, alpha, step_size, gamma, momentum, weight_decay, save_path, verbose)\u001b[0m\n\u001b[1;32m    110\u001b[0m                 \u001b[0mloss\u001b[0m \u001b[0;34m=\u001b[0m \u001b[0mloss_func\u001b[0m\u001b[0;34m(\u001b[0m\u001b[0moutputs\u001b[0m\u001b[0;34m,\u001b[0m \u001b[0mlabels\u001b[0m\u001b[0;34m)\u001b[0m\u001b[0;34m\u001b[0m\u001b[0;34m\u001b[0m\u001b[0m\n\u001b[1;32m    111\u001b[0m             \u001b[0moptimizer\u001b[0m\u001b[0;34m.\u001b[0m\u001b[0mzero_grad\u001b[0m\u001b[0;34m(\u001b[0m\u001b[0;34m)\u001b[0m\u001b[0;34m\u001b[0m\u001b[0;34m\u001b[0m\u001b[0m\n\u001b[0;32m--> 112\u001b[0;31m             \u001b[0mloss\u001b[0m\u001b[0;34m.\u001b[0m\u001b[0mbackward\u001b[0m\u001b[0;34m(\u001b[0m\u001b[0;34m)\u001b[0m\u001b[0;34m\u001b[0m\u001b[0;34m\u001b[0m\u001b[0m\n\u001b[0m\u001b[1;32m    113\u001b[0m             \u001b[0moptimizer\u001b[0m\u001b[0;34m.\u001b[0m\u001b[0mstep\u001b[0m\u001b[0;34m(\u001b[0m\u001b[0;34m)\u001b[0m\u001b[0;34m\u001b[0m\u001b[0;34m\u001b[0m\u001b[0m\n\u001b[1;32m    114\u001b[0m             \u001b[0;32mif\u001b[0m \u001b[0muse_loss_optimizer\u001b[0m\u001b[0;34m:\u001b[0m\u001b[0;34m\u001b[0m\u001b[0;34m\u001b[0m\u001b[0m\n",
      "\u001b[0;32m/opt/conda/lib/python3.8/site-packages/torch/_tensor.py\u001b[0m in \u001b[0;36mbackward\u001b[0;34m(self, gradient, retain_graph, create_graph, inputs)\u001b[0m\n\u001b[1;32m    350\u001b[0m                 \u001b[0mcreate_graph\u001b[0m\u001b[0;34m=\u001b[0m\u001b[0mcreate_graph\u001b[0m\u001b[0;34m,\u001b[0m\u001b[0;34m\u001b[0m\u001b[0;34m\u001b[0m\u001b[0m\n\u001b[1;32m    351\u001b[0m                 inputs=inputs)\n\u001b[0;32m--> 352\u001b[0;31m         \u001b[0mtorch\u001b[0m\u001b[0;34m.\u001b[0m\u001b[0mautograd\u001b[0m\u001b[0;34m.\u001b[0m\u001b[0mbackward\u001b[0m\u001b[0;34m(\u001b[0m\u001b[0mself\u001b[0m\u001b[0;34m,\u001b[0m \u001b[0mgradient\u001b[0m\u001b[0;34m,\u001b[0m \u001b[0mretain_graph\u001b[0m\u001b[0;34m,\u001b[0m \u001b[0mcreate_graph\u001b[0m\u001b[0;34m,\u001b[0m \u001b[0minputs\u001b[0m\u001b[0;34m=\u001b[0m\u001b[0minputs\u001b[0m\u001b[0;34m)\u001b[0m\u001b[0;34m\u001b[0m\u001b[0;34m\u001b[0m\u001b[0m\n\u001b[0m\u001b[1;32m    353\u001b[0m \u001b[0;34m\u001b[0m\u001b[0m\n\u001b[1;32m    354\u001b[0m     \u001b[0;32mdef\u001b[0m \u001b[0mregister_hook\u001b[0m\u001b[0;34m(\u001b[0m\u001b[0mself\u001b[0m\u001b[0;34m,\u001b[0m \u001b[0mhook\u001b[0m\u001b[0;34m)\u001b[0m\u001b[0;34m:\u001b[0m\u001b[0;34m\u001b[0m\u001b[0;34m\u001b[0m\u001b[0m\n",
      "\u001b[0;32m/opt/conda/lib/python3.8/site-packages/torch/autograd/__init__.py\u001b[0m in \u001b[0;36mbackward\u001b[0;34m(tensors, grad_tensors, retain_graph, create_graph, grad_variables, inputs)\u001b[0m\n\u001b[1;32m    171\u001b[0m     \u001b[0;31m# some Python versions print out the first line of a multi-line function\u001b[0m\u001b[0;34m\u001b[0m\u001b[0;34m\u001b[0m\u001b[0;34m\u001b[0m\u001b[0m\n\u001b[1;32m    172\u001b[0m     \u001b[0;31m# calls in the traceback and some print out the last line\u001b[0m\u001b[0;34m\u001b[0m\u001b[0;34m\u001b[0m\u001b[0;34m\u001b[0m\u001b[0m\n\u001b[0;32m--> 173\u001b[0;31m     Variable._execution_engine.run_backward(  # Calls into the C++ engine to run the backward pass\n\u001b[0m\u001b[1;32m    174\u001b[0m         \u001b[0mtensors\u001b[0m\u001b[0;34m,\u001b[0m \u001b[0mgrad_tensors_\u001b[0m\u001b[0;34m,\u001b[0m \u001b[0mretain_graph\u001b[0m\u001b[0;34m,\u001b[0m \u001b[0mcreate_graph\u001b[0m\u001b[0;34m,\u001b[0m \u001b[0minputs\u001b[0m\u001b[0;34m,\u001b[0m\u001b[0;34m\u001b[0m\u001b[0;34m\u001b[0m\u001b[0m\n\u001b[1;32m    175\u001b[0m         allow_unreachable=True, accumulate_grad=True)  # Calls into the C++ engine to run the backward pass\n",
      "\u001b[0;31mKeyboardInterrupt\u001b[0m: "
     ]
    }
   ],
   "source": [
    "# [(1,i) for i in range(1,10,2)]+\n",
    "mu_amount_size = [(2,i) for i in range(1,6,2)]+[(3,i) for i in range(1,4,2)]\n",
    "msizes=[1,3,5]\n",
    "for muamount, musize in mu_amount_size:\n",
    "    for msize in msizes:\n",
    "        dataset = make_dataset('LFWCustom', split='10fold', max_classes=50, min_samples=20, image_size=100, face_detection=False, crop=125, median_unsharp=True, median_unsharp_size=musize, median_unsharp_amount=muamount, median_hsv=True, median_hsv_method='sv', median_hsv_size=msize)\n",
    "        redefine_train_parameters()\n",
    "        name=f'PA+Crop(125)+MedianUnsharp(size={musize},amount={muamount})+MedianHSV(method=sv,size={msize})'\n",
    "        recalls=cross_validate(dataset)\n",
    "        save_output(recalls,f'{name}')\n",
    "        save_output([np.mean(arr) for arr in recalls],f'{name}_mean')"
   ]
  },
  {
   "cell_type": "code",
   "execution_count": 46,
   "id": "c0468aad",
   "metadata": {
    "collapsed": true
   },
   "outputs": [
    {
     "name": "stderr",
     "output_type": "stream",
     "text": [
      "/tmp/ipykernel_748950/3704652543.py:2: FutureWarning: The input object of type 'Tensor' is an array-like implementing one of the corresponding protocols (`__array__`, `__array_interface__` or `__array_struct__`); but not a sequence (or 0-D). In the future, this object will be coerced as if it was first converted using `np.array(obj)`. To retain the old behaviour, you have to either modify the type 'Tensor', or assign to an empty array created with `np.empty(correct_shape, dtype=object)`.\n",
      "  np.random.shuffle(np.array(dataset))\n",
      "/tmp/ipykernel_748950/3704652543.py:2: VisibleDeprecationWarning: Creating an ndarray from ragged nested sequences (which is a list-or-tuple of lists-or-tuples-or ndarrays with different lengths or shapes) is deprecated. If you meant to do this, you must specify 'dtype=object' when creating the ndarray.\n",
      "  np.random.shuffle(np.array(dataset))\n"
     ]
    },
    {
     "name": "stdout",
     "output_type": "stream",
     "text": [
      "----------\n",
      "fold 1:\n",
      "Finished Training, Time: 42.4190 Best loss: 2.4319\n"
     ]
    },
    {
     "name": "stderr",
     "output_type": "stream",
     "text": [
      "100%|██████████| 8/8 [00:00<00:00, 104.70it/s]\n"
     ]
    },
    {
     "name": "stdout",
     "output_type": "stream",
     "text": [
      "R@1 : 88.492\n",
      "R@2 : 94.444\n",
      "R@4 : 96.032\n",
      "R@8 : 97.222\n",
      "R@16 : 99.603\n",
      "R@32 : 99.603\n",
      "----------\n",
      "fold 2:\n",
      "Finished Training, Time: 41.9608 Best loss: 2.2480\n"
     ]
    },
    {
     "name": "stderr",
     "output_type": "stream",
     "text": [
      "100%|██████████| 8/8 [00:00<00:00, 71.22it/s]\n"
     ]
    },
    {
     "name": "stdout",
     "output_type": "stream",
     "text": [
      "R@1 : 94.048\n",
      "R@2 : 96.429\n",
      "R@4 : 98.810\n",
      "R@8 : 100.000\n",
      "R@16 : 100.000\n",
      "R@32 : 100.000\n",
      "----------\n",
      "fold 3:\n",
      "Finished Training, Time: 41.9043 Best loss: 2.2962\n"
     ]
    },
    {
     "name": "stderr",
     "output_type": "stream",
     "text": [
      "100%|██████████| 8/8 [00:00<00:00, 106.46it/s]\n"
     ]
    },
    {
     "name": "stdout",
     "output_type": "stream",
     "text": [
      "R@1 : 92.063\n",
      "R@2 : 94.444\n",
      "R@4 : 98.016\n",
      "R@8 : 98.413\n",
      "R@16 : 99.603\n",
      "R@32 : 100.000\n",
      "----------\n",
      "fold 4:\n",
      "Finished Training, Time: 42.4023 Best loss: 2.4008\n"
     ]
    },
    {
     "name": "stderr",
     "output_type": "stream",
     "text": [
      "100%|██████████| 8/8 [00:00<00:00, 104.87it/s]\n"
     ]
    },
    {
     "name": "stdout",
     "output_type": "stream",
     "text": [
      "R@1 : 100.000\n",
      "R@2 : 100.000\n",
      "R@4 : 100.000\n",
      "R@8 : 100.000\n",
      "R@16 : 100.000\n",
      "R@32 : 100.000\n",
      "----------\n",
      "fold 5:\n",
      "Finished Training, Time: 43.1782 Best loss: 2.3140\n"
     ]
    },
    {
     "name": "stderr",
     "output_type": "stream",
     "text": [
      "100%|██████████| 8/8 [00:00<00:00, 104.59it/s]\n"
     ]
    },
    {
     "name": "stdout",
     "output_type": "stream",
     "text": [
      "R@1 : 100.000\n",
      "R@2 : 100.000\n",
      "R@4 : 100.000\n",
      "R@8 : 100.000\n",
      "R@16 : 100.000\n",
      "R@32 : 100.000\n",
      "----------\n",
      "fold 6:\n",
      "Finished Training, Time: 43.5075 Best loss: 2.3360\n"
     ]
    },
    {
     "name": "stderr",
     "output_type": "stream",
     "text": [
      "100%|██████████| 8/8 [00:00<00:00, 103.58it/s]\n"
     ]
    },
    {
     "name": "stdout",
     "output_type": "stream",
     "text": [
      "R@1 : 94.444\n",
      "R@2 : 96.429\n",
      "R@4 : 96.825\n",
      "R@8 : 98.016\n",
      "R@16 : 98.016\n",
      "R@32 : 100.000\n",
      "----------\n",
      "fold 7:\n",
      "Finished Training, Time: 42.6993 Best loss: 2.5176\n"
     ]
    },
    {
     "name": "stderr",
     "output_type": "stream",
     "text": [
      "100%|██████████| 8/8 [00:00<00:00, 106.30it/s]\n"
     ]
    },
    {
     "name": "stdout",
     "output_type": "stream",
     "text": [
      "R@1 : 84.127\n",
      "R@2 : 89.286\n",
      "R@4 : 93.651\n",
      "R@8 : 96.825\n",
      "R@16 : 98.810\n",
      "R@32 : 100.000\n",
      "----------\n",
      "fold 8:\n",
      "Finished Training, Time: 42.0787 Best loss: 2.3020\n"
     ]
    },
    {
     "name": "stderr",
     "output_type": "stream",
     "text": [
      "100%|██████████| 8/8 [00:00<00:00, 103.32it/s]\n"
     ]
    },
    {
     "name": "stdout",
     "output_type": "stream",
     "text": [
      "R@1 : 80.952\n",
      "R@2 : 86.111\n",
      "R@4 : 92.063\n",
      "R@8 : 95.238\n",
      "R@16 : 98.016\n",
      "R@32 : 99.206\n",
      "----------\n",
      "fold 9:\n",
      "Finished Training, Time: 42.0649 Best loss: 2.4688\n"
     ]
    },
    {
     "name": "stderr",
     "output_type": "stream",
     "text": [
      "100%|██████████| 8/8 [00:00<00:00, 105.15it/s]\n"
     ]
    },
    {
     "name": "stdout",
     "output_type": "stream",
     "text": [
      "R@1 : 88.095\n",
      "R@2 : 90.476\n",
      "R@4 : 92.857\n",
      "R@8 : 96.429\n",
      "R@16 : 99.206\n",
      "R@32 : 100.000\n",
      "----------\n",
      "fold 10:\n",
      "Finished Training, Time: 43.4615 Best loss: 2.5631\n"
     ]
    },
    {
     "name": "stderr",
     "output_type": "stream",
     "text": [
      "100%|██████████| 8/8 [00:00<00:00, 102.67it/s]\n"
     ]
    },
    {
     "name": "stdout",
     "output_type": "stream",
     "text": [
      "R@1 : 84.127\n",
      "R@2 : 90.079\n",
      "R@4 : 95.238\n",
      "R@8 : 97.222\n",
      "R@16 : 99.206\n",
      "R@32 : 100.000\n"
     ]
    }
   ],
   "source": [
    "musize,muamount,msize=7,1,5\n",
    "dataset = make_dataset('LFWCustom', split='10fold', max_classes=50, min_samples=20, image_size=100, autocontrast=True, face_detection=False, crop=125, median_unsharp=True, median_unsharp_size=musize, median_unsharp_amount=muamount, median_hsv=True, median_hsv_method='sv', median_hsv_size=msize)\n",
    "redefine_train_parameters()\n",
    "name=f'PA+Crop(125)+AutoContrast+MedianUnsharp(size={musize},amount={muamount})+MedianHSV(method=sv,size={msize})'\n",
    "recalls=cross_validate(dataset)\n",
    "save_output(recalls,f'{name}')\n",
    "save_output([np.mean(arr) for arr in recalls],f'{name}_mean')"
   ]
  },
  {
   "cell_type": "code",
   "execution_count": 47,
   "id": "e67ea66c",
   "metadata": {},
   "outputs": [
    {
     "name": "stderr",
     "output_type": "stream",
     "text": [
      "/tmp/ipykernel_748950/3704652543.py:2: FutureWarning: The input object of type 'Tensor' is an array-like implementing one of the corresponding protocols (`__array__`, `__array_interface__` or `__array_struct__`); but not a sequence (or 0-D). In the future, this object will be coerced as if it was first converted using `np.array(obj)`. To retain the old behaviour, you have to either modify the type 'Tensor', or assign to an empty array created with `np.empty(correct_shape, dtype=object)`.\n",
      "  np.random.shuffle(np.array(dataset))\n",
      "/tmp/ipykernel_748950/3704652543.py:2: VisibleDeprecationWarning: Creating an ndarray from ragged nested sequences (which is a list-or-tuple of lists-or-tuples-or ndarrays with different lengths or shapes) is deprecated. If you meant to do this, you must specify 'dtype=object' when creating the ndarray.\n",
      "  np.random.shuffle(np.array(dataset))\n"
     ]
    },
    {
     "name": "stdout",
     "output_type": "stream",
     "text": [
      "----------\n",
      "fold 1:\n",
      "Finished Training, Time: 41.8056 Best loss: 2.3795\n"
     ]
    },
    {
     "name": "stderr",
     "output_type": "stream",
     "text": [
      "100%|██████████| 8/8 [00:00<00:00, 106.26it/s]\n"
     ]
    },
    {
     "name": "stdout",
     "output_type": "stream",
     "text": [
      "R@1 : 90.873\n",
      "R@2 : 93.651\n",
      "R@4 : 94.841\n",
      "R@8 : 97.619\n",
      "R@16 : 98.413\n",
      "R@32 : 99.603\n",
      "----------\n",
      "fold 2:\n",
      "Finished Training, Time: 42.3046 Best loss: 2.4753\n"
     ]
    },
    {
     "name": "stderr",
     "output_type": "stream",
     "text": [
      "100%|██████████| 8/8 [00:00<00:00, 104.09it/s]\n"
     ]
    },
    {
     "name": "stdout",
     "output_type": "stream",
     "text": [
      "R@1 : 89.683\n",
      "R@2 : 93.651\n",
      "R@4 : 96.429\n",
      "R@8 : 98.413\n",
      "R@16 : 99.206\n",
      "R@32 : 100.000\n",
      "----------\n",
      "fold 3:\n",
      "Finished Training, Time: 42.1224 Best loss: 2.3925\n"
     ]
    },
    {
     "name": "stderr",
     "output_type": "stream",
     "text": [
      "100%|██████████| 8/8 [00:00<00:00, 104.65it/s]\n"
     ]
    },
    {
     "name": "stdout",
     "output_type": "stream",
     "text": [
      "R@1 : 95.635\n",
      "R@2 : 97.222\n",
      "R@4 : 98.810\n",
      "R@8 : 99.603\n",
      "R@16 : 99.603\n",
      "R@32 : 99.603\n",
      "----------\n",
      "fold 4:\n",
      "Finished Training, Time: 43.2046 Best loss: 2.3862\n"
     ]
    },
    {
     "name": "stderr",
     "output_type": "stream",
     "text": [
      "100%|██████████| 8/8 [00:00<00:00, 101.95it/s]\n"
     ]
    },
    {
     "name": "stdout",
     "output_type": "stream",
     "text": [
      "R@1 : 100.000\n",
      "R@2 : 100.000\n",
      "R@4 : 100.000\n",
      "R@8 : 100.000\n",
      "R@16 : 100.000\n",
      "R@32 : 100.000\n",
      "----------\n",
      "fold 6:\n",
      "Finished Training, Time: 41.9458 Best loss: 2.5659\n"
     ]
    },
    {
     "name": "stderr",
     "output_type": "stream",
     "text": [
      "100%|██████████| 8/8 [00:00<00:00, 105.79it/s]\n"
     ]
    },
    {
     "name": "stdout",
     "output_type": "stream",
     "text": [
      "R@1 : 93.651\n",
      "R@2 : 94.841\n",
      "R@4 : 96.032\n",
      "R@8 : 97.222\n",
      "R@16 : 97.619\n",
      "R@32 : 98.810\n",
      "----------\n",
      "fold 7:\n",
      "Finished Training, Time: 42.5580 Best loss: 2.4470\n"
     ]
    },
    {
     "name": "stderr",
     "output_type": "stream",
     "text": [
      "100%|██████████| 8/8 [00:00<00:00, 103.59it/s]\n"
     ]
    },
    {
     "name": "stdout",
     "output_type": "stream",
     "text": [
      "R@1 : 82.540\n",
      "R@2 : 89.683\n",
      "R@4 : 93.651\n",
      "R@8 : 96.032\n",
      "R@16 : 97.222\n",
      "R@32 : 99.603\n",
      "----------\n",
      "fold 8:\n",
      "Finished Training, Time: 42.1366 Best loss: 2.3224\n"
     ]
    },
    {
     "name": "stderr",
     "output_type": "stream",
     "text": [
      "100%|██████████| 8/8 [00:00<00:00, 104.75it/s]\n"
     ]
    },
    {
     "name": "stdout",
     "output_type": "stream",
     "text": [
      "R@1 : 81.349\n",
      "R@2 : 89.286\n",
      "R@4 : 94.444\n",
      "R@8 : 96.825\n",
      "R@16 : 98.016\n",
      "R@32 : 98.810\n",
      "----------\n",
      "fold 9:\n",
      "Finished Training, Time: 42.2925 Best loss: 2.3528\n"
     ]
    },
    {
     "name": "stderr",
     "output_type": "stream",
     "text": [
      "100%|██████████| 8/8 [00:00<00:00, 99.26it/s]\n"
     ]
    },
    {
     "name": "stdout",
     "output_type": "stream",
     "text": [
      "R@1 : 86.508\n",
      "R@2 : 93.254\n",
      "R@4 : 94.841\n",
      "R@8 : 97.222\n",
      "R@16 : 98.413\n",
      "R@32 : 100.000\n",
      "----------\n",
      "fold 10:\n",
      "Finished Training, Time: 41.9700 Best loss: 2.4200\n"
     ]
    },
    {
     "name": "stderr",
     "output_type": "stream",
     "text": [
      "100%|██████████| 8/8 [00:00<00:00, 105.97it/s]\n"
     ]
    },
    {
     "name": "stdout",
     "output_type": "stream",
     "text": [
      "R@1 : 84.524\n",
      "R@2 : 90.079\n",
      "R@4 : 92.460\n",
      "R@8 : 95.238\n",
      "R@16 : 97.619\n",
      "R@32 : 98.810\n"
     ]
    }
   ],
   "source": [
    "musize,muamount,msize=3,2,1\n",
    "dataset = make_dataset('LFWCustom', split='10fold', max_classes=50, min_samples=20, image_size=100, autocontrast=True, face_detection=False, crop=125, median_unsharp=True, median_unsharp_size=musize, median_unsharp_amount=muamount, median_hsv=True, median_hsv_method='sv', median_hsv_size=msize)\n",
    "redefine_train_parameters()\n",
    "name=f'PA+Crop(125)+AutoContrast+MedianUnsharp(size={musize},amount={muamount})+MedianHSV(method=sv,size={msize})'\n",
    "recalls=cross_validate(dataset)\n",
    "save_output(recalls,f'{name}')\n",
    "save_output([np.mean(arr) for arr in recalls],f'{name}_mean')"
   ]
  },
  {
   "cell_type": "code",
   "execution_count": 48,
   "id": "d026a35a",
   "metadata": {},
   "outputs": [
    {
     "name": "stderr",
     "output_type": "stream",
     "text": [
      "/tmp/ipykernel_748950/3704652543.py:2: FutureWarning: The input object of type 'Tensor' is an array-like implementing one of the corresponding protocols (`__array__`, `__array_interface__` or `__array_struct__`); but not a sequence (or 0-D). In the future, this object will be coerced as if it was first converted using `np.array(obj)`. To retain the old behaviour, you have to either modify the type 'Tensor', or assign to an empty array created with `np.empty(correct_shape, dtype=object)`.\n",
      "  np.random.shuffle(np.array(dataset))\n",
      "/tmp/ipykernel_748950/3704652543.py:2: VisibleDeprecationWarning: Creating an ndarray from ragged nested sequences (which is a list-or-tuple of lists-or-tuples-or ndarrays with different lengths or shapes) is deprecated. If you meant to do this, you must specify 'dtype=object' when creating the ndarray.\n",
      "  np.random.shuffle(np.array(dataset))\n"
     ]
    },
    {
     "name": "stdout",
     "output_type": "stream",
     "text": [
      "----------\n",
      "fold 1:\n",
      "Finished Training, Time: 42.2208 Best loss: 2.5069\n"
     ]
    },
    {
     "name": "stderr",
     "output_type": "stream",
     "text": [
      "100%|██████████| 8/8 [00:00<00:00, 103.57it/s]\n"
     ]
    },
    {
     "name": "stdout",
     "output_type": "stream",
     "text": [
      "R@1 : 84.921\n",
      "R@2 : 91.270\n",
      "R@4 : 95.635\n",
      "R@8 : 98.413\n",
      "R@16 : 98.810\n",
      "R@32 : 99.603\n",
      "----------\n",
      "fold 2:\n",
      "Finished Training, Time: 42.0221 Best loss: 2.4669\n"
     ]
    },
    {
     "name": "stderr",
     "output_type": "stream",
     "text": [
      "100%|██████████| 8/8 [00:00<00:00, 106.26it/s]\n"
     ]
    },
    {
     "name": "stdout",
     "output_type": "stream",
     "text": [
      "R@1 : 90.476\n",
      "R@2 : 95.635\n",
      "R@4 : 97.619\n",
      "R@8 : 98.413\n",
      "R@16 : 99.603\n",
      "R@32 : 99.603\n",
      "----------\n",
      "fold 3:\n",
      "Finished Training, Time: 41.7700 Best loss: 2.3651\n"
     ]
    },
    {
     "name": "stderr",
     "output_type": "stream",
     "text": [
      "100%|██████████| 8/8 [00:00<00:00, 105.94it/s]\n"
     ]
    },
    {
     "name": "stdout",
     "output_type": "stream",
     "text": [
      "R@1 : 96.429\n",
      "R@2 : 97.619\n",
      "R@4 : 98.016\n",
      "R@8 : 98.810\n",
      "R@16 : 98.810\n",
      "R@32 : 98.810\n",
      "----------\n",
      "fold 4:\n",
      "Finished Training, Time: 41.9880 Best loss: 2.3984\n"
     ]
    },
    {
     "name": "stderr",
     "output_type": "stream",
     "text": [
      "100%|██████████| 8/8 [00:00<00:00, 105.87it/s]\n"
     ]
    },
    {
     "name": "stdout",
     "output_type": "stream",
     "text": [
      "R@1 : 100.000\n",
      "R@2 : 100.000\n",
      "R@4 : 100.000\n",
      "R@8 : 100.000\n",
      "R@16 : 100.000\n",
      "R@32 : 100.000\n",
      "----------\n",
      "fold 5:\n",
      "Finished Training, Time: 42.0950 Best loss: 2.5239\n"
     ]
    },
    {
     "name": "stderr",
     "output_type": "stream",
     "text": [
      "100%|██████████| 8/8 [00:00<00:00, 106.58it/s]\n"
     ]
    },
    {
     "name": "stdout",
     "output_type": "stream",
     "text": [
      "R@1 : 100.000\n",
      "R@2 : 100.000\n",
      "R@4 : 100.000\n",
      "R@8 : 100.000\n",
      "R@16 : 100.000\n",
      "R@32 : 100.000\n",
      "----------\n",
      "fold 6:\n",
      "Finished Training, Time: 42.2077 Best loss: 2.3033\n"
     ]
    },
    {
     "name": "stderr",
     "output_type": "stream",
     "text": [
      "100%|██████████| 8/8 [00:00<00:00, 103.20it/s]\n"
     ]
    },
    {
     "name": "stdout",
     "output_type": "stream",
     "text": [
      "R@1 : 90.079\n",
      "R@2 : 91.667\n",
      "R@4 : 94.841\n",
      "R@8 : 96.429\n",
      "R@16 : 98.016\n",
      "R@32 : 99.603\n",
      "----------\n",
      "fold 7:\n",
      "Finished Training, Time: 42.5651 Best loss: 2.5444\n"
     ]
    },
    {
     "name": "stderr",
     "output_type": "stream",
     "text": [
      "100%|██████████| 8/8 [00:00<00:00, 104.63it/s]\n"
     ]
    },
    {
     "name": "stdout",
     "output_type": "stream",
     "text": [
      "R@1 : 84.127\n",
      "R@2 : 92.460\n",
      "R@4 : 95.635\n",
      "R@8 : 96.825\n",
      "R@16 : 99.206\n",
      "R@32 : 100.000\n",
      "----------\n",
      "fold 8:\n",
      "Finished Training, Time: 42.2256 Best loss: 2.4741\n"
     ]
    },
    {
     "name": "stderr",
     "output_type": "stream",
     "text": [
      "100%|██████████| 8/8 [00:00<00:00, 106.56it/s]\n"
     ]
    },
    {
     "name": "stdout",
     "output_type": "stream",
     "text": [
      "R@1 : 79.762\n",
      "R@2 : 86.905\n",
      "R@4 : 93.651\n",
      "R@8 : 96.032\n",
      "R@16 : 99.206\n",
      "R@32 : 99.206\n",
      "----------\n",
      "fold 9:\n",
      "Finished Training, Time: 42.3339 Best loss: 2.5584\n"
     ]
    },
    {
     "name": "stderr",
     "output_type": "stream",
     "text": [
      "100%|██████████| 8/8 [00:00<00:00, 104.93it/s]\n"
     ]
    },
    {
     "name": "stdout",
     "output_type": "stream",
     "text": [
      "R@1 : 86.905\n",
      "R@2 : 91.667\n",
      "R@4 : 94.444\n",
      "R@8 : 98.413\n",
      "R@16 : 99.206\n",
      "R@32 : 100.000\n",
      "----------\n",
      "fold 10:\n",
      "Finished Training, Time: 42.1196 Best loss: 2.5360\n"
     ]
    },
    {
     "name": "stderr",
     "output_type": "stream",
     "text": [
      "100%|██████████| 8/8 [00:00<00:00, 103.89it/s]\n"
     ]
    },
    {
     "name": "stdout",
     "output_type": "stream",
     "text": [
      "R@1 : 87.302\n",
      "R@2 : 91.270\n",
      "R@4 : 95.238\n",
      "R@8 : 96.825\n",
      "R@16 : 98.413\n",
      "R@32 : 99.206\n"
     ]
    }
   ],
   "source": [
    "musize,muamount,msize=3,2,3\n",
    "dataset = make_dataset('LFWCustom', split='10fold', max_classes=50, min_samples=20, image_size=100, autocontrast=True, face_detection=False, crop=125, median_unsharp=False, median_unsharp_size=musize, median_unsharp_amount=muamount, median_hsv=True, median_hsv_method='sv', median_hsv_size=msize)\n",
    "redefine_train_parameters()\n",
    "name=f'PA+Crop(125)+AutoContrast+MedianHSV(method=sv,size={msize})'\n",
    "recalls=cross_validate(dataset)\n",
    "save_output(recalls,f'{name}')\n",
    "save_output([np.mean(arr) for arr in recalls],f'{name}_mean')"
   ]
  },
  {
   "cell_type": "code",
   "execution_count": 44,
   "id": "998d40bc",
   "metadata": {
    "collapsed": true
   },
   "outputs": [
    {
     "name": "stderr",
     "output_type": "stream",
     "text": [
      "/tmp/ipykernel_748950/3704652543.py:2: FutureWarning: The input object of type 'Tensor' is an array-like implementing one of the corresponding protocols (`__array__`, `__array_interface__` or `__array_struct__`); but not a sequence (or 0-D). In the future, this object will be coerced as if it was first converted using `np.array(obj)`. To retain the old behaviour, you have to either modify the type 'Tensor', or assign to an empty array created with `np.empty(correct_shape, dtype=object)`.\n",
      "  np.random.shuffle(np.array(dataset))\n",
      "/tmp/ipykernel_748950/3704652543.py:2: VisibleDeprecationWarning: Creating an ndarray from ragged nested sequences (which is a list-or-tuple of lists-or-tuples-or ndarrays with different lengths or shapes) is deprecated. If you meant to do this, you must specify 'dtype=object' when creating the ndarray.\n",
      "  np.random.shuffle(np.array(dataset))\n"
     ]
    },
    {
     "name": "stdout",
     "output_type": "stream",
     "text": [
      "----------\n",
      "fold 1:\n",
      "Finished Training, Time: 40.1760 Best loss: 2.3954\n"
     ]
    },
    {
     "name": "stderr",
     "output_type": "stream",
     "text": [
      "100%|██████████| 8/8 [00:00<00:00, 121.56it/s]\n"
     ]
    },
    {
     "name": "stdout",
     "output_type": "stream",
     "text": [
      "R@1 : 82.540\n",
      "R@2 : 88.095\n",
      "R@4 : 93.254\n",
      "R@8 : 96.429\n",
      "R@16 : 98.016\n",
      "R@32 : 99.206\n",
      "----------\n",
      "fold 2:\n",
      "Finished Training, Time: 40.2359 Best loss: 2.4664\n"
     ]
    },
    {
     "name": "stderr",
     "output_type": "stream",
     "text": [
      "100%|██████████| 8/8 [00:00<00:00, 123.06it/s]\n"
     ]
    },
    {
     "name": "stdout",
     "output_type": "stream",
     "text": [
      "R@1 : 90.079\n",
      "R@2 : 92.857\n",
      "R@4 : 96.032\n",
      "R@8 : 97.619\n",
      "R@16 : 98.810\n",
      "R@32 : 99.603\n",
      "----------\n",
      "fold 3:\n",
      "Finished Training, Time: 40.0416 Best loss: 2.5588\n"
     ]
    },
    {
     "name": "stderr",
     "output_type": "stream",
     "text": [
      "100%|██████████| 8/8 [00:00<00:00, 122.53it/s]\n"
     ]
    },
    {
     "name": "stdout",
     "output_type": "stream",
     "text": [
      "R@1 : 93.254\n",
      "R@2 : 96.825\n",
      "R@4 : 98.413\n",
      "R@8 : 99.206\n",
      "R@16 : 99.206\n",
      "R@32 : 99.206\n",
      "----------\n",
      "fold 4:\n",
      "Finished Training, Time: 40.0272 Best loss: 2.4613\n"
     ]
    },
    {
     "name": "stderr",
     "output_type": "stream",
     "text": [
      "100%|██████████| 8/8 [00:00<00:00, 111.60it/s]\n"
     ]
    },
    {
     "name": "stdout",
     "output_type": "stream",
     "text": [
      "R@1 : 100.000\n",
      "R@2 : 100.000\n",
      "R@4 : 100.000\n",
      "R@8 : 100.000\n",
      "R@16 : 100.000\n",
      "R@32 : 100.000\n",
      "----------\n",
      "fold 5:\n",
      "Finished Training, Time: 40.2056 Best loss: 2.5793\n"
     ]
    },
    {
     "name": "stderr",
     "output_type": "stream",
     "text": [
      "100%|██████████| 8/8 [00:00<00:00, 117.84it/s]\n"
     ]
    },
    {
     "name": "stdout",
     "output_type": "stream",
     "text": [
      "R@1 : 100.000\n",
      "R@2 : 100.000\n",
      "R@4 : 100.000\n",
      "R@8 : 100.000\n",
      "R@16 : 100.000\n",
      "R@32 : 100.000\n",
      "----------\n",
      "fold 6:\n",
      "Finished Training, Time: 40.0809 Best loss: 2.2878\n"
     ]
    },
    {
     "name": "stderr",
     "output_type": "stream",
     "text": [
      "100%|██████████| 8/8 [00:00<00:00, 121.66it/s]\n"
     ]
    },
    {
     "name": "stdout",
     "output_type": "stream",
     "text": [
      "R@1 : 94.841\n",
      "R@2 : 96.032\n",
      "R@4 : 98.016\n",
      "R@8 : 98.810\n",
      "R@16 : 99.206\n",
      "R@32 : 100.000\n",
      "----------\n",
      "fold 7:\n",
      "Finished Training, Time: 40.1763 Best loss: 2.4368\n"
     ]
    },
    {
     "name": "stderr",
     "output_type": "stream",
     "text": [
      "100%|██████████| 8/8 [00:00<00:00, 122.53it/s]\n"
     ]
    },
    {
     "name": "stdout",
     "output_type": "stream",
     "text": [
      "R@1 : 79.365\n",
      "R@2 : 89.683\n",
      "R@4 : 94.048\n",
      "R@8 : 97.619\n",
      "R@16 : 98.810\n",
      "R@32 : 100.000\n",
      "----------\n",
      "fold 8:\n",
      "Finished Training, Time: 40.3275 Best loss: 2.4997\n"
     ]
    },
    {
     "name": "stderr",
     "output_type": "stream",
     "text": [
      "100%|██████████| 8/8 [00:00<00:00, 119.76it/s]\n"
     ]
    },
    {
     "name": "stdout",
     "output_type": "stream",
     "text": [
      "R@1 : 81.349\n",
      "R@2 : 88.889\n",
      "R@4 : 91.270\n",
      "R@8 : 92.460\n",
      "R@16 : 96.429\n",
      "R@32 : 98.413\n",
      "----------\n",
      "fold 9:\n",
      "Finished Training, Time: 40.0158 Best loss: 2.4658\n"
     ]
    },
    {
     "name": "stderr",
     "output_type": "stream",
     "text": [
      "100%|██████████| 8/8 [00:00<00:00, 121.98it/s]\n"
     ]
    },
    {
     "name": "stdout",
     "output_type": "stream",
     "text": [
      "R@1 : 84.524\n",
      "R@2 : 89.286\n",
      "R@4 : 92.857\n",
      "R@8 : 95.635\n",
      "R@16 : 98.016\n",
      "R@32 : 99.206\n",
      "----------\n",
      "fold 10:\n",
      "Finished Training, Time: 40.8661 Best loss: 2.5267\n"
     ]
    },
    {
     "name": "stderr",
     "output_type": "stream",
     "text": [
      "100%|██████████| 8/8 [00:00<00:00, 121.44it/s]"
     ]
    },
    {
     "name": "stdout",
     "output_type": "stream",
     "text": [
      "R@1 : 78.175\n",
      "R@2 : 88.889\n",
      "R@4 : 91.667\n",
      "R@8 : 95.635\n",
      "R@16 : 96.429\n",
      "R@32 : 100.000\n"
     ]
    },
    {
     "name": "stderr",
     "output_type": "stream",
     "text": [
      "\n"
     ]
    }
   ],
   "source": [
    "dataset = make_dataset('LFWCustom', split='10fold', max_classes=50, min_samples=20, image_size=100, pad_ratio=1.3, face_detection_crop=140)\n",
    "redefine_train_parameters()\n",
    "name=f'PA+FaceDetection(pad_ratio=1.3,crop=140))'\n",
    "recalls=cross_validate(dataset)\n",
    "save_output(recalls,f'{name}')\n",
    "save_output([np.mean(arr) for arr in recalls],f'{name}_mean')\n"
   ]
  },
  {
   "cell_type": "code",
   "execution_count": 9,
   "id": "fbfddf8a",
   "metadata": {},
   "outputs": [],
   "source": [
    "total_time = time.time()-then\n",
    "save_output(total_time, 'total_time')"
   ]
  },
  {
   "cell_type": "code",
   "execution_count": 10,
   "id": "5df4ecd2",
   "metadata": {},
   "outputs": [
    {
     "data": {
      "text/plain": [
       "1840.0826926231384"
      ]
     },
     "execution_count": 10,
     "metadata": {},
     "output_type": "execute_result"
    }
   ],
   "source": [
    "load_output()['total_time']"
   ]
  },
  {
   "cell_type": "code",
   "execution_count": 45,
   "id": "816c8b55",
   "metadata": {
    "collapsed": true
   },
   "outputs": [
    {
     "data": {
      "text/plain": [
       "{'PA+FaceDetection(pad_ratio=1.3,crop=140))': ([0.8253968253968254,\n",
       "   0.9007936507936508,\n",
       "   0.9325396825396826,\n",
       "   1.0,\n",
       "   1.0,\n",
       "   0.9484126984126984,\n",
       "   0.7936507936507936,\n",
       "   0.8134920634920635,\n",
       "   0.8452380952380952,\n",
       "   0.7817460317460317],\n",
       "  [0.8809523809523809,\n",
       "   0.9285714285714286,\n",
       "   0.9682539682539683,\n",
       "   1.0,\n",
       "   1.0,\n",
       "   0.9603174603174603,\n",
       "   0.8968253968253969,\n",
       "   0.8888888888888888,\n",
       "   0.8928571428571429,\n",
       "   0.8888888888888888],\n",
       "  [0.9325396825396826,\n",
       "   0.9603174603174603,\n",
       "   0.9841269841269841,\n",
       "   1.0,\n",
       "   1.0,\n",
       "   0.9801587301587301,\n",
       "   0.9404761904761905,\n",
       "   0.9126984126984127,\n",
       "   0.9285714285714286,\n",
       "   0.9166666666666666],\n",
       "  [0.9642857142857143,\n",
       "   0.9761904761904762,\n",
       "   0.9920634920634921,\n",
       "   1.0,\n",
       "   1.0,\n",
       "   0.9880952380952381,\n",
       "   0.9761904761904762,\n",
       "   0.9246031746031746,\n",
       "   0.9563492063492064,\n",
       "   0.9563492063492064],\n",
       "  [0.9801587301587301,\n",
       "   0.9880952380952381,\n",
       "   0.9920634920634921,\n",
       "   1.0,\n",
       "   1.0,\n",
       "   0.9920634920634921,\n",
       "   0.9880952380952381,\n",
       "   0.9642857142857143,\n",
       "   0.9801587301587301,\n",
       "   0.9642857142857143],\n",
       "  [0.9920634920634921,\n",
       "   0.996031746031746,\n",
       "   0.9920634920634921,\n",
       "   1.0,\n",
       "   1.0,\n",
       "   1.0,\n",
       "   1.0,\n",
       "   0.9841269841269841,\n",
       "   0.9920634920634921,\n",
       "   1.0]),\n",
       " 'PA+FaceDetection(pad_ratio=1.3,crop=140))_mean': [0.8841269841269842,\n",
       "  0.9305555555555556,\n",
       "  0.9555555555555555,\n",
       "  0.9734126984126983,\n",
       "  0.9849206349206348,\n",
       "  0.9956349206349205]}"
      ]
     },
     "execution_count": 45,
     "metadata": {},
     "output_type": "execute_result"
    }
   ],
   "source": [
    "{key:val for key,val in load_output().items() if name in key}"
   ]
  },
  {
   "cell_type": "code",
   "execution_count": null,
   "id": "a3efcc30",
   "metadata": {},
   "outputs": [],
   "source": [
    "{key:[np.mean(x) for x in val] for key,val in load_output().items() if 'HSV(method=sv' in key and 'mean' in key}"
   ]
  }
 ],
 "metadata": {
  "kernelspec": {
   "display_name": "Python 3 (ipykernel)",
   "language": "python",
   "name": "python3"
  },
  "language_info": {
   "codemirror_mode": {
    "name": "ipython",
    "version": 3
   },
   "file_extension": ".py",
   "mimetype": "text/x-python",
   "name": "python",
   "nbconvert_exporter": "python",
   "pygments_lexer": "ipython3",
   "version": "3.8.12"
  }
 },
 "nbformat": 4,
 "nbformat_minor": 5
}
