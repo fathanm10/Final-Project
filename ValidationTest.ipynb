{
 "cells": [
  {
   "cell_type": "code",
   "execution_count": 1,
   "id": "a54a86d4",
   "metadata": {},
   "outputs": [],
   "source": [
    "import torch\n",
    "from train import train_model\n",
    "from dataset.utils import *\n",
    "from utils import *\n",
    "import numpy as np"
   ]
  },
  {
   "cell_type": "code",
   "execution_count": 2,
   "id": "88df472c",
   "metadata": {},
   "outputs": [],
   "source": [
    "batch_size = 32\n",
    "def redefine_train_parameters():\n",
    "    global device, epochs, learning_rate, loss_lr, num_classes, embedding_size\n",
    "    device = torch.device('cuda' if torch.cuda.is_available() else 'cpu')\n",
    "    epochs = 2\n",
    "    learning_rate = 0.001\n",
    "    loss_lr = 0.01\n",
    "    num_classes = get_num_classes(train_dataset)\n",
    "    embedding_size = 512"
   ]
  },
  {
   "cell_type": "code",
   "execution_count": 3,
   "id": "ed35c438",
   "metadata": {},
   "outputs": [],
   "source": [
    "def train(train_dataset, test_dataset):\n",
    "    train_loader = load_dataset(train_dataset, batch_size, shuffle=True)\n",
    "    test_loader = load_dataset(test_dataset, batch_size, shuffle=False)\n",
    "    model = train_model(model_name='resnet50',\n",
    "                    loss_func_name='proxy_anchor',\n",
    "                    num_classes=num_classes,\n",
    "                    dataloader=train_loader,\n",
    "                    epochs=epochs,\n",
    "                    learning_rate=learning_rate,\n",
    "                    verbose=0)\n",
    "    return model, train_loader, test_loader"
   ]
  },
  {
   "cell_type": "code",
   "execution_count": 4,
   "id": "3dfd647b",
   "metadata": {
    "scrolled": true
   },
   "outputs": [],
   "source": [
    "def cross_validate(dataset, k=10):\n",
    "    global r1,r2,r4,r8,r16,r32\n",
    "    k=k\n",
    "    split_len = len(dataset)//k\n",
    "    max_index = split_len*k\n",
    "    r1,r2,r4,r8,r16,r32= [],[],[],[],[],[]\n",
    "    for fold in range(k):\n",
    "        print(f'''----------\n",
    "fold {fold+1}:''')\n",
    "        start = split_len * fold\n",
    "        train_dataset = dataset[:start] + dataset[start + split_len:max_index]\n",
    "        test_dataset = dataset[start:start+split_len]\n",
    "        train_loader = load_dataset(train_dataset, batch_size, shuffle=True)\n",
    "        test_loader = load_dataset(test_dataset, batch_size, shuffle=False)\n",
    "        model = train_model(model_name='resnet50',\n",
    "                        loss_func_name='proxy_anchor',\n",
    "                        num_classes=num_classes,\n",
    "                        dataloader=train_loader,\n",
    "                        epochs=epochs,\n",
    "                        learning_rate=learning_rate,\n",
    "                        verbose=0)\n",
    "        recall = evaluate_cos(model, test_loader)\n",
    "        r1.append(recall[0])\n",
    "        r2.append(recall[1])\n",
    "        r4.append(recall[2])\n",
    "        r8.append(recall[3])\n",
    "        r16.append(recall[4])\n",
    "        r32.append(recall[5])"
   ]
  },
  {
   "cell_type": "code",
   "execution_count": 5,
   "id": "d9cba134",
   "metadata": {},
   "outputs": [],
   "source": [
    "def avg_recall(name):\n",
    "    print(f'''Average Recall {name}:\n",
    "R@1 : {np.mean(r1)*100:.4f}\n",
    "R@2 : {np.mean(r2)*100:.4f}\n",
    "R@4 : {np.mean(r4)*100:.4f}\n",
    "R@8 : {np.mean(r8)*100:.4f}\n",
    "R@16 : {np.mean(r16)*100:.4f}\n",
    "R@32 : {np.mean(r32)*100:.4f}''')"
   ]
  },
  {
   "cell_type": "code",
   "execution_count": 81,
   "id": "c5c3d871",
   "metadata": {},
   "outputs": [],
   "source": [
    "train_dataset = make_dataset('LFWCustom', split='train', image_size=100)\n",
    "test_dataset = make_dataset('LFWCustom', split='test', image_size=100)\n",
    "redefine_train_parameters()"
   ]
  },
  {
   "cell_type": "code",
   "execution_count": 82,
   "id": "866d618b",
   "metadata": {},
   "outputs": [
    {
     "name": "stdout",
     "output_type": "stream",
     "text": [
      "Finished Training, Time: 330.9441 Best loss: 8.7281\n"
     ]
    }
   ],
   "source": [
    "# PA\n",
    "model, train_loader, test_loader = train(train_dataset,test_dataset)"
   ]
  },
  {
   "cell_type": "code",
   "execution_count": 83,
   "id": "4771f97f",
   "metadata": {},
   "outputs": [
    {
     "name": "stderr",
     "output_type": "stream",
     "text": [
      "100%|██████████| 176/176 [02:42<00:00,  1.09it/s]\n"
     ]
    },
    {
     "name": "stdout",
     "output_type": "stream",
     "text": [
      "R@1 : 7.177\n",
      "R@2 : 10.355\n",
      "R@4 : 14.908\n",
      "R@8 : 19.497\n",
      "R@16 : 24.656\n",
      "R@32 : 30.834\n"
     ]
    },
    {
     "name": "stderr",
     "output_type": "stream",
     "text": [
      "100%|██████████| 262/262 [04:02<00:00,  1.08it/s]\n"
     ]
    },
    {
     "name": "stdout",
     "output_type": "stream",
     "text": [
      "R@1 : 1.646\n",
      "R@2 : 2.374\n",
      "R@4 : 3.400\n",
      "R@8 : 4.509\n",
      "R@16 : 5.857\n",
      "R@32 : 7.575\n"
     ]
    },
    {
     "data": {
      "text/plain": [
       "[0.01646188715257068,\n",
       " 0.02373851843015627,\n",
       " 0.03399737564117858,\n",
       " 0.04509125611356316,\n",
       " 0.05857091733269713,\n",
       " 0.07574853870929261]"
      ]
     },
     "execution_count": 83,
     "metadata": {},
     "output_type": "execute_result"
    }
   ],
   "source": [
    "evaluate_cos(model,train_loader)\n",
    "evaluate_cos(model,test_loader)"
   ]
  },
  {
   "cell_type": "code",
   "execution_count": 84,
   "id": "44937e31",
   "metadata": {},
   "outputs": [],
   "source": [
    "train_dataset = make_dataset('LFWCustom', split='train', image_size=100, flip=0.2)\n",
    "test_dataset = make_dataset('LFWCustom', split='test', image_size=100)\n",
    "redefine_train_parameters()"
   ]
  },
  {
   "cell_type": "code",
   "execution_count": 85,
   "id": "365c2064",
   "metadata": {},
   "outputs": [
    {
     "name": "stdout",
     "output_type": "stream",
     "text": [
      "Finished Training, Time: 331.5996 Best loss: 8.7856\n"
     ]
    }
   ],
   "source": [
    "# PA+Flip(.2)\n",
    "model, train_loader, test_loader = train(train_dataset,test_dataset)"
   ]
  },
  {
   "cell_type": "code",
   "execution_count": 86,
   "id": "aa36b08c",
   "metadata": {},
   "outputs": [
    {
     "name": "stderr",
     "output_type": "stream",
     "text": [
      "100%|██████████| 176/176 [02:42<00:00,  1.08it/s]\n"
     ]
    },
    {
     "name": "stdout",
     "output_type": "stream",
     "text": [
      "R@1 : 6.624\n",
      "R@2 : 9.909\n",
      "R@4 : 13.605\n",
      "R@8 : 18.336\n",
      "R@16 : 24.389\n",
      "R@32 : 31.280\n"
     ]
    },
    {
     "name": "stderr",
     "output_type": "stream",
     "text": [
      "100%|██████████| 262/262 [04:02<00:00,  1.08it/s]\n"
     ]
    },
    {
     "name": "stdout",
     "output_type": "stream",
     "text": [
      "R@1 : 1.193\n",
      "R@2 : 1.909\n",
      "R@4 : 2.851\n",
      "R@8 : 3.889\n",
      "R@16 : 5.583\n",
      "R@32 : 7.408\n"
     ]
    },
    {
     "data": {
      "text/plain": [
       "[0.011928903733746868,\n",
       " 0.01908624597399499,\n",
       " 0.028510079923655018,\n",
       " 0.03888822617201479,\n",
       " 0.05582726947393535,\n",
       " 0.07407849218656805]"
      ]
     },
     "execution_count": 86,
     "metadata": {},
     "output_type": "execute_result"
    }
   ],
   "source": [
    "evaluate_cos(model,train_loader)\n",
    "evaluate_cos(model,test_loader)"
   ]
  },
  {
   "cell_type": "code",
   "execution_count": 87,
   "id": "6d686005",
   "metadata": {},
   "outputs": [],
   "source": [
    "train_dataset = make_dataset('LFWCustom', split='train', image_size=100, hist='v')\n",
    "test_dataset = make_dataset('LFWCustom', split='test', image_size=100, hist='v')\n",
    "redefine_train_parameters()"
   ]
  },
  {
   "cell_type": "code",
   "execution_count": 88,
   "id": "1f24783f",
   "metadata": {},
   "outputs": [
    {
     "name": "stdout",
     "output_type": "stream",
     "text": [
      "Finished Training, Time: 418.6383 Best loss: 8.7858\n"
     ]
    }
   ],
   "source": [
    "# PA+AdaptiveV\n",
    "model, train_loader, test_loader = train(train_dataset,test_dataset)"
   ]
  },
  {
   "cell_type": "code",
   "execution_count": 89,
   "id": "4e2b9b65",
   "metadata": {},
   "outputs": [
    {
     "name": "stderr",
     "output_type": "stream",
     "text": [
      "100%|██████████| 176/176 [03:25<00:00,  1.17s/it]\n"
     ]
    },
    {
     "name": "stdout",
     "output_type": "stream",
     "text": [
      "R@1 : 5.196\n",
      "R@2 : 8.320\n",
      "R@4 : 12.230\n",
      "R@8 : 17.354\n",
      "R@16 : 23.264\n",
      "R@32 : 30.387\n"
     ]
    },
    {
     "name": "stderr",
     "output_type": "stream",
     "text": [
      "100%|██████████| 262/262 [05:06<00:00,  1.17s/it]\n"
     ]
    },
    {
     "name": "stdout",
     "output_type": "stream",
     "text": [
      "R@1 : 0.895\n",
      "R@2 : 1.598\n",
      "R@4 : 2.219\n",
      "R@8 : 3.531\n",
      "R@16 : 4.962\n",
      "R@32 : 6.656\n"
     ]
    },
    {
     "data": {
      "text/plain": [
       "[0.008946677800310152,\n",
       " 0.015984731003220804,\n",
       " 0.022187760944769177,\n",
       " 0.035309555051890734,\n",
       " 0.049624239532386975,\n",
       " 0.06656328283430753]"
      ]
     },
     "execution_count": 89,
     "metadata": {},
     "output_type": "execute_result"
    }
   ],
   "source": [
    "evaluate_cos(model,train_loader)\n",
    "evaluate_cos(model,test_loader)"
   ]
  },
  {
   "cell_type": "code",
   "execution_count": 90,
   "id": "744b918e",
   "metadata": {},
   "outputs": [],
   "source": [
    "train_dataset = make_dataset('LFWCustom', split='train', image_size=100, median=True)\n",
    "test_dataset = make_dataset('LFWCustom', split='test', image_size=100, median=True)\n",
    "redefine_train_parameters()"
   ]
  },
  {
   "cell_type": "code",
   "execution_count": 91,
   "id": "e7a6ba4b",
   "metadata": {},
   "outputs": [
    {
     "name": "stdout",
     "output_type": "stream",
     "text": [
      "Finished Training, Time: 435.6178 Best loss: 8.7316\n"
     ]
    }
   ],
   "source": [
    "# PA+Median\n",
    "model, train_loader, test_loader = train(train_dataset,test_dataset)"
   ]
  },
  {
   "cell_type": "code",
   "execution_count": 92,
   "id": "a0e1e6b7",
   "metadata": {},
   "outputs": [
    {
     "name": "stderr",
     "output_type": "stream",
     "text": [
      "100%|██████████| 176/176 [03:33<00:00,  1.21s/it]\n"
     ]
    },
    {
     "name": "stdout",
     "output_type": "stream",
     "text": [
      "R@1 : 6.106\n",
      "R@2 : 9.052\n",
      "R@4 : 12.569\n",
      "R@8 : 18.015\n",
      "R@16 : 23.585\n",
      "R@32 : 30.334\n"
     ]
    },
    {
     "name": "stderr",
     "output_type": "stream",
     "text": [
      "100%|██████████| 262/262 [05:19<00:00,  1.22s/it]\n"
     ]
    },
    {
     "name": "stdout",
     "output_type": "stream",
     "text": [
      "R@1 : 0.811\n",
      "R@2 : 1.264\n",
      "R@4 : 2.195\n",
      "R@8 : 3.483\n",
      "R@16 : 4.831\n",
      "R@32 : 6.776\n"
     ]
    },
    {
     "data": {
      "text/plain": [
       "[0.00811165453894787,\n",
       " 0.012644637957771682,\n",
       " 0.021949182870094237,\n",
       " 0.034832398902540855,\n",
       " 0.04831206012167482,\n",
       " 0.06775617320768221]"
      ]
     },
     "execution_count": 92,
     "metadata": {},
     "output_type": "execute_result"
    }
   ],
   "source": [
    "evaluate_cos(model,train_loader)\n",
    "evaluate_cos(model,test_loader)"
   ]
  },
  {
   "cell_type": "code",
   "execution_count": 93,
   "id": "36171cbf",
   "metadata": {},
   "outputs": [],
   "source": [
    "train_dataset = make_dataset('LFWCustom', split='train', image_size=100, hist='v', median_before=True)\n",
    "test_dataset = make_dataset('LFWCustom', split='test', image_size=100, hist='v', median_before=True)\n",
    "redefine_train_parameters()"
   ]
  },
  {
   "cell_type": "code",
   "execution_count": 94,
   "id": "6b7e4518",
   "metadata": {},
   "outputs": [
    {
     "name": "stdout",
     "output_type": "stream",
     "text": [
      "Finished Training, Time: 521.8434 Best loss: 8.7016\n"
     ]
    }
   ],
   "source": [
    "# PA+Median+AdaptiveV\n",
    "model, train_loader, test_loader = train(train_dataset,test_dataset)"
   ]
  },
  {
   "cell_type": "code",
   "execution_count": 95,
   "id": "0f84f9b7",
   "metadata": {},
   "outputs": [
    {
     "name": "stderr",
     "output_type": "stream",
     "text": [
      "100%|██████████| 176/176 [04:16<00:00,  1.46s/it]\n"
     ]
    },
    {
     "name": "stdout",
     "output_type": "stream",
     "text": [
      "R@1 : 6.356\n",
      "R@2 : 9.766\n",
      "R@4 : 14.640\n",
      "R@8 : 19.336\n",
      "R@16 : 24.585\n",
      "R@32 : 31.405\n"
     ]
    },
    {
     "name": "stderr",
     "output_type": "stream",
     "text": [
      "100%|██████████| 262/262 [06:24<00:00,  1.47s/it]\n"
     ]
    },
    {
     "name": "stdout",
     "output_type": "stream",
     "text": [
      "R@1 : 1.264\n",
      "R@2 : 1.944\n",
      "R@4 : 3.006\n",
      "R@8 : 4.056\n",
      "R@16 : 5.452\n",
      "R@32 : 7.110\n"
     ]
    },
    {
     "data": {
      "text/plain": [
       "[0.012644637957771682,\n",
       " 0.019444113086007395,\n",
       " 0.03006083740904211,\n",
       " 0.040558272694739356,\n",
       " 0.05451509006322319,\n",
       " 0.07109626625313134]"
      ]
     },
     "execution_count": 95,
     "metadata": {},
     "output_type": "execute_result"
    }
   ],
   "source": [
    "evaluate_cos(model,train_loader)\n",
    "evaluate_cos(model,test_loader)"
   ]
  },
  {
   "cell_type": "code",
   "execution_count": 96,
   "id": "a11bb655",
   "metadata": {},
   "outputs": [],
   "source": [
    "train_dataset = make_dataset('LFWCustom', split='train', image_size=100, unsharp=True)\n",
    "test_dataset = make_dataset('LFWCustom', split='test', image_size=100, unsharp=True)\n",
    "redefine_train_parameters()"
   ]
  },
  {
   "cell_type": "code",
   "execution_count": 97,
   "id": "cca43f33",
   "metadata": {},
   "outputs": [
    {
     "name": "stdout",
     "output_type": "stream",
     "text": [
      "Finished Training, Time: 380.3820 Best loss: 8.6672\n"
     ]
    }
   ],
   "source": [
    "# PA+Unsharp\n",
    "model, train_loader, test_loader = train(train_dataset,test_dataset)"
   ]
  },
  {
   "cell_type": "code",
   "execution_count": 98,
   "id": "230b3b6c",
   "metadata": {},
   "outputs": [
    {
     "name": "stderr",
     "output_type": "stream",
     "text": [
      "100%|██████████| 176/176 [03:06<00:00,  1.06s/it]\n"
     ]
    },
    {
     "name": "stdout",
     "output_type": "stream",
     "text": [
      "R@1 : 8.659\n",
      "R@2 : 12.891\n",
      "R@4 : 17.711\n",
      "R@8 : 22.675\n",
      "R@16 : 28.709\n",
      "R@32 : 35.351\n"
     ]
    },
    {
     "name": "stderr",
     "output_type": "stream",
     "text": [
      "100%|██████████| 262/262 [04:38<00:00,  1.06s/it]\n"
     ]
    },
    {
     "name": "stdout",
     "output_type": "stream",
     "text": [
      "R@1 : 1.264\n",
      "R@2 : 2.052\n",
      "R@4 : 3.066\n",
      "R@8 : 4.700\n",
      "R@16 : 6.418\n",
      "R@32 : 8.768\n"
     ]
    },
    {
     "data": {
      "text/plain": [
       "[0.012644637957771682,\n",
       " 0.020517714422044614,\n",
       " 0.030657282595729453,\n",
       " 0.046999880710962665,\n",
       " 0.06417750208755815,\n",
       " 0.08767744244303949]"
      ]
     },
     "execution_count": 98,
     "metadata": {},
     "output_type": "execute_result"
    }
   ],
   "source": [
    "evaluate_cos(model,train_loader)\n",
    "evaluate_cos(model,test_loader)"
   ]
  },
  {
   "cell_type": "code",
   "execution_count": 99,
   "id": "e870f154",
   "metadata": {},
   "outputs": [],
   "source": [
    "train_dataset = make_dataset('LFWCustom', split='train', image_size=100, gaussian_blur=.5)\n",
    "test_dataset = make_dataset('LFWCustom', split='test', image_size=100, gaussian_blur=.5)\n",
    "redefine_train_parameters()"
   ]
  },
  {
   "cell_type": "code",
   "execution_count": 100,
   "id": "4e0b4538",
   "metadata": {},
   "outputs": [
    {
     "name": "stdout",
     "output_type": "stream",
     "text": [
      "Finished Training, Time: 335.4895 Best loss: 8.7598\n"
     ]
    }
   ],
   "source": [
    "# PA+Gaussian(sigma=.5)\n",
    "model, train_loader, test_loader = train(train_dataset,test_dataset)"
   ]
  },
  {
   "cell_type": "code",
   "execution_count": 101,
   "id": "2f1d85a8",
   "metadata": {},
   "outputs": [
    {
     "name": "stderr",
     "output_type": "stream",
     "text": [
      "100%|██████████| 176/176 [02:43<00:00,  1.07it/s]\n"
     ]
    },
    {
     "name": "stdout",
     "output_type": "stream",
     "text": [
      "R@1 : 4.535\n",
      "R@2 : 7.338\n",
      "R@4 : 11.123\n",
      "R@8 : 16.783\n",
      "R@16 : 23.210\n",
      "R@32 : 30.370\n"
     ]
    },
    {
     "name": "stderr",
     "output_type": "stream",
     "text": [
      "100%|██████████| 262/262 [04:05<00:00,  1.07it/s]\n"
     ]
    },
    {
     "name": "stdout",
     "output_type": "stream",
     "text": [
      "R@1 : 0.692\n",
      "R@2 : 1.193\n",
      "R@4 : 1.813\n",
      "R@8 : 2.911\n",
      "R@16 : 4.438\n",
      "R@32 : 6.644\n"
     ]
    },
    {
     "data": {
      "text/plain": [
       "[0.006918764165573184,\n",
       " 0.011928903733746868,\n",
       " 0.01813193367529524,\n",
       " 0.029106525110342358,\n",
       " 0.044375521889538354,\n",
       " 0.06644399379697005]"
      ]
     },
     "execution_count": 101,
     "metadata": {},
     "output_type": "execute_result"
    }
   ],
   "source": [
    "evaluate_cos(model,train_loader)\n",
    "evaluate_cos(model,test_loader)"
   ]
  },
  {
   "cell_type": "code",
   "execution_count": 102,
   "id": "34e1536f",
   "metadata": {},
   "outputs": [],
   "source": [
    "train_dataset = make_dataset('LFWCustom', split='train', image_size=100, unsharp=True, gaussian_blur=1.5)\n",
    "test_dataset = make_dataset('LFWCustom', split='test', image_size=100, unsharp=True, gaussian_blur=1.5)\n",
    "redefine_train_parameters()"
   ]
  },
  {
   "cell_type": "code",
   "execution_count": 103,
   "id": "ed4286af",
   "metadata": {},
   "outputs": [
    {
     "name": "stdout",
     "output_type": "stream",
     "text": [
      "Finished Training, Time: 384.2512 Best loss: 8.8093\n"
     ]
    }
   ],
   "source": [
    "# PA+Unsharp+Gaussian(sigma=1.5)\n",
    "model, train_loader, test_loader = train(train_dataset,test_dataset)"
   ]
  },
  {
   "cell_type": "code",
   "execution_count": 104,
   "id": "e3cdad0f",
   "metadata": {},
   "outputs": [
    {
     "name": "stderr",
     "output_type": "stream",
     "text": [
      "100%|██████████| 176/176 [03:08<00:00,  1.07s/it]\n"
     ]
    },
    {
     "name": "stdout",
     "output_type": "stream",
     "text": [
      "R@1 : 5.374\n",
      "R@2 : 8.498\n",
      "R@4 : 12.194\n",
      "R@8 : 16.729\n",
      "R@16 : 21.835\n",
      "R@32 : 28.406\n"
     ]
    },
    {
     "name": "stderr",
     "output_type": "stream",
     "text": [
      "100%|██████████| 262/262 [04:41<00:00,  1.08s/it]\n"
     ]
    },
    {
     "name": "stdout",
     "output_type": "stream",
     "text": [
      "R@1 : 1.634\n",
      "R@2 : 2.445\n",
      "R@4 : 3.376\n",
      "R@8 : 4.760\n",
      "R@16 : 6.215\n",
      "R@32 : 8.004\n"
     ]
    },
    {
     "data": {
      "text/plain": [
       "[0.01634259811523321,\n",
       " 0.02445425265418108,\n",
       " 0.033758797566503636,\n",
       " 0.047596325897650005,\n",
       " 0.06214958845282119,\n",
       " 0.08004294405344149]"
      ]
     },
     "execution_count": 104,
     "metadata": {},
     "output_type": "execute_result"
    }
   ],
   "source": [
    "evaluate_cos(model,train_loader)\n",
    "evaluate_cos(model,test_loader)"
   ]
  },
  {
   "cell_type": "code",
   "execution_count": 105,
   "id": "60c6e356",
   "metadata": {},
   "outputs": [],
   "source": [
    "train_dataset = make_dataset('LFWCustom', split='train', image_size=100, unsharp=True, unsharp_radius=5, unsharp_amount=2, gaussian_blur=.5)\n",
    "test_dataset = make_dataset('LFWCustom', split='test', image_size=100, unsharp=True, unsharp_radius=5, unsharp_amount=2, gaussian_blur=.5)\n",
    "redefine_train_parameters()"
   ]
  },
  {
   "cell_type": "code",
   "execution_count": 106,
   "id": "108455d4",
   "metadata": {},
   "outputs": [
    {
     "name": "stdout",
     "output_type": "stream",
     "text": [
      "Finished Training, Time: 348.0265 Best loss: 8.7263\n"
     ]
    }
   ],
   "source": [
    "# PA+Unsharp(radius=5,amount=2)+Gaussian(sigma=.5)\n",
    "model, train_loader, test_loader = train(train_dataset,test_dataset)"
   ]
  },
  {
   "cell_type": "code",
   "execution_count": 107,
   "id": "e44d9929",
   "metadata": {},
   "outputs": [
    {
     "name": "stderr",
     "output_type": "stream",
     "text": [
      "100%|██████████| 176/176 [02:50<00:00,  1.03it/s]\n"
     ]
    },
    {
     "name": "stdout",
     "output_type": "stream",
     "text": [
      "R@1 : 6.070\n",
      "R@2 : 9.177\n",
      "R@4 : 13.676\n",
      "R@8 : 18.532\n",
      "R@16 : 24.978\n",
      "R@32 : 32.262\n"
     ]
    },
    {
     "name": "stderr",
     "output_type": "stream",
     "text": [
      "100%|██████████| 262/262 [04:14<00:00,  1.03it/s]\n"
     ]
    },
    {
     "name": "stdout",
     "output_type": "stream",
     "text": [
      "R@1 : 1.014\n",
      "R@2 : 1.646\n",
      "R@4 : 2.601\n",
      "R@8 : 3.567\n",
      "R@16 : 5.141\n",
      "R@32 : 7.324\n"
     ]
    },
    {
     "data": {
      "text/plain": [
       "[0.010139568173684839,\n",
       " 0.01646188715257068,\n",
       " 0.026005010139568175,\n",
       " 0.03566742216390314,\n",
       " 0.051413575092449,\n",
       " 0.07324346892520578]"
      ]
     },
     "execution_count": 107,
     "metadata": {},
     "output_type": "execute_result"
    }
   ],
   "source": [
    "evaluate_cos(model,train_loader)\n",
    "evaluate_cos(model,test_loader)"
   ]
  },
  {
   "cell_type": "code",
   "execution_count": 108,
   "id": "8df8c7cd",
   "metadata": {},
   "outputs": [],
   "source": [
    "train_dataset = make_dataset('LFWCustom', split='train', image_size=100, median_unsharp=True, median=True)\n",
    "test_dataset = make_dataset('LFWCustom', split='test', image_size=100, median_unsharp=True, median=True)\n",
    "redefine_train_parameters()"
   ]
  },
  {
   "cell_type": "code",
   "execution_count": 109,
   "id": "2ba75fda",
   "metadata": {},
   "outputs": [
    {
     "name": "stdout",
     "output_type": "stream",
     "text": [
      "Finished Training, Time: 496.4664 Best loss: 8.7183\n"
     ]
    }
   ],
   "source": [
    "# PA+MedianUnsharp+Median\n",
    "model, train_loader, test_loader = train(train_dataset,test_dataset)"
   ]
  },
  {
   "cell_type": "code",
   "execution_count": 110,
   "id": "73136f43",
   "metadata": {},
   "outputs": [
    {
     "name": "stderr",
     "output_type": "stream",
     "text": [
      "100%|██████████| 176/176 [04:03<00:00,  1.39s/it]\n"
     ]
    },
    {
     "name": "stdout",
     "output_type": "stream",
     "text": [
      "R@1 : 6.035\n",
      "R@2 : 9.998\n",
      "R@4 : 15.158\n",
      "R@8 : 21.139\n",
      "R@16 : 27.959\n",
      "R@32 : 35.976\n"
     ]
    },
    {
     "name": "stderr",
     "output_type": "stream",
     "text": [
      "100%|██████████| 262/262 [06:04<00:00,  1.39s/it]\n"
     ]
    },
    {
     "name": "stdout",
     "output_type": "stream",
     "text": [
      "R@1 : 2.183\n",
      "R@2 : 3.507\n",
      "R@4 : 5.356\n",
      "R@8 : 8.088\n",
      "R@16 : 11.082\n",
      "R@32 : 14.661\n"
     ]
    },
    {
     "data": {
      "text/plain": [
       "[0.02182989383275677,\n",
       " 0.03507097697721579,\n",
       " 0.05356077776452344,\n",
       " 0.08087796731480378,\n",
       " 0.11081951568650841,\n",
       " 0.14660622688774902]"
      ]
     },
     "execution_count": 110,
     "metadata": {},
     "output_type": "execute_result"
    }
   ],
   "source": [
    "evaluate_cos(model,train_loader)\n",
    "evaluate_cos(model,test_loader)"
   ]
  },
  {
   "cell_type": "code",
   "execution_count": 6,
   "id": "b025c8d8",
   "metadata": {},
   "outputs": [],
   "source": [
    "train_dataset = make_dataset('LFWCustom', split='train', image_size=100, median_unsharp=True, median_unsharp_amount=2, median=True)\n",
    "test_dataset = make_dataset('LFWCustom', split='test', image_size=100, median_unsharp=True, median_unsharp_amount=2, median=True)\n",
    "redefine_train_parameters()"
   ]
  },
  {
   "cell_type": "code",
   "execution_count": 7,
   "id": "7751aa04",
   "metadata": {},
   "outputs": [
    {
     "name": "stdout",
     "output_type": "stream",
     "text": [
      "Finished Training, Time: 502.4112 Best loss: 8.7193\n"
     ]
    }
   ],
   "source": [
    "# PA+MedianUnsharp(amount=2)+Median\n",
    "model, train_loader, test_loader = train(train_dataset,test_dataset)"
   ]
  },
  {
   "cell_type": "code",
   "execution_count": 8,
   "id": "bb0142bc",
   "metadata": {},
   "outputs": [
    {
     "name": "stderr",
     "output_type": "stream",
     "text": [
      "100%|██████████| 176/176 [04:06<00:00,  1.40s/it]\n"
     ]
    },
    {
     "name": "stdout",
     "output_type": "stream",
     "text": [
      "R@1 : 4.071\n",
      "R@2 : 6.588\n",
      "R@4 : 10.141\n",
      "R@8 : 14.515\n",
      "R@16 : 20.104\n",
      "R@32 : 26.834\n"
     ]
    },
    {
     "name": "stderr",
     "output_type": "stream",
     "text": [
      "100%|██████████| 262/262 [06:08<00:00,  1.41s/it]\n"
     ]
    },
    {
     "name": "stdout",
     "output_type": "stream",
     "text": [
      "R@1 : 0.406\n",
      "R@2 : 0.787\n",
      "R@4 : 1.479\n",
      "R@8 : 2.410\n",
      "R@16 : 3.722\n",
      "R@32 : 5.404\n"
     ]
    },
    {
     "data": {
      "text/plain": [
       "[0.004055827269473935,\n",
       " 0.007873076464272934,\n",
       " 0.014791840629846117,\n",
       " 0.024096385542168676,\n",
       " 0.03721817964929023,\n",
       " 0.054037933913873314]"
      ]
     },
     "execution_count": 8,
     "metadata": {},
     "output_type": "execute_result"
    }
   ],
   "source": [
    "evaluate_cos(model,train_loader)\n",
    "evaluate_cos(model,test_loader)"
   ]
  },
  {
   "cell_type": "code",
   "execution_count": 111,
   "id": "f896c934",
   "metadata": {},
   "outputs": [],
   "source": [
    "train_dataset = make_dataset('LFWCustom', split='train', image_size=100, median_unsharp=True, median_unsharp_amount=5, median=True)\n",
    "test_dataset = make_dataset('LFWCustom', split='test', image_size=100, median_unsharp=True, median_unsharp_amount=5, median=True)\n",
    "redefine_train_parameters()"
   ]
  },
  {
   "cell_type": "code",
   "execution_count": 112,
   "id": "068635d9",
   "metadata": {},
   "outputs": [
    {
     "name": "stdout",
     "output_type": "stream",
     "text": [
      "Finished Training, Time: 502.3842 Best loss: 8.7486\n"
     ]
    }
   ],
   "source": [
    "# PA+MedianUnsharp(amount=5)+Median\n",
    "model, train_loader, test_loader = train(train_dataset,test_dataset)"
   ]
  },
  {
   "cell_type": "code",
   "execution_count": 113,
   "id": "c29396a4",
   "metadata": {},
   "outputs": [
    {
     "name": "stderr",
     "output_type": "stream",
     "text": [
      "100%|██████████| 176/176 [04:06<00:00,  1.40s/it]\n"
     ]
    },
    {
     "name": "stdout",
     "output_type": "stream",
     "text": [
      "R@1 : 6.320\n",
      "R@2 : 9.302\n",
      "R@4 : 13.587\n",
      "R@8 : 18.800\n",
      "R@16 : 25.174\n",
      "R@32 : 32.244\n"
     ]
    },
    {
     "name": "stderr",
     "output_type": "stream",
     "text": [
      "100%|██████████| 262/262 [06:09<00:00,  1.41s/it]\n"
     ]
    },
    {
     "name": "stdout",
     "output_type": "stream",
     "text": [
      "R@1 : 0.811\n",
      "R@2 : 1.300\n",
      "R@4 : 1.956\n",
      "R@8 : 3.066\n",
      "R@16 : 4.807\n",
      "R@32 : 6.955\n"
     ]
    },
    {
     "data": {
      "text/plain": [
       "[0.00811165453894787,\n",
       " 0.013002505069784088,\n",
       " 0.019563402123344866,\n",
       " 0.030657282595729453,\n",
       " 0.048073482046999884,\n",
       " 0.06954550876774425]"
      ]
     },
     "execution_count": 113,
     "metadata": {},
     "output_type": "execute_result"
    }
   ],
   "source": [
    "evaluate_cos(model,train_loader)\n",
    "evaluate_cos(model,test_loader)"
   ]
  },
  {
   "cell_type": "code",
   "execution_count": 114,
   "id": "0e601f75",
   "metadata": {},
   "outputs": [],
   "source": [
    "train_dataset = make_dataset('LFWCustom', split='train', image_size=100, flip=.2, median_unsharp=True, median=True)\n",
    "test_dataset = make_dataset('LFWCustom', split='test', image_size=100, median_unsharp=True, median=True)\n",
    "redefine_train_parameters()"
   ]
  },
  {
   "cell_type": "code",
   "execution_count": 115,
   "id": "0f012455",
   "metadata": {},
   "outputs": [
    {
     "name": "stdout",
     "output_type": "stream",
     "text": [
      "Finished Training, Time: 495.9452 Best loss: 8.7392\n"
     ]
    }
   ],
   "source": [
    "# PA+Flip(.2)+MedianUnsharp+Median\n",
    "model, train_loader, test_loader = train(train_dataset,test_dataset)"
   ]
  },
  {
   "cell_type": "code",
   "execution_count": 116,
   "id": "1b504d44",
   "metadata": {},
   "outputs": [
    {
     "name": "stderr",
     "output_type": "stream",
     "text": [
      "100%|██████████| 176/176 [04:03<00:00,  1.39s/it]\n"
     ]
    },
    {
     "name": "stdout",
     "output_type": "stream",
     "text": [
      "R@1 : 5.071\n",
      "R@2 : 7.445\n",
      "R@4 : 10.962\n",
      "R@8 : 15.479\n",
      "R@16 : 21.514\n",
      "R@32 : 28.156\n"
     ]
    },
    {
     "name": "stderr",
     "output_type": "stream",
     "text": [
      "100%|██████████| 262/262 [06:04<00:00,  1.39s/it]\n"
     ]
    },
    {
     "name": "stdout",
     "output_type": "stream",
     "text": [
      "R@1 : 0.823\n",
      "R@2 : 1.408\n",
      "R@4 : 2.147\n",
      "R@8 : 3.316\n",
      "R@16 : 4.962\n",
      "R@32 : 6.728\n"
     ]
    },
    {
     "data": {
      "text/plain": [
       "[0.00823094357628534,\n",
       " 0.014076106405821305,\n",
       " 0.021472026720744365,\n",
       " 0.033162352379816296,\n",
       " 0.049624239532386975,\n",
       " 0.06727901705833234]"
      ]
     },
     "execution_count": 116,
     "metadata": {},
     "output_type": "execute_result"
    }
   ],
   "source": [
    "evaluate_cos(model,train_loader)\n",
    "evaluate_cos(model,test_loader)"
   ]
  },
  {
   "cell_type": "code",
   "execution_count": 117,
   "id": "9c32a245",
   "metadata": {},
   "outputs": [],
   "source": [
    "train_dataset = make_dataset('LFWCustom', split='train', image_size=100, median_unsharp=True, median_unsharp_amount=5, median=True, flip=.2)\n",
    "test_dataset = make_dataset('LFWCustom', split='test', image_size=100, median_unsharp=True, median_unsharp_amount=5, median=True)\n",
    "redefine_train_parameters()"
   ]
  },
  {
   "cell_type": "code",
   "execution_count": 118,
   "id": "517eb9c1",
   "metadata": {},
   "outputs": [
    {
     "name": "stdout",
     "output_type": "stream",
     "text": [
      "Finished Training, Time: 502.3705 Best loss: 8.6946\n"
     ]
    }
   ],
   "source": [
    "# PA+Flip(.2)+MedianUnsharp(amount=5)+Median\n",
    "model, train_loader, test_loader = train(train_dataset,test_dataset)"
   ]
  },
  {
   "cell_type": "code",
   "execution_count": 119,
   "id": "54333988",
   "metadata": {},
   "outputs": [
    {
     "name": "stderr",
     "output_type": "stream",
     "text": [
      "100%|██████████| 176/176 [04:10<00:00,  1.42s/it]\n"
     ]
    },
    {
     "name": "stdout",
     "output_type": "stream",
     "text": [
      "R@1 : 5.071\n",
      "R@2 : 8.106\n",
      "R@4 : 12.284\n",
      "R@8 : 17.533\n",
      "R@16 : 23.960\n",
      "R@32 : 31.369\n"
     ]
    },
    {
     "name": "stderr",
     "output_type": "stream",
     "text": [
      "100%|██████████| 262/262 [06:12<00:00,  1.42s/it]\n"
     ]
    },
    {
     "name": "stdout",
     "output_type": "stream",
     "text": [
      "R@1 : 0.930\n",
      "R@2 : 1.598\n",
      "R@4 : 2.553\n",
      "R@8 : 3.662\n",
      "R@16 : 5.213\n",
      "R@32 : 7.575\n"
     ]
    },
    {
     "data": {
      "text/plain": [
       "[0.009304544912322557,\n",
       " 0.015984731003220804,\n",
       " 0.0255278539902183,\n",
       " 0.03662173446260289,\n",
       " 0.05212930931647382,\n",
       " 0.07574853870929261]"
      ]
     },
     "execution_count": 119,
     "metadata": {},
     "output_type": "execute_result"
    }
   ],
   "source": [
    "evaluate_cos(model,train_loader)\n",
    "evaluate_cos(model,test_loader)"
   ]
  }
 ],
 "metadata": {
  "kernelspec": {
   "display_name": "Python 3 (ipykernel)",
   "language": "python",
   "name": "python3"
  },
  "language_info": {
   "codemirror_mode": {
    "name": "ipython",
    "version": 3
   },
   "file_extension": ".py",
   "mimetype": "text/x-python",
   "name": "python",
   "nbconvert_exporter": "python",
   "pygments_lexer": "ipython3",
   "version": "3.8.12"
  }
 },
 "nbformat": 4,
 "nbformat_minor": 5
}
