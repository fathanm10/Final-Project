{
 "cells": [
  {
   "cell_type": "code",
   "execution_count": 100,
   "id": "a54a86d4",
   "metadata": {},
   "outputs": [],
   "source": [
    "import torch\n",
    "from train import train_model\n",
    "from dataset.utils import *\n",
    "from utils import *\n",
    "import numpy as np"
   ]
  },
  {
   "cell_type": "code",
   "execution_count": 101,
   "id": "88df472c",
   "metadata": {},
   "outputs": [],
   "source": [
    "batch_size = 32\n",
    "def redefine_train_parameters():\n",
    "    global device, epochs, learning_rate, loss_lr, num_classes, embedding_size\n",
    "    device = torch.device('cuda' if torch.cuda.is_available() else 'cpu')\n",
    "    epochs = 2\n",
    "    learning_rate = 0.001\n",
    "    loss_lr = 0.01\n",
    "    num_classes = get_num_classes(dataset)\n",
    "    embedding_size = 512"
   ]
  },
  {
   "cell_type": "code",
   "execution_count": 102,
   "id": "ed35c438",
   "metadata": {},
   "outputs": [],
   "source": [
    "def validate(train_dataset, test_dataset, title=False):\n",
    "    global r1,r2,r4,r8,r16,r32\n",
    "    train_loader = load_dataset(train_dataset, batch_size, shuffle=True)\n",
    "    test_loader = load_dataset(test_dataset, batch_size, shuffle=False)\n",
    "    model = train_model(model_name='resnet50',\n",
    "                    loss_func_name='proxy_anchor',\n",
    "                    num_classes=num_classes,\n",
    "                    dataloader=train_loader,\n",
    "                    epochs=epochs,\n",
    "                    learning_rate=learning_rate,\n",
    "                    verbose=0)\n",
    "    if title:\n",
    "        print(f'Recall {title}:')\n",
    "    r1,r2,r4,r8,r16,r32 = evaluate_cos(model, test_loader)\n",
    "    return r1,r2,r4,r8,r16,r32"
   ]
  },
  {
   "cell_type": "code",
   "execution_count": 103,
   "id": "3dfd647b",
   "metadata": {
    "scrolled": true
   },
   "outputs": [],
   "source": [
    "def cross_validate(dataset, k=10):\n",
    "    global r1,r2,r4,r8,r16,r32\n",
    "    k=k\n",
    "    split_len = len(dataset)//k\n",
    "    max_index = split_len*k\n",
    "    r1,r2,r4,r8,r16,r32= [],[],[],[],[],[]\n",
    "    for fold in range(k):\n",
    "        print(f'''----------\n",
    "fold {fold+1}:''')\n",
    "        start = split_len * fold\n",
    "        train_dataset = dataset[:start] + dataset[start + split_len:max_index]\n",
    "        test_dataset = dataset[start:start+split_len]\n",
    "        train_loader = load_dataset(train_dataset, batch_size, shuffle=True)\n",
    "        test_loader = load_dataset(test_dataset, batch_size, shuffle=False)\n",
    "        model = train_model(model_name='resnet50',\n",
    "                        loss_func_name='proxy_anchor',\n",
    "                        num_classes=num_classes,\n",
    "                        dataloader=train_loader,\n",
    "                        epochs=epochs,\n",
    "                        learning_rate=learning_rate,\n",
    "                        verbose=0)\n",
    "        recall = evaluate_cos(model, test_loader)\n",
    "        r1.append(recall[0])\n",
    "        r2.append(recall[1])\n",
    "        r4.append(recall[2])\n",
    "        r8.append(recall[3])\n",
    "        r16.append(recall[4])\n",
    "        r32.append(recall[5])"
   ]
  },
  {
   "cell_type": "code",
   "execution_count": 104,
   "id": "d9cba134",
   "metadata": {},
   "outputs": [],
   "source": [
    "def avg_recall(name):\n",
    "    print(f'''Average Recall {name}:\n",
    "R@1 : {np.mean(r1)*100:.4f}\n",
    "R@2 : {np.mean(r2)*100:.4f}\n",
    "R@4 : {np.mean(r4)*100:.4f}\n",
    "R@8 : {np.mean(r8)*100:.4f}\n",
    "R@16 : {np.mean(r16)*100:.4f}\n",
    "R@32 : {np.mean(r32)*100:.4f}''')"
   ]
  },
  {
   "cell_type": "code",
   "execution_count": 67,
   "id": "c5c3d871",
   "metadata": {},
   "outputs": [],
   "source": [
    "train_dataset = make_dataset('LFWCustom', split='train', image_size=100)\n",
    "test_dataset = make_dataset('LFWCustom', split='test', image_size=100)\n",
    "redefine_train_parameters()"
   ]
  },
  {
   "cell_type": "code",
   "execution_count": 68,
   "id": "866d618b",
   "metadata": {},
   "outputs": [
    {
     "name": "stdout",
     "output_type": "stream",
     "text": [
      "Finished Training, Time: 331.2395 Best loss: 8.7518\n"
     ]
    },
    {
     "name": "stderr",
     "output_type": "stream",
     "text": [
      "100%|██████████| 262/262 [04:02<00:00,  1.08it/s]\n"
     ]
    },
    {
     "name": "stdout",
     "output_type": "stream",
     "text": [
      "R@1 : 1.670\n",
      "R@2 : 2.350\n",
      "R@4 : 3.209\n",
      "R@8 : 4.306\n",
      "R@16 : 5.905\n",
      "R@32 : 7.921\n"
     ]
    },
    {
     "data": {
      "text/plain": [
       "(0.016700465227245616,\n",
       " 0.023499940355481332,\n",
       " 0.032088751043779076,\n",
       " 0.0430633424788262,\n",
       " 0.059048073482047,\n",
       " 0.07920792079207921)"
      ]
     },
     "execution_count": 68,
     "metadata": {},
     "output_type": "execute_result"
    }
   ],
   "source": [
    "validate(train_dataset,test_dataset, title='PA')"
   ]
  },
  {
   "cell_type": "code",
   "execution_count": 70,
   "id": "44937e31",
   "metadata": {},
   "outputs": [],
   "source": [
    "train_dataset = make_dataset('LFWCustom', split='train', image_size=100, flip=0.2)\n",
    "test_dataset = make_dataset('LFWCustom', split='test', image_size=100)\n",
    "redefine_train_parameters()"
   ]
  },
  {
   "cell_type": "code",
   "execution_count": 71,
   "id": "2c6cc9d9",
   "metadata": {},
   "outputs": [
    {
     "name": "stdout",
     "output_type": "stream",
     "text": [
      "Finished Training, Time: 331.7281 Best loss: 8.7108\n"
     ]
    },
    {
     "name": "stderr",
     "output_type": "stream",
     "text": [
      "100%|██████████| 262/262 [04:03<00:00,  1.08it/s]\n"
     ]
    },
    {
     "name": "stdout",
     "output_type": "stream",
     "text": [
      "R@1 : 0.549\n",
      "R@2 : 1.038\n",
      "R@4 : 1.765\n",
      "R@8 : 2.911\n",
      "R@16 : 4.509\n",
      "R@32 : 6.585\n"
     ]
    },
    {
     "data": {
      "text/plain": [
       "(0.005487295717523559,\n",
       " 0.010378146248359775,\n",
       " 0.017654777525945367,\n",
       " 0.029106525110342358,\n",
       " 0.04509125611356316,\n",
       " 0.06584754861028272)"
      ]
     },
     "execution_count": 71,
     "metadata": {},
     "output_type": "execute_result"
    }
   ],
   "source": [
    "validate(train_dataset,test_dataset,title='PA+Flip(.2)')"
   ]
  },
  {
   "cell_type": "code",
   "execution_count": 73,
   "id": "6d686005",
   "metadata": {},
   "outputs": [],
   "source": [
    "train_dataset = make_dataset('LFWCustom', split='train', image_size=100, hist='v')\n",
    "test_dataset = make_dataset('LFWCustom', split='test', image_size=100, hist='v')\n",
    "redefine_train_parameters()"
   ]
  },
  {
   "cell_type": "code",
   "execution_count": 74,
   "id": "0d7c9009",
   "metadata": {},
   "outputs": [
    {
     "name": "stdout",
     "output_type": "stream",
     "text": [
      "Finished Training, Time: 422.8876 Best loss: 8.7061\n"
     ]
    },
    {
     "name": "stderr",
     "output_type": "stream",
     "text": [
      "100%|██████████| 262/262 [05:10<00:00,  1.18s/it]\n"
     ]
    },
    {
     "name": "stdout",
     "output_type": "stream",
     "text": [
      "R@1 : 1.062\n",
      "R@2 : 1.706\n",
      "R@4 : 2.481\n",
      "R@8 : 3.579\n",
      "R@16 : 5.237\n",
      "R@32 : 7.193\n"
     ]
    },
    {
     "data": {
      "text/plain": [
       "(0.010616724323034713,\n",
       " 0.017058332339258023,\n",
       " 0.024812119766193488,\n",
       " 0.035786711201240606,\n",
       " 0.052367887391148754,\n",
       " 0.07193128951449362)"
      ]
     },
     "execution_count": 74,
     "metadata": {},
     "output_type": "execute_result"
    }
   ],
   "source": [
    "validate(train_dataset,test_dataset,title='PA+AdaptiveV')"
   ]
  },
  {
   "cell_type": "code",
   "execution_count": 76,
   "id": "744b918e",
   "metadata": {},
   "outputs": [],
   "source": [
    "train_dataset = make_dataset('LFWCustom', split='train', image_size=100, median=True)\n",
    "test_dataset = make_dataset('LFWCustom', split='test', image_size=100, median=True)\n",
    "redefine_train_parameters()"
   ]
  },
  {
   "cell_type": "code",
   "execution_count": 77,
   "id": "560fafc4",
   "metadata": {},
   "outputs": [
    {
     "name": "stdout",
     "output_type": "stream",
     "text": [
      "Finished Training, Time: 436.5227 Best loss: 8.7455\n"
     ]
    },
    {
     "name": "stderr",
     "output_type": "stream",
     "text": [
      "100%|██████████| 262/262 [05:20<00:00,  1.22s/it]\n"
     ]
    },
    {
     "name": "stdout",
     "output_type": "stream",
     "text": [
      "R@1 : 0.680\n",
      "R@2 : 1.121\n",
      "R@4 : 2.099\n",
      "R@8 : 3.292\n",
      "R@16 : 4.986\n",
      "R@32 : 7.324\n"
     ]
    },
    {
     "data": {
      "text/plain": [
       "(0.006799475128235715,\n",
       " 0.011213169509722056,\n",
       " 0.02099487057139449,\n",
       " 0.03292377430514136,\n",
       " 0.04986281760706191,\n",
       " 0.07324346892520578)"
      ]
     },
     "execution_count": 77,
     "metadata": {},
     "output_type": "execute_result"
    }
   ],
   "source": [
    "validate(train_dataset,test_dataset,title='PA+Median')"
   ]
  },
  {
   "cell_type": "code",
   "execution_count": 79,
   "id": "36171cbf",
   "metadata": {},
   "outputs": [],
   "source": [
    "train_dataset = make_dataset('LFWCustom', split='train', image_size=100, hist='v', median_before=True)\n",
    "test_dataset = make_dataset('LFWCustom', split='test', image_size=100, hist='v', median_before=True)\n",
    "redefine_train_parameters()"
   ]
  },
  {
   "cell_type": "code",
   "execution_count": 80,
   "id": "89d691ab",
   "metadata": {},
   "outputs": [
    {
     "name": "stdout",
     "output_type": "stream",
     "text": [
      "Finished Training, Time: 525.8643 Best loss: 8.6879\n"
     ]
    },
    {
     "name": "stderr",
     "output_type": "stream",
     "text": [
      "100%|██████████| 262/262 [06:27<00:00,  1.48s/it]\n"
     ]
    },
    {
     "name": "stdout",
     "output_type": "stream",
     "text": [
      "R@1 : 0.966\n",
      "R@2 : 1.598\n",
      "R@4 : 2.445\n",
      "R@8 : 3.614\n",
      "R@16 : 5.392\n",
      "R@32 : 7.873\n"
     ]
    },
    {
     "data": {
      "text/plain": [
       "(0.009662412024334963,\n",
       " 0.015984731003220804,\n",
       " 0.02445425265418108,\n",
       " 0.03614457831325301,\n",
       " 0.053918644876535846,\n",
       " 0.07873076464272934)"
      ]
     },
     "execution_count": 80,
     "metadata": {},
     "output_type": "execute_result"
    }
   ],
   "source": [
    "validate(train_dataset,test_dataset,title='PA+Median+AdaptiveV')"
   ]
  },
  {
   "cell_type": "code",
   "execution_count": 82,
   "id": "a11bb655",
   "metadata": {},
   "outputs": [],
   "source": [
    "train_dataset = make_dataset('LFWCustom', split='train', image_size=100, unsharp=True)\n",
    "test_dataset = make_dataset('LFWCustom', split='test', image_size=100, unsharp=True)\n",
    "redefine_train_parameters()"
   ]
  },
  {
   "cell_type": "code",
   "execution_count": 83,
   "id": "c8ac1212",
   "metadata": {},
   "outputs": [
    {
     "name": "stderr",
     "output_type": "stream",
     "text": [
      "/opt/conda/lib/python3.8/site-packages/skimage/filters/_unsharp_mask.py:11: FutureWarning: Automatic detection of the color channel was deprecated in v0.19, and `channel_axis=None` will be the new default in v0.22. Set `channel_axis=-1` explicitly to silence this warning.\n",
      "  blurred = gaussian(image, sigma=radius, mode='reflect')\n"
     ]
    },
    {
     "name": "stdout",
     "output_type": "stream",
     "text": [
      "Finished Training, Time: 379.6614 Best loss: 8.7570\n"
     ]
    },
    {
     "name": "stderr",
     "output_type": "stream",
     "text": [
      "100%|██████████| 262/262 [04:37<00:00,  1.06s/it]\n"
     ]
    },
    {
     "name": "stdout",
     "output_type": "stream",
     "text": [
      "R@1 : 2.493\n",
      "R@2 : 4.020\n",
      "R@4 : 5.809\n",
      "R@8 : 7.897\n",
      "R@16 : 11.130\n",
      "R@32 : 13.933\n"
     ]
    },
    {
     "data": {
      "text/plain": [
       "(0.024931408803530956,\n",
       " 0.040200405582726945,\n",
       " 0.05809376118334725,\n",
       " 0.07896934271740427,\n",
       " 0.11129667183585829,\n",
       " 0.13932959561016342)"
      ]
     },
     "execution_count": 83,
     "metadata": {},
     "output_type": "execute_result"
    }
   ],
   "source": [
    "validate(train_dataset,test_dataset,title='PA+Unsharp')"
   ]
  },
  {
   "cell_type": "code",
   "execution_count": 105,
   "id": "8df8c7cd",
   "metadata": {},
   "outputs": [],
   "source": [
    "train_dataset = make_dataset('LFWCustom', split='train', image_size=100, median_unsharp=True, median=True)\n",
    "test_dataset = make_dataset('LFWCustom', split='test', image_size=100, median_unsharp=True, median=True)\n",
    "redefine_train_parameters()"
   ]
  },
  {
   "cell_type": "code",
   "execution_count": 106,
   "id": "3c5ba62e",
   "metadata": {},
   "outputs": [
    {
     "name": "stdout",
     "output_type": "stream",
     "text": [
      "Finished Training, Time: 497.0166 Best loss: 8.7641\n",
      "Recall PA+MedianUnsharp+Median:\n"
     ]
    },
    {
     "name": "stderr",
     "output_type": "stream",
     "text": [
      "100%|██████████| 262/262 [06:06<00:00,  1.40s/it]\n"
     ]
    },
    {
     "name": "stdout",
     "output_type": "stream",
     "text": [
      "R@1 : 0.930\n",
      "R@2 : 1.682\n",
      "R@4 : 2.827\n",
      "R@8 : 4.175\n",
      "R@16 : 5.762\n",
      "R@32 : 7.646\n"
     ]
    },
    {
     "data": {
      "text/plain": [
       "(0.009304544912322557,\n",
       " 0.016819754264583084,\n",
       " 0.028271501848980078,\n",
       " 0.04175116306811404,\n",
       " 0.057616605033997376,\n",
       " 0.07646427293331742)"
      ]
     },
     "execution_count": 106,
     "metadata": {},
     "output_type": "execute_result"
    }
   ],
   "source": [
    "validate(train_dataset,test_dataset,title='PA+MedianUnsharp+Median')"
   ]
  },
  {
   "cell_type": "code",
   "execution_count": 86,
   "id": "d6d9498e",
   "metadata": {},
   "outputs": [
    {
     "name": "stdout",
     "output_type": "stream",
     "text": [
      "Finished Training, Time: 497.2281 Best loss: 8.7409\n"
     ]
    },
    {
     "name": "stderr",
     "output_type": "stream",
     "text": [
      "100%|██████████| 262/262 [06:05<00:00,  1.40s/it]\n"
     ]
    },
    {
     "name": "stdout",
     "output_type": "stream",
     "text": [
      "R@1 : 0.799\n",
      "R@2 : 1.121\n",
      "R@4 : 1.909\n",
      "R@8 : 2.935\n",
      "R@16 : 4.652\n",
      "R@32 : 6.549\n"
     ]
    },
    {
     "data": {
      "text/plain": [
       "(0.007992365501610402,\n",
       " 0.011213169509722056,\n",
       " 0.01908624597399499,\n",
       " 0.029345103185017297,\n",
       " 0.046522724561612785,\n",
       " 0.06548968149827031)"
      ]
     },
     "execution_count": 86,
     "metadata": {},
     "output_type": "execute_result"
    }
   ],
   "source": [
    "validate(train_dataset,test_dataset,title='PA+MedianUnsharp+Median')"
   ]
  },
  {
   "cell_type": "code",
   "execution_count": 107,
   "id": "0e601f75",
   "metadata": {},
   "outputs": [],
   "source": [
    "train_dataset = make_dataset('LFWCustom', split='train', image_size=100, flip=.2, median_unsharp=True, median=True)\n",
    "test_dataset = make_dataset('LFWCustom', split='test', image_size=100, median_unsharp=True, median=True)\n",
    "redefine_train_parameters()"
   ]
  },
  {
   "cell_type": "code",
   "execution_count": 108,
   "id": "69c74b5f",
   "metadata": {},
   "outputs": [
    {
     "name": "stdout",
     "output_type": "stream",
     "text": [
      "Finished Training, Time: 498.9320 Best loss: 8.7180\n",
      "Recall PA+Flip(.2)+MedianUnsharp+Median:\n"
     ]
    },
    {
     "name": "stderr",
     "output_type": "stream",
     "text": [
      "100%|██████████| 262/262 [06:06<00:00,  1.40s/it]\n"
     ]
    },
    {
     "name": "stdout",
     "output_type": "stream",
     "text": [
      "R@1 : 0.763\n",
      "R@2 : 1.264\n",
      "R@4 : 1.956\n",
      "R@8 : 2.923\n",
      "R@16 : 4.485\n",
      "R@32 : 6.322\n"
     ]
    },
    {
     "data": {
      "text/plain": [
       "(0.007634498389597996,\n",
       " 0.012644637957771682,\n",
       " 0.019563402123344866,\n",
       " 0.02922581414767983,\n",
       " 0.044852678038888226,\n",
       " 0.06322318978885841)"
      ]
     },
     "execution_count": 108,
     "metadata": {},
     "output_type": "execute_result"
    }
   ],
   "source": [
    "validate(train_dataset,test_dataset,title='PA+Flip(.2)+MedianUnsharp+Median')"
   ]
  },
  {
   "cell_type": "code",
   "execution_count": 89,
   "id": "08edc19a",
   "metadata": {},
   "outputs": [
    {
     "name": "stdout",
     "output_type": "stream",
     "text": [
      "Finished Training, Time: 497.0486 Best loss: 8.7220\n"
     ]
    },
    {
     "name": "stderr",
     "output_type": "stream",
     "text": [
      "100%|██████████| 262/262 [06:05<00:00,  1.39s/it]\n"
     ]
    },
    {
     "name": "stdout",
     "output_type": "stream",
     "text": [
      "R@1 : 2.422\n",
      "R@2 : 3.805\n",
      "R@4 : 5.666\n",
      "R@8 : 7.456\n",
      "R@16 : 9.519\n",
      "R@32 : 12.263\n"
     ]
    },
    {
     "data": {
      "text/plain": [
       "(0.024215674579506144,\n",
       " 0.03805320291065251,\n",
       " 0.056662292735297624,\n",
       " 0.07455564833591793,\n",
       " 0.09519265179530001,\n",
       " 0.12262913038291781)"
      ]
     },
     "execution_count": 89,
     "metadata": {},
     "output_type": "execute_result"
    }
   ],
   "source": [
    "validate(train_dataset,test_dataset,title='PA+Flip(.2)+MedianUnsharp+Median')"
   ]
  },
  {
   "cell_type": "code",
   "execution_count": 91,
   "id": "bc703cf4",
   "metadata": {},
   "outputs": [],
   "source": [
    "train_dataset = make_dataset('LFWCustom', split='train', image_size=100, adjust_log=True)\n",
    "test_dataset = make_dataset('LFWCustom', split='test', image_size=100, adjust_log=True)\n",
    "redefine_train_parameters()"
   ]
  },
  {
   "cell_type": "code",
   "execution_count": 92,
   "id": "a6e4039a",
   "metadata": {},
   "outputs": [
    {
     "name": "stdout",
     "output_type": "stream",
     "text": [
      "Finished Training, Time: 335.7468 Best loss: 8.7906\n"
     ]
    },
    {
     "name": "stderr",
     "output_type": "stream",
     "text": [
      "100%|██████████| 262/262 [04:05<00:00,  1.07it/s]\n"
     ]
    },
    {
     "name": "stdout",
     "output_type": "stream",
     "text": [
      "R@1 : 1.587\n",
      "R@2 : 2.445\n",
      "R@4 : 3.662\n",
      "R@8 : 5.392\n",
      "R@16 : 7.432\n",
      "R@32 : 9.829\n"
     ]
    },
    {
     "data": {
      "text/plain": [
       "(0.015865441965883336,\n",
       " 0.02445425265418108,\n",
       " 0.03662173446260289,\n",
       " 0.053918644876535846,\n",
       " 0.074317070261243,\n",
       " 0.09829416676607419)"
      ]
     },
     "execution_count": 92,
     "metadata": {},
     "output_type": "execute_result"
    }
   ],
   "source": [
    "validate(train_dataset,test_dataset,title='PA+AdjustLog')"
   ]
  },
  {
   "cell_type": "code",
   "execution_count": 94,
   "id": "3f777fcc",
   "metadata": {},
   "outputs": [],
   "source": [
    "train_dataset = make_dataset('LFWCustom', split='train', image_size=100, unsharp=True, adjust_log=True)\n",
    "test_dataset = make_dataset('LFWCustom', split='test', image_size=100, unsharp=True, adjust_log=True)\n",
    "redefine_train_parameters()"
   ]
  },
  {
   "cell_type": "code",
   "execution_count": 95,
   "id": "5524ff6b",
   "metadata": {},
   "outputs": [
    {
     "name": "stdout",
     "output_type": "stream",
     "text": [
      "Finished Training, Time: 384.5573 Best loss: 8.7529\n"
     ]
    },
    {
     "name": "stderr",
     "output_type": "stream",
     "text": [
      "100%|██████████| 262/262 [04:40<00:00,  1.07s/it]\n"
     ]
    },
    {
     "name": "stdout",
     "output_type": "stream",
     "text": [
      "R@1 : 1.157\n",
      "R@2 : 1.813\n",
      "R@4 : 2.779\n",
      "R@8 : 3.805\n",
      "R@16 : 5.535\n",
      "R@32 : 7.790\n"
     ]
    },
    {
     "data": {
      "text/plain": [
       "(0.011571036621734462,\n",
       " 0.01813193367529524,\n",
       " 0.027794345699630203,\n",
       " 0.03805320291065251,\n",
       " 0.05535011332458547,\n",
       " 0.07789574138136705)"
      ]
     },
     "execution_count": 95,
     "metadata": {},
     "output_type": "execute_result"
    }
   ],
   "source": [
    "validate(train_dataset,test_dataset,title='PA+Unsharp+AdjustLog')"
   ]
  },
  {
   "cell_type": "code",
   "execution_count": 97,
   "id": "af622f7a",
   "metadata": {},
   "outputs": [],
   "source": [
    "train_dataset = make_dataset('LFWCustom', split='train', image_size=100, adjust_log=True, unsharp_after=True)\n",
    "test_dataset = make_dataset('LFWCustom', split='test', image_size=100, adjust_log=True, unsharp_after=True)\n",
    "redefine_train_parameters()"
   ]
  },
  {
   "cell_type": "code",
   "execution_count": 98,
   "id": "8478d465",
   "metadata": {},
   "outputs": [
    {
     "name": "stdout",
     "output_type": "stream",
     "text": [
      "Finished Training, Time: 383.5622 Best loss: 8.7977\n"
     ]
    },
    {
     "name": "stderr",
     "output_type": "stream",
     "text": [
      "100%|██████████| 262/262 [04:40<00:00,  1.07s/it]\n"
     ]
    },
    {
     "name": "stdout",
     "output_type": "stream",
     "text": [
      "R@1 : 1.384\n",
      "R@2 : 2.219\n",
      "R@4 : 2.970\n",
      "R@8 : 4.247\n",
      "R@16 : 5.619\n",
      "R@32 : 7.790\n"
     ]
    },
    {
     "data": {
      "text/plain": [
       "(0.013837528331146367,\n",
       " 0.022187760944769177,\n",
       " 0.0297029702970297,\n",
       " 0.04246689729213885,\n",
       " 0.05618513658594775,\n",
       " 0.07789574138136705)"
      ]
     },
     "execution_count": 98,
     "metadata": {},
     "output_type": "execute_result"
    }
   ],
   "source": [
    "validate(train_dataset,test_dataset,title='PA+AdjustLog+Unsharp')"
   ]
  },
  {
   "cell_type": "code",
   "execution_count": null,
   "id": "2d82f769",
   "metadata": {},
   "outputs": [],
   "source": []
  }
 ],
 "metadata": {
  "kernelspec": {
   "display_name": "Python 3 (ipykernel)",
   "language": "python",
   "name": "python3"
  },
  "language_info": {
   "codemirror_mode": {
    "name": "ipython",
    "version": 3
   },
   "file_extension": ".py",
   "mimetype": "text/x-python",
   "name": "python",
   "nbconvert_exporter": "python",
   "pygments_lexer": "ipython3",
   "version": "3.8.12"
  }
 },
 "nbformat": 4,
 "nbformat_minor": 5
}
